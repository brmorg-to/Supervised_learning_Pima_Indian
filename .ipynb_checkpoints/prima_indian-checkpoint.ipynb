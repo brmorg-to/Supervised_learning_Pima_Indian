{
 "cells": [
  {
   "cell_type": "markdown",
   "metadata": {},
   "source": [
    "<div class=\"alert alert-block alert-info\">\n",
    "    <h1><strong> Prima Indians Diabetes Dataset </strong></h1></br>\n",
    "    <strong> Supervised Learning (Sec. 001) </strong></br>\n",
    "    \n",
    " - Bruno Morgado\n",
    "</div>"
   ]
  },
  {
   "cell_type": "markdown",
   "metadata": {},
   "source": [
    "<div class=\"alert alert-block alert-info\">\n",
    "<b>Tip:</b> Use blue boxes (alert-info) for tips and notes. \n",
    "If it’s a note, you don’t have to include the word “Note”.\n",
    "</div>"
   ]
  },
  {
   "attachments": {},
   "cell_type": "markdown",
   "metadata": {},
   "source": [
    "Fields description follow:\n",
    "- preg = Number of times pregnant\n",
    "- plas = Plasma glucose concentration a 2 hours in an oral glucose tolerance test\n",
    "- pres = Diastolic blood pressure (mm Hg)\n",
    "- skin = Triceps skin fold thickness (mm)\n",
    "- test = 2-Hour serum insulin (mu U/ml)\n",
    "- mass = Body mass index (weight in kg/(height in m)^2)\n",
    "- pedi = Diabetes pedigree function\n",
    "- age = Age (years)\n",
    "- class = Class variable (1:tested positive for diabetes, 0: tested negative for diabetes)"
   ]
  },
  {
   "cell_type": "code",
   "execution_count": null,
   "metadata": {},
   "outputs": [],
   "source": []
  }
 ],
 "metadata": {
  "kernelspec": {
   "display_name": "Python 3 (ipykernel)",
   "language": "python",
   "name": "python3"
  },
  "language_info": {
   "codemirror_mode": {
    "name": "ipython",
    "version": 3
   },
   "file_extension": ".py",
   "mimetype": "text/x-python",
   "name": "python",
   "nbconvert_exporter": "python",
   "pygments_lexer": "ipython3",
   "version": "3.10.4"
  }
 },
 "nbformat": 4,
 "nbformat_minor": 2
}
