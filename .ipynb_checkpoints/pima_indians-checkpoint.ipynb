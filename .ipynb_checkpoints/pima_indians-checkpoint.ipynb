{
 "cells": [
  {
   "cell_type": "markdown",
   "metadata": {},
   "source": [
    "<div class=\"alert alert-block alert-info\">\n",
    "    <h1><strong> Pima Indians Diabetes Dataset </strong></h1>\n",
    "    <strong> Supervised Learning (Sec. 001) </strong></br>\n",
    "    \n",
    " - Bruno Morgado\n",
    "</div>"
   ]
  },
  {
   "cell_type": "markdown",
   "metadata": {},
   "source": [
    "`Fields description:`\n",
    "- preg = Number of times pregnant\n",
    "- plas = Plasma glucose concentration a 2 hours in an oral glucose tolerance test\n",
    "- pres = Diastolic blood pressure (mm Hg)\n",
    "- skin = Triceps skin fold thickness (mm)\n",
    "- test = 2-Hour serum insulin (mu U/ml)\n",
    "- mass = Body mass index (weight in kg/(height in m)^2)\n",
    "- pedi = Diabetes pedigree function\n",
    "- age = Age (years)\n",
    "- class = Class variable (1:tested positive for diabetes, 0: tested negative for diabetes)"
   ]
  },
  {
   "cell_type": "code",
   "execution_count": 1,
   "metadata": {},
   "outputs": [],
   "source": [
    "import numpy as np\n",
    "import pandas as pd\n",
    "import time\n",
    "import matplotlib.pyplot as plt\n",
    "%matplotlib inline\n",
    "import seaborn as sns\n",
    "from sklearn.preprocessing import StandardScaler\n",
    "from sklearn.pipeline import Pipeline\n",
    "from sklearn.model_selection import cross_val_score, GridSearchCV, RandomizedSearchCV, train_test_split, cross_val_score, ShuffleSplit\n",
    "from imblearn.over_sampling import SMOTE\n",
    "from sklearn.linear_model import LogisticRegression\n",
    "from sklearn.svm import SVC\n",
    "from sklearn.ensemble import RandomForestClassifier, ExtraTreesClassifier, VotingClassifier\n",
    "from sklearn.tree import DecisionTreeClassifier\n",
    "from sklearn.metrics import confusion_matrix, ConfusionMatrixDisplay, classification_report, accuracy_score\n",
    "from sklearn.impute import SimpleImputer\n",
    "import joblib\n",
    "import dill"
   ]
  },
  {
   "cell_type": "code",
   "execution_count": 2,
   "metadata": {},
   "outputs": [],
   "source": [
    "columns = ['preg', 'plas', 'pres', 'skin', 'test', 'mass', 'pedi', 'age', 'class']\n",
    "df_bruno = pd.read_csv('pima_indians_diabetes.csv', names = columns)"
   ]
  },
  {
   "cell_type": "code",
   "execution_count": 3,
   "metadata": {},
   "outputs": [
    {
     "data": {
      "text/html": [
       "<div>\n",
       "<style scoped>\n",
       "    .dataframe tbody tr th:only-of-type {\n",
       "        vertical-align: middle;\n",
       "    }\n",
       "\n",
       "    .dataframe tbody tr th {\n",
       "        vertical-align: top;\n",
       "    }\n",
       "\n",
       "    .dataframe thead th {\n",
       "        text-align: right;\n",
       "    }\n",
       "</style>\n",
       "<table border=\"1\" class=\"dataframe\">\n",
       "  <thead>\n",
       "    <tr style=\"text-align: right;\">\n",
       "      <th></th>\n",
       "      <th>preg</th>\n",
       "      <th>plas</th>\n",
       "      <th>pres</th>\n",
       "      <th>skin</th>\n",
       "      <th>test</th>\n",
       "      <th>mass</th>\n",
       "      <th>pedi</th>\n",
       "      <th>age</th>\n",
       "      <th>class</th>\n",
       "    </tr>\n",
       "  </thead>\n",
       "  <tbody>\n",
       "    <tr>\n",
       "      <th>0</th>\n",
       "      <td>6</td>\n",
       "      <td>148</td>\n",
       "      <td>72</td>\n",
       "      <td>35</td>\n",
       "      <td>0</td>\n",
       "      <td>33.6</td>\n",
       "      <td>0.627</td>\n",
       "      <td>50</td>\n",
       "      <td>1</td>\n",
       "    </tr>\n",
       "    <tr>\n",
       "      <th>1</th>\n",
       "      <td>1</td>\n",
       "      <td>85</td>\n",
       "      <td>66</td>\n",
       "      <td>29</td>\n",
       "      <td>0</td>\n",
       "      <td>26.6</td>\n",
       "      <td>0.351</td>\n",
       "      <td>31</td>\n",
       "      <td>0</td>\n",
       "    </tr>\n",
       "    <tr>\n",
       "      <th>2</th>\n",
       "      <td>8</td>\n",
       "      <td>183</td>\n",
       "      <td>64</td>\n",
       "      <td>0</td>\n",
       "      <td>0</td>\n",
       "      <td>23.3</td>\n",
       "      <td>0.672</td>\n",
       "      <td>32</td>\n",
       "      <td>1</td>\n",
       "    </tr>\n",
       "    <tr>\n",
       "      <th>3</th>\n",
       "      <td>1</td>\n",
       "      <td>89</td>\n",
       "      <td>66</td>\n",
       "      <td>23</td>\n",
       "      <td>94</td>\n",
       "      <td>28.1</td>\n",
       "      <td>0.167</td>\n",
       "      <td>21</td>\n",
       "      <td>0</td>\n",
       "    </tr>\n",
       "    <tr>\n",
       "      <th>4</th>\n",
       "      <td>0</td>\n",
       "      <td>137</td>\n",
       "      <td>40</td>\n",
       "      <td>35</td>\n",
       "      <td>168</td>\n",
       "      <td>43.1</td>\n",
       "      <td>2.288</td>\n",
       "      <td>33</td>\n",
       "      <td>1</td>\n",
       "    </tr>\n",
       "  </tbody>\n",
       "</table>\n",
       "</div>"
      ],
      "text/plain": [
       "   preg  plas  pres  skin  test  mass   pedi  age  class\n",
       "0     6   148    72    35     0  33.6  0.627   50      1\n",
       "1     1    85    66    29     0  26.6  0.351   31      0\n",
       "2     8   183    64     0     0  23.3  0.672   32      1\n",
       "3     1    89    66    23    94  28.1  0.167   21      0\n",
       "4     0   137    40    35   168  43.1  2.288   33      1"
      ]
     },
     "execution_count": 3,
     "metadata": {},
     "output_type": "execute_result"
    }
   ],
   "source": [
    "df_bruno.head()"
   ]
  },
  {
   "cell_type": "code",
   "execution_count": 4,
   "metadata": {},
   "outputs": [
    {
     "data": {
      "text/html": [
       "<div>\n",
       "<style scoped>\n",
       "    .dataframe tbody tr th:only-of-type {\n",
       "        vertical-align: middle;\n",
       "    }\n",
       "\n",
       "    .dataframe tbody tr th {\n",
       "        vertical-align: top;\n",
       "    }\n",
       "\n",
       "    .dataframe thead th {\n",
       "        text-align: right;\n",
       "    }\n",
       "</style>\n",
       "<table border=\"1\" class=\"dataframe\">\n",
       "  <thead>\n",
       "    <tr style=\"text-align: right;\">\n",
       "      <th></th>\n",
       "      <th>preg</th>\n",
       "      <th>plas</th>\n",
       "      <th>pres</th>\n",
       "      <th>skin</th>\n",
       "      <th>test</th>\n",
       "      <th>mass</th>\n",
       "      <th>pedi</th>\n",
       "      <th>age</th>\n",
       "      <th>class</th>\n",
       "    </tr>\n",
       "  </thead>\n",
       "  <tbody>\n",
       "    <tr>\n",
       "      <th>763</th>\n",
       "      <td>10</td>\n",
       "      <td>101</td>\n",
       "      <td>76</td>\n",
       "      <td>48</td>\n",
       "      <td>180</td>\n",
       "      <td>32.9</td>\n",
       "      <td>0.171</td>\n",
       "      <td>63</td>\n",
       "      <td>0</td>\n",
       "    </tr>\n",
       "    <tr>\n",
       "      <th>764</th>\n",
       "      <td>2</td>\n",
       "      <td>122</td>\n",
       "      <td>70</td>\n",
       "      <td>27</td>\n",
       "      <td>0</td>\n",
       "      <td>36.8</td>\n",
       "      <td>0.340</td>\n",
       "      <td>27</td>\n",
       "      <td>0</td>\n",
       "    </tr>\n",
       "    <tr>\n",
       "      <th>765</th>\n",
       "      <td>5</td>\n",
       "      <td>121</td>\n",
       "      <td>72</td>\n",
       "      <td>23</td>\n",
       "      <td>112</td>\n",
       "      <td>26.2</td>\n",
       "      <td>0.245</td>\n",
       "      <td>30</td>\n",
       "      <td>0</td>\n",
       "    </tr>\n",
       "    <tr>\n",
       "      <th>766</th>\n",
       "      <td>1</td>\n",
       "      <td>126</td>\n",
       "      <td>60</td>\n",
       "      <td>0</td>\n",
       "      <td>0</td>\n",
       "      <td>30.1</td>\n",
       "      <td>0.349</td>\n",
       "      <td>47</td>\n",
       "      <td>1</td>\n",
       "    </tr>\n",
       "    <tr>\n",
       "      <th>767</th>\n",
       "      <td>1</td>\n",
       "      <td>93</td>\n",
       "      <td>70</td>\n",
       "      <td>31</td>\n",
       "      <td>0</td>\n",
       "      <td>30.4</td>\n",
       "      <td>0.315</td>\n",
       "      <td>23</td>\n",
       "      <td>0</td>\n",
       "    </tr>\n",
       "  </tbody>\n",
       "</table>\n",
       "</div>"
      ],
      "text/plain": [
       "     preg  plas  pres  skin  test  mass   pedi  age  class\n",
       "763    10   101    76    48   180  32.9  0.171   63      0\n",
       "764     2   122    70    27     0  36.8  0.340   27      0\n",
       "765     5   121    72    23   112  26.2  0.245   30      0\n",
       "766     1   126    60     0     0  30.1  0.349   47      1\n",
       "767     1    93    70    31     0  30.4  0.315   23      0"
      ]
     },
     "execution_count": 4,
     "metadata": {},
     "output_type": "execute_result"
    }
   ],
   "source": [
    "df_bruno.tail()"
   ]
  },
  {
   "cell_type": "code",
   "execution_count": 5,
   "metadata": {},
   "outputs": [
    {
     "data": {
      "text/plain": [
       "preg       int64\n",
       "plas       int64\n",
       "pres       int64\n",
       "skin       int64\n",
       "test       int64\n",
       "mass     float64\n",
       "pedi     float64\n",
       "age        int64\n",
       "class      int64\n",
       "dtype: object"
      ]
     },
     "execution_count": 5,
     "metadata": {},
     "output_type": "execute_result"
    }
   ],
   "source": [
    "df_bruno.dtypes"
   ]
  },
  {
   "cell_type": "code",
   "execution_count": 6,
   "metadata": {},
   "outputs": [
    {
     "name": "stdout",
     "output_type": "stream",
     "text": [
      "<class 'pandas.core.frame.DataFrame'>\n",
      "RangeIndex: 768 entries, 0 to 767\n",
      "Data columns (total 9 columns):\n",
      " #   Column  Non-Null Count  Dtype  \n",
      "---  ------  --------------  -----  \n",
      " 0   preg    768 non-null    int64  \n",
      " 1   plas    768 non-null    int64  \n",
      " 2   pres    768 non-null    int64  \n",
      " 3   skin    768 non-null    int64  \n",
      " 4   test    768 non-null    int64  \n",
      " 5   mass    768 non-null    float64\n",
      " 6   pedi    768 non-null    float64\n",
      " 7   age     768 non-null    int64  \n",
      " 8   class   768 non-null    int64  \n",
      "dtypes: float64(2), int64(7)\n",
      "memory usage: 54.1 KB\n"
     ]
    }
   ],
   "source": [
    "df_bruno.info()"
   ]
  },
  {
   "cell_type": "code",
   "execution_count": 7,
   "metadata": {},
   "outputs": [
    {
     "data": {
      "text/html": [
       "<div>\n",
       "<style scoped>\n",
       "    .dataframe tbody tr th:only-of-type {\n",
       "        vertical-align: middle;\n",
       "    }\n",
       "\n",
       "    .dataframe tbody tr th {\n",
       "        vertical-align: top;\n",
       "    }\n",
       "\n",
       "    .dataframe thead th {\n",
       "        text-align: right;\n",
       "    }\n",
       "</style>\n",
       "<table border=\"1\" class=\"dataframe\">\n",
       "  <thead>\n",
       "    <tr style=\"text-align: right;\">\n",
       "      <th></th>\n",
       "      <th>preg</th>\n",
       "      <th>plas</th>\n",
       "      <th>pres</th>\n",
       "      <th>skin</th>\n",
       "      <th>test</th>\n",
       "      <th>mass</th>\n",
       "      <th>pedi</th>\n",
       "      <th>age</th>\n",
       "      <th>class</th>\n",
       "    </tr>\n",
       "  </thead>\n",
       "  <tbody>\n",
       "    <tr>\n",
       "      <th>count</th>\n",
       "      <td>768.000000</td>\n",
       "      <td>768.000000</td>\n",
       "      <td>768.000000</td>\n",
       "      <td>768.000000</td>\n",
       "      <td>768.000000</td>\n",
       "      <td>768.000000</td>\n",
       "      <td>768.000000</td>\n",
       "      <td>768.000000</td>\n",
       "      <td>768.000000</td>\n",
       "    </tr>\n",
       "    <tr>\n",
       "      <th>mean</th>\n",
       "      <td>3.845052</td>\n",
       "      <td>120.894531</td>\n",
       "      <td>69.105469</td>\n",
       "      <td>20.536458</td>\n",
       "      <td>79.799479</td>\n",
       "      <td>31.992578</td>\n",
       "      <td>0.471876</td>\n",
       "      <td>33.240885</td>\n",
       "      <td>0.348958</td>\n",
       "    </tr>\n",
       "    <tr>\n",
       "      <th>std</th>\n",
       "      <td>3.369578</td>\n",
       "      <td>31.972618</td>\n",
       "      <td>19.355807</td>\n",
       "      <td>15.952218</td>\n",
       "      <td>115.244002</td>\n",
       "      <td>7.884160</td>\n",
       "      <td>0.331329</td>\n",
       "      <td>11.760232</td>\n",
       "      <td>0.476951</td>\n",
       "    </tr>\n",
       "    <tr>\n",
       "      <th>min</th>\n",
       "      <td>0.000000</td>\n",
       "      <td>0.000000</td>\n",
       "      <td>0.000000</td>\n",
       "      <td>0.000000</td>\n",
       "      <td>0.000000</td>\n",
       "      <td>0.000000</td>\n",
       "      <td>0.078000</td>\n",
       "      <td>21.000000</td>\n",
       "      <td>0.000000</td>\n",
       "    </tr>\n",
       "    <tr>\n",
       "      <th>25%</th>\n",
       "      <td>1.000000</td>\n",
       "      <td>99.000000</td>\n",
       "      <td>62.000000</td>\n",
       "      <td>0.000000</td>\n",
       "      <td>0.000000</td>\n",
       "      <td>27.300000</td>\n",
       "      <td>0.243750</td>\n",
       "      <td>24.000000</td>\n",
       "      <td>0.000000</td>\n",
       "    </tr>\n",
       "    <tr>\n",
       "      <th>50%</th>\n",
       "      <td>3.000000</td>\n",
       "      <td>117.000000</td>\n",
       "      <td>72.000000</td>\n",
       "      <td>23.000000</td>\n",
       "      <td>30.500000</td>\n",
       "      <td>32.000000</td>\n",
       "      <td>0.372500</td>\n",
       "      <td>29.000000</td>\n",
       "      <td>0.000000</td>\n",
       "    </tr>\n",
       "    <tr>\n",
       "      <th>75%</th>\n",
       "      <td>6.000000</td>\n",
       "      <td>140.250000</td>\n",
       "      <td>80.000000</td>\n",
       "      <td>32.000000</td>\n",
       "      <td>127.250000</td>\n",
       "      <td>36.600000</td>\n",
       "      <td>0.626250</td>\n",
       "      <td>41.000000</td>\n",
       "      <td>1.000000</td>\n",
       "    </tr>\n",
       "    <tr>\n",
       "      <th>max</th>\n",
       "      <td>17.000000</td>\n",
       "      <td>199.000000</td>\n",
       "      <td>122.000000</td>\n",
       "      <td>99.000000</td>\n",
       "      <td>846.000000</td>\n",
       "      <td>67.100000</td>\n",
       "      <td>2.420000</td>\n",
       "      <td>81.000000</td>\n",
       "      <td>1.000000</td>\n",
       "    </tr>\n",
       "  </tbody>\n",
       "</table>\n",
       "</div>"
      ],
      "text/plain": [
       "             preg        plas        pres        skin        test        mass  \\\n",
       "count  768.000000  768.000000  768.000000  768.000000  768.000000  768.000000   \n",
       "mean     3.845052  120.894531   69.105469   20.536458   79.799479   31.992578   \n",
       "std      3.369578   31.972618   19.355807   15.952218  115.244002    7.884160   \n",
       "min      0.000000    0.000000    0.000000    0.000000    0.000000    0.000000   \n",
       "25%      1.000000   99.000000   62.000000    0.000000    0.000000   27.300000   \n",
       "50%      3.000000  117.000000   72.000000   23.000000   30.500000   32.000000   \n",
       "75%      6.000000  140.250000   80.000000   32.000000  127.250000   36.600000   \n",
       "max     17.000000  199.000000  122.000000   99.000000  846.000000   67.100000   \n",
       "\n",
       "             pedi         age       class  \n",
       "count  768.000000  768.000000  768.000000  \n",
       "mean     0.471876   33.240885    0.348958  \n",
       "std      0.331329   11.760232    0.476951  \n",
       "min      0.078000   21.000000    0.000000  \n",
       "25%      0.243750   24.000000    0.000000  \n",
       "50%      0.372500   29.000000    0.000000  \n",
       "75%      0.626250   41.000000    1.000000  \n",
       "max      2.420000   81.000000    1.000000  "
      ]
     },
     "execution_count": 7,
     "metadata": {},
     "output_type": "execute_result"
    }
   ],
   "source": [
    "df_bruno.describe()"
   ]
  },
  {
   "cell_type": "code",
   "execution_count": 8,
   "metadata": {},
   "outputs": [
    {
     "data": {
      "text/plain": [
       "preg     0\n",
       "plas     0\n",
       "pres     0\n",
       "skin     0\n",
       "test     0\n",
       "mass     0\n",
       "pedi     0\n",
       "age      0\n",
       "class    0\n",
       "dtype: int64"
      ]
     },
     "execution_count": 8,
     "metadata": {},
     "output_type": "execute_result"
    }
   ],
   "source": [
    "df_bruno.isnull().sum()"
   ]
  },
  {
   "cell_type": "code",
   "execution_count": 9,
   "metadata": {},
   "outputs": [
    {
     "data": {
      "image/png": "[encoded data removed]",
      "text/plain": [
       "<Figure size 2016x1080 with 1 Axes>"
      ]
     },
     "metadata": {},
     "output_type": "display_data"
    }
   ],
   "source": [
    "sns.set(rc={\"figure.figsize\": (28,15)})\n",
    "sns.heatmap(df_bruno.isnull(), yticklabels=False, cbar=False, cmap='viridis')\n",
    "plt.show()"
   ]
  },
  {
   "cell_type": "markdown",
   "metadata": {},
   "source": [
    "#### Features with with unaccceptable 0 (zero) values"
   ]
  },
  {
   "cell_type": "code",
   "execution_count": 10,
   "metadata": {},
   "outputs": [
    {
     "data": {
      "text/plain": [
       "preg     True\n",
       "plas     True\n",
       "pres     True\n",
       "skin     True\n",
       "test     True\n",
       "mass     True\n",
       "pedi    False\n",
       "age     False\n",
       "dtype: bool"
      ]
     },
     "execution_count": 10,
     "metadata": {},
     "output_type": "execute_result"
    }
   ],
   "source": [
    "# Identify columns with zeros\n",
    "df_bruno.drop('class', axis = 1).eq(0).any()"
   ]
  },
  {
   "cell_type": "code",
   "execution_count": 11,
   "metadata": {},
   "outputs": [],
   "source": [
    "zero_unacceptable = ['plas', 'pres', 'skin', 'test', 'mass']\n",
    "for col in zero_unacceptable:\n",
    "    df_bruno[col].replace(0, np.nan, inplace=True)"
   ]
  },
  {
   "cell_type": "code",
   "execution_count": 12,
   "metadata": {},
   "outputs": [
    {
     "data": {
      "text/html": [
       "<div>\n",
       "<style scoped>\n",
       "    .dataframe tbody tr th:only-of-type {\n",
       "        vertical-align: middle;\n",
       "    }\n",
       "\n",
       "    .dataframe tbody tr th {\n",
       "        vertical-align: top;\n",
       "    }\n",
       "\n",
       "    .dataframe thead th {\n",
       "        text-align: right;\n",
       "    }\n",
       "</style>\n",
       "<table border=\"1\" class=\"dataframe\">\n",
       "  <thead>\n",
       "    <tr style=\"text-align: right;\">\n",
       "      <th></th>\n",
       "      <th>preg</th>\n",
       "      <th>plas</th>\n",
       "      <th>pres</th>\n",
       "      <th>skin</th>\n",
       "      <th>test</th>\n",
       "      <th>mass</th>\n",
       "      <th>pedi</th>\n",
       "      <th>age</th>\n",
       "      <th>class</th>\n",
       "    </tr>\n",
       "  </thead>\n",
       "  <tbody>\n",
       "    <tr>\n",
       "      <th>0</th>\n",
       "      <td>6</td>\n",
       "      <td>148.0</td>\n",
       "      <td>72.0</td>\n",
       "      <td>35.0</td>\n",
       "      <td>NaN</td>\n",
       "      <td>33.6</td>\n",
       "      <td>0.627</td>\n",
       "      <td>50</td>\n",
       "      <td>1</td>\n",
       "    </tr>\n",
       "    <tr>\n",
       "      <th>1</th>\n",
       "      <td>1</td>\n",
       "      <td>85.0</td>\n",
       "      <td>66.0</td>\n",
       "      <td>29.0</td>\n",
       "      <td>NaN</td>\n",
       "      <td>26.6</td>\n",
       "      <td>0.351</td>\n",
       "      <td>31</td>\n",
       "      <td>0</td>\n",
       "    </tr>\n",
       "    <tr>\n",
       "      <th>2</th>\n",
       "      <td>8</td>\n",
       "      <td>183.0</td>\n",
       "      <td>64.0</td>\n",
       "      <td>NaN</td>\n",
       "      <td>NaN</td>\n",
       "      <td>23.3</td>\n",
       "      <td>0.672</td>\n",
       "      <td>32</td>\n",
       "      <td>1</td>\n",
       "    </tr>\n",
       "    <tr>\n",
       "      <th>3</th>\n",
       "      <td>1</td>\n",
       "      <td>89.0</td>\n",
       "      <td>66.0</td>\n",
       "      <td>23.0</td>\n",
       "      <td>94.0</td>\n",
       "      <td>28.1</td>\n",
       "      <td>0.167</td>\n",
       "      <td>21</td>\n",
       "      <td>0</td>\n",
       "    </tr>\n",
       "    <tr>\n",
       "      <th>4</th>\n",
       "      <td>0</td>\n",
       "      <td>137.0</td>\n",
       "      <td>40.0</td>\n",
       "      <td>35.0</td>\n",
       "      <td>168.0</td>\n",
       "      <td>43.1</td>\n",
       "      <td>2.288</td>\n",
       "      <td>33</td>\n",
       "      <td>1</td>\n",
       "    </tr>\n",
       "  </tbody>\n",
       "</table>\n",
       "</div>"
      ],
      "text/plain": [
       "   preg   plas  pres  skin   test  mass   pedi  age  class\n",
       "0     6  148.0  72.0  35.0    NaN  33.6  0.627   50      1\n",
       "1     1   85.0  66.0  29.0    NaN  26.6  0.351   31      0\n",
       "2     8  183.0  64.0   NaN    NaN  23.3  0.672   32      1\n",
       "3     1   89.0  66.0  23.0   94.0  28.1  0.167   21      0\n",
       "4     0  137.0  40.0  35.0  168.0  43.1  2.288   33      1"
      ]
     },
     "execution_count": 12,
     "metadata": {},
     "output_type": "execute_result"
    }
   ],
   "source": [
    "df_bruno.head()"
   ]
  },
  {
   "cell_type": "code",
   "execution_count": 13,
   "metadata": {},
   "outputs": [
    {
     "data": {
      "image/png": "[encoded data removed]",
      "text/plain": [
       "<Figure size 648x360 with 1 Axes>"
      ]
     },
     "metadata": {},
     "output_type": "display_data"
    }
   ],
   "source": [
    "# Visualizing Null Values\n",
    "plt.figure(figsize=(9,5))\n",
    "ax = sns.barplot(x=df_bruno.isna().sum(),\n",
    "                y=df_bruno.columns, orient='h')\n",
    "for p in ax.patches:\n",
    "    ax.annotate(text=f\"{p.get_width():.0f}\",\n",
    "               xy=(p.get_width(), p.get_y()+p.get_height()/2),\n",
    "               xytext=(5, 0), textcoords='offset points',\n",
    "               ha=\"left\", va=\"center\")\n",
    "plt.grid(False)\n",
    "plt.show()"
   ]
  },
  {
   "cell_type": "code",
   "execution_count": 14,
   "metadata": {},
   "outputs": [
    {
     "data": {
      "image/png": "[encoded data removed]",
      "text/plain": [
       "<Figure size 2016x1080 with 1 Axes>"
      ]
     },
     "metadata": {},
     "output_type": "display_data"
    }
   ],
   "source": [
    "sns.set(rc={\"figure.figsize\": (28,15)})\n",
    "sns.heatmap(df_bruno.isnull(), yticklabels=False, cbar=False, cmap='viridis')\n",
    "plt.show()"
   ]
  },
  {
   "cell_type": "markdown",
   "metadata": {},
   "source": [
    "#### Impute median in null-value cells"
   ]
  },
  {
   "cell_type": "code",
   "execution_count": 15,
   "metadata": {},
   "outputs": [],
   "source": [
    "imputer = SimpleImputer(strategy='mean')"
   ]
  },
  {
   "cell_type": "code",
   "execution_count": 16,
   "metadata": {},
   "outputs": [],
   "source": [
    "df_bruno[['plas', 'pres', 'skin', 'test', 'mass']] = imputer.fit_transform(df_bruno[['plas', 'pres', 'skin', 'test', 'mass']])"
   ]
  },
  {
   "cell_type": "code",
   "execution_count": 17,
   "metadata": {},
   "outputs": [
    {
     "data": {
      "text/html": [
       "<div>\n",
       "<style scoped>\n",
       "    .dataframe tbody tr th:only-of-type {\n",
       "        vertical-align: middle;\n",
       "    }\n",
       "\n",
       "    .dataframe tbody tr th {\n",
       "        vertical-align: top;\n",
       "    }\n",
       "\n",
       "    .dataframe thead th {\n",
       "        text-align: right;\n",
       "    }\n",
       "</style>\n",
       "<table border=\"1\" class=\"dataframe\">\n",
       "  <thead>\n",
       "    <tr style=\"text-align: right;\">\n",
       "      <th></th>\n",
       "      <th>preg</th>\n",
       "      <th>plas</th>\n",
       "      <th>pres</th>\n",
       "      <th>skin</th>\n",
       "      <th>test</th>\n",
       "      <th>mass</th>\n",
       "      <th>pedi</th>\n",
       "      <th>age</th>\n",
       "      <th>class</th>\n",
       "    </tr>\n",
       "  </thead>\n",
       "  <tbody>\n",
       "    <tr>\n",
       "      <th>count</th>\n",
       "      <td>768.000000</td>\n",
       "      <td>768.000000</td>\n",
       "      <td>768.000000</td>\n",
       "      <td>768.000000</td>\n",
       "      <td>768.000000</td>\n",
       "      <td>768.000000</td>\n",
       "      <td>768.000000</td>\n",
       "      <td>768.000000</td>\n",
       "      <td>768.000000</td>\n",
       "    </tr>\n",
       "    <tr>\n",
       "      <th>mean</th>\n",
       "      <td>3.845052</td>\n",
       "      <td>121.686763</td>\n",
       "      <td>72.405184</td>\n",
       "      <td>29.153420</td>\n",
       "      <td>155.548223</td>\n",
       "      <td>32.457464</td>\n",
       "      <td>0.471876</td>\n",
       "      <td>33.240885</td>\n",
       "      <td>0.348958</td>\n",
       "    </tr>\n",
       "    <tr>\n",
       "      <th>std</th>\n",
       "      <td>3.369578</td>\n",
       "      <td>30.435949</td>\n",
       "      <td>12.096346</td>\n",
       "      <td>8.790942</td>\n",
       "      <td>85.021108</td>\n",
       "      <td>6.875151</td>\n",
       "      <td>0.331329</td>\n",
       "      <td>11.760232</td>\n",
       "      <td>0.476951</td>\n",
       "    </tr>\n",
       "    <tr>\n",
       "      <th>min</th>\n",
       "      <td>0.000000</td>\n",
       "      <td>44.000000</td>\n",
       "      <td>24.000000</td>\n",
       "      <td>7.000000</td>\n",
       "      <td>14.000000</td>\n",
       "      <td>18.200000</td>\n",
       "      <td>0.078000</td>\n",
       "      <td>21.000000</td>\n",
       "      <td>0.000000</td>\n",
       "    </tr>\n",
       "    <tr>\n",
       "      <th>25%</th>\n",
       "      <td>1.000000</td>\n",
       "      <td>99.750000</td>\n",
       "      <td>64.000000</td>\n",
       "      <td>25.000000</td>\n",
       "      <td>121.500000</td>\n",
       "      <td>27.500000</td>\n",
       "      <td>0.243750</td>\n",
       "      <td>24.000000</td>\n",
       "      <td>0.000000</td>\n",
       "    </tr>\n",
       "    <tr>\n",
       "      <th>50%</th>\n",
       "      <td>3.000000</td>\n",
       "      <td>117.000000</td>\n",
       "      <td>72.202592</td>\n",
       "      <td>29.153420</td>\n",
       "      <td>155.548223</td>\n",
       "      <td>32.400000</td>\n",
       "      <td>0.372500</td>\n",
       "      <td>29.000000</td>\n",
       "      <td>0.000000</td>\n",
       "    </tr>\n",
       "    <tr>\n",
       "      <th>75%</th>\n",
       "      <td>6.000000</td>\n",
       "      <td>140.250000</td>\n",
       "      <td>80.000000</td>\n",
       "      <td>32.000000</td>\n",
       "      <td>155.548223</td>\n",
       "      <td>36.600000</td>\n",
       "      <td>0.626250</td>\n",
       "      <td>41.000000</td>\n",
       "      <td>1.000000</td>\n",
       "    </tr>\n",
       "    <tr>\n",
       "      <th>max</th>\n",
       "      <td>17.000000</td>\n",
       "      <td>199.000000</td>\n",
       "      <td>122.000000</td>\n",
       "      <td>99.000000</td>\n",
       "      <td>846.000000</td>\n",
       "      <td>67.100000</td>\n",
       "      <td>2.420000</td>\n",
       "      <td>81.000000</td>\n",
       "      <td>1.000000</td>\n",
       "    </tr>\n",
       "  </tbody>\n",
       "</table>\n",
       "</div>"
      ],
      "text/plain": [
       "             preg        plas        pres        skin        test        mass  \\\n",
       "count  768.000000  768.000000  768.000000  768.000000  768.000000  768.000000   \n",
       "mean     3.845052  121.686763   72.405184   29.153420  155.548223   32.457464   \n",
       "std      3.369578   30.435949   12.096346    8.790942   85.021108    6.875151   \n",
       "min      0.000000   44.000000   24.000000    7.000000   14.000000   18.200000   \n",
       "25%      1.000000   99.750000   64.000000   25.000000  121.500000   27.500000   \n",
       "50%      3.000000  117.000000   72.202592   29.153420  155.548223   32.400000   \n",
       "75%      6.000000  140.250000   80.000000   32.000000  155.548223   36.600000   \n",
       "max     17.000000  199.000000  122.000000   99.000000  846.000000   67.100000   \n",
       "\n",
       "             pedi         age       class  \n",
       "count  768.000000  768.000000  768.000000  \n",
       "mean     0.471876   33.240885    0.348958  \n",
       "std      0.331329   11.760232    0.476951  \n",
       "min      0.078000   21.000000    0.000000  \n",
       "25%      0.243750   24.000000    0.000000  \n",
       "50%      0.372500   29.000000    0.000000  \n",
       "75%      0.626250   41.000000    1.000000  \n",
       "max      2.420000   81.000000    1.000000  "
      ]
     },
     "execution_count": 17,
     "metadata": {},
     "output_type": "execute_result"
    }
   ],
   "source": [
    "df_bruno.describe()"
   ]
  },
  {
   "cell_type": "code",
   "execution_count": 18,
   "metadata": {},
   "outputs": [
    {
     "data": {
      "text/plain": [
       "0    500\n",
       "1    268\n",
       "Name: class, dtype: int64"
      ]
     },
     "execution_count": 18,
     "metadata": {},
     "output_type": "execute_result"
    }
   ],
   "source": [
    "df_bruno['class'].value_counts()"
   ]
  },
  {
   "cell_type": "code",
   "execution_count": 19,
   "metadata": {},
   "outputs": [],
   "source": [
    "proportion = df_bruno['class'].value_counts()/len(df_bruno['class'])"
   ]
  },
  {
   "cell_type": "code",
   "execution_count": 20,
   "metadata": {},
   "outputs": [
    {
     "data": {
      "text/plain": [
       "0    0.651042\n",
       "1    0.348958\n",
       "Name: class, dtype: float64"
      ]
     },
     "execution_count": 20,
     "metadata": {},
     "output_type": "execute_result"
    }
   ],
   "source": [
    "proportion"
   ]
  },
  {
   "cell_type": "code",
   "execution_count": 21,
   "metadata": {},
   "outputs": [
    {
     "data": {
      "image/png": "[encoded data removed]",
      "text/plain": [
       "<Figure size 720x432 with 1 Axes>"
      ]
     },
     "metadata": {},
     "output_type": "display_data"
    }
   ],
   "source": [
    "# Check for imbalanced target variables\n",
    "plt.figure(figsize = (10,6))\n",
    "sns.barplot(x = [0, 1], y = proportion)\n",
    "plt.xticks(np.arange(2),('False', 'True'))\n",
    "plt.ylabel('Proportion')\n",
    "plt.show()"
   ]
  },
  {
   "cell_type": "code",
   "execution_count": 22,
   "metadata": {},
   "outputs": [],
   "source": [
    "transformer_bruno = StandardScaler()"
   ]
  },
  {
   "cell_type": "code",
   "execution_count": 23,
   "metadata": {},
   "outputs": [],
   "source": [
    "#df_features = transformer_bruno.fit_transform(df_bruno.drop('class', axis = 1))"
   ]
  },
  {
   "cell_type": "code",
   "execution_count": 24,
   "metadata": {},
   "outputs": [],
   "source": [
    "df_features = df_bruno.drop('class', axis = 1)"
   ]
  },
  {
   "cell_type": "code",
   "execution_count": 25,
   "metadata": {},
   "outputs": [],
   "source": [
    "df_target = df_bruno['class']"
   ]
  },
  {
   "cell_type": "code",
   "execution_count": 26,
   "metadata": {},
   "outputs": [
    {
     "data": {
      "text/html": [
       "<div>\n",
       "<style scoped>\n",
       "    .dataframe tbody tr th:only-of-type {\n",
       "        vertical-align: middle;\n",
       "    }\n",
       "\n",
       "    .dataframe tbody tr th {\n",
       "        vertical-align: top;\n",
       "    }\n",
       "\n",
       "    .dataframe thead th {\n",
       "        text-align: right;\n",
       "    }\n",
       "</style>\n",
       "<table border=\"1\" class=\"dataframe\">\n",
       "  <thead>\n",
       "    <tr style=\"text-align: right;\">\n",
       "      <th></th>\n",
       "      <th>preg</th>\n",
       "      <th>plas</th>\n",
       "      <th>pres</th>\n",
       "      <th>skin</th>\n",
       "      <th>test</th>\n",
       "      <th>mass</th>\n",
       "      <th>pedi</th>\n",
       "      <th>age</th>\n",
       "    </tr>\n",
       "  </thead>\n",
       "  <tbody>\n",
       "    <tr>\n",
       "      <th>0</th>\n",
       "      <td>6</td>\n",
       "      <td>148.0</td>\n",
       "      <td>72.0</td>\n",
       "      <td>35.00000</td>\n",
       "      <td>155.548223</td>\n",
       "      <td>33.6</td>\n",
       "      <td>0.627</td>\n",
       "      <td>50</td>\n",
       "    </tr>\n",
       "    <tr>\n",
       "      <th>1</th>\n",
       "      <td>1</td>\n",
       "      <td>85.0</td>\n",
       "      <td>66.0</td>\n",
       "      <td>29.00000</td>\n",
       "      <td>155.548223</td>\n",
       "      <td>26.6</td>\n",
       "      <td>0.351</td>\n",
       "      <td>31</td>\n",
       "    </tr>\n",
       "    <tr>\n",
       "      <th>2</th>\n",
       "      <td>8</td>\n",
       "      <td>183.0</td>\n",
       "      <td>64.0</td>\n",
       "      <td>29.15342</td>\n",
       "      <td>155.548223</td>\n",
       "      <td>23.3</td>\n",
       "      <td>0.672</td>\n",
       "      <td>32</td>\n",
       "    </tr>\n",
       "    <tr>\n",
       "      <th>3</th>\n",
       "      <td>1</td>\n",
       "      <td>89.0</td>\n",
       "      <td>66.0</td>\n",
       "      <td>23.00000</td>\n",
       "      <td>94.000000</td>\n",
       "      <td>28.1</td>\n",
       "      <td>0.167</td>\n",
       "      <td>21</td>\n",
       "    </tr>\n",
       "    <tr>\n",
       "      <th>4</th>\n",
       "      <td>0</td>\n",
       "      <td>137.0</td>\n",
       "      <td>40.0</td>\n",
       "      <td>35.00000</td>\n",
       "      <td>168.000000</td>\n",
       "      <td>43.1</td>\n",
       "      <td>2.288</td>\n",
       "      <td>33</td>\n",
       "    </tr>\n",
       "  </tbody>\n",
       "</table>\n",
       "</div>"
      ],
      "text/plain": [
       "   preg   plas  pres      skin        test  mass   pedi  age\n",
       "0     6  148.0  72.0  35.00000  155.548223  33.6  0.627   50\n",
       "1     1   85.0  66.0  29.00000  155.548223  26.6  0.351   31\n",
       "2     8  183.0  64.0  29.15342  155.548223  23.3  0.672   32\n",
       "3     1   89.0  66.0  23.00000   94.000000  28.1  0.167   21\n",
       "4     0  137.0  40.0  35.00000  168.000000  43.1  2.288   33"
      ]
     },
     "execution_count": 26,
     "metadata": {},
     "output_type": "execute_result"
    }
   ],
   "source": [
    "df_features.head()"
   ]
  },
  {
   "cell_type": "code",
   "execution_count": 27,
   "metadata": {},
   "outputs": [
    {
     "data": {
      "text/plain": [
       "0      1\n",
       "1      0\n",
       "2      1\n",
       "3      0\n",
       "4      1\n",
       "      ..\n",
       "763    0\n",
       "764    0\n",
       "765    0\n",
       "766    1\n",
       "767    0\n",
       "Name: class, Length: 768, dtype: int64"
      ]
     },
     "execution_count": 27,
     "metadata": {},
     "output_type": "execute_result"
    }
   ],
   "source": [
    "df_target"
   ]
  },
  {
   "cell_type": "code",
   "execution_count": 28,
   "metadata": {},
   "outputs": [],
   "source": [
    "X_train_bruno, X_test_bruno, y_train_bruno, y_test_bruno = train_test_split(df_features, df_target, test_size=0.3, random_state=42)"
   ]
  },
  {
   "cell_type": "code",
   "execution_count": 29,
   "metadata": {},
   "outputs": [],
   "source": [
    "X_train_bruno_tr = transformer_bruno.fit_transform(X_train_bruno)"
   ]
  },
  {
   "cell_type": "code",
   "execution_count": 30,
   "metadata": {},
   "outputs": [],
   "source": [
    "X_test_bruno_tr = transformer_bruno.transform(X_test_bruno)"
   ]
  },
  {
   "cell_type": "markdown",
   "metadata": {},
   "source": [
    "## Oversample the minority class (1: Positive For Diabetes)"
   ]
  },
  {
   "cell_type": "code",
   "execution_count": 31,
   "metadata": {},
   "outputs": [],
   "source": [
    "def upsample_SMOTE(X_train, y_train, ratio=1.0):\n",
    "    \"\"\"Upsamples minority class using SMOTE.\n",
    "    Ratio argument is the percentage of the upsampled minority class in relation\n",
    "    to the majority class. Default is 1.0\n",
    "    \"\"\"\n",
    "    sm = SMOTE(random_state=42, sampling_strategy=ratio)\n",
    "    X_train_sm, y_train_sm = sm.fit_resample(X_train, y_train)\n",
    "    print(len(X_train_sm), len(y_train_sm))\n",
    "    return X_train_sm, y_train_sm"
   ]
  },
  {
   "cell_type": "code",
   "execution_count": 32,
   "metadata": {},
   "outputs": [],
   "source": [
    "# Concatenate training data back together\n",
    "concat_train = pd.concat([X_train_bruno, y_train_bruno], axis = 1)"
   ]
  },
  {
   "cell_type": "code",
   "execution_count": 33,
   "metadata": {},
   "outputs": [
    {
     "data": {
      "text/html": [
       "<div>\n",
       "<style scoped>\n",
       "    .dataframe tbody tr th:only-of-type {\n",
       "        vertical-align: middle;\n",
       "    }\n",
       "\n",
       "    .dataframe tbody tr th {\n",
       "        vertical-align: top;\n",
       "    }\n",
       "\n",
       "    .dataframe thead th {\n",
       "        text-align: right;\n",
       "    }\n",
       "</style>\n",
       "<table border=\"1\" class=\"dataframe\">\n",
       "  <thead>\n",
       "    <tr style=\"text-align: right;\">\n",
       "      <th></th>\n",
       "      <th>preg</th>\n",
       "      <th>plas</th>\n",
       "      <th>pres</th>\n",
       "      <th>skin</th>\n",
       "      <th>test</th>\n",
       "      <th>mass</th>\n",
       "      <th>pedi</th>\n",
       "      <th>age</th>\n",
       "      <th>class</th>\n",
       "    </tr>\n",
       "  </thead>\n",
       "  <tbody>\n",
       "    <tr>\n",
       "      <th>334</th>\n",
       "      <td>1</td>\n",
       "      <td>95.0</td>\n",
       "      <td>60.0</td>\n",
       "      <td>18.0</td>\n",
       "      <td>58.0</td>\n",
       "      <td>23.9</td>\n",
       "      <td>0.260</td>\n",
       "      <td>22</td>\n",
       "      <td>0</td>\n",
       "    </tr>\n",
       "    <tr>\n",
       "      <th>139</th>\n",
       "      <td>5</td>\n",
       "      <td>105.0</td>\n",
       "      <td>72.0</td>\n",
       "      <td>29.0</td>\n",
       "      <td>325.0</td>\n",
       "      <td>36.9</td>\n",
       "      <td>0.159</td>\n",
       "      <td>28</td>\n",
       "      <td>0</td>\n",
       "    </tr>\n",
       "    <tr>\n",
       "      <th>485</th>\n",
       "      <td>0</td>\n",
       "      <td>135.0</td>\n",
       "      <td>68.0</td>\n",
       "      <td>42.0</td>\n",
       "      <td>250.0</td>\n",
       "      <td>42.3</td>\n",
       "      <td>0.365</td>\n",
       "      <td>24</td>\n",
       "      <td>1</td>\n",
       "    </tr>\n",
       "    <tr>\n",
       "      <th>547</th>\n",
       "      <td>4</td>\n",
       "      <td>131.0</td>\n",
       "      <td>68.0</td>\n",
       "      <td>21.0</td>\n",
       "      <td>166.0</td>\n",
       "      <td>33.1</td>\n",
       "      <td>0.160</td>\n",
       "      <td>28</td>\n",
       "      <td>0</td>\n",
       "    </tr>\n",
       "    <tr>\n",
       "      <th>18</th>\n",
       "      <td>1</td>\n",
       "      <td>103.0</td>\n",
       "      <td>30.0</td>\n",
       "      <td>38.0</td>\n",
       "      <td>83.0</td>\n",
       "      <td>43.3</td>\n",
       "      <td>0.183</td>\n",
       "      <td>33</td>\n",
       "      <td>0</td>\n",
       "    </tr>\n",
       "  </tbody>\n",
       "</table>\n",
       "</div>"
      ],
      "text/plain": [
       "     preg   plas  pres  skin   test  mass   pedi  age  class\n",
       "334     1   95.0  60.0  18.0   58.0  23.9  0.260   22      0\n",
       "139     5  105.0  72.0  29.0  325.0  36.9  0.159   28      0\n",
       "485     0  135.0  68.0  42.0  250.0  42.3  0.365   24      1\n",
       "547     4  131.0  68.0  21.0  166.0  33.1  0.160   28      0\n",
       "18      1  103.0  30.0  38.0   83.0  43.3  0.183   33      0"
      ]
     },
     "execution_count": 33,
     "metadata": {},
     "output_type": "execute_result"
    }
   ],
   "source": [
    "concat_train.head()"
   ]
  },
  {
   "cell_type": "code",
   "execution_count": 34,
   "metadata": {},
   "outputs": [],
   "source": [
    "proportion_train = concat_train['class'].value_counts()/len(concat_train['class'])"
   ]
  },
  {
   "cell_type": "code",
   "execution_count": 35,
   "metadata": {},
   "outputs": [
    {
     "data": {
      "text/plain": [
       "0    0.649907\n",
       "1    0.350093\n",
       "Name: class, dtype: float64"
      ]
     },
     "execution_count": 35,
     "metadata": {},
     "output_type": "execute_result"
    }
   ],
   "source": [
    "proportion_train"
   ]
  },
  {
   "cell_type": "code",
   "execution_count": 36,
   "metadata": {},
   "outputs": [
    {
     "name": "stdout",
     "output_type": "stream",
     "text": [
      "628 628\n"
     ]
    }
   ],
   "source": [
    "X_train_bruno_sm, y_train_bruno_sm = upsample_SMOTE(X_train_bruno, y_train_bruno, .80) "
   ]
  },
  {
   "cell_type": "code",
   "execution_count": 37,
   "metadata": {},
   "outputs": [],
   "source": [
    "unique, count = np.unique(y_train_bruno_sm, return_counts=True)"
   ]
  },
  {
   "cell_type": "code",
   "execution_count": 38,
   "metadata": {},
   "outputs": [
    {
     "name": "stdout",
     "output_type": "stream",
     "text": [
      "[[  0 349]\n",
      " [  1 279]]\n"
     ]
    }
   ],
   "source": [
    "print(np.c_[unique, count])"
   ]
  },
  {
   "cell_type": "code",
   "execution_count": 39,
   "metadata": {},
   "outputs": [],
   "source": [
    "X_train_bruno_sm_tr = transformer_bruno.fit_transform(X_train_bruno_sm)"
   ]
  },
  {
   "cell_type": "markdown",
   "metadata": {},
   "source": [
    "## Instantiate classifiers"
   ]
  },
  {
   "cell_type": "code",
   "execution_count": 40,
   "metadata": {},
   "outputs": [],
   "source": [
    "lr_M = LogisticRegression(max_iter=1400)\n",
    "rf_M = RandomForestClassifier()\n",
    "svc_M = SVC()\n",
    "dt_M = DecisionTreeClassifier(criterion='entropy', max_depth=42)\n",
    "etc_M = ExtraTreesClassifier()"
   ]
  },
  {
   "cell_type": "markdown",
   "metadata": {},
   "source": [
    "### Hard voting"
   ]
  },
  {
   "cell_type": "code",
   "execution_count": 41,
   "metadata": {},
   "outputs": [],
   "source": [
    "voting_hard = VotingClassifier(\n",
    "                    estimators=[\n",
    "                        ('logistic_reg', lr_M),\n",
    "                        ('random_forest', rf_M),\n",
    "                        ('svc', svc_M),\n",
    "                        ('decision_trees', dt_M),\n",
    "                        ('extra_trees', etc_M)\n",
    "                        ],\n",
    "                    voting = 'hard',\n",
    "                    n_jobs = -1)"
   ]
  },
  {
   "cell_type": "code",
   "execution_count": 42,
   "metadata": {},
   "outputs": [],
   "source": [
    "classifiers = [lr_M, rf_M, svc_M, dt_M, etc_M, voting_hard]\n",
    "predictions = pd.DataFrame(columns=['Logistic_Regression',\n",
    "                                  'Random_Forest',\n",
    "                                  'SVC',\n",
    "                                  'Decision_Trees',\n",
    "                                  'Extra_Trees',\n",
    "                                  'Voting_Classifier'])\n",
    "for count, clf in enumerate(classifiers):\n",
    "#     print(count, clf)\n",
    "    clf.fit(X_train_bruno_sm_tr, y_train_bruno_sm)\n",
    "    predictions[predictions.columns[count]] = clf.predict(X_test_bruno_tr[:3])"
   ]
  },
  {
   "cell_type": "code",
   "execution_count": 43,
   "metadata": {},
   "outputs": [],
   "source": [
    "predictions['class'] = y_test_bruno.reset_index(drop=True)"
   ]
  },
  {
   "cell_type": "code",
   "execution_count": 44,
   "metadata": {},
   "outputs": [
    {
     "data": {
      "text/html": [
       "<div>\n",
       "<style scoped>\n",
       "    .dataframe tbody tr th:only-of-type {\n",
       "        vertical-align: middle;\n",
       "    }\n",
       "\n",
       "    .dataframe tbody tr th {\n",
       "        vertical-align: top;\n",
       "    }\n",
       "\n",
       "    .dataframe thead th {\n",
       "        text-align: right;\n",
       "    }\n",
       "</style>\n",
       "<table border=\"1\" class=\"dataframe\">\n",
       "  <thead>\n",
       "    <tr style=\"text-align: right;\">\n",
       "      <th></th>\n",
       "      <th>Logistic_Regression</th>\n",
       "      <th>Random_Forest</th>\n",
       "      <th>SVC</th>\n",
       "      <th>Decision_Trees</th>\n",
       "      <th>Extra_Trees</th>\n",
       "      <th>Voting_Classifier</th>\n",
       "      <th>class</th>\n",
       "    </tr>\n",
       "  </thead>\n",
       "  <tbody>\n",
       "    <tr>\n",
       "      <th>0</th>\n",
       "      <td>0</td>\n",
       "      <td>1</td>\n",
       "      <td>1</td>\n",
       "      <td>1</td>\n",
       "      <td>1</td>\n",
       "      <td>1</td>\n",
       "      <td>0</td>\n",
       "    </tr>\n",
       "    <tr>\n",
       "      <th>1</th>\n",
       "      <td>0</td>\n",
       "      <td>0</td>\n",
       "      <td>0</td>\n",
       "      <td>0</td>\n",
       "      <td>0</td>\n",
       "      <td>0</td>\n",
       "      <td>0</td>\n",
       "    </tr>\n",
       "    <tr>\n",
       "      <th>2</th>\n",
       "      <td>0</td>\n",
       "      <td>0</td>\n",
       "      <td>0</td>\n",
       "      <td>0</td>\n",
       "      <td>0</td>\n",
       "      <td>0</td>\n",
       "      <td>0</td>\n",
       "    </tr>\n",
       "  </tbody>\n",
       "</table>\n",
       "</div>"
      ],
      "text/plain": [
       "   Logistic_Regression  Random_Forest  SVC  Decision_Trees  Extra_Trees  \\\n",
       "0                    0              1    1               1            1   \n",
       "1                    0              0    0               0            0   \n",
       "2                    0              0    0               0            0   \n",
       "\n",
       "   Voting_Classifier  class  \n",
       "0                  1      0  \n",
       "1                  0      0  \n",
       "2                  0      0  "
      ]
     },
     "execution_count": 44,
     "metadata": {},
     "output_type": "execute_result"
    }
   ],
   "source": [
    "predictions"
   ]
  },
  {
   "cell_type": "markdown",
   "metadata": {},
   "source": [
    "### Soft Voting"
   ]
  },
  {
   "cell_type": "code",
   "execution_count": 45,
   "metadata": {},
   "outputs": [],
   "source": [
    "lr_soft_M = LogisticRegression(max_iter = 1400)\n",
    "rf_soft_M = RandomForestClassifier()\n",
    "svc_soft_M = SVC(probability = True)\n",
    "dt_soft_M = DecisionTreeClassifier(criterion='entropy', max_depth=42)\n",
    "etc_soft_M = ExtraTreesClassifier()"
   ]
  },
  {
   "cell_type": "code",
   "execution_count": 46,
   "metadata": {},
   "outputs": [],
   "source": [
    "voting_soft = VotingClassifier(\n",
    "                    estimators=[\n",
    "                        ('logistic_reg_soft', lr_soft_M),\n",
    "                        ('random_forest_soft', rf_soft_M),\n",
    "                        ('svc_soft', svc_soft_M),\n",
    "                        ('decision_trees_soft', dt_soft_M),\n",
    "                        ('extra_trees_soft', etc_soft_M)\n",
    "                        ],\n",
    "                    voting = 'soft',\n",
    "                    n_jobs = -1)"
   ]
  },
  {
   "cell_type": "code",
   "execution_count": 47,
   "metadata": {},
   "outputs": [],
   "source": [
    "classifiers_soft = [lr_soft_M, rf_soft_M, svc_soft_M, dt_soft_M, etc_soft_M, voting_soft]\n",
    "predictions_soft = pd.DataFrame(columns=['Logistic_Regression',\n",
    "                                  'Random_Forest',\n",
    "                                  'SVC',\n",
    "                                  'Decision_Trees',\n",
    "                                  'Extra_Trees',\n",
    "                                  'Voting_Classifier'])\n",
    "for count, clf in enumerate(classifiers_soft):\n",
    "#     print(count, clf)\n",
    "    clf.fit(X_train_bruno_sm_tr, y_train_bruno_sm)\n",
    "    predictions_soft[predictions_soft.columns[count]] = clf.predict(X_test_bruno_tr[:3])\n",
    "predictions_soft['class'] = y_test_bruno.reset_index(drop=True)"
   ]
  },
  {
   "cell_type": "code",
   "execution_count": 48,
   "metadata": {},
   "outputs": [
    {
     "data": {
      "text/html": [
       "<div>\n",
       "<style scoped>\n",
       "    .dataframe tbody tr th:only-of-type {\n",
       "        vertical-align: middle;\n",
       "    }\n",
       "\n",
       "    .dataframe tbody tr th {\n",
       "        vertical-align: top;\n",
       "    }\n",
       "\n",
       "    .dataframe thead th {\n",
       "        text-align: right;\n",
       "    }\n",
       "</style>\n",
       "<table border=\"1\" class=\"dataframe\">\n",
       "  <thead>\n",
       "    <tr style=\"text-align: right;\">\n",
       "      <th></th>\n",
       "      <th>Logistic_Regression</th>\n",
       "      <th>Random_Forest</th>\n",
       "      <th>SVC</th>\n",
       "      <th>Decision_Trees</th>\n",
       "      <th>Extra_Trees</th>\n",
       "      <th>Voting_Classifier</th>\n",
       "      <th>class</th>\n",
       "    </tr>\n",
       "  </thead>\n",
       "  <tbody>\n",
       "    <tr>\n",
       "      <th>0</th>\n",
       "      <td>0</td>\n",
       "      <td>1</td>\n",
       "      <td>1</td>\n",
       "      <td>1</td>\n",
       "      <td>1</td>\n",
       "      <td>1</td>\n",
       "      <td>0</td>\n",
       "    </tr>\n",
       "    <tr>\n",
       "      <th>1</th>\n",
       "      <td>0</td>\n",
       "      <td>0</td>\n",
       "      <td>0</td>\n",
       "      <td>0</td>\n",
       "      <td>0</td>\n",
       "      <td>0</td>\n",
       "      <td>0</td>\n",
       "    </tr>\n",
       "    <tr>\n",
       "      <th>2</th>\n",
       "      <td>0</td>\n",
       "      <td>0</td>\n",
       "      <td>0</td>\n",
       "      <td>0</td>\n",
       "      <td>0</td>\n",
       "      <td>0</td>\n",
       "      <td>0</td>\n",
       "    </tr>\n",
       "  </tbody>\n",
       "</table>\n",
       "</div>"
      ],
      "text/plain": [
       "   Logistic_Regression  Random_Forest  SVC  Decision_Trees  Extra_Trees  \\\n",
       "0                    0              1    1               1            1   \n",
       "1                    0              0    0               0            0   \n",
       "2                    0              0    0               0            0   \n",
       "\n",
       "   Voting_Classifier  class  \n",
       "0                  1      0  \n",
       "1                  0      0  \n",
       "2                  0      0  "
      ]
     },
     "execution_count": 48,
     "metadata": {},
     "output_type": "execute_result"
    }
   ],
   "source": [
    "predictions_soft"
   ]
  },
  {
   "cell_type": "markdown",
   "metadata": {},
   "source": [
    "##  Extra Trees and Decision Trees"
   ]
  },
  {
   "cell_type": "code",
   "execution_count": 49,
   "metadata": {},
   "outputs": [],
   "source": [
    "pipeline1_bruno = Pipeline([\n",
    "    ('tranformer', transformer_bruno),\n",
    "    ('extra_trees', etc_M)\n",
    "    ])"
   ]
  },
  {
   "cell_type": "code",
   "execution_count": 50,
   "metadata": {},
   "outputs": [],
   "source": [
    "pipeline2_bruno = Pipeline([\n",
    "    ('tranformer', transformer_bruno),\n",
    "    ('decision_trees', dt_M)\n",
    "    ])"
   ]
  },
  {
   "cell_type": "code",
   "execution_count": 51,
   "metadata": {},
   "outputs": [
    {
     "data": {
      "text/html": [
       "<style>#sk-container-id-1 {color: black;background-color: white;}#sk-container-id-1 pre{padding: 0;}#sk-container-id-1 div.sk-toggleable {background-color: white;}#sk-container-id-1 label.sk-toggleable__label {cursor: pointer;display: block;width: 100%;margin-bottom: 0;padding: 0.3em;box-sizing: border-box;text-align: center;}#sk-container-id-1 label.sk-toggleable__label-arrow:before {content: \"▸\";float: left;margin-right: 0.25em;color: #696969;}#sk-container-id-1 label.sk-toggleable__label-arrow:hover:before {color: black;}#sk-container-id-1 div.sk-estimator:hover label.sk-toggleable__label-arrow:before {color: black;}#sk-container-id-1 div.sk-toggleable__content {max-height: 0;max-width: 0;overflow: hidden;text-align: left;background-color: #f0f8ff;}#sk-container-id-1 div.sk-toggleable__content pre {margin: 0.2em;color: black;border-radius: 0.25em;background-color: #f0f8ff;}#sk-container-id-1 input.sk-toggleable__control:checked~div.sk-toggleable__content {max-height: 200px;max-width: 100%;overflow: auto;}#sk-container-id-1 input.sk-toggleable__control:checked~label.sk-toggleable__label-arrow:before {content: \"▾\";}#sk-container-id-1 div.sk-estimator input.sk-toggleable__control:checked~label.sk-toggleable__label {background-color: #d4ebff;}#sk-container-id-1 div.sk-label input.sk-toggleable__control:checked~label.sk-toggleable__label {background-color: #d4ebff;}#sk-container-id-1 input.sk-hidden--visually {border: 0;clip: rect(1px 1px 1px 1px);clip: rect(1px, 1px, 1px, 1px);height: 1px;margin: -1px;overflow: hidden;padding: 0;position: absolute;width: 1px;}#sk-container-id-1 div.sk-estimator {font-family: monospace;background-color: #f0f8ff;border: 1px dotted black;border-radius: 0.25em;box-sizing: border-box;margin-bottom: 0.5em;}#sk-container-id-1 div.sk-estimator:hover {background-color: #d4ebff;}#sk-container-id-1 div.sk-parallel-item::after {content: \"\";width: 100%;border-bottom: 1px solid gray;flex-grow: 1;}#sk-container-id-1 div.sk-label:hover label.sk-toggleable__label {background-color: #d4ebff;}#sk-container-id-1 div.sk-serial::before {content: \"\";position: absolute;border-left: 1px solid gray;box-sizing: border-box;top: 0;bottom: 0;left: 50%;z-index: 0;}#sk-container-id-1 div.sk-serial {display: flex;flex-direction: column;align-items: center;background-color: white;padding-right: 0.2em;padding-left: 0.2em;position: relative;}#sk-container-id-1 div.sk-item {position: relative;z-index: 1;}#sk-container-id-1 div.sk-parallel {display: flex;align-items: stretch;justify-content: center;background-color: white;position: relative;}#sk-container-id-1 div.sk-item::before, #sk-container-id-1 div.sk-parallel-item::before {content: \"\";position: absolute;border-left: 1px solid gray;box-sizing: border-box;top: 0;bottom: 0;left: 50%;z-index: -1;}#sk-container-id-1 div.sk-parallel-item {display: flex;flex-direction: column;z-index: 1;position: relative;background-color: white;}#sk-container-id-1 div.sk-parallel-item:first-child::after {align-self: flex-end;width: 50%;}#sk-container-id-1 div.sk-parallel-item:last-child::after {align-self: flex-start;width: 50%;}#sk-container-id-1 div.sk-parallel-item:only-child::after {width: 0;}#sk-container-id-1 div.sk-dashed-wrapped {border: 1px dashed gray;margin: 0 0.4em 0.5em 0.4em;box-sizing: border-box;padding-bottom: 0.4em;background-color: white;}#sk-container-id-1 div.sk-label label {font-family: monospace;font-weight: bold;display: inline-block;line-height: 1.2em;}#sk-container-id-1 div.sk-label-container {text-align: center;}#sk-container-id-1 div.sk-container {/* jupyter's `normalize.less` sets `[hidden] { display: none; }` but bootstrap.min.css set `[hidden] { display: none !important; }` so we also need the `!important` here to be able to override the default hidden behavior on the sphinx rendered scikit-learn.org. See: https://github.com/scikit-learn/scikit-learn/issues/21755 */display: inline-block !important;position: relative;}#sk-container-id-1 div.sk-text-repr-fallback {display: none;}</style><div id=\"sk-container-id-1\" class=\"sk-top-container\"><div class=\"sk-text-repr-fallback\"><pre>Pipeline(steps=[(&#x27;tranformer&#x27;, StandardScaler()),\n",
       "                (&#x27;extra_trees&#x27;, ExtraTreesClassifier())])</pre><b>In a Jupyter environment, please rerun this cell to show the HTML representation or trust the notebook. <br />On GitHub, the HTML representation is unable to render, please try loading this page with nbviewer.org.</b></div><div class=\"sk-container\" hidden><div class=\"sk-item sk-dashed-wrapped\"><div class=\"sk-label-container\"><div class=\"sk-label sk-toggleable\"><input class=\"sk-toggleable__control sk-hidden--visually\" id=\"sk-estimator-id-1\" type=\"checkbox\" ><label for=\"sk-estimator-id-1\" class=\"sk-toggleable__label sk-toggleable__label-arrow\">Pipeline</label><div class=\"sk-toggleable__content\"><pre>Pipeline(steps=[(&#x27;tranformer&#x27;, StandardScaler()),\n",
       "                (&#x27;extra_trees&#x27;, ExtraTreesClassifier())])</pre></div></div></div><div class=\"sk-serial\"><div class=\"sk-item\"><div class=\"sk-estimator sk-toggleable\"><input class=\"sk-toggleable__control sk-hidden--visually\" id=\"sk-estimator-id-2\" type=\"checkbox\" ><label for=\"sk-estimator-id-2\" class=\"sk-toggleable__label sk-toggleable__label-arrow\">StandardScaler</label><div class=\"sk-toggleable__content\"><pre>StandardScaler()</pre></div></div></div><div class=\"sk-item\"><div class=\"sk-estimator sk-toggleable\"><input class=\"sk-toggleable__control sk-hidden--visually\" id=\"sk-estimator-id-3\" type=\"checkbox\" ><label for=\"sk-estimator-id-3\" class=\"sk-toggleable__label sk-toggleable__label-arrow\">ExtraTreesClassifier</label><div class=\"sk-toggleable__content\"><pre>ExtraTreesClassifier()</pre></div></div></div></div></div></div></div>"
      ],
      "text/plain": [
       "Pipeline(steps=[('tranformer', StandardScaler()),\n",
       "                ('extra_trees', ExtraTreesClassifier())])"
      ]
     },
     "execution_count": 51,
     "metadata": {},
     "output_type": "execute_result"
    }
   ],
   "source": [
    "pipeline1_bruno.fit(X_train_bruno, y_train_bruno)"
   ]
  },
  {
   "cell_type": "code",
   "execution_count": 52,
   "metadata": {},
   "outputs": [
    {
     "data": {
      "text/html": [
       "<style>#sk-container-id-2 {color: black;background-color: white;}#sk-container-id-2 pre{padding: 0;}#sk-container-id-2 div.sk-toggleable {background-color: white;}#sk-container-id-2 label.sk-toggleable__label {cursor: pointer;display: block;width: 100%;margin-bottom: 0;padding: 0.3em;box-sizing: border-box;text-align: center;}#sk-container-id-2 label.sk-toggleable__label-arrow:before {content: \"▸\";float: left;margin-right: 0.25em;color: #696969;}#sk-container-id-2 label.sk-toggleable__label-arrow:hover:before {color: black;}#sk-container-id-2 div.sk-estimator:hover label.sk-toggleable__label-arrow:before {color: black;}#sk-container-id-2 div.sk-toggleable__content {max-height: 0;max-width: 0;overflow: hidden;text-align: left;background-color: #f0f8ff;}#sk-container-id-2 div.sk-toggleable__content pre {margin: 0.2em;color: black;border-radius: 0.25em;background-color: #f0f8ff;}#sk-container-id-2 input.sk-toggleable__control:checked~div.sk-toggleable__content {max-height: 200px;max-width: 100%;overflow: auto;}#sk-container-id-2 input.sk-toggleable__control:checked~label.sk-toggleable__label-arrow:before {content: \"▾\";}#sk-container-id-2 div.sk-estimator input.sk-toggleable__control:checked~label.sk-toggleable__label {background-color: #d4ebff;}#sk-container-id-2 div.sk-label input.sk-toggleable__control:checked~label.sk-toggleable__label {background-color: #d4ebff;}#sk-container-id-2 input.sk-hidden--visually {border: 0;clip: rect(1px 1px 1px 1px);clip: rect(1px, 1px, 1px, 1px);height: 1px;margin: -1px;overflow: hidden;padding: 0;position: absolute;width: 1px;}#sk-container-id-2 div.sk-estimator {font-family: monospace;background-color: #f0f8ff;border: 1px dotted black;border-radius: 0.25em;box-sizing: border-box;margin-bottom: 0.5em;}#sk-container-id-2 div.sk-estimator:hover {background-color: #d4ebff;}#sk-container-id-2 div.sk-parallel-item::after {content: \"\";width: 100%;border-bottom: 1px solid gray;flex-grow: 1;}#sk-container-id-2 div.sk-label:hover label.sk-toggleable__label {background-color: #d4ebff;}#sk-container-id-2 div.sk-serial::before {content: \"\";position: absolute;border-left: 1px solid gray;box-sizing: border-box;top: 0;bottom: 0;left: 50%;z-index: 0;}#sk-container-id-2 div.sk-serial {display: flex;flex-direction: column;align-items: center;background-color: white;padding-right: 0.2em;padding-left: 0.2em;position: relative;}#sk-container-id-2 div.sk-item {position: relative;z-index: 1;}#sk-container-id-2 div.sk-parallel {display: flex;align-items: stretch;justify-content: center;background-color: white;position: relative;}#sk-container-id-2 div.sk-item::before, #sk-container-id-2 div.sk-parallel-item::before {content: \"\";position: absolute;border-left: 1px solid gray;box-sizing: border-box;top: 0;bottom: 0;left: 50%;z-index: -1;}#sk-container-id-2 div.sk-parallel-item {display: flex;flex-direction: column;z-index: 1;position: relative;background-color: white;}#sk-container-id-2 div.sk-parallel-item:first-child::after {align-self: flex-end;width: 50%;}#sk-container-id-2 div.sk-parallel-item:last-child::after {align-self: flex-start;width: 50%;}#sk-container-id-2 div.sk-parallel-item:only-child::after {width: 0;}#sk-container-id-2 div.sk-dashed-wrapped {border: 1px dashed gray;margin: 0 0.4em 0.5em 0.4em;box-sizing: border-box;padding-bottom: 0.4em;background-color: white;}#sk-container-id-2 div.sk-label label {font-family: monospace;font-weight: bold;display: inline-block;line-height: 1.2em;}#sk-container-id-2 div.sk-label-container {text-align: center;}#sk-container-id-2 div.sk-container {/* jupyter's `normalize.less` sets `[hidden] { display: none; }` but bootstrap.min.css set `[hidden] { display: none !important; }` so we also need the `!important` here to be able to override the default hidden behavior on the sphinx rendered scikit-learn.org. See: https://github.com/scikit-learn/scikit-learn/issues/21755 */display: inline-block !important;position: relative;}#sk-container-id-2 div.sk-text-repr-fallback {display: none;}</style><div id=\"sk-container-id-2\" class=\"sk-top-container\"><div class=\"sk-text-repr-fallback\"><pre>Pipeline(steps=[(&#x27;tranformer&#x27;, StandardScaler()),\n",
       "                (&#x27;decision_trees&#x27;,\n",
       "                 DecisionTreeClassifier(criterion=&#x27;entropy&#x27;, max_depth=42))])</pre><b>In a Jupyter environment, please rerun this cell to show the HTML representation or trust the notebook. <br />On GitHub, the HTML representation is unable to render, please try loading this page with nbviewer.org.</b></div><div class=\"sk-container\" hidden><div class=\"sk-item sk-dashed-wrapped\"><div class=\"sk-label-container\"><div class=\"sk-label sk-toggleable\"><input class=\"sk-toggleable__control sk-hidden--visually\" id=\"sk-estimator-id-4\" type=\"checkbox\" ><label for=\"sk-estimator-id-4\" class=\"sk-toggleable__label sk-toggleable__label-arrow\">Pipeline</label><div class=\"sk-toggleable__content\"><pre>Pipeline(steps=[(&#x27;tranformer&#x27;, StandardScaler()),\n",
       "                (&#x27;decision_trees&#x27;,\n",
       "                 DecisionTreeClassifier(criterion=&#x27;entropy&#x27;, max_depth=42))])</pre></div></div></div><div class=\"sk-serial\"><div class=\"sk-item\"><div class=\"sk-estimator sk-toggleable\"><input class=\"sk-toggleable__control sk-hidden--visually\" id=\"sk-estimator-id-5\" type=\"checkbox\" ><label for=\"sk-estimator-id-5\" class=\"sk-toggleable__label sk-toggleable__label-arrow\">StandardScaler</label><div class=\"sk-toggleable__content\"><pre>StandardScaler()</pre></div></div></div><div class=\"sk-item\"><div class=\"sk-estimator sk-toggleable\"><input class=\"sk-toggleable__control sk-hidden--visually\" id=\"sk-estimator-id-6\" type=\"checkbox\" ><label for=\"sk-estimator-id-6\" class=\"sk-toggleable__label sk-toggleable__label-arrow\">DecisionTreeClassifier</label><div class=\"sk-toggleable__content\"><pre>DecisionTreeClassifier(criterion=&#x27;entropy&#x27;, max_depth=42)</pre></div></div></div></div></div></div></div>"
      ],
      "text/plain": [
       "Pipeline(steps=[('tranformer', StandardScaler()),\n",
       "                ('decision_trees',\n",
       "                 DecisionTreeClassifier(criterion='entropy', max_depth=42))])"
      ]
     },
     "execution_count": 52,
     "metadata": {},
     "output_type": "execute_result"
    }
   ],
   "source": [
    "pipeline2_bruno.fit(X_train_bruno, y_train_bruno)"
   ]
  },
  {
   "cell_type": "code",
   "execution_count": 53,
   "metadata": {},
   "outputs": [],
   "source": [
    "cv = ShuffleSplit(n_splits=10, random_state=42)"
   ]
  },
  {
   "cell_type": "markdown",
   "metadata": {},
   "source": [
    "### Scores Pipeline 1"
   ]
  },
  {
   "cell_type": "markdown",
   "metadata": {},
   "source": [
    "#### Cross Validation with original training data"
   ]
  },
  {
   "cell_type": "code",
   "execution_count": 54,
   "metadata": {},
   "outputs": [
    {
     "name": "stderr",
     "output_type": "stream",
     "text": [
      "[Parallel(n_jobs=-1)]: Using backend LokyBackend with 8 concurrent workers.\n",
      "[Parallel(n_jobs=-1)]: Done   6 out of  10 | elapsed:    1.4s remaining:    0.9s\n",
      "[Parallel(n_jobs=-1)]: Done  10 out of  10 | elapsed:    1.9s finished\n"
     ]
    }
   ],
   "source": [
    "scores_pipe1_1 = cross_val_score(pipeline1_bruno,\n",
    "                               X_train_bruno,\n",
    "                               y_train_bruno,\n",
    "                               cv = cv,\n",
    "                               n_jobs=-1,\n",
    "                              verbose=1)"
   ]
  },
  {
   "cell_type": "code",
   "execution_count": 55,
   "metadata": {},
   "outputs": [
    {
     "data": {
      "text/plain": [
       "array([0.77777778, 0.75925926, 0.75925926, 0.77777778, 0.75925926,\n",
       "       0.83333333, 0.66666667, 0.75925926, 0.85185185, 0.7962963 ])"
      ]
     },
     "execution_count": 55,
     "metadata": {},
     "output_type": "execute_result"
    }
   ],
   "source": [
    "scores_pipe1_1"
   ]
  },
  {
   "cell_type": "code",
   "execution_count": 56,
   "metadata": {},
   "outputs": [
    {
     "name": "stdout",
     "output_type": "stream",
     "text": [
      "Average scores original data: 0.77\n"
     ]
    }
   ],
   "source": [
    "print(f'Average scores original data: {round(scores_pipe1_1.mean(),2)}')"
   ]
  },
  {
   "cell_type": "markdown",
   "metadata": {},
   "source": [
    "#### Cross Validation with upsampled training data"
   ]
  },
  {
   "cell_type": "code",
   "execution_count": 57,
   "metadata": {},
   "outputs": [
    {
     "data": {
      "text/html": [
       "<style>#sk-container-id-3 {color: black;background-color: white;}#sk-container-id-3 pre{padding: 0;}#sk-container-id-3 div.sk-toggleable {background-color: white;}#sk-container-id-3 label.sk-toggleable__label {cursor: pointer;display: block;width: 100%;margin-bottom: 0;padding: 0.3em;box-sizing: border-box;text-align: center;}#sk-container-id-3 label.sk-toggleable__label-arrow:before {content: \"▸\";float: left;margin-right: 0.25em;color: #696969;}#sk-container-id-3 label.sk-toggleable__label-arrow:hover:before {color: black;}#sk-container-id-3 div.sk-estimator:hover label.sk-toggleable__label-arrow:before {color: black;}#sk-container-id-3 div.sk-toggleable__content {max-height: 0;max-width: 0;overflow: hidden;text-align: left;background-color: #f0f8ff;}#sk-container-id-3 div.sk-toggleable__content pre {margin: 0.2em;color: black;border-radius: 0.25em;background-color: #f0f8ff;}#sk-container-id-3 input.sk-toggleable__control:checked~div.sk-toggleable__content {max-height: 200px;max-width: 100%;overflow: auto;}#sk-container-id-3 input.sk-toggleable__control:checked~label.sk-toggleable__label-arrow:before {content: \"▾\";}#sk-container-id-3 div.sk-estimator input.sk-toggleable__control:checked~label.sk-toggleable__label {background-color: #d4ebff;}#sk-container-id-3 div.sk-label input.sk-toggleable__control:checked~label.sk-toggleable__label {background-color: #d4ebff;}#sk-container-id-3 input.sk-hidden--visually {border: 0;clip: rect(1px 1px 1px 1px);clip: rect(1px, 1px, 1px, 1px);height: 1px;margin: -1px;overflow: hidden;padding: 0;position: absolute;width: 1px;}#sk-container-id-3 div.sk-estimator {font-family: monospace;background-color: #f0f8ff;border: 1px dotted black;border-radius: 0.25em;box-sizing: border-box;margin-bottom: 0.5em;}#sk-container-id-3 div.sk-estimator:hover {background-color: #d4ebff;}#sk-container-id-3 div.sk-parallel-item::after {content: \"\";width: 100%;border-bottom: 1px solid gray;flex-grow: 1;}#sk-container-id-3 div.sk-label:hover label.sk-toggleable__label {background-color: #d4ebff;}#sk-container-id-3 div.sk-serial::before {content: \"\";position: absolute;border-left: 1px solid gray;box-sizing: border-box;top: 0;bottom: 0;left: 50%;z-index: 0;}#sk-container-id-3 div.sk-serial {display: flex;flex-direction: column;align-items: center;background-color: white;padding-right: 0.2em;padding-left: 0.2em;position: relative;}#sk-container-id-3 div.sk-item {position: relative;z-index: 1;}#sk-container-id-3 div.sk-parallel {display: flex;align-items: stretch;justify-content: center;background-color: white;position: relative;}#sk-container-id-3 div.sk-item::before, #sk-container-id-3 div.sk-parallel-item::before {content: \"\";position: absolute;border-left: 1px solid gray;box-sizing: border-box;top: 0;bottom: 0;left: 50%;z-index: -1;}#sk-container-id-3 div.sk-parallel-item {display: flex;flex-direction: column;z-index: 1;position: relative;background-color: white;}#sk-container-id-3 div.sk-parallel-item:first-child::after {align-self: flex-end;width: 50%;}#sk-container-id-3 div.sk-parallel-item:last-child::after {align-self: flex-start;width: 50%;}#sk-container-id-3 div.sk-parallel-item:only-child::after {width: 0;}#sk-container-id-3 div.sk-dashed-wrapped {border: 1px dashed gray;margin: 0 0.4em 0.5em 0.4em;box-sizing: border-box;padding-bottom: 0.4em;background-color: white;}#sk-container-id-3 div.sk-label label {font-family: monospace;font-weight: bold;display: inline-block;line-height: 1.2em;}#sk-container-id-3 div.sk-label-container {text-align: center;}#sk-container-id-3 div.sk-container {/* jupyter's `normalize.less` sets `[hidden] { display: none; }` but bootstrap.min.css set `[hidden] { display: none !important; }` so we also need the `!important` here to be able to override the default hidden behavior on the sphinx rendered scikit-learn.org. See: https://github.com/scikit-learn/scikit-learn/issues/21755 */display: inline-block !important;position: relative;}#sk-container-id-3 div.sk-text-repr-fallback {display: none;}</style><div id=\"sk-container-id-3\" class=\"sk-top-container\"><div class=\"sk-text-repr-fallback\"><pre>Pipeline(steps=[(&#x27;tranformer&#x27;, StandardScaler()),\n",
       "                (&#x27;extra_trees&#x27;, ExtraTreesClassifier())])</pre><b>In a Jupyter environment, please rerun this cell to show the HTML representation or trust the notebook. <br />On GitHub, the HTML representation is unable to render, please try loading this page with nbviewer.org.</b></div><div class=\"sk-container\" hidden><div class=\"sk-item sk-dashed-wrapped\"><div class=\"sk-label-container\"><div class=\"sk-label sk-toggleable\"><input class=\"sk-toggleable__control sk-hidden--visually\" id=\"sk-estimator-id-7\" type=\"checkbox\" ><label for=\"sk-estimator-id-7\" class=\"sk-toggleable__label sk-toggleable__label-arrow\">Pipeline</label><div class=\"sk-toggleable__content\"><pre>Pipeline(steps=[(&#x27;tranformer&#x27;, StandardScaler()),\n",
       "                (&#x27;extra_trees&#x27;, ExtraTreesClassifier())])</pre></div></div></div><div class=\"sk-serial\"><div class=\"sk-item\"><div class=\"sk-estimator sk-toggleable\"><input class=\"sk-toggleable__control sk-hidden--visually\" id=\"sk-estimator-id-8\" type=\"checkbox\" ><label for=\"sk-estimator-id-8\" class=\"sk-toggleable__label sk-toggleable__label-arrow\">StandardScaler</label><div class=\"sk-toggleable__content\"><pre>StandardScaler()</pre></div></div></div><div class=\"sk-item\"><div class=\"sk-estimator sk-toggleable\"><input class=\"sk-toggleable__control sk-hidden--visually\" id=\"sk-estimator-id-9\" type=\"checkbox\" ><label for=\"sk-estimator-id-9\" class=\"sk-toggleable__label sk-toggleable__label-arrow\">ExtraTreesClassifier</label><div class=\"sk-toggleable__content\"><pre>ExtraTreesClassifier()</pre></div></div></div></div></div></div></div>"
      ],
      "text/plain": [
       "Pipeline(steps=[('tranformer', StandardScaler()),\n",
       "                ('extra_trees', ExtraTreesClassifier())])"
      ]
     },
     "execution_count": 57,
     "metadata": {},
     "output_type": "execute_result"
    }
   ],
   "source": [
    "pipeline1_bruno.fit(X_train_bruno_sm, y_train_bruno_sm)"
   ]
  },
  {
   "cell_type": "code",
   "execution_count": 58,
   "metadata": {},
   "outputs": [
    {
     "name": "stderr",
     "output_type": "stream",
     "text": [
      "[Parallel(n_jobs=-1)]: Using backend LokyBackend with 8 concurrent workers.\n",
      "[Parallel(n_jobs=-1)]: Done   6 out of  10 | elapsed:    0.4s remaining:    0.2s\n",
      "[Parallel(n_jobs=-1)]: Done  10 out of  10 | elapsed:    0.5s finished\n"
     ]
    }
   ],
   "source": [
    "scores_pipe1_2 = cross_val_score(pipeline1_bruno,\n",
    "                               X_train_bruno_sm,\n",
    "                               y_train_bruno_sm,\n",
    "                               cv = cv,\n",
    "                               n_jobs=-1,\n",
    "                              verbose=1)"
   ]
  },
  {
   "cell_type": "code",
   "execution_count": 59,
   "metadata": {},
   "outputs": [
    {
     "data": {
      "text/plain": [
       "array([0.80952381, 0.85714286, 0.80952381, 0.77777778, 0.76190476,\n",
       "       0.79365079, 0.77777778, 0.9047619 , 0.82539683, 0.85714286])"
      ]
     },
     "execution_count": 59,
     "metadata": {},
     "output_type": "execute_result"
    }
   ],
   "source": [
    "scores_pipe1_2"
   ]
  },
  {
   "cell_type": "code",
   "execution_count": 60,
   "metadata": {},
   "outputs": [
    {
     "name": "stdout",
     "output_type": "stream",
     "text": [
      "Average scores upasampled data: 0.82\n"
     ]
    }
   ],
   "source": [
    "print(f'Average scores upsampled data: {round(scores_pipe1_2.mean(),2)}')"
   ]
  },
  {
   "cell_type": "markdown",
   "metadata": {},
   "source": [
    "### Scores Pipeline 2"
   ]
  },
  {
   "cell_type": "markdown",
   "metadata": {},
   "source": [
    "#### Cross Validation with original training data"
   ]
  },
  {
   "cell_type": "code",
   "execution_count": 61,
   "metadata": {},
   "outputs": [
    {
     "name": "stderr",
     "output_type": "stream",
     "text": [
      "[Parallel(n_jobs=-1)]: Using backend LokyBackend with 8 concurrent workers.\n",
      "[Parallel(n_jobs=-1)]: Done   6 out of  10 | elapsed:    0.0s remaining:    0.0s\n",
      "[Parallel(n_jobs=-1)]: Done  10 out of  10 | elapsed:    0.0s finished\n"
     ]
    }
   ],
   "source": [
    "scores_pipe2_1 = cross_val_score(pipeline2_bruno,\n",
    "                                X_train_bruno,\n",
    "                                y_train_bruno,\n",
    "                                cv = cv,\n",
    "                                n_jobs=-1,\n",
    "                                verbose=1) "
   ]
  },
  {
   "cell_type": "code",
   "execution_count": 62,
   "metadata": {},
   "outputs": [
    {
     "name": "stdout",
     "output_type": "stream",
     "text": [
      "Average scores original data: 0.72\n"
     ]
    }
   ],
   "source": [
    "print(f'Average scores original data: {round(scores_pipe2_1.mean(),2)}')"
   ]
  },
  {
   "cell_type": "code",
   "execution_count": 63,
   "metadata": {},
   "outputs": [
    {
     "data": {
      "text/html": [
       "<style>#sk-container-id-4 {color: black;background-color: white;}#sk-container-id-4 pre{padding: 0;}#sk-container-id-4 div.sk-toggleable {background-color: white;}#sk-container-id-4 label.sk-toggleable__label {cursor: pointer;display: block;width: 100%;margin-bottom: 0;padding: 0.3em;box-sizing: border-box;text-align: center;}#sk-container-id-4 label.sk-toggleable__label-arrow:before {content: \"▸\";float: left;margin-right: 0.25em;color: #696969;}#sk-container-id-4 label.sk-toggleable__label-arrow:hover:before {color: black;}#sk-container-id-4 div.sk-estimator:hover label.sk-toggleable__label-arrow:before {color: black;}#sk-container-id-4 div.sk-toggleable__content {max-height: 0;max-width: 0;overflow: hidden;text-align: left;background-color: #f0f8ff;}#sk-container-id-4 div.sk-toggleable__content pre {margin: 0.2em;color: black;border-radius: 0.25em;background-color: #f0f8ff;}#sk-container-id-4 input.sk-toggleable__control:checked~div.sk-toggleable__content {max-height: 200px;max-width: 100%;overflow: auto;}#sk-container-id-4 input.sk-toggleable__control:checked~label.sk-toggleable__label-arrow:before {content: \"▾\";}#sk-container-id-4 div.sk-estimator input.sk-toggleable__control:checked~label.sk-toggleable__label {background-color: #d4ebff;}#sk-container-id-4 div.sk-label input.sk-toggleable__control:checked~label.sk-toggleable__label {background-color: #d4ebff;}#sk-container-id-4 input.sk-hidden--visually {border: 0;clip: rect(1px 1px 1px 1px);clip: rect(1px, 1px, 1px, 1px);height: 1px;margin: -1px;overflow: hidden;padding: 0;position: absolute;width: 1px;}#sk-container-id-4 div.sk-estimator {font-family: monospace;background-color: #f0f8ff;border: 1px dotted black;border-radius: 0.25em;box-sizing: border-box;margin-bottom: 0.5em;}#sk-container-id-4 div.sk-estimator:hover {background-color: #d4ebff;}#sk-container-id-4 div.sk-parallel-item::after {content: \"\";width: 100%;border-bottom: 1px solid gray;flex-grow: 1;}#sk-container-id-4 div.sk-label:hover label.sk-toggleable__label {background-color: #d4ebff;}#sk-container-id-4 div.sk-serial::before {content: \"\";position: absolute;border-left: 1px solid gray;box-sizing: border-box;top: 0;bottom: 0;left: 50%;z-index: 0;}#sk-container-id-4 div.sk-serial {display: flex;flex-direction: column;align-items: center;background-color: white;padding-right: 0.2em;padding-left: 0.2em;position: relative;}#sk-container-id-4 div.sk-item {position: relative;z-index: 1;}#sk-container-id-4 div.sk-parallel {display: flex;align-items: stretch;justify-content: center;background-color: white;position: relative;}#sk-container-id-4 div.sk-item::before, #sk-container-id-4 div.sk-parallel-item::before {content: \"\";position: absolute;border-left: 1px solid gray;box-sizing: border-box;top: 0;bottom: 0;left: 50%;z-index: -1;}#sk-container-id-4 div.sk-parallel-item {display: flex;flex-direction: column;z-index: 1;position: relative;background-color: white;}#sk-container-id-4 div.sk-parallel-item:first-child::after {align-self: flex-end;width: 50%;}#sk-container-id-4 div.sk-parallel-item:last-child::after {align-self: flex-start;width: 50%;}#sk-container-id-4 div.sk-parallel-item:only-child::after {width: 0;}#sk-container-id-4 div.sk-dashed-wrapped {border: 1px dashed gray;margin: 0 0.4em 0.5em 0.4em;box-sizing: border-box;padding-bottom: 0.4em;background-color: white;}#sk-container-id-4 div.sk-label label {font-family: monospace;font-weight: bold;display: inline-block;line-height: 1.2em;}#sk-container-id-4 div.sk-label-container {text-align: center;}#sk-container-id-4 div.sk-container {/* jupyter's `normalize.less` sets `[hidden] { display: none; }` but bootstrap.min.css set `[hidden] { display: none !important; }` so we also need the `!important` here to be able to override the default hidden behavior on the sphinx rendered scikit-learn.org. See: https://github.com/scikit-learn/scikit-learn/issues/21755 */display: inline-block !important;position: relative;}#sk-container-id-4 div.sk-text-repr-fallback {display: none;}</style><div id=\"sk-container-id-4\" class=\"sk-top-container\"><div class=\"sk-text-repr-fallback\"><pre>Pipeline(steps=[(&#x27;tranformer&#x27;, StandardScaler()),\n",
       "                (&#x27;decision_trees&#x27;,\n",
       "                 DecisionTreeClassifier(criterion=&#x27;entropy&#x27;, max_depth=42))])</pre><b>In a Jupyter environment, please rerun this cell to show the HTML representation or trust the notebook. <br />On GitHub, the HTML representation is unable to render, please try loading this page with nbviewer.org.</b></div><div class=\"sk-container\" hidden><div class=\"sk-item sk-dashed-wrapped\"><div class=\"sk-label-container\"><div class=\"sk-label sk-toggleable\"><input class=\"sk-toggleable__control sk-hidden--visually\" id=\"sk-estimator-id-10\" type=\"checkbox\" ><label for=\"sk-estimator-id-10\" class=\"sk-toggleable__label sk-toggleable__label-arrow\">Pipeline</label><div class=\"sk-toggleable__content\"><pre>Pipeline(steps=[(&#x27;tranformer&#x27;, StandardScaler()),\n",
       "                (&#x27;decision_trees&#x27;,\n",
       "                 DecisionTreeClassifier(criterion=&#x27;entropy&#x27;, max_depth=42))])</pre></div></div></div><div class=\"sk-serial\"><div class=\"sk-item\"><div class=\"sk-estimator sk-toggleable\"><input class=\"sk-toggleable__control sk-hidden--visually\" id=\"sk-estimator-id-11\" type=\"checkbox\" ><label for=\"sk-estimator-id-11\" class=\"sk-toggleable__label sk-toggleable__label-arrow\">StandardScaler</label><div class=\"sk-toggleable__content\"><pre>StandardScaler()</pre></div></div></div><div class=\"sk-item\"><div class=\"sk-estimator sk-toggleable\"><input class=\"sk-toggleable__control sk-hidden--visually\" id=\"sk-estimator-id-12\" type=\"checkbox\" ><label for=\"sk-estimator-id-12\" class=\"sk-toggleable__label sk-toggleable__label-arrow\">DecisionTreeClassifier</label><div class=\"sk-toggleable__content\"><pre>DecisionTreeClassifier(criterion=&#x27;entropy&#x27;, max_depth=42)</pre></div></div></div></div></div></div></div>"
      ],
      "text/plain": [
       "Pipeline(steps=[('tranformer', StandardScaler()),\n",
       "                ('decision_trees',\n",
       "                 DecisionTreeClassifier(criterion='entropy', max_depth=42))])"
      ]
     },
     "execution_count": 63,
     "metadata": {},
     "output_type": "execute_result"
    }
   ],
   "source": [
    "pipeline2_bruno.fit(X_train_bruno_sm, y_train_bruno_sm)"
   ]
  },
  {
   "cell_type": "markdown",
   "metadata": {},
   "source": [
    "#### Cross Validation with upsampled training data"
   ]
  },
  {
   "cell_type": "code",
   "execution_count": 64,
   "metadata": {},
   "outputs": [
    {
     "name": "stderr",
     "output_type": "stream",
     "text": [
      "[Parallel(n_jobs=-1)]: Using backend LokyBackend with 8 concurrent workers.\n",
      "[Parallel(n_jobs=-1)]: Done   6 out of  10 | elapsed:    0.0s remaining:    0.0s\n",
      "[Parallel(n_jobs=-1)]: Done  10 out of  10 | elapsed:    0.0s finished\n"
     ]
    }
   ],
   "source": [
    "scores_pipe2_2 = cross_val_score(pipeline2_bruno,\n",
    "                                X_train_bruno_sm,\n",
    "                                y_train_bruno_sm,\n",
    "                                cv = cv,\n",
    "                                n_jobs=-1,\n",
    "                                verbose=1) "
   ]
  },
  {
   "cell_type": "code",
   "execution_count": 65,
   "metadata": {},
   "outputs": [
    {
     "name": "stdout",
     "output_type": "stream",
     "text": [
      "Average scores upsampled data: 0.76\n"
     ]
    }
   ],
   "source": [
    "print(f'Average scores upsampled data: {round(scores_pipe2_2.mean(),2)}')"
   ]
  },
  {
   "cell_type": "markdown",
   "metadata": {},
   "source": [
    "#### Predictions Pipeline 1"
   ]
  },
  {
   "cell_type": "code",
   "execution_count": 66,
   "metadata": {},
   "outputs": [],
   "source": [
    "pred_pipe1 = pipeline1_bruno.predict(X_test_bruno)"
   ]
  },
  {
   "cell_type": "code",
   "execution_count": 67,
   "metadata": {},
   "outputs": [],
   "source": [
    "cm1 = confusion_matrix(y_test_bruno, pred_pipe1, labels=pipeline1_bruno.classes_)"
   ]
  },
  {
   "cell_type": "code",
   "execution_count": 68,
   "metadata": {},
   "outputs": [],
   "source": [
    "disp1 = ConfusionMatrixDisplay(confusion_matrix=cm1,\n",
    "                               display_labels=pipeline1_bruno.classes_)"
   ]
  },
  {
   "cell_type": "code",
   "execution_count": 69,
   "metadata": {},
   "outputs": [
    {
     "data": {
      "image/png": "[encoded data removed]",
      "text/plain": [
       "<Figure size 432x432 with 1 Axes>"
      ]
     },
     "metadata": {},
     "output_type": "display_data"
    }
   ],
   "source": [
    "fig, ax = plt.subplots(figsize=(6,6))\n",
    "disp1.plot(ax=ax ,colorbar=False)\n",
    "plt.grid(False)\n",
    "plt.title('Confusion Matrix - Extra Trees')\n",
    "plt.show()"
   ]
  },
  {
   "cell_type": "code",
   "execution_count": 70,
   "metadata": {},
   "outputs": [
    {
     "name": "stdout",
     "output_type": "stream",
     "text": [
      "\t\tClassification Report - Extra Trees\n",
      "\n",
      "               precision    recall  f1-score   support\n",
      "\n",
      "           0       0.79      0.77      0.78       151\n",
      "           1       0.59      0.62      0.61        80\n",
      "\n",
      "    accuracy                           0.72       231\n",
      "   macro avg       0.69      0.70      0.69       231\n",
      "weighted avg       0.72      0.72      0.72       231\n",
      "\n"
     ]
    }
   ],
   "source": [
    "# Print the classification report\n",
    "print('\\t\\tClassification Report - Extra Trees\\n\\n', classification_report(y_test_bruno, pred_pipe1))"
   ]
  },
  {
   "cell_type": "markdown",
   "metadata": {},
   "source": [
    "precision means what percentage of the positive predictions made were actually correct.</br> \n",
    "`TP/(TP+FP)`\n",
    " \n",
    "Recall in simple terms means, what percentage of actual positive predictions were correctly classified by the classifier.</br> \n",
    "`TP/(TP+FN)`\n",
    "\n",
    "F1 score can also be described as the harmonic mean or weighted average of precision and recall.</br> \n",
    "`2x((precision x recall) / (precision + recall))`"
   ]
  },
  {
   "cell_type": "markdown",
   "metadata": {},
   "source": [
    "#### Predictions Pipeline 2"
   ]
  },
  {
   "cell_type": "code",
   "execution_count": 71,
   "metadata": {},
   "outputs": [],
   "source": [
    "pred_pipe2 = pipeline2_bruno.predict(X_test_bruno)"
   ]
  },
  {
   "cell_type": "code",
   "execution_count": 72,
   "metadata": {},
   "outputs": [],
   "source": [
    "cm2 = confusion_matrix(y_test_bruno, pred_pipe2, labels=pipeline2_bruno.classes_)"
   ]
  },
  {
   "cell_type": "code",
   "execution_count": 73,
   "metadata": {},
   "outputs": [],
   "source": [
    "disp2 = ConfusionMatrixDisplay(confusion_matrix=cm2,\n",
    "                               display_labels=pipeline2_bruno.classes_)"
   ]
  },
  {
   "cell_type": "code",
   "execution_count": 74,
   "metadata": {},
   "outputs": [
    {
     "data": {
      "image/png": "[encoded data removed]",
      "text/plain": [
       "<Figure size 432x432 with 1 Axes>"
      ]
     },
     "metadata": {},
     "output_type": "display_data"
    }
   ],
   "source": [
    "fig, ax = plt.subplots(figsize=(6,6))\n",
    "disp2.plot(ax=ax ,colorbar=False, cmap='BuGn')\n",
    "plt.grid(False)\n",
    "plt.title('Confusion Matrix - Decision Trees')\n",
    "plt.show()"
   ]
  },
  {
   "cell_type": "code",
   "execution_count": 75,
   "metadata": {},
   "outputs": [
    {
     "name": "stdout",
     "output_type": "stream",
     "text": [
      "\t\tClassification Report - Decision Trees\n",
      "\n",
      "               precision    recall  f1-score   support\n",
      "\n",
      "           0       0.79      0.75      0.77       151\n",
      "           1       0.57      0.62      0.60        80\n",
      "\n",
      "    accuracy                           0.71       231\n",
      "   macro avg       0.68      0.69      0.68       231\n",
      "weighted avg       0.71      0.71      0.71       231\n",
      "\n"
     ]
    }
   ],
   "source": [
    "# Print the classification report\n",
    "print('\\t\\tClassification Report - Decision Trees\\n\\n', classification_report(y_test_bruno, pred_pipe2))"
   ]
  },
  {
   "cell_type": "markdown",
   "metadata": {},
   "source": [
    "precision means what percentage of the positive predictions made were actually correct.</br> \n",
    "`TP/(TP+FP)`\n",
    " \n",
    "Recall in simple terms means, what percentage of actual positive predictions were correctly classified by the classifier.</br> \n",
    "`TP/(TP+FN)`\n",
    "\n",
    "F1 score can also be described as the harmonic mean or weighted average of precision and recall.</br> \n",
    "`2x((precision x recall) / (precision + recall))`"
   ]
  },
  {
   "cell_type": "markdown",
   "metadata": {},
   "source": [
    "### Randomized GridSearch"
   ]
  },
  {
   "cell_type": "markdown",
   "metadata": {},
   "source": [
    "#### Extra Trees"
   ]
  },
  {
   "cell_type": "code",
   "execution_count": 76,
   "metadata": {},
   "outputs": [],
   "source": [
    "pipeline1_bruno_v2 = Pipeline([\n",
    "    ('tranformer', transformer_bruno),\n",
    "    ('extra_trees', etc_M)\n",
    "    ])"
   ]
  },
  {
   "cell_type": "code",
   "execution_count": 77,
   "metadata": {},
   "outputs": [
    {
     "data": {
      "text/plain": [
       "['pipeline_extra_trees.pkl']"
      ]
     },
     "execution_count": 77,
     "metadata": {},
     "output_type": "execute_result"
    }
   ],
   "source": [
    "joblib.dump(pipeline1_bruno_v2, \"pipeline_extra_trees.pkl\")"
   ]
  },
  {
   "cell_type": "code",
   "execution_count": 78,
   "metadata": {},
   "outputs": [],
   "source": [
    "parameters={'extra_trees__n_estimators' : range(10,3000,20),\n",
    "            'extra_trees__max_depth': range(1,1000,2)}"
   ]
  },
  {
   "cell_type": "code",
   "execution_count": 79,
   "metadata": {},
   "outputs": [],
   "source": [
    "rand_gridsearch_bruno = RandomizedSearchCV(estimator = pipeline1_bruno_v2,\n",
    "                                       param_distributions = parameters,\n",
    "                                       scoring = 'accuracy',\n",
    "                                       cv = 5,\n",
    "                                       n_iter = 50,\n",
    "                                       refit = True,\n",
    "                                       n_jobs = -1,\n",
    "                                       verbose = 3,\n",
    "                                       random_state = 42)"
   ]
  },
  {
   "cell_type": "code",
   "execution_count": 80,
   "metadata": {},
   "outputs": [
    {
     "name": "stdout",
     "output_type": "stream",
     "text": [
      "Fitting 5 folds for each of 50 candidates, totalling 250 fits\n"
     ]
    },
    {
     "data": {
      "text/html": [
       "<style>#sk-container-id-5 {color: black;background-color: white;}#sk-container-id-5 pre{padding: 0;}#sk-container-id-5 div.sk-toggleable {background-color: white;}#sk-container-id-5 label.sk-toggleable__label {cursor: pointer;display: block;width: 100%;margin-bottom: 0;padding: 0.3em;box-sizing: border-box;text-align: center;}#sk-container-id-5 label.sk-toggleable__label-arrow:before {content: \"▸\";float: left;margin-right: 0.25em;color: #696969;}#sk-container-id-5 label.sk-toggleable__label-arrow:hover:before {color: black;}#sk-container-id-5 div.sk-estimator:hover label.sk-toggleable__label-arrow:before {color: black;}#sk-container-id-5 div.sk-toggleable__content {max-height: 0;max-width: 0;overflow: hidden;text-align: left;background-color: #f0f8ff;}#sk-container-id-5 div.sk-toggleable__content pre {margin: 0.2em;color: black;border-radius: 0.25em;background-color: #f0f8ff;}#sk-container-id-5 input.sk-toggleable__control:checked~div.sk-toggleable__content {max-height: 200px;max-width: 100%;overflow: auto;}#sk-container-id-5 input.sk-toggleable__control:checked~label.sk-toggleable__label-arrow:before {content: \"▾\";}#sk-container-id-5 div.sk-estimator input.sk-toggleable__control:checked~label.sk-toggleable__label {background-color: #d4ebff;}#sk-container-id-5 div.sk-label input.sk-toggleable__control:checked~label.sk-toggleable__label {background-color: #d4ebff;}#sk-container-id-5 input.sk-hidden--visually {border: 0;clip: rect(1px 1px 1px 1px);clip: rect(1px, 1px, 1px, 1px);height: 1px;margin: -1px;overflow: hidden;padding: 0;position: absolute;width: 1px;}#sk-container-id-5 div.sk-estimator {font-family: monospace;background-color: #f0f8ff;border: 1px dotted black;border-radius: 0.25em;box-sizing: border-box;margin-bottom: 0.5em;}#sk-container-id-5 div.sk-estimator:hover {background-color: #d4ebff;}#sk-container-id-5 div.sk-parallel-item::after {content: \"\";width: 100%;border-bottom: 1px solid gray;flex-grow: 1;}#sk-container-id-5 div.sk-label:hover label.sk-toggleable__label {background-color: #d4ebff;}#sk-container-id-5 div.sk-serial::before {content: \"\";position: absolute;border-left: 1px solid gray;box-sizing: border-box;top: 0;bottom: 0;left: 50%;z-index: 0;}#sk-container-id-5 div.sk-serial {display: flex;flex-direction: column;align-items: center;background-color: white;padding-right: 0.2em;padding-left: 0.2em;position: relative;}#sk-container-id-5 div.sk-item {position: relative;z-index: 1;}#sk-container-id-5 div.sk-parallel {display: flex;align-items: stretch;justify-content: center;background-color: white;position: relative;}#sk-container-id-5 div.sk-item::before, #sk-container-id-5 div.sk-parallel-item::before {content: \"\";position: absolute;border-left: 1px solid gray;box-sizing: border-box;top: 0;bottom: 0;left: 50%;z-index: -1;}#sk-container-id-5 div.sk-parallel-item {display: flex;flex-direction: column;z-index: 1;position: relative;background-color: white;}#sk-container-id-5 div.sk-parallel-item:first-child::after {align-self: flex-end;width: 50%;}#sk-container-id-5 div.sk-parallel-item:last-child::after {align-self: flex-start;width: 50%;}#sk-container-id-5 div.sk-parallel-item:only-child::after {width: 0;}#sk-container-id-5 div.sk-dashed-wrapped {border: 1px dashed gray;margin: 0 0.4em 0.5em 0.4em;box-sizing: border-box;padding-bottom: 0.4em;background-color: white;}#sk-container-id-5 div.sk-label label {font-family: monospace;font-weight: bold;display: inline-block;line-height: 1.2em;}#sk-container-id-5 div.sk-label-container {text-align: center;}#sk-container-id-5 div.sk-container {/* jupyter's `normalize.less` sets `[hidden] { display: none; }` but bootstrap.min.css set `[hidden] { display: none !important; }` so we also need the `!important` here to be able to override the default hidden behavior on the sphinx rendered scikit-learn.org. See: https://github.com/scikit-learn/scikit-learn/issues/21755 */display: inline-block !important;position: relative;}#sk-container-id-5 div.sk-text-repr-fallback {display: none;}</style><div id=\"sk-container-id-5\" class=\"sk-top-container\"><div class=\"sk-text-repr-fallback\"><pre>RandomizedSearchCV(cv=5,\n",
       "                   estimator=Pipeline(steps=[(&#x27;tranformer&#x27;, StandardScaler()),\n",
       "                                             (&#x27;extra_trees&#x27;,\n",
       "                                              ExtraTreesClassifier())]),\n",
       "                   n_iter=50, n_jobs=-1,\n",
       "                   param_distributions={&#x27;extra_trees__max_depth&#x27;: range(1, 1000, 2),\n",
       "                                        &#x27;extra_trees__n_estimators&#x27;: range(10, 3000, 20)},\n",
       "                   random_state=42, scoring=&#x27;accuracy&#x27;, verbose=3)</pre><b>In a Jupyter environment, please rerun this cell to show the HTML representation or trust the notebook. <br />On GitHub, the HTML representation is unable to render, please try loading this page with nbviewer.org.</b></div><div class=\"sk-container\" hidden><div class=\"sk-item sk-dashed-wrapped\"><div class=\"sk-label-container\"><div class=\"sk-label sk-toggleable\"><input class=\"sk-toggleable__control sk-hidden--visually\" id=\"sk-estimator-id-13\" type=\"checkbox\" ><label for=\"sk-estimator-id-13\" class=\"sk-toggleable__label sk-toggleable__label-arrow\">RandomizedSearchCV</label><div class=\"sk-toggleable__content\"><pre>RandomizedSearchCV(cv=5,\n",
       "                   estimator=Pipeline(steps=[(&#x27;tranformer&#x27;, StandardScaler()),\n",
       "                                             (&#x27;extra_trees&#x27;,\n",
       "                                              ExtraTreesClassifier())]),\n",
       "                   n_iter=50, n_jobs=-1,\n",
       "                   param_distributions={&#x27;extra_trees__max_depth&#x27;: range(1, 1000, 2),\n",
       "                                        &#x27;extra_trees__n_estimators&#x27;: range(10, 3000, 20)},\n",
       "                   random_state=42, scoring=&#x27;accuracy&#x27;, verbose=3)</pre></div></div></div><div class=\"sk-parallel\"><div class=\"sk-parallel-item\"><div class=\"sk-item\"><div class=\"sk-label-container\"><div class=\"sk-label sk-toggleable\"><input class=\"sk-toggleable__control sk-hidden--visually\" id=\"sk-estimator-id-14\" type=\"checkbox\" ><label for=\"sk-estimator-id-14\" class=\"sk-toggleable__label sk-toggleable__label-arrow\">estimator: Pipeline</label><div class=\"sk-toggleable__content\"><pre>Pipeline(steps=[(&#x27;tranformer&#x27;, StandardScaler()),\n",
       "                (&#x27;extra_trees&#x27;, ExtraTreesClassifier())])</pre></div></div></div><div class=\"sk-serial\"><div class=\"sk-item\"><div class=\"sk-serial\"><div class=\"sk-item\"><div class=\"sk-estimator sk-toggleable\"><input class=\"sk-toggleable__control sk-hidden--visually\" id=\"sk-estimator-id-15\" type=\"checkbox\" ><label for=\"sk-estimator-id-15\" class=\"sk-toggleable__label sk-toggleable__label-arrow\">StandardScaler</label><div class=\"sk-toggleable__content\"><pre>StandardScaler()</pre></div></div></div><div class=\"sk-item\"><div class=\"sk-estimator sk-toggleable\"><input class=\"sk-toggleable__control sk-hidden--visually\" id=\"sk-estimator-id-16\" type=\"checkbox\" ><label for=\"sk-estimator-id-16\" class=\"sk-toggleable__label sk-toggleable__label-arrow\">ExtraTreesClassifier</label><div class=\"sk-toggleable__content\"><pre>ExtraTreesClassifier()</pre></div></div></div></div></div></div></div></div></div></div></div></div>"
      ],
      "text/plain": [
       "RandomizedSearchCV(cv=5,\n",
       "                   estimator=Pipeline(steps=[('tranformer', StandardScaler()),\n",
       "                                             ('extra_trees',\n",
       "                                              ExtraTreesClassifier())]),\n",
       "                   n_iter=50, n_jobs=-1,\n",
       "                   param_distributions={'extra_trees__max_depth': range(1, 1000, 2),\n",
       "                                        'extra_trees__n_estimators': range(10, 3000, 20)},\n",
       "                   random_state=42, scoring='accuracy', verbose=3)"
      ]
     },
     "execution_count": 80,
     "metadata": {},
     "output_type": "execute_result"
    }
   ],
   "source": [
    "rand_gridsearch_bruno.fit(X_train_bruno_sm, y_train_bruno_sm)"
   ]
  },
  {
   "cell_type": "code",
   "execution_count": 81,
   "metadata": {},
   "outputs": [
    {
     "name": "stdout",
     "output_type": "stream",
     "text": [
      "tuned hpyerparameters :(best parameters) \n",
      " {'extra_trees__n_estimators': 2810, 'extra_trees__max_depth': 51}\n"
     ]
    }
   ],
   "source": [
    "# Best hyperparameters\n",
    "print(\"tuned hpyerparameters :(best parameters) \\n\", rand_gridsearch_bruno.best_params_)"
   ]
  },
  {
   "cell_type": "code",
   "execution_count": 82,
   "metadata": {},
   "outputs": [],
   "source": [
    "# Store the best model\n",
    "best_model = rand_gridsearch_bruno.best_estimator_"
   ]
  },
  {
   "cell_type": "code",
   "execution_count": 83,
   "metadata": {},
   "outputs": [
    {
     "data": {
      "text/plain": [
       "['best_model_extra_trees.pkl']"
      ]
     },
     "execution_count": 83,
     "metadata": {},
     "output_type": "execute_result"
    }
   ],
   "source": [
    "joblib.dump(best_model, 'best_model_extra_trees.pkl')"
   ]
  },
  {
   "cell_type": "code",
   "execution_count": 84,
   "metadata": {},
   "outputs": [],
   "source": [
    "# Make new predictions with the tuned model\n",
    "final_pred = best_model.predict(X_test_bruno)"
   ]
  },
  {
   "cell_type": "code",
   "execution_count": 85,
   "metadata": {},
   "outputs": [
    {
     "data": {
      "text/plain": [
       "0.7359307359307359"
      ]
     },
     "execution_count": 85,
     "metadata": {},
     "output_type": "execute_result"
    }
   ],
   "source": [
    "best_model.score(X_test_bruno, y_test_bruno)"
   ]
  },
  {
   "cell_type": "code",
   "execution_count": 86,
   "metadata": {},
   "outputs": [],
   "source": [
    "cm3 = confusion_matrix(y_test_bruno, final_pred, labels=pipeline1_bruno.classes_)"
   ]
  },
  {
   "cell_type": "code",
   "execution_count": 87,
   "metadata": {},
   "outputs": [],
   "source": [
    "disp3 = ConfusionMatrixDisplay(confusion_matrix=cm3,\n",
    "                               display_labels=pipeline1_bruno.classes_)"
   ]
  },
  {
   "cell_type": "code",
   "execution_count": 88,
   "metadata": {},
   "outputs": [
    {
     "data": {
      "image/png": "[encoded data removed]",
      "text/plain": [
       "<Figure size 432x432 with 1 Axes>"
      ]
     },
     "metadata": {},
     "output_type": "display_data"
    }
   ],
   "source": [
    "fig, ax = plt.subplots(figsize=(6,6))\n",
    "disp3.plot(ax=ax ,colorbar=False, cmap='BuGn')\n",
    "plt.grid(False)\n",
    "plt.title('Confusion Matrix - Tuned Extra Trees')\n",
    "plt.show()"
   ]
  },
  {
   "cell_type": "code",
   "execution_count": 89,
   "metadata": {},
   "outputs": [
    {
     "name": "stdout",
     "output_type": "stream",
     "text": [
      "\t\tClassification Report - Tuned Extra Trees\n",
      "\n",
      "               precision    recall  f1-score   support\n",
      "\n",
      "           0       0.81      0.77      0.79       151\n",
      "           1       0.61      0.66      0.63        80\n",
      "\n",
      "    accuracy                           0.74       231\n",
      "   macro avg       0.71      0.72      0.71       231\n",
      "weighted avg       0.74      0.74      0.74       231\n",
      "\n"
     ]
    }
   ],
   "source": [
    "# Print the classification report\n",
    "print('\\t\\tClassification Report - Tuned Extra Trees\\n\\n', classification_report(y_test_bruno, final_pred))"
   ]
  },
  {
   "cell_type": "markdown",
   "metadata": {},
   "source": [
    "### Experimenting with SVC"
   ]
  },
  {
   "cell_type": "code",
   "execution_count": 90,
   "metadata": {},
   "outputs": [],
   "source": [
    "svc = SVC()"
   ]
  },
  {
   "cell_type": "code",
   "execution_count": 91,
   "metadata": {},
   "outputs": [],
   "source": [
    "pipeline1_svc = Pipeline([\n",
    "    ('tranformer', transformer_bruno),\n",
    "    ('svc', svc)\n",
    "    ])"
   ]
  },
  {
   "cell_type": "code",
   "execution_count": 92,
   "metadata": {},
   "outputs": [],
   "source": [
    "# Dictionary with parameters names (str) as keys and lists of parameter settings to try as values.\n",
    "param_grid = {'svc__kernel': ['linear', 'rbf', 'poly'],\n",
    "              'svc__C': [0.01, 0.1, 1, 10, 100],\n",
    "              'svc__gamma': [0.01, 0.03, 0.1, 0.3, 1.0, 3.0],\n",
    "              'svc__degree': [2, 3]}"
   ]
  },
  {
   "cell_type": "code",
   "execution_count": 93,
   "metadata": {},
   "outputs": [],
   "source": [
    "rand_gridsearch_svc = RandomizedSearchCV(estimator = pipeline1_svc,\n",
    "                                       param_distributions = param_grid,\n",
    "                                       scoring = 'accuracy',\n",
    "                                       cv = 5,\n",
    "                                       n_iter = 50,\n",
    "                                       refit = True,\n",
    "                                       n_jobs = -1,\n",
    "                                       verbose = 3,\n",
    "                                       random_state = 42)"
   ]
  },
  {
   "cell_type": "code",
   "execution_count": 94,
   "metadata": {},
   "outputs": [
    {
     "name": "stdout",
     "output_type": "stream",
     "text": [
      "Fitting 5 folds for each of 50 candidates, totalling 250 fits\n",
      "[CV 1/5] END extra_trees__max_depth=11, extra_trees__n_estimators=2210;, score=0.873 total time=   5.8s\n",
      "[CV 1/5] END extra_trees__max_depth=83, extra_trees__n_estimators=2310;, score=0.881 total time=   6.1s\n",
      "[CV 2/5] END extra_trees__max_depth=495, extra_trees__n_estimators=2890;, score=0.825 total time=  11.5s\n",
      "[CV 5/5] END extra_trees__max_depth=803, extra_trees__n_estimators=2270;, score=0.848 total time=  11.5s\n",
      "[CV 3/5] END extra_trees__max_depth=547, extra_trees__n_estimators=2810;, score=0.770 total time=  16.9s\n",
      "[CV 5/5] END extra_trees__max_depth=11, extra_trees__n_estimators=390;, score=0.840 total time=   1.8s\n",
      "[CV 1/5] END extra_trees__max_depth=839, extra_trees__n_estimators=2110;, score=0.873 total time=   8.5s\n",
      "[CV 4/5] END extra_trees__max_depth=865, extra_trees__n_estimators=2510;, score=0.872 total time=  10.6s\n",
      "[CV 2/5] END extra_trees__max_depth=959, extra_trees__n_estimators=1650;, score=0.825 total time=   5.4s\n",
      "[CV 5/5] END extra_trees__max_depth=245, extra_trees__n_estimators=2630;, score=0.856 total time=   8.1s\n",
      "[CV 4/5] END extra_trees__max_depth=877, extra_trees__n_estimators=510;, score=0.872 total time=   1.8s\n",
      "[CV 2/5] END extra_trees__max_depth=899, extra_trees__n_estimators=1710;, score=0.810 total time=   4.9s\n",
      "[CV 5/5] END extra_trees__max_depth=759, extra_trees__n_estimators=730;, score=0.864 total time=   2.1s\n",
      "[CV 1/5] END extra_trees__max_depth=421, extra_trees__n_estimators=1030;, score=0.889 total time=   4.3s\n",
      "[CV 3/5] END extra_trees__max_depth=151, extra_trees__n_estimators=2890;, score=0.762 total time=   9.8s\n",
      "[CV 4/5] END extra_trees__max_depth=51, extra_trees__n_estimators=2810;, score=0.872 total time=  10.7s\n",
      "[CV 1/5] END extra_trees__max_depth=117, extra_trees__n_estimators=1850;, score=0.873 total time=   8.5s\n",
      "[CV 4/5] END extra_trees__max_depth=117, extra_trees__n_estimators=1850;, score=0.872 total time=   8.1s\n",
      "[CV 2/5] END extra_trees__max_depth=319, extra_trees__n_estimators=950;, score=0.810 total time=   4.1s\n",
      "[CV 3/5] END extra_trees__max_depth=909, extra_trees__n_estimators=970;, score=0.770 total time=   4.1s\n",
      "[CV 1/5] END extra_trees__max_depth=647, extra_trees__n_estimators=2110;, score=0.881 total time=   9.6s\n",
      "[CV 5/5] END extra_trees__max_depth=229, extra_trees__n_estimators=1190;, score=0.864 total time=   6.4s\n",
      "[CV 3/5] END extra_trees__max_depth=895, extra_trees__n_estimators=1430;, score=0.762 total time=  11.1s\n",
      "[CV 3/5] END extra_trees__max_depth=259, extra_trees__n_estimators=2150;, score=0.778 total time=  23.3s\n",
      "[CV 5/5] END extra_trees__max_depth=887, extra_trees__n_estimators=2150;, score=0.872 total time=  27.3s\n",
      "[CV 2/5] END svc__C=0.01, svc__degree=3, svc__gamma=0.01, svc__kernel=rbf;, score=0.556 total time=   0.1s\n",
      "[CV 4/5] END svc__C=100, svc__degree=2, svc__gamma=0.3, svc__kernel=linear;, score=0.728 total time=   1.4s\n",
      "[CV 1/5] END svc__C=1, svc__degree=3, svc__gamma=0.1, svc__kernel=rbf;, score=0.833 total time=   0.1s\n",
      "[CV 2/5] END svc__C=1, svc__degree=3, svc__gamma=0.1, svc__kernel=rbf;, score=0.754 total time=   0.1s\n",
      "[CV 3/5] END svc__C=1, svc__degree=3, svc__gamma=0.1, svc__kernel=rbf;, score=0.730 total time=   0.1s\n",
      "[CV 4/5] END svc__C=1, svc__degree=3, svc__gamma=0.1, svc__kernel=rbf;, score=0.768 total time=   0.1s\n",
      "[CV 2/5] END svc__C=0.01, svc__degree=3, svc__gamma=1.0, svc__kernel=linear;, score=0.778 total time=   0.1s\n",
      "[CV 3/5] END svc__C=0.01, svc__degree=3, svc__gamma=1.0, svc__kernel=linear;, score=0.690 total time=   0.1s\n",
      "[CV 4/5] END svc__C=0.01, svc__degree=3, svc__gamma=1.0, svc__kernel=linear;, score=0.728 total time=   0.0s\n",
      "[CV 5/5] END svc__C=0.01, svc__degree=3, svc__gamma=1.0, svc__kernel=linear;, score=0.792 total time=   0.1s\n",
      "[CV 1/5] END svc__C=0.01, svc__degree=2, svc__gamma=0.3, svc__kernel=linear;, score=0.825 total time=   0.0s\n",
      "[CV 2/5] END svc__C=0.01, svc__degree=2, svc__gamma=0.3, svc__kernel=linear;, score=0.778 total time=   0.0s\n",
      "[CV 3/5] END svc__C=0.01, svc__degree=2, svc__gamma=0.3, svc__kernel=linear;, score=0.690 total time=   0.1s\n",
      "[CV 4/5] END svc__C=0.01, svc__degree=2, svc__gamma=0.3, svc__kernel=linear;, score=0.728 total time=   0.0s\n",
      "[CV 3/5] END svc__C=0.1, svc__degree=3, svc__gamma=0.1, svc__kernel=linear;, score=0.714 total time=   0.0s\n",
      "[CV 4/5] END svc__C=0.1, svc__degree=3, svc__gamma=0.1, svc__kernel=linear;, score=0.728 total time=   0.1s\n",
      "[CV 5/5] END svc__C=0.1, svc__degree=3, svc__gamma=0.1, svc__kernel=linear;, score=0.808 total time=   0.1s\n",
      "[CV 1/5] END svc__C=0.01, svc__degree=3, svc__gamma=0.01, svc__kernel=linear;, score=0.825 total time=   0.1s\n",
      "[CV 1/5] END svc__C=100, svc__degree=2, svc__gamma=0.03, svc__kernel=rbf;, score=0.825 total time=   0.1s\n",
      "[CV 2/5] END svc__C=100, svc__degree=2, svc__gamma=0.03, svc__kernel=rbf;, score=0.794 total time=   0.1s\n",
      "[CV 3/5] END svc__C=100, svc__degree=2, svc__gamma=0.03, svc__kernel=rbf;, score=0.730 total time=   0.1s\n",
      "[CV 4/5] END svc__C=100, svc__degree=2, svc__gamma=0.03, svc__kernel=rbf;, score=0.800 total time=   0.1s\n",
      "[CV 3/5] END svc__C=10, svc__degree=2, svc__gamma=0.01, svc__kernel=rbf;, score=0.730 total time=   0.0s\n",
      "[CV 4/5] END svc__C=10, svc__degree=2, svc__gamma=0.01, svc__kernel=rbf;, score=0.744 total time=   0.1s\n",
      "[CV 5/5] END svc__C=10, svc__degree=2, svc__gamma=0.01, svc__kernel=rbf;, score=0.824 total time=   0.1s\n",
      "[CV 1/5] END svc__C=0.1, svc__degree=3, svc__gamma=0.01, svc__kernel=rbf;, score=0.802 total time=   0.1s\n",
      "[CV 2/5] END svc__C=0.1, svc__degree=3, svc__gamma=0.01, svc__kernel=rbf;, score=0.730 total time=   0.1s\n",
      "[CV 3/5] END svc__C=0.1, svc__degree=3, svc__gamma=0.01, svc__kernel=rbf;, score=0.706 total time=   0.1s\n",
      "[CV 4/5] END svc__C=0.1, svc__degree=3, svc__gamma=0.01, svc__kernel=rbf;, score=0.696 total time=   0.1s\n",
      "[CV 5/5] END svc__C=0.1, svc__degree=3, svc__gamma=0.01, svc__kernel=rbf;, score=0.800 total time=   0.2s\n",
      "[CV 1/5] END svc__C=10, svc__degree=3, svc__gamma=1.0, svc__kernel=poly;, score=0.770 total time= 1.2min\n",
      "[CV 2/5] END svc__C=10, svc__degree=3, svc__gamma=1.0, svc__kernel=poly;, score=0.659 total time=  35.2s\n",
      "[CV 3/5] END svc__C=10, svc__degree=3, svc__gamma=1.0, svc__kernel=poly;, score=0.667 total time=  12.5s\n",
      "[CV 4/5] END svc__C=10, svc__degree=3, svc__gamma=1.0, svc__kernel=poly;, score=0.704 total time=  15.2s\n",
      "[CV 1/5] END svc__C=10, svc__degree=3, svc__gamma=0.1, svc__kernel=linear;, score=0.810 total time=   0.1s\n",
      "[CV 2/5] END svc__C=10, svc__degree=3, svc__gamma=0.1, svc__kernel=linear;, score=0.762 total time=   0.1s\n",
      "[CV 3/5] END svc__C=10, svc__degree=3, svc__gamma=0.1, svc__kernel=linear;, score=0.706 total time=   0.1s\n",
      "[CV 4/5] END svc__C=10, svc__degree=3, svc__gamma=0.1, svc__kernel=linear;, score=0.728 total time=   0.1s\n",
      "[CV 5/5] END svc__C=10, svc__degree=3, svc__gamma=0.1, svc__kernel=linear;, score=0.816 total time=   0.1s\n",
      "[CV 1/5] END svc__C=1, svc__degree=3, svc__gamma=0.01, svc__kernel=linear;, score=0.810 total time=   0.1s\n",
      "[CV 2/5] END svc__C=1, svc__degree=3, svc__gamma=0.01, svc__kernel=linear;, score=0.762 total time=   0.1s\n",
      "[CV 3/5] END svc__C=1, svc__degree=3, svc__gamma=0.01, svc__kernel=linear;, score=0.706 total time=   0.0s\n",
      "[CV 4/5] END svc__C=1, svc__degree=3, svc__gamma=0.01, svc__kernel=linear;, score=0.728 total time=   0.0s\n",
      "[CV 5/5] END svc__C=1, svc__degree=3, svc__gamma=0.01, svc__kernel=linear;, score=0.816 total time=   0.0s\n",
      "[CV 1/5] END svc__C=0.1, svc__degree=2, svc__gamma=0.01, svc__kernel=poly;, score=0.556 total time=   0.0s\n",
      "[CV 2/5] END svc__C=0.1, svc__degree=2, svc__gamma=0.01, svc__kernel=poly;, score=0.556 total time=   0.1s\n",
      "[CV 3/5] END svc__C=0.1, svc__degree=2, svc__gamma=0.01, svc__kernel=poly;, score=0.556 total time=   0.0s\n",
      "[CV 4/5] END svc__C=0.1, svc__degree=2, svc__gamma=0.01, svc__kernel=poly;, score=0.560 total time=   0.1s\n",
      "[CV 5/5] END svc__C=0.1, svc__degree=2, svc__gamma=0.01, svc__kernel=poly;, score=0.552 total time=   0.1s\n",
      "[CV 1/5] END svc__C=100, svc__degree=3, svc__gamma=0.1, svc__kernel=rbf;, score=0.786 total time=   0.1s\n",
      "[CV 2/5] END svc__C=100, svc__degree=3, svc__gamma=0.1, svc__kernel=rbf;, score=0.722 total time=   0.1s\n",
      "[CV 3/5] END svc__C=100, svc__degree=3, svc__gamma=0.1, svc__kernel=rbf;, score=0.754 total time=   0.1s\n",
      "[CV 4/5] END svc__C=100, svc__degree=3, svc__gamma=0.1, svc__kernel=rbf;, score=0.816 total time=   0.1s\n",
      "[CV 5/5] END svc__C=100, svc__degree=3, svc__gamma=0.1, svc__kernel=rbf;, score=0.848 total time=   0.1s\n",
      "[CV 1/5] END svc__C=10, svc__degree=2, svc__gamma=0.1, svc__kernel=rbf;, score=0.857 total time=   0.1s\n",
      "[CV 2/5] END svc__C=10, svc__degree=2, svc__gamma=0.1, svc__kernel=rbf;, score=0.802 total time=   0.1s\n",
      "[CV 3/5] END svc__C=10, svc__degree=2, svc__gamma=0.1, svc__kernel=rbf;, score=0.722 total time=   0.1s\n",
      "[CV 4/5] END svc__C=10, svc__degree=2, svc__gamma=0.1, svc__kernel=rbf;, score=0.816 total time=   0.1s\n",
      "[CV 5/5] END svc__C=10, svc__degree=2, svc__gamma=0.1, svc__kernel=rbf;, score=0.848 total time=   0.1s\n"
     ]
    },
    {
     "name": "stdout",
     "output_type": "stream",
     "text": [
      "[CV 3/5] END extra_trees__max_depth=211, extra_trees__n_estimators=910;, score=0.770 total time=   2.9s\n",
      "[CV 2/5] END extra_trees__max_depth=731, extra_trees__n_estimators=2730;, score=0.825 total time=   7.1s\n",
      "[CV 1/5] END extra_trees__max_depth=495, extra_trees__n_estimators=2890;, score=0.873 total time=  10.9s\n",
      "[CV 1/5] END extra_trees__max_depth=803, extra_trees__n_estimators=2270;, score=0.897 total time=   7.7s\n",
      "[CV 1/5] END extra_trees__max_depth=547, extra_trees__n_estimators=2810;, score=0.889 total time=  20.1s\n",
      "[CV 3/5] END extra_trees__max_depth=865, extra_trees__n_estimators=410;, score=0.754 total time=   2.3s\n",
      "[CV 2/5] END extra_trees__max_depth=11, extra_trees__n_estimators=390;, score=0.817 total time=   1.8s\n",
      "[CV 3/5] END extra_trees__max_depth=797, extra_trees__n_estimators=710;, score=0.762 total time=   3.3s\n",
      "[CV 1/5] END extra_trees__max_depth=865, extra_trees__n_estimators=2510;, score=0.881 total time=  11.0s\n",
      "[CV 1/5] END extra_trees__max_depth=71, extra_trees__n_estimators=1230;, score=0.889 total time=   4.3s\n",
      "[CV 2/5] END extra_trees__max_depth=383, extra_trees__n_estimators=870;, score=0.817 total time=   2.8s\n",
      "[CV 5/5] END extra_trees__max_depth=959, extra_trees__n_estimators=1650;, score=0.864 total time=   5.6s\n",
      "[CV 3/5] END extra_trees__max_depth=37, extra_trees__n_estimators=950;, score=0.754 total time=   3.0s\n",
      "[CV 1/5] END extra_trees__max_depth=789, extra_trees__n_estimators=1010;, score=0.889 total time=   2.7s\n",
      "[CV 2/5] END extra_trees__max_depth=877, extra_trees__n_estimators=510;, score=0.833 total time=   1.9s\n",
      "[CV 4/5] END extra_trees__max_depth=477, extra_trees__n_estimators=1470;, score=0.872 total time=   4.4s\n",
      "[CV 2/5] END extra_trees__max_depth=759, extra_trees__n_estimators=730;, score=0.802 total time=   2.1s\n",
      "[CV 3/5] END extra_trees__max_depth=891, extra_trees__n_estimators=1070;, score=0.754 total time=   3.9s\n",
      "[CV 1/5] END extra_trees__max_depth=151, extra_trees__n_estimators=2890;, score=0.881 total time=  10.1s\n",
      "[CV 2/5] END extra_trees__max_depth=51, extra_trees__n_estimators=2810;, score=0.825 total time=  10.7s\n",
      "[CV 3/5] END extra_trees__max_depth=141, extra_trees__n_estimators=2550;, score=0.762 total time=  11.3s\n",
      "[CV 3/5] END extra_trees__max_depth=987, extra_trees__n_estimators=390;, score=0.738 total time=   1.8s\n",
      "[CV 4/5] END extra_trees__max_depth=573, extra_trees__n_estimators=2030;, score=0.872 total time=   9.0s\n",
      "[CV 4/5] END extra_trees__max_depth=909, extra_trees__n_estimators=970;, score=0.856 total time=   4.1s\n",
      "[CV 2/5] END extra_trees__max_depth=647, extra_trees__n_estimators=2110;, score=0.810 total time=   9.5s\n",
      "[CV 4/5] END extra_trees__max_depth=229, extra_trees__n_estimators=1190;, score=0.872 total time=   6.3s\n",
      "[CV 2/5] END extra_trees__max_depth=895, extra_trees__n_estimators=1430;, score=0.810 total time=  11.0s\n",
      "[CV 2/5] END extra_trees__max_depth=259, extra_trees__n_estimators=2150;, score=0.817 total time=  23.6s\n",
      "[CV 1/5] END extra_trees__max_depth=707, extra_trees__n_estimators=910;, score=0.881 total time=  13.5s\n",
      "[CV 2/5] END extra_trees__max_depth=543, extra_trees__n_estimators=2150;, score=0.825 total time=  21.2s\n",
      "[CV 4/5] END svc__C=0.01, svc__degree=3, svc__gamma=0.01, svc__kernel=rbf;, score=0.560 total time=   0.1s\n",
      "[CV 2/5] END svc__C=1, svc__degree=2, svc__gamma=0.1, svc__kernel=linear;, score=0.762 total time=   0.1s\n",
      "[CV 3/5] END svc__C=1, svc__degree=2, svc__gamma=0.1, svc__kernel=linear;, score=0.706 total time=   0.0s\n",
      "[CV 3/5] END svc__C=100, svc__degree=2, svc__gamma=0.01, svc__kernel=rbf;, score=0.754 total time=   0.1s\n",
      "[CV 4/5] END svc__C=100, svc__degree=2, svc__gamma=0.01, svc__kernel=rbf;, score=0.784 total time=   0.1s\n",
      "[CV 1/5] END svc__C=0.01, svc__degree=3, svc__gamma=0.1, svc__kernel=linear;, score=0.825 total time=   0.1s\n",
      "[CV 2/5] END svc__C=0.01, svc__degree=3, svc__gamma=0.1, svc__kernel=linear;, score=0.778 total time=   0.0s\n",
      "[CV 2/5] END svc__C=0.1, svc__degree=3, svc__gamma=1.0, svc__kernel=poly;, score=0.690 total time=   0.1s\n",
      "[CV 3/5] END svc__C=0.1, svc__degree=3, svc__gamma=1.0, svc__kernel=poly;, score=0.714 total time=   0.2s\n",
      "[CV 2/5] END svc__C=100, svc__degree=2, svc__gamma=3.0, svc__kernel=linear;, score=0.762 total time=   0.7s\n",
      "[CV 3/5] END svc__C=100, svc__degree=2, svc__gamma=3.0, svc__kernel=linear;, score=0.706 total time=   0.7s\n",
      "[CV 4/5] END svc__C=100, svc__degree=2, svc__gamma=3.0, svc__kernel=linear;, score=0.728 total time=   1.1s\n",
      "[CV 5/5] END svc__C=100, svc__degree=2, svc__gamma=3.0, svc__kernel=linear;, score=0.816 total time=   1.2s\n",
      "[CV 5/5] END svc__C=10, svc__degree=3, svc__gamma=1.0, svc__kernel=poly;, score=0.720 total time=  22.1s\n",
      "[CV 1/5] END svc__C=10, svc__degree=3, svc__gamma=0.01, svc__kernel=linear;, score=0.810 total time=   0.2s\n",
      "[CV 2/5] END svc__C=10, svc__degree=3, svc__gamma=0.01, svc__kernel=linear;, score=0.762 total time=   0.1s\n",
      "[CV 3/5] END svc__C=10, svc__degree=3, svc__gamma=0.01, svc__kernel=linear;, score=0.706 total time=   0.1s\n",
      "[CV 3/5] END svc__C=100, svc__degree=2, svc__gamma=3.0, svc__kernel=poly;, score=0.563 total time= 2.8min\n",
      "[CV 4/5] END extra_trees__max_depth=211, extra_trees__n_estimators=910;, score=0.872 total time=   2.8s\n",
      "[CV 4/5] END extra_trees__max_depth=11, extra_trees__n_estimators=2210;, score=0.816 total time=   5.2s\n",
      "[CV 2/5] END extra_trees__max_depth=83, extra_trees__n_estimators=2310;, score=0.817 total time=   6.4s\n",
      "[CV 1/5] END extra_trees__max_depth=589, extra_trees__n_estimators=630;, score=0.881 total time=   2.1s\n",
      "[CV 2/5] END extra_trees__max_depth=589, extra_trees__n_estimators=630;, score=0.817 total time=   4.0s\n",
      "[CV 5/5] END extra_trees__max_depth=589, extra_trees__n_estimators=630;, score=0.864 total time=   2.3s\n",
      "[CV 4/5] END extra_trees__max_depth=803, extra_trees__n_estimators=2270;, score=0.872 total time=  10.6s\n",
      "[CV 2/5] END extra_trees__max_depth=547, extra_trees__n_estimators=2810;, score=0.825 total time=  17.4s\n",
      "[CV 3/5] END extra_trees__max_depth=11, extra_trees__n_estimators=390;, score=0.762 total time=   1.8s\n",
      "[CV 4/5] END extra_trees__max_depth=797, extra_trees__n_estimators=710;, score=0.872 total time=   3.4s\n",
      "[CV 2/5] END extra_trees__max_depth=865, extra_trees__n_estimators=2510;, score=0.810 total time=  11.1s\n",
      "[CV 3/5] END extra_trees__max_depth=71, extra_trees__n_estimators=1230;, score=0.762 total time=   4.3s\n",
      "[CV 4/5] END extra_trees__max_depth=383, extra_trees__n_estimators=870;, score=0.872 total time=   2.8s\n",
      "[CV 2/5] END extra_trees__max_depth=343, extra_trees__n_estimators=170;, score=0.817 total time=   0.5s\n",
      "[CV 5/5] END extra_trees__max_depth=343, extra_trees__n_estimators=170;, score=0.880 total time=   0.6s\n",
      "[CV 3/5] END extra_trees__max_depth=245, extra_trees__n_estimators=2630;, score=0.754 total time=   8.3s\n",
      "[CV 4/5] END extra_trees__max_depth=789, extra_trees__n_estimators=1010;, score=0.872 total time=   3.2s\n",
      "[CV 3/5] END extra_trees__max_depth=477, extra_trees__n_estimators=1470;, score=0.762 total time=   4.3s\n",
      "[CV 1/5] END extra_trees__max_depth=759, extra_trees__n_estimators=730;, score=0.881 total time=   2.0s\n",
      "[CV 2/5] END extra_trees__max_depth=891, extra_trees__n_estimators=1070;, score=0.802 total time=   3.8s\n",
      "[CV 5/5] END extra_trees__max_depth=421, extra_trees__n_estimators=1030;, score=0.872 total time=   3.9s\n",
      "[CV 3/5] END extra_trees__max_depth=921, extra_trees__n_estimators=1850;, score=0.770 total time=   6.2s\n",
      "[CV 1/5] END extra_trees__max_depth=51, extra_trees__n_estimators=2810;, score=0.889 total time=  10.4s\n",
      "[CV 5/5] END extra_trees__max_depth=555, extra_trees__n_estimators=1130;, score=0.872 total time=   4.9s\n",
      "[CV 3/5] END extra_trees__max_depth=117, extra_trees__n_estimators=1850;, score=0.762 total time=   8.0s\n",
      "[CV 1/5] END extra_trees__max_depth=573, extra_trees__n_estimators=2030;, score=0.881 total time=   9.0s\n",
      "[CV 2/5] END extra_trees__max_depth=909, extra_trees__n_estimators=970;, score=0.802 total time=   4.1s\n",
      "[CV 4/5] END extra_trees__max_depth=313, extra_trees__n_estimators=1670;, score=0.864 total time=   7.1s\n",
      "[CV 3/5] END extra_trees__max_depth=229, extra_trees__n_estimators=1190;, score=0.754 total time=   6.3s\n",
      "[CV 3/5] END extra_trees__max_depth=479, extra_trees__n_estimators=1410;, score=0.770 total time=   8.8s\n",
      "[CV 1/5] END extra_trees__max_depth=927, extra_trees__n_estimators=590;, score=0.889 total time=   4.5s\n",
      "[CV 5/5] END extra_trees__max_depth=927, extra_trees__n_estimators=590;, score=0.864 total time=   7.5s\n",
      "[CV 2/5] END extra_trees__max_depth=887, extra_trees__n_estimators=2150;, score=0.810 total time=  25.2s\n",
      "[CV 5/5] END extra_trees__max_depth=707, extra_trees__n_estimators=910;, score=0.864 total time=  12.1s\n",
      "[CV 1/5] END svc__C=0.01, svc__degree=3, svc__gamma=0.01, svc__kernel=rbf;, score=0.556 total time=   0.1s\n",
      "[CV 3/5] END svc__C=100, svc__degree=2, svc__gamma=0.3, svc__kernel=linear;, score=0.706 total time=   0.6s\n",
      "[CV 2/5] END svc__C=10, svc__degree=2, svc__gamma=0.3, svc__kernel=rbf;, score=0.754 total time=   0.1s\n",
      "[CV 3/5] END svc__C=10, svc__degree=2, svc__gamma=0.3, svc__kernel=rbf;, score=0.794 total time=   0.1s\n",
      "[CV 4/5] END svc__C=10, svc__degree=3, svc__gamma=3.0, svc__kernel=rbf;, score=0.792 total time=   0.1s\n",
      "[CV 5/5] END svc__C=10, svc__degree=3, svc__gamma=3.0, svc__kernel=rbf;, score=0.896 total time=   0.1s\n",
      "[CV 1/5] END svc__C=0.1, svc__degree=2, svc__gamma=0.3, svc__kernel=linear;, score=0.825 total time=   0.0s\n",
      "[CV 2/5] END svc__C=0.1, svc__degree=2, svc__gamma=0.3, svc__kernel=linear;, score=0.754 total time=   0.1s\n",
      "[CV 5/5] END svc__C=0.1, svc__degree=2, svc__gamma=3.0, svc__kernel=linear;, score=0.808 total time=   0.0s\n",
      "[CV 1/5] END svc__C=10, svc__degree=2, svc__gamma=3.0, svc__kernel=poly;, score=0.659 total time=  25.5s\n",
      "[CV 2/5] END svc__C=10, svc__degree=2, svc__gamma=3.0, svc__kernel=poly;, score=0.683 total time=  30.9s\n",
      "[CV 3/5] END svc__C=10, svc__degree=2, svc__gamma=3.0, svc__kernel=poly;, score=0.563 total time=  21.3s\n",
      "[CV 4/5] END svc__C=100, svc__degree=2, svc__gamma=3.0, svc__kernel=poly;, score=0.592 total time= 2.3min\n"
     ]
    },
    {
     "name": "stdout",
     "output_type": "stream",
     "text": [
      "[CV 3/5] END extra_trees__max_depth=11, extra_trees__n_estimators=2210;, score=0.746 total time=   5.7s\n",
      "[CV 5/5] END extra_trees__max_depth=731, extra_trees__n_estimators=2730;, score=0.872 total time=   7.6s\n",
      "[CV 3/5] END extra_trees__max_depth=495, extra_trees__n_estimators=2890;, score=0.770 total time=  11.1s\n",
      "[CV 1/5] END extra_trees__max_depth=213, extra_trees__n_estimators=2470;, score=0.881 total time=  14.5s\n",
      "[CV 4/5] END extra_trees__max_depth=547, extra_trees__n_estimators=2810;, score=0.872 total time=  15.8s\n",
      "[CV 2/5] END extra_trees__max_depth=839, extra_trees__n_estimators=2110;, score=0.825 total time=   8.4s\n",
      "[CV 5/5] END extra_trees__max_depth=865, extra_trees__n_estimators=2510;, score=0.872 total time=  10.1s\n",
      "[CV 3/5] END extra_trees__max_depth=959, extra_trees__n_estimators=1650;, score=0.770 total time=   5.5s\n",
      "[CV 1/5] END extra_trees__max_depth=37, extra_trees__n_estimators=950;, score=0.881 total time=   3.0s\n",
      "[CV 4/5] END extra_trees__max_depth=37, extra_trees__n_estimators=950;, score=0.872 total time=   2.6s\n",
      "[CV 5/5] END extra_trees__max_depth=789, extra_trees__n_estimators=1010;, score=0.856 total time=   3.4s\n",
      "[CV 1/5] END extra_trees__max_depth=899, extra_trees__n_estimators=1710;, score=0.889 total time=   4.9s\n",
      "[CV 4/5] END extra_trees__max_depth=759, extra_trees__n_estimators=730;, score=0.864 total time=   2.1s\n",
      "[CV 5/5] END extra_trees__max_depth=891, extra_trees__n_estimators=1070;, score=0.864 total time=   4.5s\n",
      "[CV 4/5] END extra_trees__max_depth=151, extra_trees__n_estimators=2890;, score=0.872 total time=   9.9s\n",
      "[CV 5/5] END extra_trees__max_depth=51, extra_trees__n_estimators=2810;, score=0.880 total time=  10.8s\n",
      "[CV 2/5] END extra_trees__max_depth=117, extra_trees__n_estimators=1850;, score=0.810 total time=   8.5s\n",
      "[CV 5/5] END extra_trees__max_depth=117, extra_trees__n_estimators=1850;, score=0.872 total time=   8.1s\n",
      "[CV 4/5] END extra_trees__max_depth=319, extra_trees__n_estimators=950;, score=0.872 total time=   4.1s\n",
      "[CV 2/5] END extra_trees__max_depth=313, extra_trees__n_estimators=1670;, score=0.817 total time=   7.0s\n",
      "[CV 5/5] END extra_trees__max_depth=647, extra_trees__n_estimators=2110;, score=0.872 total time=  10.6s\n",
      "[CV 1/5] END extra_trees__max_depth=895, extra_trees__n_estimators=1430;, score=0.881 total time=   9.3s\n",
      "[CV 4/5] END extra_trees__max_depth=927, extra_trees__n_estimators=590;, score=0.864 total time=   6.0s\n",
      "[CV 5/5] END extra_trees__max_depth=259, extra_trees__n_estimators=2150;, score=0.872 total time=  25.2s\n",
      "[CV 3/5] END extra_trees__max_depth=707, extra_trees__n_estimators=910;, score=0.754 total time=  11.8s\n",
      "[CV 4/5] END extra_trees__max_depth=543, extra_trees__n_estimators=2150;, score=0.872 total time=  20.0s\n",
      "[CV 5/5] END svc__C=0.01, svc__degree=3, svc__gamma=0.01, svc__kernel=rbf;, score=0.552 total time=   0.1s\n",
      "[CV 2/5] END svc__C=100, svc__degree=2, svc__gamma=0.3, svc__kernel=linear;, score=0.762 total time=   0.6s\n",
      "[CV 3/5] END svc__C=10, svc__degree=2, svc__gamma=0.03, svc__kernel=poly;, score=0.540 total time=   0.1s\n",
      "[CV 4/5] END svc__C=10, svc__degree=2, svc__gamma=0.03, svc__kernel=poly;, score=0.584 total time=   0.1s\n",
      "[CV 4/5] END svc__C=10, svc__degree=2, svc__gamma=0.3, svc__kernel=rbf;, score=0.840 total time=   0.1s\n",
      "[CV 5/5] END svc__C=10, svc__degree=2, svc__gamma=0.3, svc__kernel=rbf;, score=0.888 total time=   0.1s\n",
      "[CV 1/5] END svc__C=1, svc__degree=3, svc__gamma=0.03, svc__kernel=linear;, score=0.810 total time=   0.1s\n",
      "[CV 2/5] END svc__C=1, svc__degree=3, svc__gamma=0.03, svc__kernel=linear;, score=0.762 total time=   0.1s\n",
      "[CV 1/5] END svc__C=0.1, svc__degree=2, svc__gamma=3.0, svc__kernel=linear;, score=0.825 total time=   0.0s\n",
      "[CV 2/5] END svc__C=0.1, svc__degree=2, svc__gamma=3.0, svc__kernel=linear;, score=0.754 total time=   0.0s\n",
      "[CV 3/5] END svc__C=0.1, svc__degree=2, svc__gamma=3.0, svc__kernel=linear;, score=0.714 total time=   0.1s\n",
      "[CV 4/5] END svc__C=0.1, svc__degree=2, svc__gamma=3.0, svc__kernel=linear;, score=0.728 total time=   0.0s\n",
      "[CV 3/5] END svc__C=1, svc__degree=3, svc__gamma=0.1, svc__kernel=linear;, score=0.706 total time=   0.1s\n",
      "[CV 4/5] END svc__C=1, svc__degree=3, svc__gamma=0.1, svc__kernel=linear;, score=0.728 total time=   0.1s\n",
      "[CV 5/5] END svc__C=1, svc__degree=3, svc__gamma=0.1, svc__kernel=linear;, score=0.816 total time=   0.0s\n",
      "[CV 1/5] END svc__C=0.1, svc__degree=3, svc__gamma=0.01, svc__kernel=poly;, score=0.556 total time=   0.1s\n",
      "[CV 5/5] END svc__C=1, svc__degree=3, svc__gamma=0.1, svc__kernel=rbf;, score=0.832 total time=   0.1s\n",
      "[CV 1/5] END svc__C=10, svc__degree=2, svc__gamma=1.0, svc__kernel=linear;, score=0.810 total time=   0.2s\n",
      "[CV 2/5] END svc__C=10, svc__degree=2, svc__gamma=1.0, svc__kernel=linear;, score=0.762 total time=   0.1s\n",
      "[CV 3/5] END svc__C=10, svc__degree=2, svc__gamma=1.0, svc__kernel=linear;, score=0.706 total time=   0.1s\n",
      "[CV 5/5] END svc__C=0.01, svc__degree=2, svc__gamma=0.3, svc__kernel=linear;, score=0.792 total time=   0.0s\n",
      "[CV 1/5] END svc__C=100, svc__degree=3, svc__gamma=0.3, svc__kernel=rbf;, score=0.762 total time=   0.1s\n",
      "[CV 2/5] END svc__C=100, svc__degree=3, svc__gamma=0.3, svc__kernel=rbf;, score=0.778 total time=   0.1s\n",
      "[CV 3/5] END svc__C=100, svc__degree=3, svc__gamma=0.3, svc__kernel=rbf;, score=0.786 total time=   0.1s\n",
      "[CV 2/5] END svc__C=0.01, svc__degree=3, svc__gamma=0.01, svc__kernel=linear;, score=0.778 total time=   0.0s\n",
      "[CV 3/5] END svc__C=0.01, svc__degree=3, svc__gamma=0.01, svc__kernel=linear;, score=0.690 total time=   0.0s\n",
      "[CV 4/5] END svc__C=0.01, svc__degree=3, svc__gamma=0.01, svc__kernel=linear;, score=0.728 total time=   0.0s\n",
      "[CV 5/5] END svc__C=0.01, svc__degree=3, svc__gamma=0.01, svc__kernel=linear;, score=0.792 total time=   0.0s\n",
      "[CV 4/5] END svc__C=100, svc__degree=3, svc__gamma=0.3, svc__kernel=poly;, score=0.696 total time=   2.6s\n",
      "[CV 5/5] END svc__C=100, svc__degree=3, svc__gamma=0.3, svc__kernel=poly;, score=0.768 total time=   5.7s\n",
      "[CV 1/5] END svc__C=10, svc__degree=2, svc__gamma=0.01, svc__kernel=rbf;, score=0.849 total time=   0.1s\n",
      "[CV 2/5] END svc__C=10, svc__degree=2, svc__gamma=0.01, svc__kernel=rbf;, score=0.762 total time=   0.1s\n",
      "[CV 4/5] END svc__C=10, svc__degree=3, svc__gamma=0.01, svc__kernel=linear;, score=0.728 total time=   0.1s\n",
      "[CV 5/5] END svc__C=10, svc__degree=3, svc__gamma=0.01, svc__kernel=linear;, score=0.816 total time=   0.1s\n",
      "[CV 1/5] END svc__C=0.1, svc__degree=3, svc__gamma=1.0, svc__kernel=linear;, score=0.825 total time=   0.0s\n",
      "[CV 2/5] END svc__C=0.1, svc__degree=3, svc__gamma=1.0, svc__kernel=linear;, score=0.754 total time=   0.0s\n",
      "[CV 3/5] END svc__C=0.1, svc__degree=3, svc__gamma=1.0, svc__kernel=linear;, score=0.714 total time=   0.1s\n",
      "[CV 4/5] END svc__C=0.1, svc__degree=3, svc__gamma=1.0, svc__kernel=linear;, score=0.728 total time=   0.0s\n",
      "[CV 5/5] END svc__C=0.1, svc__degree=3, svc__gamma=1.0, svc__kernel=linear;, score=0.808 total time=   0.1s\n",
      "[CV 1/5] END svc__C=0.01, svc__degree=3, svc__gamma=0.3, svc__kernel=poly;, score=0.714 total time=   0.1s\n",
      "[CV 2/5] END svc__C=0.01, svc__degree=3, svc__gamma=0.3, svc__kernel=poly;, score=0.714 total time=   0.1s\n",
      "[CV 3/5] END svc__C=0.01, svc__degree=3, svc__gamma=0.3, svc__kernel=poly;, score=0.690 total time=   0.0s\n",
      "[CV 4/5] END svc__C=0.01, svc__degree=3, svc__gamma=0.3, svc__kernel=poly;, score=0.664 total time=   0.1s\n",
      "[CV 5/5] END svc__C=0.01, svc__degree=3, svc__gamma=0.3, svc__kernel=poly;, score=0.696 total time=   0.0s\n",
      "[CV 1/5] END svc__C=10, svc__degree=2, svc__gamma=0.3, svc__kernel=linear;, score=0.810 total time=   0.3s\n",
      "[CV 2/5] END svc__C=10, svc__degree=2, svc__gamma=0.3, svc__kernel=linear;, score=0.762 total time=   0.2s\n",
      "[CV 3/5] END svc__C=10, svc__degree=2, svc__gamma=0.3, svc__kernel=linear;, score=0.706 total time=   0.1s\n",
      "[CV 4/5] END svc__C=10, svc__degree=2, svc__gamma=0.3, svc__kernel=linear;, score=0.728 total time=   0.2s\n",
      "[CV 5/5] END svc__C=10, svc__degree=2, svc__gamma=0.3, svc__kernel=linear;, score=0.816 total time=   0.2s\n",
      "[CV 1/5] END svc__C=0.1, svc__degree=3, svc__gamma=0.3, svc__kernel=poly;, score=0.770 total time=   0.1s\n",
      "[CV 2/5] END svc__C=0.1, svc__degree=3, svc__gamma=0.3, svc__kernel=poly;, score=0.754 total time=   0.1s\n",
      "[CV 3/5] END svc__C=0.1, svc__degree=3, svc__gamma=0.3, svc__kernel=poly;, score=0.675 total time=   0.1s\n",
      "[CV 4/5] END svc__C=0.1, svc__degree=3, svc__gamma=0.3, svc__kernel=poly;, score=0.704 total time=   0.0s\n",
      "[CV 5/5] END svc__C=0.1, svc__degree=3, svc__gamma=0.3, svc__kernel=poly;, score=0.768 total time=   0.1s\n",
      "[CV 1/5] END svc__C=0.1, svc__degree=3, svc__gamma=1.0, svc__kernel=rbf;, score=0.556 total time=   0.1s\n",
      "[CV 2/5] END svc__C=0.1, svc__degree=3, svc__gamma=1.0, svc__kernel=rbf;, score=0.556 total time=   0.1s\n",
      "[CV 3/5] END svc__C=0.1, svc__degree=3, svc__gamma=1.0, svc__kernel=rbf;, score=0.556 total time=   0.2s\n",
      "[CV 4/5] END svc__C=0.1, svc__degree=3, svc__gamma=1.0, svc__kernel=rbf;, score=0.560 total time=   0.3s\n",
      "[CV 5/5] END svc__C=0.1, svc__degree=3, svc__gamma=1.0, svc__kernel=rbf;, score=0.552 total time=   0.2s\n",
      "[CV 1/5] END svc__C=0.01, svc__degree=3, svc__gamma=1.0, svc__kernel=rbf;, score=0.556 total time=   0.2s\n",
      "[CV 2/5] END svc__C=0.01, svc__degree=3, svc__gamma=1.0, svc__kernel=rbf;, score=0.556 total time=   0.3s\n",
      "[CV 3/5] END svc__C=0.01, svc__degree=3, svc__gamma=1.0, svc__kernel=rbf;, score=0.556 total time=   0.2s\n",
      "[CV 4/5] END svc__C=0.01, svc__degree=3, svc__gamma=1.0, svc__kernel=rbf;, score=0.560 total time=   0.2s\n",
      "[CV 5/5] END svc__C=0.01, svc__degree=3, svc__gamma=1.0, svc__kernel=rbf;, score=0.552 total time=   0.8s\n",
      "[CV 1/5] END svc__C=0.01, svc__degree=2, svc__gamma=1.0, svc__kernel=linear;, score=0.825 total time=   0.0s\n",
      "[CV 2/5] END svc__C=0.01, svc__degree=2, svc__gamma=1.0, svc__kernel=linear;, score=0.778 total time=   0.7s\n",
      "[CV 3/5] END svc__C=0.01, svc__degree=2, svc__gamma=1.0, svc__kernel=linear;, score=0.690 total time=   0.2s\n",
      "[CV 4/5] END svc__C=0.01, svc__degree=2, svc__gamma=1.0, svc__kernel=linear;, score=0.728 total time=   0.0s\n",
      "[CV 5/5] END svc__C=0.01, svc__degree=2, svc__gamma=1.0, svc__kernel=linear;, score=0.792 total time=   0.4s\n",
      "[CV 1/5] END svc__C=0.1, svc__degree=2, svc__gamma=0.03, svc__kernel=poly;, score=0.556 total time=   0.4s\n",
      "[CV 2/5] END svc__C=0.1, svc__degree=2, svc__gamma=0.03, svc__kernel=poly;, score=0.556 total time=   0.4s\n",
      "[CV 3/5] END svc__C=0.1, svc__degree=2, svc__gamma=0.03, svc__kernel=poly;, score=0.556 total time=   0.2s\n",
      "[CV 4/5] END svc__C=0.1, svc__degree=2, svc__gamma=0.03, svc__kernel=poly;, score=0.560 total time=   0.2s\n",
      "[CV 5/5] END svc__C=0.1, svc__degree=2, svc__gamma=0.03, svc__kernel=poly;, score=0.552 total time=   0.1s\n",
      "[CV 1/5] END svc__C=10, svc__degree=2, svc__gamma=3.0, svc__kernel=rbf;, score=0.651 total time=   0.2s\n",
      "[CV 2/5] END svc__C=10, svc__degree=2, svc__gamma=3.0, svc__kernel=rbf;, score=0.690 total time=   0.2s\n",
      "[CV 3/5] END svc__C=10, svc__degree=2, svc__gamma=3.0, svc__kernel=rbf;, score=0.675 total time=   0.4s\n",
      "[CV 4/5] END svc__C=10, svc__degree=2, svc__gamma=3.0, svc__kernel=rbf;, score=0.792 total time=   0.2s\n",
      "[CV 5/5] END svc__C=10, svc__degree=2, svc__gamma=3.0, svc__kernel=rbf;, score=0.896 total time=   0.2s\n",
      "[CV 1/5] END svc__C=1, svc__degree=3, svc__gamma=0.3, svc__kernel=rbf;, score=0.849 total time=   0.1s\n",
      "[CV 2/5] END svc__C=1, svc__degree=3, svc__gamma=0.3, svc__kernel=rbf;, score=0.817 total time=   0.1s\n",
      "[CV 3/5] END svc__C=1, svc__degree=3, svc__gamma=0.3, svc__kernel=rbf;, score=0.730 total time=   0.1s\n",
      "[CV 4/5] END svc__C=1, svc__degree=3, svc__gamma=0.3, svc__kernel=rbf;, score=0.792 total time=   0.3s\n",
      "[CV 5/5] END svc__C=1, svc__degree=3, svc__gamma=0.3, svc__kernel=rbf;, score=0.848 total time=   0.1s\n",
      "[CV 1/5] END svc__C=100, svc__degree=2, svc__gamma=3.0, svc__kernel=poly;, score=0.659 total time= 3.3min\n"
     ]
    },
    {
     "name": "stdout",
     "output_type": "stream",
     "text": [
      "[CV 5/5] END extra_trees__max_depth=211, extra_trees__n_estimators=910;, score=0.880 total time=   2.9s\n",
      "[CV 3/5] END extra_trees__max_depth=731, extra_trees__n_estimators=2730;, score=0.762 total time=   7.0s\n",
      "[CV 4/5] END extra_trees__max_depth=83, extra_trees__n_estimators=2310;, score=0.872 total time=   7.0s\n",
      "[CV 3/5] END extra_trees__max_depth=589, extra_trees__n_estimators=630;, score=0.778 total time=   4.1s\n",
      "[CV 2/5] END extra_trees__max_depth=803, extra_trees__n_estimators=2270;, score=0.810 total time=   7.4s\n",
      "[CV 4/5] END extra_trees__max_depth=213, extra_trees__n_estimators=2470;, score=0.872 total time=  17.3s\n",
      "[CV 3/5] END extra_trees__max_depth=897, extra_trees__n_estimators=430;, score=0.762 total time=   2.6s\n",
      "[CV 1/5] END extra_trees__max_depth=865, extra_trees__n_estimators=410;, score=0.873 total time=   2.3s\n",
      "[CV 5/5] END extra_trees__max_depth=865, extra_trees__n_estimators=410;, score=0.864 total time=   2.0s\n",
      "[CV 2/5] END extra_trees__max_depth=797, extra_trees__n_estimators=710;, score=0.833 total time=   3.2s\n",
      "[CV 4/5] END extra_trees__max_depth=839, extra_trees__n_estimators=2110;, score=0.872 total time=   8.5s\n",
      "[CV 2/5] END extra_trees__max_depth=907, extra_trees__n_estimators=390;, score=0.825 total time=   2.5s\n",
      "[CV 5/5] END extra_trees__max_depth=907, extra_trees__n_estimators=390;, score=0.864 total time=   1.6s\n",
      "[CV 1/5] END extra_trees__max_depth=717, extra_trees__n_estimators=150;, score=0.857 total time=   0.5s\n",
      "[CV 2/5] END extra_trees__max_depth=717, extra_trees__n_estimators=150;, score=0.786 total time=   0.5s\n",
      "[CV 3/5] END extra_trees__max_depth=717, extra_trees__n_estimators=150;, score=0.762 total time=   0.5s\n",
      "[CV 4/5] END extra_trees__max_depth=717, extra_trees__n_estimators=150;, score=0.872 total time=   0.6s\n",
      "[CV 5/5] END extra_trees__max_depth=717, extra_trees__n_estimators=150;, score=0.872 total time=   0.5s\n",
      "[CV 1/5] END extra_trees__max_depth=383, extra_trees__n_estimators=870;, score=0.865 total time=   2.8s\n",
      "[CV 4/5] END extra_trees__max_depth=959, extra_trees__n_estimators=1650;, score=0.872 total time=   5.5s\n",
      "[CV 2/5] END extra_trees__max_depth=37, extra_trees__n_estimators=950;, score=0.810 total time=   2.9s\n",
      "[CV 5/5] END extra_trees__max_depth=37, extra_trees__n_estimators=950;, score=0.872 total time=   2.6s\n",
      "[CV 1/5] END extra_trees__max_depth=877, extra_trees__n_estimators=510;, score=0.873 total time=   1.8s\n",
      "[CV 5/5] END extra_trees__max_depth=877, extra_trees__n_estimators=510;, score=0.872 total time=   1.8s\n",
      "[CV 3/5] END extra_trees__max_depth=899, extra_trees__n_estimators=1710;, score=0.762 total time=   4.7s\n",
      "[CV 1/5] END extra_trees__max_depth=891, extra_trees__n_estimators=1070;, score=0.889 total time=   3.4s\n",
      "[CV 4/5] END extra_trees__max_depth=421, extra_trees__n_estimators=1030;, score=0.872 total time=   4.2s\n",
      "[CV 2/5] END extra_trees__max_depth=921, extra_trees__n_estimators=1850;, score=0.817 total time=   6.2s\n",
      "[CV 5/5] END extra_trees__max_depth=921, extra_trees__n_estimators=1850;, score=0.856 total time=   6.5s\n",
      "[CV 3/5] END extra_trees__max_depth=555, extra_trees__n_estimators=1130;, score=0.762 total time=   4.6s\n",
      "[CV 2/5] END extra_trees__max_depth=141, extra_trees__n_estimators=2550;, score=0.810 total time=  11.2s\n",
      "[CV 2/5] END extra_trees__max_depth=987, extra_trees__n_estimators=390;, score=0.794 total time=   1.7s\n",
      "[CV 3/5] END extra_trees__max_depth=573, extra_trees__n_estimators=2030;, score=0.778 total time=   8.8s\n",
      "[CV 1/5] END extra_trees__max_depth=909, extra_trees__n_estimators=970;, score=0.881 total time=   4.1s\n",
      "[CV 5/5] END extra_trees__max_depth=313, extra_trees__n_estimators=1670;, score=0.864 total time=   7.1s\n",
      "[CV 2/5] END extra_trees__max_depth=229, extra_trees__n_estimators=1190;, score=0.810 total time=   6.3s\n",
      "[CV 4/5] END extra_trees__max_depth=479, extra_trees__n_estimators=1410;, score=0.872 total time=   8.9s\n",
      "[CV 2/5] END extra_trees__max_depth=927, extra_trees__n_estimators=590;, score=0.833 total time=   4.5s\n",
      "[CV 1/5] END extra_trees__max_depth=259, extra_trees__n_estimators=2150;, score=0.873 total time=  23.3s\n",
      "[CV 4/5] END extra_trees__max_depth=887, extra_trees__n_estimators=2150;, score=0.872 total time=  27.7s\n",
      "[CV 3/5] END svc__C=0.01, svc__degree=3, svc__gamma=0.01, svc__kernel=rbf;, score=0.556 total time=   0.1s\n",
      "[CV 1/5] END svc__C=1, svc__degree=2, svc__gamma=0.1, svc__kernel=linear;, score=0.810 total time=   0.0s\n",
      "[CV 1/5] END svc__C=100, svc__degree=2, svc__gamma=0.01, svc__kernel=rbf;, score=0.825 total time=   0.1s\n",
      "[CV 2/5] END svc__C=100, svc__degree=2, svc__gamma=0.01, svc__kernel=rbf;, score=0.786 total time=   0.1s\n",
      "[CV 2/5] END svc__C=0.01, svc__degree=2, svc__gamma=3.0, svc__kernel=linear;, score=0.778 total time=   0.1s\n",
      "[CV 3/5] END svc__C=0.01, svc__degree=2, svc__gamma=3.0, svc__kernel=linear;, score=0.690 total time=   0.1s\n",
      "[CV 5/5] END svc__C=0.01, svc__degree=3, svc__gamma=0.1, svc__kernel=linear;, score=0.792 total time=   0.0s\n",
      "[CV 1/5] END svc__C=0.1, svc__degree=3, svc__gamma=1.0, svc__kernel=poly;, score=0.817 total time=   0.2s\n",
      "[CV 1/5] END svc__C=10, svc__degree=2, svc__gamma=0.03, svc__kernel=poly;, score=0.595 total time=   0.1s\n",
      "[CV 2/5] END svc__C=10, svc__degree=2, svc__gamma=0.03, svc__kernel=poly;, score=0.627 total time=   0.1s\n",
      "[CV 3/5] END svc__C=1, svc__degree=3, svc__gamma=0.03, svc__kernel=linear;, score=0.706 total time=   0.0s\n",
      "[CV 4/5] END svc__C=1, svc__degree=3, svc__gamma=0.03, svc__kernel=linear;, score=0.728 total time=   0.1s\n",
      "[CV 5/5] END svc__C=1, svc__degree=3, svc__gamma=0.03, svc__kernel=linear;, score=0.816 total time=   0.1s\n",
      "[CV 1/5] END svc__C=100, svc__degree=2, svc__gamma=3.0, svc__kernel=linear;, score=0.810 total time=   1.2s\n",
      "[CV 4/5] END svc__C=100, svc__degree=3, svc__gamma=0.3, svc__kernel=rbf;, score=0.816 total time=   0.1s\n",
      "[CV 5/5] END svc__C=100, svc__degree=3, svc__gamma=0.3, svc__kernel=rbf;, score=0.888 total time=   0.1s\n",
      "[CV 1/5] END svc__C=0.1, svc__degree=3, svc__gamma=0.1, svc__kernel=linear;, score=0.825 total time=   0.0s\n",
      "[CV 2/5] END svc__C=0.1, svc__degree=3, svc__gamma=0.1, svc__kernel=linear;, score=0.754 total time=   0.1s\n",
      "[CV 5/5] END svc__C=100, svc__degree=2, svc__gamma=0.03, svc__kernel=rbf;, score=0.840 total time=   0.1s\n",
      "[CV 1/5] END svc__C=100, svc__degree=3, svc__gamma=0.3, svc__kernel=poly;, score=0.762 total time=   7.0s\n",
      "[CV 2/5] END svc__C=100, svc__degree=3, svc__gamma=0.3, svc__kernel=poly;, score=0.667 total time=   9.1s\n",
      "[CV 3/5] END svc__C=100, svc__degree=3, svc__gamma=0.3, svc__kernel=poly;, score=0.675 total time=   4.4s\n",
      "[CV 2/5] END svc__C=100, svc__degree=2, svc__gamma=3.0, svc__kernel=poly;, score=0.690 total time= 3.7min\n",
      "[CV 2/5] END extra_trees__max_depth=11, extra_trees__n_estimators=2210;, score=0.810 total time=   5.8s\n",
      "[CV 4/5] END extra_trees__max_depth=731, extra_trees__n_estimators=2730;, score=0.872 total time=   7.6s\n",
      "[CV 4/5] END extra_trees__max_depth=495, extra_trees__n_estimators=2890;, score=0.872 total time=  11.3s\n",
      "[CV 2/5] END extra_trees__max_depth=213, extra_trees__n_estimators=2470;, score=0.817 total time=  14.7s\n",
      "[CV 5/5] END extra_trees__max_depth=547, extra_trees__n_estimators=2810;, score=0.856 total time=  15.8s\n",
      "[CV 3/5] END extra_trees__max_depth=839, extra_trees__n_estimators=2110;, score=0.762 total time=   8.3s\n",
      "[CV 1/5] END extra_trees__max_depth=907, extra_trees__n_estimators=390;, score=0.865 total time=   2.5s\n",
      "[CV 4/5] END extra_trees__max_depth=907, extra_trees__n_estimators=390;, score=0.872 total time=   2.0s\n",
      "[CV 5/5] END extra_trees__max_depth=71, extra_trees__n_estimators=1230;, score=0.856 total time=   4.2s\n",
      "[CV 1/5] END extra_trees__max_depth=959, extra_trees__n_estimators=1650;, score=0.881 total time=   5.3s\n",
      "[CV 4/5] END extra_trees__max_depth=245, extra_trees__n_estimators=2630;, score=0.872 total time=   8.1s\n",
      "[CV 3/5] END extra_trees__max_depth=877, extra_trees__n_estimators=510;, score=0.762 total time=   1.9s\n",
      "[CV 5/5] END extra_trees__max_depth=477, extra_trees__n_estimators=1470;, score=0.872 total time=   4.4s\n",
      "[CV 3/5] END extra_trees__max_depth=759, extra_trees__n_estimators=730;, score=0.754 total time=   2.0s\n",
      "[CV 4/5] END extra_trees__max_depth=891, extra_trees__n_estimators=1070;, score=0.872 total time=   4.1s\n",
      "[CV 2/5] END extra_trees__max_depth=151, extra_trees__n_estimators=2890;, score=0.817 total time=  10.0s\n",
      "[CV 3/5] END extra_trees__max_depth=51, extra_trees__n_estimators=2810;, score=0.770 total time=  10.6s\n",
      "[CV 4/5] END extra_trees__max_depth=141, extra_trees__n_estimators=2550;, score=0.872 total time=  11.3s\n",
      "[CV 4/5] END extra_trees__max_depth=987, extra_trees__n_estimators=390;, score=0.872 total time=   1.8s\n",
      "[CV 5/5] END extra_trees__max_depth=573, extra_trees__n_estimators=2030;, score=0.864 total time=   8.8s\n",
      "[CV 5/5] END extra_trees__max_depth=909, extra_trees__n_estimators=970;, score=0.856 total time=   4.1s\n",
      "[CV 3/5] END extra_trees__max_depth=647, extra_trees__n_estimators=2110;, score=0.770 total time=   9.5s\n",
      "[CV 1/5] END extra_trees__max_depth=479, extra_trees__n_estimators=1410;, score=0.865 total time=   8.3s\n",
      "[CV 4/5] END extra_trees__max_depth=895, extra_trees__n_estimators=1430;, score=0.872 total time=  12.9s\n",
      "[CV 1/5] END extra_trees__max_depth=887, extra_trees__n_estimators=2150;, score=0.873 total time=  25.3s\n",
      "[CV 4/5] END extra_trees__max_depth=707, extra_trees__n_estimators=910;, score=0.880 total time=  11.5s\n",
      "[CV 5/5] END extra_trees__max_depth=543, extra_trees__n_estimators=2150;, score=0.864 total time=  19.1s\n",
      "[CV 2/5] END svc__C=0.1, svc__degree=2, svc__gamma=0.1, svc__kernel=linear;, score=0.754 total time=   0.0s\n",
      "[CV 4/5] END svc__C=0.1, svc__degree=2, svc__gamma=0.1, svc__kernel=linear;, score=0.728 total time=   0.0s\n",
      "[CV 4/5] END svc__C=1, svc__degree=2, svc__gamma=0.1, svc__kernel=linear;, score=0.728 total time=   0.1s\n",
      "[CV 5/5] END svc__C=1, svc__degree=2, svc__gamma=0.1, svc__kernel=linear;, score=0.816 total time=   0.0s\n",
      "[CV 5/5] END svc__C=100, svc__degree=2, svc__gamma=0.01, svc__kernel=rbf;, score=0.848 total time=   0.1s\n",
      "[CV 1/5] END svc__C=0.01, svc__degree=2, svc__gamma=3.0, svc__kernel=linear;, score=0.825 total time=   0.1s\n",
      "[CV 4/5] END svc__C=0.01, svc__degree=2, svc__gamma=3.0, svc__kernel=linear;, score=0.728 total time=   0.1s\n",
      "[CV 5/5] END svc__C=0.01, svc__degree=2, svc__gamma=3.0, svc__kernel=linear;, score=0.792 total time=   0.0s\n",
      "[CV 3/5] END svc__C=0.01, svc__degree=3, svc__gamma=0.1, svc__kernel=linear;, score=0.690 total time=   0.1s\n",
      "[CV 4/5] END svc__C=0.01, svc__degree=3, svc__gamma=0.1, svc__kernel=linear;, score=0.728 total time=   0.0s\n",
      "[CV 4/5] END svc__C=0.1, svc__degree=3, svc__gamma=1.0, svc__kernel=poly;, score=0.696 total time=   0.1s\n",
      "[CV 5/5] END svc__C=0.1, svc__degree=3, svc__gamma=1.0, svc__kernel=poly;, score=0.760 total time=   0.2s\n",
      "[CV 5/5] END svc__C=0.1, svc__degree=3, svc__gamma=3.0, svc__kernel=linear;, score=0.808 total time=   0.0s\n",
      "[CV 1/5] END svc__C=10, svc__degree=3, svc__gamma=3.0, svc__kernel=rbf;, score=0.651 total time=   0.1s\n",
      "[CV 2/5] END svc__C=10, svc__degree=3, svc__gamma=3.0, svc__kernel=rbf;, score=0.690 total time=   0.2s\n",
      "[CV 3/5] END svc__C=10, svc__degree=3, svc__gamma=3.0, svc__kernel=rbf;, score=0.675 total time=   0.1s\n",
      "[CV 4/5] END svc__C=10, svc__degree=2, svc__gamma=3.0, svc__kernel=poly;, score=0.592 total time=  28.2s\n",
      "[CV 5/5] END svc__C=10, svc__degree=2, svc__gamma=3.0, svc__kernel=poly;, score=0.664 total time=  51.5s\n",
      "[CV 1/5] END svc__C=1, svc__degree=3, svc__gamma=0.1, svc__kernel=linear;, score=0.810 total time=   0.1s\n",
      "[CV 2/5] END svc__C=1, svc__degree=3, svc__gamma=0.1, svc__kernel=linear;, score=0.762 total time=   0.0s\n",
      "[CV 5/5] END svc__C=100, svc__degree=2, svc__gamma=3.0, svc__kernel=poly;, score=0.664 total time= 3.0min\n"
     ]
    },
    {
     "data": {
      "text/html": [
       "<style>#sk-container-id-6 {color: black;background-color: white;}#sk-container-id-6 pre{padding: 0;}#sk-container-id-6 div.sk-toggleable {background-color: white;}#sk-container-id-6 label.sk-toggleable__label {cursor: pointer;display: block;width: 100%;margin-bottom: 0;padding: 0.3em;box-sizing: border-box;text-align: center;}#sk-container-id-6 label.sk-toggleable__label-arrow:before {content: \"▸\";float: left;margin-right: 0.25em;color: #696969;}#sk-container-id-6 label.sk-toggleable__label-arrow:hover:before {color: black;}#sk-container-id-6 div.sk-estimator:hover label.sk-toggleable__label-arrow:before {color: black;}#sk-container-id-6 div.sk-toggleable__content {max-height: 0;max-width: 0;overflow: hidden;text-align: left;background-color: #f0f8ff;}#sk-container-id-6 div.sk-toggleable__content pre {margin: 0.2em;color: black;border-radius: 0.25em;background-color: #f0f8ff;}#sk-container-id-6 input.sk-toggleable__control:checked~div.sk-toggleable__content {max-height: 200px;max-width: 100%;overflow: auto;}#sk-container-id-6 input.sk-toggleable__control:checked~label.sk-toggleable__label-arrow:before {content: \"▾\";}#sk-container-id-6 div.sk-estimator input.sk-toggleable__control:checked~label.sk-toggleable__label {background-color: #d4ebff;}#sk-container-id-6 div.sk-label input.sk-toggleable__control:checked~label.sk-toggleable__label {background-color: #d4ebff;}#sk-container-id-6 input.sk-hidden--visually {border: 0;clip: rect(1px 1px 1px 1px);clip: rect(1px, 1px, 1px, 1px);height: 1px;margin: -1px;overflow: hidden;padding: 0;position: absolute;width: 1px;}#sk-container-id-6 div.sk-estimator {font-family: monospace;background-color: #f0f8ff;border: 1px dotted black;border-radius: 0.25em;box-sizing: border-box;margin-bottom: 0.5em;}#sk-container-id-6 div.sk-estimator:hover {background-color: #d4ebff;}#sk-container-id-6 div.sk-parallel-item::after {content: \"\";width: 100%;border-bottom: 1px solid gray;flex-grow: 1;}#sk-container-id-6 div.sk-label:hover label.sk-toggleable__label {background-color: #d4ebff;}#sk-container-id-6 div.sk-serial::before {content: \"\";position: absolute;border-left: 1px solid gray;box-sizing: border-box;top: 0;bottom: 0;left: 50%;z-index: 0;}#sk-container-id-6 div.sk-serial {display: flex;flex-direction: column;align-items: center;background-color: white;padding-right: 0.2em;padding-left: 0.2em;position: relative;}#sk-container-id-6 div.sk-item {position: relative;z-index: 1;}#sk-container-id-6 div.sk-parallel {display: flex;align-items: stretch;justify-content: center;background-color: white;position: relative;}#sk-container-id-6 div.sk-item::before, #sk-container-id-6 div.sk-parallel-item::before {content: \"\";position: absolute;border-left: 1px solid gray;box-sizing: border-box;top: 0;bottom: 0;left: 50%;z-index: -1;}#sk-container-id-6 div.sk-parallel-item {display: flex;flex-direction: column;z-index: 1;position: relative;background-color: white;}#sk-container-id-6 div.sk-parallel-item:first-child::after {align-self: flex-end;width: 50%;}#sk-container-id-6 div.sk-parallel-item:last-child::after {align-self: flex-start;width: 50%;}#sk-container-id-6 div.sk-parallel-item:only-child::after {width: 0;}#sk-container-id-6 div.sk-dashed-wrapped {border: 1px dashed gray;margin: 0 0.4em 0.5em 0.4em;box-sizing: border-box;padding-bottom: 0.4em;background-color: white;}#sk-container-id-6 div.sk-label label {font-family: monospace;font-weight: bold;display: inline-block;line-height: 1.2em;}#sk-container-id-6 div.sk-label-container {text-align: center;}#sk-container-id-6 div.sk-container {/* jupyter's `normalize.less` sets `[hidden] { display: none; }` but bootstrap.min.css set `[hidden] { display: none !important; }` so we also need the `!important` here to be able to override the default hidden behavior on the sphinx rendered scikit-learn.org. See: https://github.com/scikit-learn/scikit-learn/issues/21755 */display: inline-block !important;position: relative;}#sk-container-id-6 div.sk-text-repr-fallback {display: none;}</style><div id=\"sk-container-id-6\" class=\"sk-top-container\"><div class=\"sk-text-repr-fallback\"><pre>RandomizedSearchCV(cv=5,\n",
       "                   estimator=Pipeline(steps=[(&#x27;tranformer&#x27;, StandardScaler()),\n",
       "                                             (&#x27;svc&#x27;, SVC())]),\n",
       "                   n_iter=50, n_jobs=-1,\n",
       "                   param_distributions={&#x27;svc__C&#x27;: [0.01, 0.1, 1, 10, 100],\n",
       "                                        &#x27;svc__degree&#x27;: [2, 3],\n",
       "                                        &#x27;svc__gamma&#x27;: [0.01, 0.03, 0.1, 0.3,\n",
       "                                                       1.0, 3.0],\n",
       "                                        &#x27;svc__kernel&#x27;: [&#x27;linear&#x27;, &#x27;rbf&#x27;,\n",
       "                                                        &#x27;poly&#x27;]},\n",
       "                   random_state=42, scoring=&#x27;accuracy&#x27;, verbose=3)</pre><b>In a Jupyter environment, please rerun this cell to show the HTML representation or trust the notebook. <br />On GitHub, the HTML representation is unable to render, please try loading this page with nbviewer.org.</b></div><div class=\"sk-container\" hidden><div class=\"sk-item sk-dashed-wrapped\"><div class=\"sk-label-container\"><div class=\"sk-label sk-toggleable\"><input class=\"sk-toggleable__control sk-hidden--visually\" id=\"sk-estimator-id-17\" type=\"checkbox\" ><label for=\"sk-estimator-id-17\" class=\"sk-toggleable__label sk-toggleable__label-arrow\">RandomizedSearchCV</label><div class=\"sk-toggleable__content\"><pre>RandomizedSearchCV(cv=5,\n",
       "                   estimator=Pipeline(steps=[(&#x27;tranformer&#x27;, StandardScaler()),\n",
       "                                             (&#x27;svc&#x27;, SVC())]),\n",
       "                   n_iter=50, n_jobs=-1,\n",
       "                   param_distributions={&#x27;svc__C&#x27;: [0.01, 0.1, 1, 10, 100],\n",
       "                                        &#x27;svc__degree&#x27;: [2, 3],\n",
       "                                        &#x27;svc__gamma&#x27;: [0.01, 0.03, 0.1, 0.3,\n",
       "                                                       1.0, 3.0],\n",
       "                                        &#x27;svc__kernel&#x27;: [&#x27;linear&#x27;, &#x27;rbf&#x27;,\n",
       "                                                        &#x27;poly&#x27;]},\n",
       "                   random_state=42, scoring=&#x27;accuracy&#x27;, verbose=3)</pre></div></div></div><div class=\"sk-parallel\"><div class=\"sk-parallel-item\"><div class=\"sk-item\"><div class=\"sk-label-container\"><div class=\"sk-label sk-toggleable\"><input class=\"sk-toggleable__control sk-hidden--visually\" id=\"sk-estimator-id-18\" type=\"checkbox\" ><label for=\"sk-estimator-id-18\" class=\"sk-toggleable__label sk-toggleable__label-arrow\">estimator: Pipeline</label><div class=\"sk-toggleable__content\"><pre>Pipeline(steps=[(&#x27;tranformer&#x27;, StandardScaler()), (&#x27;svc&#x27;, SVC())])</pre></div></div></div><div class=\"sk-serial\"><div class=\"sk-item\"><div class=\"sk-serial\"><div class=\"sk-item\"><div class=\"sk-estimator sk-toggleable\"><input class=\"sk-toggleable__control sk-hidden--visually\" id=\"sk-estimator-id-19\" type=\"checkbox\" ><label for=\"sk-estimator-id-19\" class=\"sk-toggleable__label sk-toggleable__label-arrow\">StandardScaler</label><div class=\"sk-toggleable__content\"><pre>StandardScaler()</pre></div></div></div><div class=\"sk-item\"><div class=\"sk-estimator sk-toggleable\"><input class=\"sk-toggleable__control sk-hidden--visually\" id=\"sk-estimator-id-20\" type=\"checkbox\" ><label for=\"sk-estimator-id-20\" class=\"sk-toggleable__label sk-toggleable__label-arrow\">SVC</label><div class=\"sk-toggleable__content\"><pre>SVC()</pre></div></div></div></div></div></div></div></div></div></div></div></div>"
      ],
      "text/plain": [
       "RandomizedSearchCV(cv=5,\n",
       "                   estimator=Pipeline(steps=[('tranformer', StandardScaler()),\n",
       "                                             ('svc', SVC())]),\n",
       "                   n_iter=50, n_jobs=-1,\n",
       "                   param_distributions={'svc__C': [0.01, 0.1, 1, 10, 100],\n",
       "                                        'svc__degree': [2, 3],\n",
       "                                        'svc__gamma': [0.01, 0.03, 0.1, 0.3,\n",
       "                                                       1.0, 3.0],\n",
       "                                        'svc__kernel': ['linear', 'rbf',\n",
       "                                                        'poly']},\n",
       "                   random_state=42, scoring='accuracy', verbose=3)"
      ]
     },
     "execution_count": 94,
     "metadata": {},
     "output_type": "execute_result"
    }
   ],
   "source": [
    "rand_gridsearch_svc.fit(X_train_bruno_sm, y_train_bruno_sm)"
   ]
  },
  {
   "cell_type": "code",
   "execution_count": 95,
   "metadata": {},
   "outputs": [
    {
     "name": "stdout",
     "output_type": "stream",
     "text": [
      "tuned hpyerparameters :(best parameters) \n",
      " {'svc__kernel': 'rbf', 'svc__gamma': 0.3, 'svc__degree': 2, 'svc__C': 10}\n"
     ]
    }
   ],
   "source": [
    "# Best hyperparameters\n",
    "print(\"tuned hpyerparameters :(best parameters) \\n\", rand_gridsearch_svc.best_params_)"
   ]
  },
  {
   "cell_type": "code",
   "execution_count": 96,
   "metadata": {},
   "outputs": [],
   "source": [
    "# Store the best model\n",
    "best_model_svc = rand_gridsearch_svc.best_estimator_"
   ]
  },
  {
   "cell_type": "code",
   "execution_count": 97,
   "metadata": {},
   "outputs": [],
   "source": [
    "# Make new predictions with the tuned model\n",
    "svc_pred = best_model_svc.predict(X_test_bruno)"
   ]
  },
  {
   "cell_type": "code",
   "execution_count": 98,
   "metadata": {},
   "outputs": [
    {
     "data": {
      "text/plain": [
       "0.6666666666666666"
      ]
     },
     "execution_count": 98,
     "metadata": {},
     "output_type": "execute_result"
    }
   ],
   "source": [
    "best_model_svc.score(X_test_bruno, y_test_bruno)"
   ]
  },
  {
   "cell_type": "code",
   "execution_count": 99,
   "metadata": {},
   "outputs": [
    {
     "name": "stdout",
     "output_type": "stream",
     "text": [
      "\t\tClassification Report - Tuned SVC\n",
      "\n",
      "               precision    recall  f1-score   support\n",
      "\n",
      "           0       0.75      0.74      0.74       151\n",
      "           1       0.52      0.54      0.53        80\n",
      "\n",
      "    accuracy                           0.67       231\n",
      "   macro avg       0.63      0.64      0.64       231\n",
      "weighted avg       0.67      0.67      0.67       231\n",
      "\n"
     ]
    }
   ],
   "source": [
    "# Print the classification report\n",
    "print('\\t\\tClassification Report - Tuned SVC\\n\\n', classification_report(y_test_bruno, svc_pred))"
   ]
  },
  {
   "cell_type": "markdown",
   "metadata": {},
   "source": [
    "### Experimenting with Logistic Regression"
   ]
  },
  {
   "cell_type": "code",
   "execution_count": 100,
   "metadata": {},
   "outputs": [],
   "source": [
    "log = LogisticRegression()"
   ]
  },
  {
   "cell_type": "code",
   "execution_count": 101,
   "metadata": {},
   "outputs": [],
   "source": [
    "pipeline1_log = Pipeline([\n",
    "    ('tranformer', transformer_bruno),\n",
    "    ('log', log)\n",
    "    ])"
   ]
  },
  {
   "cell_type": "code",
   "execution_count": 102,
   "metadata": {},
   "outputs": [],
   "source": [
    "# Dictionary with parameters names (str) as keys and lists of parameter settings to try as values.\n",
    "param_grid_log = {'log__penalty': ['l1', 'l2', 'elasticnet'],\n",
    "                  'log__C': [0.01, 0.1, 1, 10, 100],\n",
    "                  'log__solver': ['newton-cg', 'lbfgs', 'liblinear', 'saga']}"
   ]
  },
  {
   "cell_type": "code",
   "execution_count": 103,
   "metadata": {},
   "outputs": [],
   "source": [
    "rand_gridsearch_log = RandomizedSearchCV(estimator = pipeline1_log,\n",
    "                                       param_distributions = param_grid_log,\n",
    "                                       scoring = 'accuracy',\n",
    "                                       cv = 5,\n",
    "                                       n_iter = 50,\n",
    "                                       refit = True,\n",
    "                                       n_jobs = -1,\n",
    "                                       verbose = 3,\n",
    "                                       random_state = 42)"
   ]
  },
  {
   "cell_type": "code",
   "execution_count": 104,
   "metadata": {},
   "outputs": [
    {
     "name": "stdout",
     "output_type": "stream",
     "text": [
      "Fitting 5 folds for each of 50 candidates, totalling 250 fits\n"
     ]
    },
    {
     "name": "stderr",
     "output_type": "stream",
     "text": [
      "/Users/brunomorgado/Dropbox/Bruno_Morgado/Education/Mac_Education/Centennial_College/Fourth_Semester/Supervised_learning/Assignments/Assignment4/BrunoMorgado_EnsembleLearning/conda-env/lib/python3.10/site-packages/sklearn/model_selection/_validation.py:378: FitFailedWarning: \n",
      "135 fits failed out of a total of 250.\n",
      "The score on these train-test partitions for these parameters will be set to nan.\n",
      "If these failures are not expected, you can try to debug them by setting error_score='raise'.\n",
      "\n",
      "Below are more details about the failures:\n",
      "--------------------------------------------------------------------------------\n",
      "25 fits failed with the following error:\n",
      "Traceback (most recent call last):\n",
      "  File \"/Users/brunomorgado/Dropbox/Bruno_Morgado/Education/Mac_Education/Centennial_College/Fourth_Semester/Supervised_learning/Assignments/Assignment4/BrunoMorgado_EnsembleLearning/conda-env/lib/python3.10/site-packages/sklearn/model_selection/_validation.py\", line 686, in _fit_and_score\n",
      "    estimator.fit(X_train, y_train, **fit_params)\n",
      "  File \"/Users/brunomorgado/Dropbox/Bruno_Morgado/Education/Mac_Education/Centennial_College/Fourth_Semester/Supervised_learning/Assignments/Assignment4/BrunoMorgado_EnsembleLearning/conda-env/lib/python3.10/site-packages/sklearn/pipeline.py\", line 382, in fit\n",
      "    self._final_estimator.fit(Xt, y, **fit_params_last_step)\n",
      "  File \"/Users/brunomorgado/Dropbox/Bruno_Morgado/Education/Mac_Education/Centennial_College/Fourth_Semester/Supervised_learning/Assignments/Assignment4/BrunoMorgado_EnsembleLearning/conda-env/lib/python3.10/site-packages/sklearn/linear_model/_logistic.py\", line 1091, in fit\n",
      "    solver = _check_solver(self.solver, self.penalty, self.dual)\n",
      "  File \"/Users/brunomorgado/Dropbox/Bruno_Morgado/Education/Mac_Education/Centennial_College/Fourth_Semester/Supervised_learning/Assignments/Assignment4/BrunoMorgado_EnsembleLearning/conda-env/lib/python3.10/site-packages/sklearn/linear_model/_logistic.py\", line 61, in _check_solver\n",
      "    raise ValueError(\n",
      "ValueError: Solver newton-cg supports only 'l2' or 'none' penalties, got l1 penalty.\n",
      "\n",
      "--------------------------------------------------------------------------------\n",
      "25 fits failed with the following error:\n",
      "Traceback (most recent call last):\n",
      "  File \"/Users/brunomorgado/Dropbox/Bruno_Morgado/Education/Mac_Education/Centennial_College/Fourth_Semester/Supervised_learning/Assignments/Assignment4/BrunoMorgado_EnsembleLearning/conda-env/lib/python3.10/site-packages/sklearn/model_selection/_validation.py\", line 686, in _fit_and_score\n",
      "    estimator.fit(X_train, y_train, **fit_params)\n",
      "  File \"/Users/brunomorgado/Dropbox/Bruno_Morgado/Education/Mac_Education/Centennial_College/Fourth_Semester/Supervised_learning/Assignments/Assignment4/BrunoMorgado_EnsembleLearning/conda-env/lib/python3.10/site-packages/sklearn/pipeline.py\", line 382, in fit\n",
      "    self._final_estimator.fit(Xt, y, **fit_params_last_step)\n",
      "  File \"/Users/brunomorgado/Dropbox/Bruno_Morgado/Education/Mac_Education/Centennial_College/Fourth_Semester/Supervised_learning/Assignments/Assignment4/BrunoMorgado_EnsembleLearning/conda-env/lib/python3.10/site-packages/sklearn/linear_model/_logistic.py\", line 1091, in fit\n",
      "    solver = _check_solver(self.solver, self.penalty, self.dual)\n",
      "  File \"/Users/brunomorgado/Dropbox/Bruno_Morgado/Education/Mac_Education/Centennial_College/Fourth_Semester/Supervised_learning/Assignments/Assignment4/BrunoMorgado_EnsembleLearning/conda-env/lib/python3.10/site-packages/sklearn/linear_model/_logistic.py\", line 61, in _check_solver\n",
      "    raise ValueError(\n",
      "ValueError: Solver lbfgs supports only 'l2' or 'none' penalties, got elasticnet penalty.\n",
      "\n",
      "--------------------------------------------------------------------------------\n",
      "25 fits failed with the following error:\n",
      "Traceback (most recent call last):\n",
      "  File \"/Users/brunomorgado/Dropbox/Bruno_Morgado/Education/Mac_Education/Centennial_College/Fourth_Semester/Supervised_learning/Assignments/Assignment4/BrunoMorgado_EnsembleLearning/conda-env/lib/python3.10/site-packages/sklearn/model_selection/_validation.py\", line 686, in _fit_and_score\n",
      "    estimator.fit(X_train, y_train, **fit_params)\n",
      "  File \"/Users/brunomorgado/Dropbox/Bruno_Morgado/Education/Mac_Education/Centennial_College/Fourth_Semester/Supervised_learning/Assignments/Assignment4/BrunoMorgado_EnsembleLearning/conda-env/lib/python3.10/site-packages/sklearn/pipeline.py\", line 382, in fit\n",
      "    self._final_estimator.fit(Xt, y, **fit_params_last_step)\n",
      "  File \"/Users/brunomorgado/Dropbox/Bruno_Morgado/Education/Mac_Education/Centennial_College/Fourth_Semester/Supervised_learning/Assignments/Assignment4/BrunoMorgado_EnsembleLearning/conda-env/lib/python3.10/site-packages/sklearn/linear_model/_logistic.py\", line 1091, in fit\n",
      "    solver = _check_solver(self.solver, self.penalty, self.dual)\n",
      "  File \"/Users/brunomorgado/Dropbox/Bruno_Morgado/Education/Mac_Education/Centennial_College/Fourth_Semester/Supervised_learning/Assignments/Assignment4/BrunoMorgado_EnsembleLearning/conda-env/lib/python3.10/site-packages/sklearn/linear_model/_logistic.py\", line 61, in _check_solver\n",
      "    raise ValueError(\n",
      "ValueError: Solver lbfgs supports only 'l2' or 'none' penalties, got l1 penalty.\n",
      "\n",
      "--------------------------------------------------------------------------------\n",
      "20 fits failed with the following error:\n",
      "Traceback (most recent call last):\n",
      "  File \"/Users/brunomorgado/Dropbox/Bruno_Morgado/Education/Mac_Education/Centennial_College/Fourth_Semester/Supervised_learning/Assignments/Assignment4/BrunoMorgado_EnsembleLearning/conda-env/lib/python3.10/site-packages/sklearn/model_selection/_validation.py\", line 686, in _fit_and_score\n",
      "    estimator.fit(X_train, y_train, **fit_params)\n",
      "  File \"/Users/brunomorgado/Dropbox/Bruno_Morgado/Education/Mac_Education/Centennial_College/Fourth_Semester/Supervised_learning/Assignments/Assignment4/BrunoMorgado_EnsembleLearning/conda-env/lib/python3.10/site-packages/sklearn/pipeline.py\", line 382, in fit\n",
      "    self._final_estimator.fit(Xt, y, **fit_params_last_step)\n",
      "  File \"/Users/brunomorgado/Dropbox/Bruno_Morgado/Education/Mac_Education/Centennial_College/Fourth_Semester/Supervised_learning/Assignments/Assignment4/BrunoMorgado_EnsembleLearning/conda-env/lib/python3.10/site-packages/sklearn/linear_model/_logistic.py\", line 1091, in fit\n",
      "    solver = _check_solver(self.solver, self.penalty, self.dual)\n",
      "  File \"/Users/brunomorgado/Dropbox/Bruno_Morgado/Education/Mac_Education/Centennial_College/Fourth_Semester/Supervised_learning/Assignments/Assignment4/BrunoMorgado_EnsembleLearning/conda-env/lib/python3.10/site-packages/sklearn/linear_model/_logistic.py\", line 71, in _check_solver\n",
      "    raise ValueError(\n",
      "ValueError: Only 'saga' solver supports elasticnet penalty, got solver=liblinear.\n",
      "\n",
      "--------------------------------------------------------------------------------\n",
      "20 fits failed with the following error:\n",
      "Traceback (most recent call last):\n",
      "  File \"/Users/brunomorgado/Dropbox/Bruno_Morgado/Education/Mac_Education/Centennial_College/Fourth_Semester/Supervised_learning/Assignments/Assignment4/BrunoMorgado_EnsembleLearning/conda-env/lib/python3.10/site-packages/sklearn/model_selection/_validation.py\", line 686, in _fit_and_score\n",
      "    estimator.fit(X_train, y_train, **fit_params)\n",
      "  File \"/Users/brunomorgado/Dropbox/Bruno_Morgado/Education/Mac_Education/Centennial_College/Fourth_Semester/Supervised_learning/Assignments/Assignment4/BrunoMorgado_EnsembleLearning/conda-env/lib/python3.10/site-packages/sklearn/pipeline.py\", line 382, in fit\n",
      "    self._final_estimator.fit(Xt, y, **fit_params_last_step)\n",
      "  File \"/Users/brunomorgado/Dropbox/Bruno_Morgado/Education/Mac_Education/Centennial_College/Fourth_Semester/Supervised_learning/Assignments/Assignment4/BrunoMorgado_EnsembleLearning/conda-env/lib/python3.10/site-packages/sklearn/linear_model/_logistic.py\", line 1091, in fit\n",
      "    solver = _check_solver(self.solver, self.penalty, self.dual)\n",
      "  File \"/Users/brunomorgado/Dropbox/Bruno_Morgado/Education/Mac_Education/Centennial_College/Fourth_Semester/Supervised_learning/Assignments/Assignment4/BrunoMorgado_EnsembleLearning/conda-env/lib/python3.10/site-packages/sklearn/linear_model/_logistic.py\", line 61, in _check_solver\n",
      "    raise ValueError(\n",
      "ValueError: Solver newton-cg supports only 'l2' or 'none' penalties, got elasticnet penalty.\n",
      "\n",
      "--------------------------------------------------------------------------------\n",
      "20 fits failed with the following error:\n",
      "Traceback (most recent call last):\n",
      "  File \"/Users/brunomorgado/Dropbox/Bruno_Morgado/Education/Mac_Education/Centennial_College/Fourth_Semester/Supervised_learning/Assignments/Assignment4/BrunoMorgado_EnsembleLearning/conda-env/lib/python3.10/site-packages/sklearn/model_selection/_validation.py\", line 686, in _fit_and_score\n",
      "    estimator.fit(X_train, y_train, **fit_params)\n",
      "  File \"/Users/brunomorgado/Dropbox/Bruno_Morgado/Education/Mac_Education/Centennial_College/Fourth_Semester/Supervised_learning/Assignments/Assignment4/BrunoMorgado_EnsembleLearning/conda-env/lib/python3.10/site-packages/sklearn/pipeline.py\", line 382, in fit\n",
      "    self._final_estimator.fit(Xt, y, **fit_params_last_step)\n",
      "  File \"/Users/brunomorgado/Dropbox/Bruno_Morgado/Education/Mac_Education/Centennial_College/Fourth_Semester/Supervised_learning/Assignments/Assignment4/BrunoMorgado_EnsembleLearning/conda-env/lib/python3.10/site-packages/sklearn/linear_model/_logistic.py\", line 1101, in fit\n",
      "    raise ValueError(\n",
      "ValueError: l1_ratio must be between 0 and 1; got (l1_ratio=None)\n",
      "\n",
      "  warnings.warn(some_fits_failed_message, FitFailedWarning)\n",
      "/Users/brunomorgado/Dropbox/Bruno_Morgado/Education/Mac_Education/Centennial_College/Fourth_Semester/Supervised_learning/Assignments/Assignment4/BrunoMorgado_EnsembleLearning/conda-env/lib/python3.10/site-packages/sklearn/model_selection/_search.py:953: UserWarning: One or more of the test scores are non-finite: [       nan 0.74841905        nan        nan        nan 0.76434286\n",
      "        nan        nan        nan        nan        nan 0.76434286\n",
      " 0.76434286 0.69742222 0.76434286 0.76275556        nan 0.75951746\n",
      " 0.76434286 0.74841905 0.76434286 0.76275556        nan        nan\n",
      "        nan        nan 0.76275556 0.76275556        nan 0.76434286\n",
      " 0.76434286 0.76275556        nan 0.76434286        nan        nan\n",
      " 0.76434286 0.76434286        nan 0.76434286        nan        nan\n",
      "        nan 0.73088254        nan 0.76434286        nan        nan\n",
      "        nan        nan]\n",
      "  warnings.warn(\n"
     ]
    },
    {
     "data": {
      "text/html": [
       "<style>#sk-container-id-7 {color: black;background-color: white;}#sk-container-id-7 pre{padding: 0;}#sk-container-id-7 div.sk-toggleable {background-color: white;}#sk-container-id-7 label.sk-toggleable__label {cursor: pointer;display: block;width: 100%;margin-bottom: 0;padding: 0.3em;box-sizing: border-box;text-align: center;}#sk-container-id-7 label.sk-toggleable__label-arrow:before {content: \"▸\";float: left;margin-right: 0.25em;color: #696969;}#sk-container-id-7 label.sk-toggleable__label-arrow:hover:before {color: black;}#sk-container-id-7 div.sk-estimator:hover label.sk-toggleable__label-arrow:before {color: black;}#sk-container-id-7 div.sk-toggleable__content {max-height: 0;max-width: 0;overflow: hidden;text-align: left;background-color: #f0f8ff;}#sk-container-id-7 div.sk-toggleable__content pre {margin: 0.2em;color: black;border-radius: 0.25em;background-color: #f0f8ff;}#sk-container-id-7 input.sk-toggleable__control:checked~div.sk-toggleable__content {max-height: 200px;max-width: 100%;overflow: auto;}#sk-container-id-7 input.sk-toggleable__control:checked~label.sk-toggleable__label-arrow:before {content: \"▾\";}#sk-container-id-7 div.sk-estimator input.sk-toggleable__control:checked~label.sk-toggleable__label {background-color: #d4ebff;}#sk-container-id-7 div.sk-label input.sk-toggleable__control:checked~label.sk-toggleable__label {background-color: #d4ebff;}#sk-container-id-7 input.sk-hidden--visually {border: 0;clip: rect(1px 1px 1px 1px);clip: rect(1px, 1px, 1px, 1px);height: 1px;margin: -1px;overflow: hidden;padding: 0;position: absolute;width: 1px;}#sk-container-id-7 div.sk-estimator {font-family: monospace;background-color: #f0f8ff;border: 1px dotted black;border-radius: 0.25em;box-sizing: border-box;margin-bottom: 0.5em;}#sk-container-id-7 div.sk-estimator:hover {background-color: #d4ebff;}#sk-container-id-7 div.sk-parallel-item::after {content: \"\";width: 100%;border-bottom: 1px solid gray;flex-grow: 1;}#sk-container-id-7 div.sk-label:hover label.sk-toggleable__label {background-color: #d4ebff;}#sk-container-id-7 div.sk-serial::before {content: \"\";position: absolute;border-left: 1px solid gray;box-sizing: border-box;top: 0;bottom: 0;left: 50%;z-index: 0;}#sk-container-id-7 div.sk-serial {display: flex;flex-direction: column;align-items: center;background-color: white;padding-right: 0.2em;padding-left: 0.2em;position: relative;}#sk-container-id-7 div.sk-item {position: relative;z-index: 1;}#sk-container-id-7 div.sk-parallel {display: flex;align-items: stretch;justify-content: center;background-color: white;position: relative;}#sk-container-id-7 div.sk-item::before, #sk-container-id-7 div.sk-parallel-item::before {content: \"\";position: absolute;border-left: 1px solid gray;box-sizing: border-box;top: 0;bottom: 0;left: 50%;z-index: -1;}#sk-container-id-7 div.sk-parallel-item {display: flex;flex-direction: column;z-index: 1;position: relative;background-color: white;}#sk-container-id-7 div.sk-parallel-item:first-child::after {align-self: flex-end;width: 50%;}#sk-container-id-7 div.sk-parallel-item:last-child::after {align-self: flex-start;width: 50%;}#sk-container-id-7 div.sk-parallel-item:only-child::after {width: 0;}#sk-container-id-7 div.sk-dashed-wrapped {border: 1px dashed gray;margin: 0 0.4em 0.5em 0.4em;box-sizing: border-box;padding-bottom: 0.4em;background-color: white;}#sk-container-id-7 div.sk-label label {font-family: monospace;font-weight: bold;display: inline-block;line-height: 1.2em;}#sk-container-id-7 div.sk-label-container {text-align: center;}#sk-container-id-7 div.sk-container {/* jupyter's `normalize.less` sets `[hidden] { display: none; }` but bootstrap.min.css set `[hidden] { display: none !important; }` so we also need the `!important` here to be able to override the default hidden behavior on the sphinx rendered scikit-learn.org. See: https://github.com/scikit-learn/scikit-learn/issues/21755 */display: inline-block !important;position: relative;}#sk-container-id-7 div.sk-text-repr-fallback {display: none;}</style><div id=\"sk-container-id-7\" class=\"sk-top-container\"><div class=\"sk-text-repr-fallback\"><pre>RandomizedSearchCV(cv=5,\n",
       "                   estimator=Pipeline(steps=[(&#x27;tranformer&#x27;, StandardScaler()),\n",
       "                                             (&#x27;log&#x27;, LogisticRegression())]),\n",
       "                   n_iter=50, n_jobs=-1,\n",
       "                   param_distributions={&#x27;log__C&#x27;: [0.01, 0.1, 1, 10, 100],\n",
       "                                        &#x27;log__penalty&#x27;: [&#x27;l1&#x27;, &#x27;l2&#x27;,\n",
       "                                                         &#x27;elasticnet&#x27;],\n",
       "                                        &#x27;log__solver&#x27;: [&#x27;newton-cg&#x27;, &#x27;lbfgs&#x27;,\n",
       "                                                        &#x27;liblinear&#x27;, &#x27;saga&#x27;]},\n",
       "                   random_state=42, scoring=&#x27;accuracy&#x27;, verbose=3)</pre><b>In a Jupyter environment, please rerun this cell to show the HTML representation or trust the notebook. <br />On GitHub, the HTML representation is unable to render, please try loading this page with nbviewer.org.</b></div><div class=\"sk-container\" hidden><div class=\"sk-item sk-dashed-wrapped\"><div class=\"sk-label-container\"><div class=\"sk-label sk-toggleable\"><input class=\"sk-toggleable__control sk-hidden--visually\" id=\"sk-estimator-id-21\" type=\"checkbox\" ><label for=\"sk-estimator-id-21\" class=\"sk-toggleable__label sk-toggleable__label-arrow\">RandomizedSearchCV</label><div class=\"sk-toggleable__content\"><pre>RandomizedSearchCV(cv=5,\n",
       "                   estimator=Pipeline(steps=[(&#x27;tranformer&#x27;, StandardScaler()),\n",
       "                                             (&#x27;log&#x27;, LogisticRegression())]),\n",
       "                   n_iter=50, n_jobs=-1,\n",
       "                   param_distributions={&#x27;log__C&#x27;: [0.01, 0.1, 1, 10, 100],\n",
       "                                        &#x27;log__penalty&#x27;: [&#x27;l1&#x27;, &#x27;l2&#x27;,\n",
       "                                                         &#x27;elasticnet&#x27;],\n",
       "                                        &#x27;log__solver&#x27;: [&#x27;newton-cg&#x27;, &#x27;lbfgs&#x27;,\n",
       "                                                        &#x27;liblinear&#x27;, &#x27;saga&#x27;]},\n",
       "                   random_state=42, scoring=&#x27;accuracy&#x27;, verbose=3)</pre></div></div></div><div class=\"sk-parallel\"><div class=\"sk-parallel-item\"><div class=\"sk-item\"><div class=\"sk-label-container\"><div class=\"sk-label sk-toggleable\"><input class=\"sk-toggleable__control sk-hidden--visually\" id=\"sk-estimator-id-22\" type=\"checkbox\" ><label for=\"sk-estimator-id-22\" class=\"sk-toggleable__label sk-toggleable__label-arrow\">estimator: Pipeline</label><div class=\"sk-toggleable__content\"><pre>Pipeline(steps=[(&#x27;tranformer&#x27;, StandardScaler()),\n",
       "                (&#x27;log&#x27;, LogisticRegression())])</pre></div></div></div><div class=\"sk-serial\"><div class=\"sk-item\"><div class=\"sk-serial\"><div class=\"sk-item\"><div class=\"sk-estimator sk-toggleable\"><input class=\"sk-toggleable__control sk-hidden--visually\" id=\"sk-estimator-id-23\" type=\"checkbox\" ><label for=\"sk-estimator-id-23\" class=\"sk-toggleable__label sk-toggleable__label-arrow\">StandardScaler</label><div class=\"sk-toggleable__content\"><pre>StandardScaler()</pre></div></div></div><div class=\"sk-item\"><div class=\"sk-estimator sk-toggleable\"><input class=\"sk-toggleable__control sk-hidden--visually\" id=\"sk-estimator-id-24\" type=\"checkbox\" ><label for=\"sk-estimator-id-24\" class=\"sk-toggleable__label sk-toggleable__label-arrow\">LogisticRegression</label><div class=\"sk-toggleable__content\"><pre>LogisticRegression()</pre></div></div></div></div></div></div></div></div></div></div></div></div>"
      ],
      "text/plain": [
       "RandomizedSearchCV(cv=5,\n",
       "                   estimator=Pipeline(steps=[('tranformer', StandardScaler()),\n",
       "                                             ('log', LogisticRegression())]),\n",
       "                   n_iter=50, n_jobs=-1,\n",
       "                   param_distributions={'log__C': [0.01, 0.1, 1, 10, 100],\n",
       "                                        'log__penalty': ['l1', 'l2',\n",
       "                                                         'elasticnet'],\n",
       "                                        'log__solver': ['newton-cg', 'lbfgs',\n",
       "                                                        'liblinear', 'saga']},\n",
       "                   random_state=42, scoring='accuracy', verbose=3)"
      ]
     },
     "execution_count": 104,
     "metadata": {},
     "output_type": "execute_result"
    }
   ],
   "source": [
    "rand_gridsearch_log.fit(X_train_bruno_sm, y_train_bruno_sm)"
   ]
  },
  {
   "cell_type": "code",
   "execution_count": 105,
   "metadata": {},
   "outputs": [
    {
     "name": "stdout",
     "output_type": "stream",
     "text": [
      "tuned hpyerparameters :(best parameters) \n",
      " {'log__solver': 'liblinear', 'log__penalty': 'l2', 'log__C': 100}\n"
     ]
    }
   ],
   "source": [
    "# Best hyperparameters\n",
    "print(\"tuned hpyerparameters :(best parameters) \\n\", rand_gridsearch_log.best_params_)"
   ]
  },
  {
   "cell_type": "code",
   "execution_count": 106,
   "metadata": {},
   "outputs": [],
   "source": [
    "# Store the best model\n",
    "best_model_log = rand_gridsearch_log.best_estimator_"
   ]
  },
  {
   "cell_type": "code",
   "execution_count": 107,
   "metadata": {},
   "outputs": [],
   "source": [
    "# Make new predictions with the tuned model\n",
    "log_pred = best_model_log.predict(X_test_bruno)"
   ]
  },
  {
   "cell_type": "code",
   "execution_count": 108,
   "metadata": {},
   "outputs": [
    {
     "data": {
      "text/plain": [
       "0.7186147186147186"
      ]
     },
     "execution_count": 108,
     "metadata": {},
     "output_type": "execute_result"
    }
   ],
   "source": [
    "best_model_log.score(X_test_bruno, y_test_bruno)"
   ]
  },
  {
   "cell_type": "code",
   "execution_count": 109,
   "metadata": {},
   "outputs": [
    {
     "name": "stdout",
     "output_type": "stream",
     "text": [
      "\t\tClassification Report - Tuned Logistic Regression\n",
      "\n",
      "               precision    recall  f1-score   support\n",
      "\n",
      "           0       0.80      0.76      0.78       151\n",
      "           1       0.59      0.64      0.61        80\n",
      "\n",
      "    accuracy                           0.72       231\n",
      "   macro avg       0.69      0.70      0.70       231\n",
      "weighted avg       0.73      0.72      0.72       231\n",
      "\n"
     ]
    }
   ],
   "source": [
    "# Print the classification report\n",
    "print('\\t\\tClassification Report - Tuned Logistic Regression\\n\\n', classification_report(y_test_bruno, log_pred))"
   ]
  },
  {
   "cell_type": "code",
   "execution_count": 110,
   "metadata": {},
   "outputs": [],
   "source": [
    "dill.dump_session('notebook_session.db')"
   ]
  },
  {
   "cell_type": "markdown",
   "metadata": {},
   "source": [
    "### Experimenting with Random Forest"
   ]
  },
  {
   "cell_type": "code",
   "execution_count": 111,
   "metadata": {},
   "outputs": [],
   "source": [
    "rf2 = RandomForestClassifier()"
   ]
  },
  {
   "cell_type": "code",
   "execution_count": 112,
   "metadata": {},
   "outputs": [],
   "source": [
    "pipeline1_rf2 = Pipeline([\n",
    "    ('tranformer', transformer_bruno),\n",
    "    ('rf2', rf2)\n",
    "    ])"
   ]
  },
  {
   "cell_type": "code",
   "execution_count": 113,
   "metadata": {},
   "outputs": [],
   "source": [
    "# Dictionary with parameters names (str) as keys and lists of parameter settings to try as values.\n",
    "param_grid_rf2 = {'rf2__n_estimators': [100, 150, 200, 300, 400, 500],\n",
    "                  'rf2__criterion': ['gini', 'entropy', 'log_loss'],\n",
    "                  'rf2__max_features': ['sqrt', 'log2'],\n",
    "                  'rf2__max_depth': [int(x) for x in np.linspace(10, 110, num=11)],\n",
    "                  'rf2__ccp_alpha': [x for x in np.arange(0.0, 0.035, 0.005)]}"
   ]
  },
  {
   "cell_type": "code",
   "execution_count": 114,
   "metadata": {},
   "outputs": [],
   "source": [
    "rand_gridsearch_rf2 = RandomizedSearchCV(estimator = pipeline1_rf2,\n",
    "                                       param_distributions = param_grid_rf2,\n",
    "                                       scoring = 'accuracy',\n",
    "                                       cv = 5,\n",
    "                                       n_iter = 50,\n",
    "                                       refit = True,\n",
    "                                       n_jobs = -1,\n",
    "                                       verbose = 3,\n",
    "                                       random_state = 42)"
   ]
  },
  {
   "cell_type": "code",
   "execution_count": 115,
   "metadata": {},
   "outputs": [
    {
     "name": "stdout",
     "output_type": "stream",
     "text": [
      "Fitting 5 folds for each of 50 candidates, totalling 250 fits\n"
     ]
    },
    {
     "data": {
      "text/html": [
       "<style>#sk-container-id-8 {color: black;background-color: white;}#sk-container-id-8 pre{padding: 0;}#sk-container-id-8 div.sk-toggleable {background-color: white;}#sk-container-id-8 label.sk-toggleable__label {cursor: pointer;display: block;width: 100%;margin-bottom: 0;padding: 0.3em;box-sizing: border-box;text-align: center;}#sk-container-id-8 label.sk-toggleable__label-arrow:before {content: \"▸\";float: left;margin-right: 0.25em;color: #696969;}#sk-container-id-8 label.sk-toggleable__label-arrow:hover:before {color: black;}#sk-container-id-8 div.sk-estimator:hover label.sk-toggleable__label-arrow:before {color: black;}#sk-container-id-8 div.sk-toggleable__content {max-height: 0;max-width: 0;overflow: hidden;text-align: left;background-color: #f0f8ff;}#sk-container-id-8 div.sk-toggleable__content pre {margin: 0.2em;color: black;border-radius: 0.25em;background-color: #f0f8ff;}#sk-container-id-8 input.sk-toggleable__control:checked~div.sk-toggleable__content {max-height: 200px;max-width: 100%;overflow: auto;}#sk-container-id-8 input.sk-toggleable__control:checked~label.sk-toggleable__label-arrow:before {content: \"▾\";}#sk-container-id-8 div.sk-estimator input.sk-toggleable__control:checked~label.sk-toggleable__label {background-color: #d4ebff;}#sk-container-id-8 div.sk-label input.sk-toggleable__control:checked~label.sk-toggleable__label {background-color: #d4ebff;}#sk-container-id-8 input.sk-hidden--visually {border: 0;clip: rect(1px 1px 1px 1px);clip: rect(1px, 1px, 1px, 1px);height: 1px;margin: -1px;overflow: hidden;padding: 0;position: absolute;width: 1px;}#sk-container-id-8 div.sk-estimator {font-family: monospace;background-color: #f0f8ff;border: 1px dotted black;border-radius: 0.25em;box-sizing: border-box;margin-bottom: 0.5em;}#sk-container-id-8 div.sk-estimator:hover {background-color: #d4ebff;}#sk-container-id-8 div.sk-parallel-item::after {content: \"\";width: 100%;border-bottom: 1px solid gray;flex-grow: 1;}#sk-container-id-8 div.sk-label:hover label.sk-toggleable__label {background-color: #d4ebff;}#sk-container-id-8 div.sk-serial::before {content: \"\";position: absolute;border-left: 1px solid gray;box-sizing: border-box;top: 0;bottom: 0;left: 50%;z-index: 0;}#sk-container-id-8 div.sk-serial {display: flex;flex-direction: column;align-items: center;background-color: white;padding-right: 0.2em;padding-left: 0.2em;position: relative;}#sk-container-id-8 div.sk-item {position: relative;z-index: 1;}#sk-container-id-8 div.sk-parallel {display: flex;align-items: stretch;justify-content: center;background-color: white;position: relative;}#sk-container-id-8 div.sk-item::before, #sk-container-id-8 div.sk-parallel-item::before {content: \"\";position: absolute;border-left: 1px solid gray;box-sizing: border-box;top: 0;bottom: 0;left: 50%;z-index: -1;}#sk-container-id-8 div.sk-parallel-item {display: flex;flex-direction: column;z-index: 1;position: relative;background-color: white;}#sk-container-id-8 div.sk-parallel-item:first-child::after {align-self: flex-end;width: 50%;}#sk-container-id-8 div.sk-parallel-item:last-child::after {align-self: flex-start;width: 50%;}#sk-container-id-8 div.sk-parallel-item:only-child::after {width: 0;}#sk-container-id-8 div.sk-dashed-wrapped {border: 1px dashed gray;margin: 0 0.4em 0.5em 0.4em;box-sizing: border-box;padding-bottom: 0.4em;background-color: white;}#sk-container-id-8 div.sk-label label {font-family: monospace;font-weight: bold;display: inline-block;line-height: 1.2em;}#sk-container-id-8 div.sk-label-container {text-align: center;}#sk-container-id-8 div.sk-container {/* jupyter's `normalize.less` sets `[hidden] { display: none; }` but bootstrap.min.css set `[hidden] { display: none !important; }` so we also need the `!important` here to be able to override the default hidden behavior on the sphinx rendered scikit-learn.org. See: https://github.com/scikit-learn/scikit-learn/issues/21755 */display: inline-block !important;position: relative;}#sk-container-id-8 div.sk-text-repr-fallback {display: none;}</style><div id=\"sk-container-id-8\" class=\"sk-top-container\"><div class=\"sk-text-repr-fallback\"><pre>RandomizedSearchCV(cv=5,\n",
       "                   estimator=Pipeline(steps=[(&#x27;tranformer&#x27;, StandardScaler()),\n",
       "                                             (&#x27;rf2&#x27;,\n",
       "                                              RandomForestClassifier())]),\n",
       "                   n_iter=50, n_jobs=-1,\n",
       "                   param_distributions={&#x27;rf2__ccp_alpha&#x27;: [0.0, 0.005, 0.01,\n",
       "                                                           0.015, 0.02, 0.025,\n",
       "                                                           0.03, 0.035],\n",
       "                                        &#x27;rf2__criterion&#x27;: [&#x27;gini&#x27;, &#x27;entropy&#x27;,\n",
       "                                                           &#x27;log_loss&#x27;],\n",
       "                                        &#x27;rf2__max_depth&#x27;: [10, 20, 30, 40, 50,\n",
       "                                                           60, 70, 80, 90, 100,\n",
       "                                                           110],\n",
       "                                        &#x27;rf2__max_features&#x27;: [&#x27;sqrt&#x27;, &#x27;log2&#x27;],\n",
       "                                        &#x27;rf2__n_estimators&#x27;: [100, 150, 200,\n",
       "                                                              300, 400, 500]},\n",
       "                   random_state=42, scoring=&#x27;accuracy&#x27;, verbose=3)</pre><b>In a Jupyter environment, please rerun this cell to show the HTML representation or trust the notebook. <br />On GitHub, the HTML representation is unable to render, please try loading this page with nbviewer.org.</b></div><div class=\"sk-container\" hidden><div class=\"sk-item sk-dashed-wrapped\"><div class=\"sk-label-container\"><div class=\"sk-label sk-toggleable\"><input class=\"sk-toggleable__control sk-hidden--visually\" id=\"sk-estimator-id-25\" type=\"checkbox\" ><label for=\"sk-estimator-id-25\" class=\"sk-toggleable__label sk-toggleable__label-arrow\">RandomizedSearchCV</label><div class=\"sk-toggleable__content\"><pre>RandomizedSearchCV(cv=5,\n",
       "                   estimator=Pipeline(steps=[(&#x27;tranformer&#x27;, StandardScaler()),\n",
       "                                             (&#x27;rf2&#x27;,\n",
       "                                              RandomForestClassifier())]),\n",
       "                   n_iter=50, n_jobs=-1,\n",
       "                   param_distributions={&#x27;rf2__ccp_alpha&#x27;: [0.0, 0.005, 0.01,\n",
       "                                                           0.015, 0.02, 0.025,\n",
       "                                                           0.03, 0.035],\n",
       "                                        &#x27;rf2__criterion&#x27;: [&#x27;gini&#x27;, &#x27;entropy&#x27;,\n",
       "                                                           &#x27;log_loss&#x27;],\n",
       "                                        &#x27;rf2__max_depth&#x27;: [10, 20, 30, 40, 50,\n",
       "                                                           60, 70, 80, 90, 100,\n",
       "                                                           110],\n",
       "                                        &#x27;rf2__max_features&#x27;: [&#x27;sqrt&#x27;, &#x27;log2&#x27;],\n",
       "                                        &#x27;rf2__n_estimators&#x27;: [100, 150, 200,\n",
       "                                                              300, 400, 500]},\n",
       "                   random_state=42, scoring=&#x27;accuracy&#x27;, verbose=3)</pre></div></div></div><div class=\"sk-parallel\"><div class=\"sk-parallel-item\"><div class=\"sk-item\"><div class=\"sk-label-container\"><div class=\"sk-label sk-toggleable\"><input class=\"sk-toggleable__control sk-hidden--visually\" id=\"sk-estimator-id-26\" type=\"checkbox\" ><label for=\"sk-estimator-id-26\" class=\"sk-toggleable__label sk-toggleable__label-arrow\">estimator: Pipeline</label><div class=\"sk-toggleable__content\"><pre>Pipeline(steps=[(&#x27;tranformer&#x27;, StandardScaler()),\n",
       "                (&#x27;rf2&#x27;, RandomForestClassifier())])</pre></div></div></div><div class=\"sk-serial\"><div class=\"sk-item\"><div class=\"sk-serial\"><div class=\"sk-item\"><div class=\"sk-estimator sk-toggleable\"><input class=\"sk-toggleable__control sk-hidden--visually\" id=\"sk-estimator-id-27\" type=\"checkbox\" ><label for=\"sk-estimator-id-27\" class=\"sk-toggleable__label sk-toggleable__label-arrow\">StandardScaler</label><div class=\"sk-toggleable__content\"><pre>StandardScaler()</pre></div></div></div><div class=\"sk-item\"><div class=\"sk-estimator sk-toggleable\"><input class=\"sk-toggleable__control sk-hidden--visually\" id=\"sk-estimator-id-28\" type=\"checkbox\" ><label for=\"sk-estimator-id-28\" class=\"sk-toggleable__label sk-toggleable__label-arrow\">RandomForestClassifier</label><div class=\"sk-toggleable__content\"><pre>RandomForestClassifier()</pre></div></div></div></div></div></div></div></div></div></div></div></div>"
      ],
      "text/plain": [
       "RandomizedSearchCV(cv=5,\n",
       "                   estimator=Pipeline(steps=[('tranformer', StandardScaler()),\n",
       "                                             ('rf2',\n",
       "                                              RandomForestClassifier())]),\n",
       "                   n_iter=50, n_jobs=-1,\n",
       "                   param_distributions={'rf2__ccp_alpha': [0.0, 0.005, 0.01,\n",
       "                                                           0.015, 0.02, 0.025,\n",
       "                                                           0.03, 0.035],\n",
       "                                        'rf2__criterion': ['gini', 'entropy',\n",
       "                                                           'log_loss'],\n",
       "                                        'rf2__max_depth': [10, 20, 30, 40, 50,\n",
       "                                                           60, 70, 80, 90, 100,\n",
       "                                                           110],\n",
       "                                        'rf2__max_features': ['sqrt', 'log2'],\n",
       "                                        'rf2__n_estimators': [100, 150, 200,\n",
       "                                                              300, 400, 500]},\n",
       "                   random_state=42, scoring='accuracy', verbose=3)"
      ]
     },
     "execution_count": 115,
     "metadata": {},
     "output_type": "execute_result"
    }
   ],
   "source": [
    "rand_gridsearch_rf2.fit(X_train_bruno_sm, y_train_bruno_sm)"
   ]
  },
  {
   "cell_type": "code",
   "execution_count": 116,
   "metadata": {},
   "outputs": [
    {
     "name": "stdout",
     "output_type": "stream",
     "text": [
      "tuned hpyerparameters :(best parameters) \n",
      " {'rf2__n_estimators': 100, 'rf2__max_features': 'log2', 'rf2__max_depth': 60, 'rf2__criterion': 'entropy', 'rf2__ccp_alpha': 0.005}\n"
     ]
    }
   ],
   "source": [
    "# Best hyperparameters\n",
    "print(\"tuned hpyerparameters :(best parameters) \\n\", rand_gridsearch_rf2.best_params_)"
   ]
  },
  {
   "cell_type": "code",
   "execution_count": 117,
   "metadata": {},
   "outputs": [],
   "source": [
    "# Store the best model\n",
    "best_model_rf2 = rand_gridsearch_rf2.best_estimator_"
   ]
  },
  {
   "cell_type": "code",
   "execution_count": 118,
   "metadata": {},
   "outputs": [
    {
     "data": {
      "text/plain": [
       "['best_model_random_forest.pkl']"
      ]
     },
     "execution_count": 118,
     "metadata": {},
     "output_type": "execute_result"
    }
   ],
   "source": [
    "joblib.dump(best_model_rf2, 'best_model_random_forest.pkl')"
   ]
  },
  {
   "cell_type": "code",
   "execution_count": 119,
   "metadata": {},
   "outputs": [],
   "source": [
    "# Make new predictions with the tuned model\n",
    "rf2_pred = best_model_rf2.predict(X_test_bruno)"
   ]
  },
  {
   "cell_type": "code",
   "execution_count": 120,
   "metadata": {},
   "outputs": [
    {
     "data": {
      "text/plain": [
       "0.7445887445887446"
      ]
     },
     "execution_count": 120,
     "metadata": {},
     "output_type": "execute_result"
    }
   ],
   "source": [
    "best_model_rf2.score(X_test_bruno, y_test_bruno)"
   ]
  },
  {
   "cell_type": "code",
   "execution_count": 121,
   "metadata": {},
   "outputs": [
    {
     "name": "stdout",
     "output_type": "stream",
     "text": [
      "\t\tClassification Report - Tuned Renadom Forest\n",
      "\t\t\t\tSMOTE\n",
      "\n",
      "               precision    recall  f1-score   support\n",
      "\n",
      "           0       0.83      0.76      0.80       151\n",
      "           1       0.61      0.71      0.66        80\n",
      "\n",
      "    accuracy                           0.74       231\n",
      "   macro avg       0.72      0.74      0.73       231\n",
      "weighted avg       0.76      0.74      0.75       231\n",
      "\n"
     ]
    }
   ],
   "source": [
    "# Print the classification report\n",
    "print('\\t\\tClassification Report - Tuned Renadom Forest\\n\\t\\t\\t\\tSMOTE\\n\\n',\n",
    "      classification_report(y_test_bruno, rf2_pred))"
   ]
  },
  {
   "cell_type": "code",
   "execution_count": 122,
   "metadata": {},
   "outputs": [],
   "source": [
    "dill.dump_session('notebook_session.db')"
   ]
  },
  {
   "cell_type": "code",
   "execution_count": 123,
   "metadata": {},
   "outputs": [
    {
     "name": "stdout",
     "output_type": "stream",
     "text": [
      "Fitting 5 folds for each of 50 candidates, totalling 250 fits\n",
      "[CV 2/5] END extra_trees__max_depth=211, extra_trees__n_estimators=910;, score=0.825 total time=   2.9s\n",
      "[CV 1/5] END extra_trees__max_depth=731, extra_trees__n_estimators=2730;, score=0.865 total time=   7.1s\n",
      "[CV 5/5] END extra_trees__max_depth=83, extra_trees__n_estimators=2310;, score=0.864 total time=   7.0s\n",
      "[CV 4/5] END extra_trees__max_depth=589, extra_trees__n_estimators=630;, score=0.864 total time=   4.2s\n",
      "[CV 3/5] END extra_trees__max_depth=803, extra_trees__n_estimators=2270;, score=0.762 total time=   7.4s\n",
      "[CV 5/5] END extra_trees__max_depth=213, extra_trees__n_estimators=2470;, score=0.856 total time=  17.6s\n",
      "[CV 4/5] END extra_trees__max_depth=897, extra_trees__n_estimators=430;, score=0.864 total time=   2.5s\n",
      "[CV 2/5] END extra_trees__max_depth=865, extra_trees__n_estimators=410;, score=0.817 total time=   2.2s\n",
      "[CV 1/5] END extra_trees__max_depth=11, extra_trees__n_estimators=390;, score=0.857 total time=   1.8s\n",
      "[CV 1/5] END extra_trees__max_depth=797, extra_trees__n_estimators=710;, score=0.865 total time=   3.3s\n",
      "[CV 5/5] END extra_trees__max_depth=839, extra_trees__n_estimators=2110;, score=0.864 total time=   8.8s\n",
      "[CV 3/5] END extra_trees__max_depth=907, extra_trees__n_estimators=390;, score=0.738 total time=   2.3s\n",
      "[CV 2/5] END extra_trees__max_depth=71, extra_trees__n_estimators=1230;, score=0.810 total time=   4.3s\n",
      "[CV 3/5] END extra_trees__max_depth=383, extra_trees__n_estimators=870;, score=0.762 total time=   2.7s\n",
      "[CV 1/5] END extra_trees__max_depth=343, extra_trees__n_estimators=170;, score=0.825 total time=   0.5s\n",
      "[CV 4/5] END extra_trees__max_depth=343, extra_trees__n_estimators=170;, score=0.872 total time=   0.5s\n",
      "[CV 1/5] END extra_trees__max_depth=245, extra_trees__n_estimators=2630;, score=0.865 total time=   8.4s\n",
      "[CV 2/5] END extra_trees__max_depth=789, extra_trees__n_estimators=1010;, score=0.817 total time=   3.2s\n",
      "[CV 2/5] END extra_trees__max_depth=477, extra_trees__n_estimators=1470;, score=0.794 total time=   4.4s\n",
      "[CV 4/5] END extra_trees__max_depth=899, extra_trees__n_estimators=1710;, score=0.872 total time=   5.2s\n",
      "[CV 2/5] END extra_trees__max_depth=421, extra_trees__n_estimators=1030;, score=0.802 total time=   4.2s\n",
      "[CV 5/5] END extra_trees__max_depth=151, extra_trees__n_estimators=2890;, score=0.864 total time=   9.9s\n",
      "[CV 1/5] END extra_trees__max_depth=555, extra_trees__n_estimators=1130;, score=0.881 total time=   4.3s\n",
      "[CV 4/5] END extra_trees__max_depth=555, extra_trees__n_estimators=1130;, score=0.872 total time=   4.5s\n",
      "[CV 5/5] END extra_trees__max_depth=141, extra_trees__n_estimators=2550;, score=0.864 total time=  11.4s\n",
      "[CV 5/5] END extra_trees__max_depth=987, extra_trees__n_estimators=390;, score=0.864 total time=   2.0s\n",
      "[CV 1/5] END extra_trees__max_depth=319, extra_trees__n_estimators=950;, score=0.873 total time=   4.1s\n",
      "[CV 3/5] END extra_trees__max_depth=319, extra_trees__n_estimators=950;, score=0.762 total time=   4.1s\n",
      "[CV 1/5] END extra_trees__max_depth=313, extra_trees__n_estimators=1670;, score=0.881 total time=   7.0s\n",
      "[CV 4/5] END extra_trees__max_depth=647, extra_trees__n_estimators=2110;, score=0.872 total time=  10.5s\n",
      "[CV 5/5] END extra_trees__max_depth=479, extra_trees__n_estimators=1410;, score=0.864 total time=   9.3s\n",
      "[CV 3/5] END extra_trees__max_depth=927, extra_trees__n_estimators=590;, score=0.762 total time=   5.7s\n",
      "[CV 4/5] END extra_trees__max_depth=259, extra_trees__n_estimators=2150;, score=0.872 total time=  24.6s\n",
      "[CV 2/5] END extra_trees__max_depth=707, extra_trees__n_estimators=910;, score=0.825 total time=  12.1s\n",
      "[CV 3/5] END extra_trees__max_depth=543, extra_trees__n_estimators=2150;, score=0.762 total time=  20.5s\n",
      "[CV 1/5] END svc__C=0.1, svc__degree=2, svc__gamma=0.1, svc__kernel=linear;, score=0.825 total time=   0.0s\n",
      "[CV 3/5] END svc__C=0.1, svc__degree=2, svc__gamma=0.1, svc__kernel=linear;, score=0.714 total time=   0.0s\n",
      "[CV 5/5] END svc__C=100, svc__degree=2, svc__gamma=0.3, svc__kernel=linear;, score=0.816 total time=   0.6s\n",
      "[CV 5/5] END svc__C=10, svc__degree=2, svc__gamma=0.03, svc__kernel=poly;, score=0.624 total time=   0.1s\n",
      "[CV 1/5] END svc__C=10, svc__degree=2, svc__gamma=0.3, svc__kernel=rbf;, score=0.802 total time=   0.1s\n",
      "[CV 1/5] END svc__C=0.1, svc__degree=3, svc__gamma=3.0, svc__kernel=linear;, score=0.825 total time=   0.0s\n",
      "[CV 2/5] END svc__C=0.1, svc__degree=3, svc__gamma=3.0, svc__kernel=linear;, score=0.754 total time=   0.1s\n",
      "[CV 3/5] END svc__C=0.1, svc__degree=3, svc__gamma=3.0, svc__kernel=linear;, score=0.714 total time=   0.0s\n",
      "[CV 4/5] END svc__C=0.1, svc__degree=3, svc__gamma=3.0, svc__kernel=linear;, score=0.728 total time=   0.0s\n",
      "[CV 3/5] END svc__C=0.1, svc__degree=2, svc__gamma=0.3, svc__kernel=linear;, score=0.714 total time=   0.0s\n",
      "[CV 4/5] END svc__C=0.1, svc__degree=2, svc__gamma=0.3, svc__kernel=linear;, score=0.728 total time=   0.1s\n",
      "[CV 5/5] END svc__C=0.1, svc__degree=2, svc__gamma=0.3, svc__kernel=linear;, score=0.808 total time=   0.1s\n",
      "[CV 1/5] END svc__C=0.01, svc__degree=2, svc__gamma=3.0, svc__kernel=rbf;, score=0.556 total time=   0.2s\n",
      "[CV 2/5] END svc__C=0.1, svc__degree=3, svc__gamma=0.01, svc__kernel=poly;, score=0.556 total time=   0.1s\n",
      "[CV 3/5] END svc__C=0.1, svc__degree=3, svc__gamma=0.01, svc__kernel=poly;, score=0.556 total time=   0.1s\n",
      "[CV 4/5] END svc__C=0.1, svc__degree=3, svc__gamma=0.01, svc__kernel=poly;, score=0.560 total time=   0.1s\n",
      "[CV 5/5] END svc__C=0.1, svc__degree=3, svc__gamma=0.01, svc__kernel=poly;, score=0.552 total time=   0.1s\n",
      "[CV 3/5] END svc__C=10, svc__degree=3, svc__gamma=3.0, svc__kernel=poly;, score=0.667 total time= 2.5min\n",
      "[CV 4/5] END svc__C=10, svc__degree=3, svc__gamma=3.0, svc__kernel=poly;, score=0.696 total time= 3.4min\n",
      "[CV 5/5] END svc__C=10, svc__degree=3, svc__gamma=3.0, svc__kernel=poly;, score=0.712 total time= 3.4min\n",
      "[CV 1/5] END svc__C=0.01, svc__degree=3, svc__gamma=1.0, svc__kernel=linear;, score=0.825 total time=   0.0s\n",
      "[CV 1/5] END log__C=0.01, log__penalty=l1, log__solver=newton-cg;, score=nan total time=   0.0s\n",
      "[CV 2/5] END log__C=0.01, log__penalty=l1, log__solver=newton-cg;, score=nan total time=   0.0s\n",
      "[CV 3/5] END log__C=0.01, log__penalty=l1, log__solver=newton-cg;, score=nan total time=   0.0s\n",
      "[CV 5/5] END log__C=0.01, log__penalty=l1, log__solver=newton-cg;, score=nan total time=   0.0s\n",
      "[CV 2/5] END log__C=0.01, log__penalty=l2, log__solver=lbfgs;, score=0.738 total time=   0.0s\n",
      "[CV 4/5] END log__C=0.01, log__penalty=l2, log__solver=lbfgs;, score=0.712 total time=   0.1s\n",
      "[CV 1/5] END log__C=10, log__penalty=l1, log__solver=newton-cg;, score=nan total time=   0.0s\n",
      "[CV 3/5] END log__C=10, log__penalty=l1, log__solver=newton-cg;, score=nan total time=   0.0s\n",
      "[CV 5/5] END log__C=10, log__penalty=l1, log__solver=newton-cg;, score=nan total time=   0.0s\n",
      "[CV 1/5] END log__C=10, log__penalty=elasticnet, log__solver=lbfgs;, score=nan total time=   0.0s\n",
      "[CV 1/5] END log__C=0.1, log__penalty=l1, log__solver=lbfgs;, score=nan total time=   0.0s\n",
      "[CV 2/5] END log__C=0.1, log__penalty=l1, log__solver=lbfgs;, score=nan total time=   0.0s\n",
      "[CV 3/5] END log__C=0.1, log__penalty=l1, log__solver=lbfgs;, score=nan total time=   0.0s\n",
      "[CV 4/5] END log__C=0.1, log__penalty=l1, log__solver=lbfgs;, score=nan total time=   0.0s\n",
      "[CV 4/5] END log__C=100, log__penalty=l2, log__solver=liblinear;, score=0.728 total time=   0.0s\n",
      "[CV 5/5] END log__C=100, log__penalty=l2, log__solver=liblinear;, score=0.808 total time=   0.0s\n",
      "[CV 1/5] END log__C=1, log__penalty=elasticnet, log__solver=lbfgs;, score=nan total time=   0.1s\n",
      "[CV 2/5] END log__C=1, log__penalty=elasticnet, log__solver=lbfgs;, score=nan total time=   0.0s\n",
      "[CV 4/5] END log__C=100, log__penalty=l1, log__solver=newton-cg;, score=nan total time=   0.0s\n",
      "[CV 5/5] END log__C=100, log__penalty=l1, log__solver=newton-cg;, score=nan total time=   0.0s\n",
      "[CV 1/5] END log__C=0.1, log__penalty=l1, log__solver=newton-cg;, score=nan total time=   0.0s\n",
      "[CV 2/5] END log__C=0.1, log__penalty=l1, log__solver=newton-cg;, score=nan total time=   0.0s\n",
      "[CV 5/5] END log__C=0.1, log__penalty=l1, log__solver=newton-cg;, score=nan total time=   0.0s\n",
      "[CV 1/5] END log__C=100, log__penalty=elasticnet, log__solver=lbfgs;, score=nan total time=   0.0s\n",
      "[CV 2/5] END log__C=100, log__penalty=elasticnet, log__solver=lbfgs;, score=nan total time=   0.0s\n",
      "[CV 3/5] END log__C=100, log__penalty=elasticnet, log__solver=lbfgs;, score=nan total time=   0.0s\n",
      "[CV 2/5] END log__C=100, log__penalty=l1, log__solver=liblinear;, score=0.738 total time=   0.0s\n",
      "[CV 3/5] END log__C=100, log__penalty=l1, log__solver=liblinear;, score=0.714 total time=   0.0s\n",
      "[CV 4/5] END log__C=100, log__penalty=l1, log__solver=liblinear;, score=0.728 total time=   0.0s\n",
      "[CV 5/5] END log__C=100, log__penalty=l1, log__solver=liblinear;, score=0.808 total time=   0.0s\n",
      "[CV 5/5] END log__C=1, log__penalty=l2, log__solver=saga;, score=0.808 total time=   0.0s\n",
      "[CV 1/5] END log__C=0.01, log__penalty=l1, log__solver=saga;, score=0.730 total time=   0.1s\n",
      "[CV 2/5] END log__C=0.01, log__penalty=l1, log__solver=saga;, score=0.690 total time=   0.0s\n",
      "[CV 3/5] END log__C=0.01, log__penalty=l1, log__solver=saga;, score=0.690 total time=   0.0s\n",
      "[CV 3/5] END log__C=100, log__penalty=l2, log__solver=newton-cg;, score=0.714 total time=   0.0s\n",
      "[CV 4/5] END log__C=100, log__penalty=l2, log__solver=newton-cg;, score=0.728 total time=   0.0s\n",
      "[CV 5/5] END log__C=100, log__penalty=l2, log__solver=newton-cg;, score=0.808 total time=   0.0s\n",
      "[CV 1/5] END log__C=0.1, log__penalty=l2, log__solver=lbfgs;, score=0.833 total time=   0.0s\n",
      "[CV 1/5] END log__C=0.01, log__penalty=elasticnet, log__solver=newton-cg;, score=nan total time=   0.0s\n",
      "[CV 2/5] END log__C=0.01, log__penalty=elasticnet, log__solver=newton-cg;, score=nan total time=   0.0s\n",
      "[CV 3/5] END log__C=0.01, log__penalty=elasticnet, log__solver=newton-cg;, score=nan total time=   0.0s\n",
      "[CV 4/5] END log__C=0.01, log__penalty=elasticnet, log__solver=newton-cg;, score=nan total time=   0.0s\n",
      "[CV 5/5] END log__C=0.01, log__penalty=elasticnet, log__solver=newton-cg;, score=nan total time=   0.0s\n",
      "[CV 1/5] END log__C=0.01, log__penalty=l2, log__solver=liblinear;, score=0.841 total time=   0.0s\n",
      "[CV 2/5] END log__C=0.01, log__penalty=l2, log__solver=liblinear;, score=0.762 total time=   0.0s\n",
      "[CV 3/5] END log__C=0.01, log__penalty=l2, log__solver=liblinear;, score=0.698 total time=   0.0s\n",
      "[CV 3/5] END log__C=10, log__penalty=l2, log__solver=newton-cg;, score=0.714 total time=   0.0s\n",
      "[CV 4/5] END log__C=10, log__penalty=l2, log__solver=newton-cg;, score=0.728 total time=   0.0s\n",
      "[CV 5/5] END log__C=10, log__penalty=l2, log__solver=newton-cg;, score=0.808 total time=   0.0s\n",
      "[CV 1/5] END log__C=0.01, log__penalty=l2, log__solver=newton-cg;, score=0.817 total time=   0.0s\n",
      "[CV 1/5] END log__C=10, log__penalty=l2, log__solver=saga;, score=0.833 total time=   0.0s\n",
      "[CV 2/5] END log__C=10, log__penalty=l2, log__solver=saga;, score=0.738 total time=   0.0s\n",
      "[CV 3/5] END log__C=10, log__penalty=l2, log__solver=saga;, score=0.714 total time=   0.0s\n",
      "[CV 4/5] END log__C=10, log__penalty=l2, log__solver=saga;, score=0.728 total time=   0.0s\n",
      "[CV 4/5] END log__C=0.1, log__penalty=l2, log__solver=saga;, score=0.728 total time=   0.0s\n",
      "[CV 5/5] END log__C=0.1, log__penalty=l2, log__solver=saga;, score=0.808 total time=   0.0s\n",
      "[CV 1/5] END log__C=1, log__penalty=elasticnet, log__solver=liblinear;, score=nan total time=   0.0s\n",
      "[CV 2/5] END log__C=1, log__penalty=elasticnet, log__solver=liblinear;, score=nan total time=   0.0s\n",
      "[CV 2/5] END log__C=100, log__penalty=elasticnet, log__solver=liblinear;, score=nan total time=   0.0s\n",
      "[CV 3/5] END log__C=100, log__penalty=elasticnet, log__solver=liblinear;, score=nan total time=   0.0s\n",
      "[CV 4/5] END log__C=100, log__penalty=elasticnet, log__solver=liblinear;, score=nan total time=   0.0s\n",
      "[CV 5/5] END log__C=100, log__penalty=elasticnet, log__solver=liblinear;, score=nan total time=   0.0s\n",
      "[CV 5/5] END log__C=1, log__penalty=l1, log__solver=lbfgs;, score=nan total time=   0.0s\n",
      "[CV 1/5] END log__C=100, log__penalty=elasticnet, log__solver=newton-cg;, score=nan total time=   0.0s\n",
      "[CV 2/5] END log__C=100, log__penalty=elasticnet, log__solver=newton-cg;, score=nan total time=   0.0s\n",
      "[CV 3/5] END log__C=100, log__penalty=elasticnet, log__solver=newton-cg;, score=nan total time=   0.0s\n",
      "[CV 3/5] END log__C=0.1, log__penalty=l1, log__solver=saga;, score=0.683 total time=   0.0s\n",
      "[CV 4/5] END log__C=0.1, log__penalty=l1, log__solver=saga;, score=0.728 total time=   0.0s\n",
      "[CV 5/5] END log__C=0.1, log__penalty=l1, log__solver=saga;, score=0.808 total time=   0.0s\n",
      "[CV 1/5] END log__C=1, log__penalty=l1, log__solver=saga;, score=0.833 total time=   0.0s\n",
      "[CV 1/5] END log__C=0.01, log__penalty=elasticnet, log__solver=lbfgs;, score=nan total time=   0.0s\n",
      "[CV 2/5] END log__C=0.01, log__penalty=elasticnet, log__solver=lbfgs;, score=nan total time=   0.0s\n",
      "[CV 3/5] END log__C=0.01, log__penalty=elasticnet, log__solver=lbfgs;, score=nan total time=   0.0s\n",
      "[CV 4/5] END log__C=0.01, log__penalty=elasticnet, log__solver=lbfgs;, score=nan total time=   0.0s\n",
      "[CV 5/5] END log__C=0.01, log__penalty=elasticnet, log__solver=lbfgs;, score=nan total time=   0.0s\n",
      "[CV 1/5] END log__C=1, log__penalty=l2, log__solver=liblinear;, score=0.833 total time=   0.0s\n",
      "[CV 2/5] END log__C=1, log__penalty=l2, log__solver=liblinear;, score=0.738 total time=   0.0s\n",
      "[CV 3/5] END log__C=1, log__penalty=l2, log__solver=liblinear;, score=0.714 total time=   0.0s\n",
      "[CV 3/5] END log__C=1, log__penalty=l1, log__solver=liblinear;, score=0.706 total time=   0.0s\n",
      "[CV 4/5] END log__C=1, log__penalty=l1, log__solver=liblinear;, score=0.728 total time=   0.0s\n",
      "[CV 5/5] END log__C=1, log__penalty=l1, log__solver=liblinear;, score=0.808 total time=   0.0s\n",
      "[CV 1/5] END log__C=0.1, log__penalty=l2, log__solver=newton-cg;, score=0.833 total time=   0.0s\n",
      "[CV 1/5] END log__C=1, log__penalty=l1, log__solver=newton-cg;, score=nan total time=   0.0s\n",
      "[CV 2/5] END log__C=1, log__penalty=l1, log__solver=newton-cg;, score=nan total time=   0.0s\n",
      "[CV 3/5] END log__C=1, log__penalty=l1, log__solver=newton-cg;, score=nan total time=   0.0s\n",
      "[CV 4/5] END log__C=1, log__penalty=l1, log__solver=newton-cg;, score=nan total time=   0.0s\n",
      "[CV 5/5] END log__C=1, log__penalty=l1, log__solver=newton-cg;, score=nan total time=   0.0s\n",
      "[CV 1/5] END log__C=100, log__penalty=l2, log__solver=saga;, score=0.833 total time=   0.0s\n",
      "[CV 2/5] END log__C=100, log__penalty=l2, log__solver=saga;, score=0.738 total time=   0.0s\n",
      "[CV 3/5] END log__C=100, log__penalty=l2, log__solver=saga;, score=0.714 total time=   0.0s\n",
      "[CV 3/5] END log__C=0.01, log__penalty=elasticnet, log__solver=saga;, score=nan total time=   0.0s\n",
      "[CV 4/5] END log__C=0.01, log__penalty=elasticnet, log__solver=saga;, score=nan total time=   0.0s\n",
      "[CV 5/5] END log__C=0.01, log__penalty=elasticnet, log__solver=saga;, score=nan total time=   0.0s\n",
      "[CV 1/5] END log__C=1, log__penalty=elasticnet, log__solver=newton-cg;, score=nan total time=   0.0s\n",
      "[CV 1/5] END log__C=100, log__penalty=l2, log__solver=lbfgs;, score=0.833 total time=   0.0s\n",
      "[CV 2/5] END log__C=100, log__penalty=l2, log__solver=lbfgs;, score=0.738 total time=   0.0s\n",
      "[CV 3/5] END log__C=100, log__penalty=l2, log__solver=lbfgs;, score=0.714 total time=   0.0s\n",
      "[CV 4/5] END log__C=100, log__penalty=l2, log__solver=lbfgs;, score=0.728 total time=   0.0s\n",
      "[CV 4/5] END log__C=10, log__penalty=l2, log__solver=lbfgs;, score=0.728 total time=   0.0s\n",
      "[CV 5/5] END log__C=10, log__penalty=l2, log__solver=lbfgs;, score=0.808 total time=   0.0s\n",
      "[CV 1/5] END log__C=10, log__penalty=l1, log__solver=lbfgs;, score=nan total time=   0.0s\n",
      "[CV 2/5] END log__C=10, log__penalty=l1, log__solver=lbfgs;, score=nan total time=   0.0s\n",
      "[CV 2/5] END log__C=1, log__penalty=l2, log__solver=lbfgs;, score=0.738 total time=   0.0s\n",
      "[CV 3/5] END log__C=1, log__penalty=l2, log__solver=lbfgs;, score=0.714 total time=   0.0s\n",
      "[CV 4/5] END log__C=1, log__penalty=l2, log__solver=lbfgs;, score=0.728 total time=   0.0s\n",
      "[CV 5/5] END log__C=1, log__penalty=l2, log__solver=lbfgs;, score=0.808 total time=   0.0s\n",
      "[CV 4/5] END log__C=0.01, log__penalty=l1, log__solver=lbfgs;, score=nan total time=   0.0s\n",
      "[CV 5/5] END log__C=0.01, log__penalty=l1, log__solver=lbfgs;, score=nan total time=   0.0s\n",
      "[CV 1/5] END log__C=0.1, log__penalty=elasticnet, log__solver=lbfgs;, score=nan total time=   0.0s\n"
     ]
    },
    {
     "name": "stdout",
     "output_type": "stream",
     "text": [
      "[CV 1/5] END extra_trees__max_depth=211, extra_trees__n_estimators=910;, score=0.873 total time=   2.9s\n",
      "[CV 5/5] END extra_trees__max_depth=11, extra_trees__n_estimators=2210;, score=0.832 total time=   5.2s\n",
      "[CV 3/5] END extra_trees__max_depth=83, extra_trees__n_estimators=2310;, score=0.770 total time=   6.4s\n",
      "[CV 5/5] END extra_trees__max_depth=495, extra_trees__n_estimators=2890;, score=0.864 total time=  11.4s\n",
      "[CV 3/5] END extra_trees__max_depth=213, extra_trees__n_estimators=2470;, score=0.762 total time=  15.8s\n",
      "[CV 1/5] END extra_trees__max_depth=897, extra_trees__n_estimators=430;, score=0.873 total time=   2.5s\n",
      "[CV 2/5] END extra_trees__max_depth=897, extra_trees__n_estimators=430;, score=0.817 total time=   2.6s\n",
      "[CV 5/5] END extra_trees__max_depth=897, extra_trees__n_estimators=430;, score=0.872 total time=   2.4s\n",
      "[CV 4/5] END extra_trees__max_depth=865, extra_trees__n_estimators=410;, score=0.864 total time=   2.2s\n",
      "[CV 4/5] END extra_trees__max_depth=11, extra_trees__n_estimators=390;, score=0.808 total time=   1.8s\n",
      "[CV 5/5] END extra_trees__max_depth=797, extra_trees__n_estimators=710;, score=0.864 total time=   3.3s\n",
      "[CV 3/5] END extra_trees__max_depth=865, extra_trees__n_estimators=2510;, score=0.762 total time=  11.1s\n",
      "[CV 4/5] END extra_trees__max_depth=71, extra_trees__n_estimators=1230;, score=0.872 total time=   4.3s\n",
      "[CV 5/5] END extra_trees__max_depth=383, extra_trees__n_estimators=870;, score=0.880 total time=   2.8s\n",
      "[CV 3/5] END extra_trees__max_depth=343, extra_trees__n_estimators=170;, score=0.754 total time=   0.5s\n",
      "[CV 2/5] END extra_trees__max_depth=245, extra_trees__n_estimators=2630;, score=0.825 total time=   8.4s\n",
      "[CV 3/5] END extra_trees__max_depth=789, extra_trees__n_estimators=1010;, score=0.762 total time=   3.2s\n",
      "[CV 1/5] END extra_trees__max_depth=477, extra_trees__n_estimators=1470;, score=0.873 total time=   4.4s\n",
      "[CV 5/5] END extra_trees__max_depth=899, extra_trees__n_estimators=1710;, score=0.872 total time=   5.3s\n",
      "[CV 3/5] END extra_trees__max_depth=421, extra_trees__n_estimators=1030;, score=0.762 total time=   4.1s\n",
      "[CV 1/5] END extra_trees__max_depth=921, extra_trees__n_estimators=1850;, score=0.889 total time=   6.2s\n",
      "[CV 4/5] END extra_trees__max_depth=921, extra_trees__n_estimators=1850;, score=0.872 total time=   6.5s\n",
      "[CV 2/5] END extra_trees__max_depth=555, extra_trees__n_estimators=1130;, score=0.817 total time=   4.6s\n",
      "[CV 1/5] END extra_trees__max_depth=141, extra_trees__n_estimators=2550;, score=0.881 total time=  11.3s\n",
      "[CV 1/5] END extra_trees__max_depth=987, extra_trees__n_estimators=390;, score=0.849 total time=   1.7s\n",
      "[CV 2/5] END extra_trees__max_depth=573, extra_trees__n_estimators=2030;, score=0.825 total time=   9.0s\n",
      "[CV 5/5] END extra_trees__max_depth=319, extra_trees__n_estimators=950;, score=0.864 total time=   4.0s\n",
      "[CV 3/5] END extra_trees__max_depth=313, extra_trees__n_estimators=1670;, score=0.762 total time=   7.0s\n",
      "[CV 1/5] END extra_trees__max_depth=229, extra_trees__n_estimators=1190;, score=0.881 total time=   6.2s\n",
      "[CV 2/5] END extra_trees__max_depth=479, extra_trees__n_estimators=1410;, score=0.817 total time=   9.0s\n",
      "[CV 5/5] END extra_trees__max_depth=895, extra_trees__n_estimators=1430;, score=0.872 total time=  14.3s\n",
      "[CV 3/5] END extra_trees__max_depth=887, extra_trees__n_estimators=2150;, score=0.762 total time=  26.4s\n",
      "[CV 1/5] END extra_trees__max_depth=543, extra_trees__n_estimators=2150;, score=0.881 total time=  21.6s\n",
      "[CV 5/5] END svc__C=0.1, svc__degree=2, svc__gamma=0.1, svc__kernel=linear;, score=0.808 total time=   0.0s\n",
      "[CV 1/5] END svc__C=100, svc__degree=2, svc__gamma=0.3, svc__kernel=linear;, score=0.810 total time=   1.0s\n",
      "[CV 2/5] END svc__C=0.01, svc__degree=2, svc__gamma=3.0, svc__kernel=rbf;, score=0.556 total time=   0.1s\n",
      "[CV 3/5] END svc__C=0.01, svc__degree=2, svc__gamma=3.0, svc__kernel=rbf;, score=0.556 total time=   0.1s\n",
      "[CV 4/5] END svc__C=0.01, svc__degree=2, svc__gamma=3.0, svc__kernel=rbf;, score=0.560 total time=   0.2s\n",
      "[CV 5/5] END svc__C=0.01, svc__degree=2, svc__gamma=3.0, svc__kernel=rbf;, score=0.552 total time=   0.1s\n",
      "[CV 4/5] END svc__C=10, svc__degree=2, svc__gamma=1.0, svc__kernel=linear;, score=0.728 total time=   0.1s\n",
      "[CV 5/5] END svc__C=10, svc__degree=2, svc__gamma=1.0, svc__kernel=linear;, score=0.816 total time=   0.2s\n",
      "[CV 1/5] END svc__C=10, svc__degree=3, svc__gamma=3.0, svc__kernel=poly;, score=0.738 total time=10.7min\n",
      "[CV 2/5] END svc__C=10, svc__degree=3, svc__gamma=3.0, svc__kernel=poly;, score=0.651 total time= 3.2min\n",
      "[CV 4/5] END log__C=0.01, log__penalty=l1, log__solver=newton-cg;, score=nan total time=   0.0s\n",
      "[CV 1/5] END log__C=0.01, log__penalty=l2, log__solver=lbfgs;, score=0.817 total time=   0.0s\n",
      "[CV 3/5] END log__C=0.01, log__penalty=l2, log__solver=lbfgs;, score=0.683 total time=   0.0s\n",
      "[CV 5/5] END log__C=0.01, log__penalty=l2, log__solver=lbfgs;, score=0.792 total time=   0.1s\n",
      "[CV 2/5] END log__C=10, log__penalty=l1, log__solver=newton-cg;, score=nan total time=   0.0s\n",
      "[CV 4/5] END log__C=10, log__penalty=l1, log__solver=newton-cg;, score=nan total time=   0.0s\n",
      "[CV 2/5] END log__C=10, log__penalty=elasticnet, log__solver=lbfgs;, score=nan total time=   0.0s\n",
      "[CV 3/5] END log__C=10, log__penalty=elasticnet, log__solver=lbfgs;, score=nan total time=   0.0s\n",
      "[CV 4/5] END log__C=10, log__penalty=elasticnet, log__solver=lbfgs;, score=nan total time=   0.0s\n",
      "[CV 5/5] END log__C=10, log__penalty=elasticnet, log__solver=lbfgs;, score=nan total time=   0.0s\n",
      "[CV 5/5] END log__C=0.1, log__penalty=l1, log__solver=lbfgs;, score=nan total time=   0.0s\n",
      "[CV 1/5] END log__C=100, log__penalty=l2, log__solver=liblinear;, score=0.833 total time=   0.0s\n",
      "[CV 2/5] END log__C=100, log__penalty=l2, log__solver=liblinear;, score=0.738 total time=   0.1s\n",
      "[CV 3/5] END log__C=100, log__penalty=l2, log__solver=liblinear;, score=0.714 total time=   0.1s\n",
      "[CV 3/5] END log__C=1, log__penalty=elasticnet, log__solver=lbfgs;, score=nan total time=   0.0s\n",
      "[CV 4/5] END log__C=1, log__penalty=elasticnet, log__solver=lbfgs;, score=nan total time=   0.0s\n",
      "[CV 5/5] END log__C=1, log__penalty=elasticnet, log__solver=lbfgs;, score=nan total time=   0.0s\n",
      "[CV 1/5] END log__C=100, log__penalty=l1, log__solver=newton-cg;, score=nan total time=   0.0s\n",
      "[CV 2/5] END log__C=100, log__penalty=l1, log__solver=newton-cg;, score=nan total time=   0.0s\n",
      "[CV 3/5] END log__C=100, log__penalty=l1, log__solver=newton-cg;, score=nan total time=   0.0s\n",
      "[CV 3/5] END log__C=0.1, log__penalty=l1, log__solver=newton-cg;, score=nan total time=   0.1s\n",
      "[CV 4/5] END log__C=0.1, log__penalty=l1, log__solver=newton-cg;, score=nan total time=   0.0s\n",
      "[CV 4/5] END log__C=100, log__penalty=elasticnet, log__solver=lbfgs;, score=nan total time=   0.0s\n",
      "[CV 5/5] END log__C=100, log__penalty=elasticnet, log__solver=lbfgs;, score=nan total time=   0.0s\n",
      "[CV 1/5] END log__C=10, log__penalty=elasticnet, log__solver=liblinear;, score=nan total time=   0.0s\n",
      "[CV 2/5] END log__C=10, log__penalty=elasticnet, log__solver=liblinear;, score=nan total time=   0.0s\n",
      "[CV 3/5] END log__C=10, log__penalty=elasticnet, log__solver=liblinear;, score=nan total time=   0.0s\n",
      "[CV 4/5] END log__C=10, log__penalty=elasticnet, log__solver=liblinear;, score=nan total time=   0.0s\n",
      "[CV 5/5] END log__C=10, log__penalty=elasticnet, log__solver=liblinear;, score=nan total time=   0.0s\n",
      "[CV 1/5] END log__C=100, log__penalty=l1, log__solver=liblinear;, score=0.833 total time=   0.0s\n",
      "[CV 1/5] END log__C=1, log__penalty=l2, log__solver=saga;, score=0.833 total time=   0.0s\n",
      "[CV 2/5] END log__C=1, log__penalty=l2, log__solver=saga;, score=0.738 total time=   0.0s\n",
      "[CV 3/5] END log__C=1, log__penalty=l2, log__solver=saga;, score=0.714 total time=   0.0s\n",
      "[CV 4/5] END log__C=1, log__penalty=l2, log__solver=saga;, score=0.728 total time=   0.0s\n",
      "[CV 4/5] END log__C=0.01, log__penalty=l1, log__solver=saga;, score=0.648 total time=   0.0s\n",
      "[CV 5/5] END log__C=0.01, log__penalty=l1, log__solver=saga;, score=0.728 total time=   0.0s\n",
      "[CV 1/5] END log__C=100, log__penalty=l2, log__solver=newton-cg;, score=0.833 total time=   0.0s\n",
      "[CV 2/5] END log__C=100, log__penalty=l2, log__solver=newton-cg;, score=0.738 total time=   0.0s\n",
      "[CV 2/5] END log__C=0.1, log__penalty=l2, log__solver=lbfgs;, score=0.738 total time=   0.0s\n",
      "[CV 3/5] END log__C=0.1, log__penalty=l2, log__solver=lbfgs;, score=0.706 total time=   0.0s\n",
      "[CV 4/5] END log__C=0.1, log__penalty=l2, log__solver=lbfgs;, score=0.728 total time=   0.0s\n",
      "[CV 5/5] END log__C=0.1, log__penalty=l2, log__solver=lbfgs;, score=0.808 total time=   0.0s\n",
      "[CV 4/5] END log__C=0.01, log__penalty=l2, log__solver=liblinear;, score=0.720 total time=   0.0s\n",
      "[CV 5/5] END log__C=0.01, log__penalty=l2, log__solver=liblinear;, score=0.776 total time=   0.0s\n",
      "[CV 1/5] END log__C=10, log__penalty=l2, log__solver=newton-cg;, score=0.833 total time=   0.0s\n",
      "[CV 2/5] END log__C=10, log__penalty=l2, log__solver=newton-cg;, score=0.738 total time=   0.0s\n",
      "[CV 2/5] END log__C=0.01, log__penalty=l2, log__solver=newton-cg;, score=0.738 total time=   0.0s\n",
      "[CV 3/5] END log__C=0.01, log__penalty=l2, log__solver=newton-cg;, score=0.683 total time=   0.0s\n",
      "[CV 4/5] END log__C=0.01, log__penalty=l2, log__solver=newton-cg;, score=0.712 total time=   0.0s\n",
      "[CV 5/5] END log__C=0.01, log__penalty=l2, log__solver=newton-cg;, score=0.792 total time=   0.0s\n",
      "[CV 5/5] END log__C=10, log__penalty=l2, log__solver=saga;, score=0.808 total time=   0.0s\n",
      "[CV 1/5] END log__C=0.1, log__penalty=l2, log__solver=saga;, score=0.833 total time=   0.0s\n",
      "[CV 2/5] END log__C=0.1, log__penalty=l2, log__solver=saga;, score=0.738 total time=   0.0s\n",
      "[CV 3/5] END log__C=0.1, log__penalty=l2, log__solver=saga;, score=0.706 total time=   0.0s\n",
      "[CV 3/5] END log__C=1, log__penalty=elasticnet, log__solver=liblinear;, score=nan total time=   0.0s\n",
      "[CV 4/5] END log__C=1, log__penalty=elasticnet, log__solver=liblinear;, score=nan total time=   0.0s\n",
      "[CV 5/5] END log__C=1, log__penalty=elasticnet, log__solver=liblinear;, score=nan total time=   0.0s\n",
      "[CV 1/5] END log__C=100, log__penalty=elasticnet, log__solver=liblinear;, score=nan total time=   0.0s\n",
      "[CV 1/5] END log__C=1, log__penalty=l1, log__solver=lbfgs;, score=nan total time=   0.0s\n",
      "[CV 2/5] END log__C=1, log__penalty=l1, log__solver=lbfgs;, score=nan total time=   0.0s\n",
      "[CV 3/5] END log__C=1, log__penalty=l1, log__solver=lbfgs;, score=nan total time=   0.0s\n",
      "[CV 4/5] END log__C=1, log__penalty=l1, log__solver=lbfgs;, score=nan total time=   0.0s\n",
      "[CV 4/5] END log__C=100, log__penalty=elasticnet, log__solver=newton-cg;, score=nan total time=   0.0s\n",
      "[CV 5/5] END log__C=100, log__penalty=elasticnet, log__solver=newton-cg;, score=nan total time=   0.0s\n",
      "[CV 1/5] END log__C=0.1, log__penalty=l1, log__solver=saga;, score=0.841 total time=   0.0s\n",
      "[CV 2/5] END log__C=0.1, log__penalty=l1, log__solver=saga;, score=0.754 total time=   0.0s\n",
      "[CV 2/5] END log__C=1, log__penalty=l1, log__solver=saga;, score=0.738 total time=   0.0s\n",
      "[CV 3/5] END log__C=1, log__penalty=l1, log__solver=saga;, score=0.706 total time=   0.0s\n",
      "[CV 4/5] END log__C=1, log__penalty=l1, log__solver=saga;, score=0.728 total time=   0.0s\n",
      "[CV 5/5] END log__C=1, log__penalty=l1, log__solver=saga;, score=0.808 total time=   0.0s\n",
      "[CV 4/5] END log__C=1, log__penalty=l2, log__solver=liblinear;, score=0.728 total time=   0.0s\n",
      "[CV 5/5] END log__C=1, log__penalty=l2, log__solver=liblinear;, score=0.808 total time=   0.0s\n",
      "[CV 1/5] END log__C=1, log__penalty=l1, log__solver=liblinear;, score=0.833 total time=   0.0s\n",
      "[CV 2/5] END log__C=1, log__penalty=l1, log__solver=liblinear;, score=0.746 total time=   0.0s\n",
      "[CV 2/5] END log__C=0.1, log__penalty=l2, log__solver=newton-cg;, score=0.738 total time=   0.0s\n",
      "[CV 3/5] END log__C=0.1, log__penalty=l2, log__solver=newton-cg;, score=0.706 total time=   0.0s\n",
      "[CV 4/5] END log__C=0.1, log__penalty=l2, log__solver=newton-cg;, score=0.728 total time=   0.0s\n",
      "[CV 5/5] END log__C=0.1, log__penalty=l2, log__solver=newton-cg;, score=0.808 total time=   0.0s\n",
      "[CV 4/5] END log__C=100, log__penalty=l2, log__solver=saga;, score=0.728 total time=   0.0s\n",
      "[CV 5/5] END log__C=100, log__penalty=l2, log__solver=saga;, score=0.808 total time=   0.0s\n",
      "[CV 1/5] END log__C=0.01, log__penalty=elasticnet, log__solver=saga;, score=nan total time=   0.0s\n",
      "[CV 2/5] END log__C=0.01, log__penalty=elasticnet, log__solver=saga;, score=nan total time=   0.0s\n",
      "[CV 2/5] END log__C=1, log__penalty=elasticnet, log__solver=newton-cg;, score=nan total time=   0.0s\n",
      "[CV 3/5] END log__C=1, log__penalty=elasticnet, log__solver=newton-cg;, score=nan total time=   0.0s\n",
      "[CV 4/5] END log__C=1, log__penalty=elasticnet, log__solver=newton-cg;, score=nan total time=   0.0s\n",
      "[CV 5/5] END log__C=1, log__penalty=elasticnet, log__solver=newton-cg;, score=nan total time=   0.0s\n",
      "[CV 5/5] END log__C=100, log__penalty=l2, log__solver=lbfgs;, score=0.808 total time=   0.0s\n",
      "[CV 1/5] END log__C=10, log__penalty=l2, log__solver=lbfgs;, score=0.833 total time=   0.0s\n",
      "[CV 2/5] END log__C=10, log__penalty=l2, log__solver=lbfgs;, score=0.738 total time=   0.0s\n",
      "[CV 3/5] END log__C=10, log__penalty=l2, log__solver=lbfgs;, score=0.714 total time=   0.0s\n",
      "[CV 3/5] END log__C=10, log__penalty=l1, log__solver=lbfgs;, score=nan total time=   0.0s\n",
      "[CV 4/5] END log__C=10, log__penalty=l1, log__solver=lbfgs;, score=nan total time=   0.0s\n",
      "[CV 5/5] END log__C=10, log__penalty=l1, log__solver=lbfgs;, score=nan total time=   0.0s\n",
      "[CV 1/5] END log__C=1, log__penalty=l2, log__solver=lbfgs;, score=0.833 total time=   0.0s\n",
      "[CV 1/5] END log__C=10, log__penalty=elasticnet, log__solver=newton-cg;, score=nan total time=   0.0s\n",
      "[CV 2/5] END log__C=10, log__penalty=elasticnet, log__solver=newton-cg;, score=nan total time=   0.0s\n",
      "[CV 3/5] END log__C=10, log__penalty=elasticnet, log__solver=newton-cg;, score=nan total time=   0.0s\n",
      "[CV 4/5] END log__C=10, log__penalty=elasticnet, log__solver=newton-cg;, score=nan total time=   0.0s\n",
      "[CV 5/5] END log__C=10, log__penalty=elasticnet, log__solver=newton-cg;, score=nan total time=   0.0s\n",
      "[CV 1/5] END log__C=0.01, log__penalty=l1, log__solver=lbfgs;, score=nan total time=   0.0s\n",
      "[CV 2/5] END log__C=0.01, log__penalty=l1, log__solver=lbfgs;, score=nan total time=   0.0s\n",
      "[CV 3/5] END log__C=0.01, log__penalty=l1, log__solver=lbfgs;, score=nan total time=   0.0s\n",
      "[CV 3/5] END log__C=0.1, log__penalty=elasticnet, log__solver=lbfgs;, score=nan total time=   0.0s\n",
      "[CV 4/5] END log__C=0.1, log__penalty=elasticnet, log__solver=lbfgs;, score=nan total time=   0.0s\n",
      "[CV 5/5] END log__C=0.1, log__penalty=elasticnet, log__solver=lbfgs;, score=nan total time=   0.0s\n",
      "[CV 1/5] END log__C=0.01, log__penalty=l1, log__solver=liblinear;, score=0.810 total time=   0.0s\n",
      "[CV 1/5] END log__C=10, log__penalty=elasticnet, log__solver=saga;, score=nan total time=   0.0s\n",
      "[CV 2/5] END log__C=10, log__penalty=elasticnet, log__solver=saga;, score=nan total time=   0.0s\n",
      "[CV 3/5] END log__C=10, log__penalty=elasticnet, log__solver=saga;, score=nan total time=   0.0s\n",
      "[CV 4/5] END log__C=10, log__penalty=elasticnet, log__solver=saga;, score=nan total time=   0.0s\n",
      "[CV 5/5] END log__C=10, log__penalty=elasticnet, log__solver=saga;, score=nan total time=   0.0s\n",
      "[CV 1/5] END log__C=10, log__penalty=l1, log__solver=saga;, score=0.833 total time=   0.0s\n",
      "[CV 2/5] END log__C=10, log__penalty=l1, log__solver=saga;, score=0.738 total time=   0.0s\n",
      "[CV 3/5] END log__C=10, log__penalty=l1, log__solver=saga;, score=0.714 total time=   0.0s\n",
      "[CV 3/5] END log__C=1, log__penalty=elasticnet, log__solver=saga;, score=nan total time=   0.0s\n",
      "[CV 4/5] END log__C=1, log__penalty=elasticnet, log__solver=saga;, score=nan total time=   0.0s\n",
      "[CV 5/5] END log__C=1, log__penalty=elasticnet, log__solver=saga;, score=nan total time=   0.0s\n",
      "[CV 1/5] END log__C=0.1, log__penalty=elasticnet, log__solver=saga;, score=nan total time=   0.0s\n",
      "[CV 1/5] END log__C=100, log__penalty=l1, log__solver=lbfgs;, score=nan total time=   0.0s\n",
      "[CV 2/5] END log__C=100, log__penalty=l1, log__solver=lbfgs;, score=nan total time=   0.0s\n",
      "[CV 4/5] END log__C=100, log__penalty=l1, log__solver=lbfgs;, score=nan total time=   0.0s\n",
      "[CV 1/5] END log__C=0.01, log__penalty=elasticnet, log__solver=liblinear;, score=nan total time=   0.0s\n",
      "[CV 3/5] END log__C=0.01, log__penalty=elasticnet, log__solver=liblinear;, score=nan total time=   0.0s\n"
     ]
    },
    {
     "data": {
      "text/html": [
       "<style>#sk-container-id-9 {color: black;background-color: white;}#sk-container-id-9 pre{padding: 0;}#sk-container-id-9 div.sk-toggleable {background-color: white;}#sk-container-id-9 label.sk-toggleable__label {cursor: pointer;display: block;width: 100%;margin-bottom: 0;padding: 0.3em;box-sizing: border-box;text-align: center;}#sk-container-id-9 label.sk-toggleable__label-arrow:before {content: \"▸\";float: left;margin-right: 0.25em;color: #696969;}#sk-container-id-9 label.sk-toggleable__label-arrow:hover:before {color: black;}#sk-container-id-9 div.sk-estimator:hover label.sk-toggleable__label-arrow:before {color: black;}#sk-container-id-9 div.sk-toggleable__content {max-height: 0;max-width: 0;overflow: hidden;text-align: left;background-color: #f0f8ff;}#sk-container-id-9 div.sk-toggleable__content pre {margin: 0.2em;color: black;border-radius: 0.25em;background-color: #f0f8ff;}#sk-container-id-9 input.sk-toggleable__control:checked~div.sk-toggleable__content {max-height: 200px;max-width: 100%;overflow: auto;}#sk-container-id-9 input.sk-toggleable__control:checked~label.sk-toggleable__label-arrow:before {content: \"▾\";}#sk-container-id-9 div.sk-estimator input.sk-toggleable__control:checked~label.sk-toggleable__label {background-color: #d4ebff;}#sk-container-id-9 div.sk-label input.sk-toggleable__control:checked~label.sk-toggleable__label {background-color: #d4ebff;}#sk-container-id-9 input.sk-hidden--visually {border: 0;clip: rect(1px 1px 1px 1px);clip: rect(1px, 1px, 1px, 1px);height: 1px;margin: -1px;overflow: hidden;padding: 0;position: absolute;width: 1px;}#sk-container-id-9 div.sk-estimator {font-family: monospace;background-color: #f0f8ff;border: 1px dotted black;border-radius: 0.25em;box-sizing: border-box;margin-bottom: 0.5em;}#sk-container-id-9 div.sk-estimator:hover {background-color: #d4ebff;}#sk-container-id-9 div.sk-parallel-item::after {content: \"\";width: 100%;border-bottom: 1px solid gray;flex-grow: 1;}#sk-container-id-9 div.sk-label:hover label.sk-toggleable__label {background-color: #d4ebff;}#sk-container-id-9 div.sk-serial::before {content: \"\";position: absolute;border-left: 1px solid gray;box-sizing: border-box;top: 0;bottom: 0;left: 50%;z-index: 0;}#sk-container-id-9 div.sk-serial {display: flex;flex-direction: column;align-items: center;background-color: white;padding-right: 0.2em;padding-left: 0.2em;position: relative;}#sk-container-id-9 div.sk-item {position: relative;z-index: 1;}#sk-container-id-9 div.sk-parallel {display: flex;align-items: stretch;justify-content: center;background-color: white;position: relative;}#sk-container-id-9 div.sk-item::before, #sk-container-id-9 div.sk-parallel-item::before {content: \"\";position: absolute;border-left: 1px solid gray;box-sizing: border-box;top: 0;bottom: 0;left: 50%;z-index: -1;}#sk-container-id-9 div.sk-parallel-item {display: flex;flex-direction: column;z-index: 1;position: relative;background-color: white;}#sk-container-id-9 div.sk-parallel-item:first-child::after {align-self: flex-end;width: 50%;}#sk-container-id-9 div.sk-parallel-item:last-child::after {align-self: flex-start;width: 50%;}#sk-container-id-9 div.sk-parallel-item:only-child::after {width: 0;}#sk-container-id-9 div.sk-dashed-wrapped {border: 1px dashed gray;margin: 0 0.4em 0.5em 0.4em;box-sizing: border-box;padding-bottom: 0.4em;background-color: white;}#sk-container-id-9 div.sk-label label {font-family: monospace;font-weight: bold;display: inline-block;line-height: 1.2em;}#sk-container-id-9 div.sk-label-container {text-align: center;}#sk-container-id-9 div.sk-container {/* jupyter's `normalize.less` sets `[hidden] { display: none; }` but bootstrap.min.css set `[hidden] { display: none !important; }` so we also need the `!important` here to be able to override the default hidden behavior on the sphinx rendered scikit-learn.org. See: https://github.com/scikit-learn/scikit-learn/issues/21755 */display: inline-block !important;position: relative;}#sk-container-id-9 div.sk-text-repr-fallback {display: none;}</style><div id=\"sk-container-id-9\" class=\"sk-top-container\"><div class=\"sk-text-repr-fallback\"><pre>RandomizedSearchCV(cv=5,\n",
       "                   estimator=Pipeline(steps=[(&#x27;tranformer&#x27;, StandardScaler()),\n",
       "                                             (&#x27;rf2&#x27;,\n",
       "                                              RandomForestClassifier())]),\n",
       "                   n_iter=50, n_jobs=-1,\n",
       "                   param_distributions={&#x27;rf2__ccp_alpha&#x27;: [0.0, 0.005, 0.01,\n",
       "                                                           0.015, 0.02, 0.025,\n",
       "                                                           0.03, 0.035],\n",
       "                                        &#x27;rf2__criterion&#x27;: [&#x27;gini&#x27;, &#x27;entropy&#x27;,\n",
       "                                                           &#x27;log_loss&#x27;],\n",
       "                                        &#x27;rf2__max_depth&#x27;: [10, 20, 30, 40, 50,\n",
       "                                                           60, 70, 80, 90, 100,\n",
       "                                                           110],\n",
       "                                        &#x27;rf2__max_features&#x27;: [&#x27;sqrt&#x27;, &#x27;log2&#x27;],\n",
       "                                        &#x27;rf2__n_estimators&#x27;: [100, 150, 200,\n",
       "                                                              300, 400, 500]},\n",
       "                   random_state=42, scoring=&#x27;accuracy&#x27;, verbose=3)</pre><b>In a Jupyter environment, please rerun this cell to show the HTML representation or trust the notebook. <br />On GitHub, the HTML representation is unable to render, please try loading this page with nbviewer.org.</b></div><div class=\"sk-container\" hidden><div class=\"sk-item sk-dashed-wrapped\"><div class=\"sk-label-container\"><div class=\"sk-label sk-toggleable\"><input class=\"sk-toggleable__control sk-hidden--visually\" id=\"sk-estimator-id-29\" type=\"checkbox\" ><label for=\"sk-estimator-id-29\" class=\"sk-toggleable__label sk-toggleable__label-arrow\">RandomizedSearchCV</label><div class=\"sk-toggleable__content\"><pre>RandomizedSearchCV(cv=5,\n",
       "                   estimator=Pipeline(steps=[(&#x27;tranformer&#x27;, StandardScaler()),\n",
       "                                             (&#x27;rf2&#x27;,\n",
       "                                              RandomForestClassifier())]),\n",
       "                   n_iter=50, n_jobs=-1,\n",
       "                   param_distributions={&#x27;rf2__ccp_alpha&#x27;: [0.0, 0.005, 0.01,\n",
       "                                                           0.015, 0.02, 0.025,\n",
       "                                                           0.03, 0.035],\n",
       "                                        &#x27;rf2__criterion&#x27;: [&#x27;gini&#x27;, &#x27;entropy&#x27;,\n",
       "                                                           &#x27;log_loss&#x27;],\n",
       "                                        &#x27;rf2__max_depth&#x27;: [10, 20, 30, 40, 50,\n",
       "                                                           60, 70, 80, 90, 100,\n",
       "                                                           110],\n",
       "                                        &#x27;rf2__max_features&#x27;: [&#x27;sqrt&#x27;, &#x27;log2&#x27;],\n",
       "                                        &#x27;rf2__n_estimators&#x27;: [100, 150, 200,\n",
       "                                                              300, 400, 500]},\n",
       "                   random_state=42, scoring=&#x27;accuracy&#x27;, verbose=3)</pre></div></div></div><div class=\"sk-parallel\"><div class=\"sk-parallel-item\"><div class=\"sk-item\"><div class=\"sk-label-container\"><div class=\"sk-label sk-toggleable\"><input class=\"sk-toggleable__control sk-hidden--visually\" id=\"sk-estimator-id-30\" type=\"checkbox\" ><label for=\"sk-estimator-id-30\" class=\"sk-toggleable__label sk-toggleable__label-arrow\">estimator: Pipeline</label><div class=\"sk-toggleable__content\"><pre>Pipeline(steps=[(&#x27;tranformer&#x27;, StandardScaler()),\n",
       "                (&#x27;rf2&#x27;, RandomForestClassifier())])</pre></div></div></div><div class=\"sk-serial\"><div class=\"sk-item\"><div class=\"sk-serial\"><div class=\"sk-item\"><div class=\"sk-estimator sk-toggleable\"><input class=\"sk-toggleable__control sk-hidden--visually\" id=\"sk-estimator-id-31\" type=\"checkbox\" ><label for=\"sk-estimator-id-31\" class=\"sk-toggleable__label sk-toggleable__label-arrow\">StandardScaler</label><div class=\"sk-toggleable__content\"><pre>StandardScaler()</pre></div></div></div><div class=\"sk-item\"><div class=\"sk-estimator sk-toggleable\"><input class=\"sk-toggleable__control sk-hidden--visually\" id=\"sk-estimator-id-32\" type=\"checkbox\" ><label for=\"sk-estimator-id-32\" class=\"sk-toggleable__label sk-toggleable__label-arrow\">RandomForestClassifier</label><div class=\"sk-toggleable__content\"><pre>RandomForestClassifier()</pre></div></div></div></div></div></div></div></div></div></div></div></div>"
      ],
      "text/plain": [
       "RandomizedSearchCV(cv=5,\n",
       "                   estimator=Pipeline(steps=[('tranformer', StandardScaler()),\n",
       "                                             ('rf2',\n",
       "                                              RandomForestClassifier())]),\n",
       "                   n_iter=50, n_jobs=-1,\n",
       "                   param_distributions={'rf2__ccp_alpha': [0.0, 0.005, 0.01,\n",
       "                                                           0.015, 0.02, 0.025,\n",
       "                                                           0.03, 0.035],\n",
       "                                        'rf2__criterion': ['gini', 'entropy',\n",
       "                                                           'log_loss'],\n",
       "                                        'rf2__max_depth': [10, 20, 30, 40, 50,\n",
       "                                                           60, 70, 80, 90, 100,\n",
       "                                                           110],\n",
       "                                        'rf2__max_features': ['sqrt', 'log2'],\n",
       "                                        'rf2__n_estimators': [100, 150, 200,\n",
       "                                                              300, 400, 500]},\n",
       "                   random_state=42, scoring='accuracy', verbose=3)"
      ]
     },
     "execution_count": 123,
     "metadata": {},
     "output_type": "execute_result"
    }
   ],
   "source": [
    "rand_gridsearch_rf2.fit(X_train_bruno, y_train_bruno)"
   ]
  },
  {
   "cell_type": "code",
   "execution_count": 124,
   "metadata": {},
   "outputs": [],
   "source": [
    "# Store the best model\n",
    "best_model_rf2_2 = rand_gridsearch_rf2.best_estimator_"
   ]
  },
  {
   "cell_type": "code",
   "execution_count": 125,
   "metadata": {},
   "outputs": [],
   "source": [
    "# Make new predictions with the tuned model\n",
    "rf2_pred2 = best_model_rf2_2.predict(X_test_bruno)"
   ]
  },
  {
   "cell_type": "code",
   "execution_count": 126,
   "metadata": {},
   "outputs": [
    {
     "data": {
      "text/plain": [
       "0.7619047619047619"
      ]
     },
     "execution_count": 126,
     "metadata": {},
     "output_type": "execute_result"
    }
   ],
   "source": [
    "best_model_rf2_2.score(X_test_bruno, y_test_bruno)"
   ]
  },
  {
   "cell_type": "code",
   "execution_count": 127,
   "metadata": {},
   "outputs": [
    {
     "name": "stdout",
     "output_type": "stream",
     "text": [
      "\t\tClassification Report - Tuned Random Forest\n",
      "\n",
      "               precision    recall  f1-score   support\n",
      "\n",
      "           0       0.82      0.81      0.82       151\n",
      "           1       0.65      0.68      0.66        80\n",
      "\n",
      "    accuracy                           0.76       231\n",
      "   macro avg       0.74      0.74      0.74       231\n",
      "weighted avg       0.76      0.76      0.76       231\n",
      "\n",
      "[CV 4/5] END rf2__ccp_alpha=0.025, rf2__criterion=entropy, rf2__max_depth=40, rf2__max_features=sqrt, rf2__n_estimators=100;, score=0.776 total time=   1.2s\n",
      "[CV 3/5] END rf2__ccp_alpha=0.0, rf2__criterion=entropy, rf2__max_depth=40, rf2__max_features=sqrt, rf2__n_estimators=200;, score=0.770 total time=   2.8s\n",
      "[CV 1/5] END rf2__ccp_alpha=0.025, rf2__criterion=entropy, rf2__max_depth=100, rf2__max_features=log2, rf2__n_estimators=300;, score=0.849 total time=   6.5s\n",
      "[CV 4/5] END rf2__ccp_alpha=0.02, rf2__criterion=log_loss, rf2__max_depth=100, rf2__max_features=sqrt, rf2__n_estimators=400;, score=0.784 total time=   5.1s\n",
      "[CV 1/5] END rf2__ccp_alpha=0.035, rf2__criterion=gini, rf2__max_depth=100, rf2__max_features=sqrt, rf2__n_estimators=150;, score=0.857 total time=   1.3s\n",
      "[CV 4/5] END rf2__ccp_alpha=0.005, rf2__criterion=entropy, rf2__max_depth=70, rf2__max_features=sqrt, rf2__n_estimators=200;, score=0.848 total time=   1.4s\n",
      "[CV 2/5] END rf2__ccp_alpha=0.03, rf2__criterion=gini, rf2__max_depth=100, rf2__max_features=log2, rf2__n_estimators=100;, score=0.683 total time=   0.7s\n",
      "[CV 5/5] END rf2__ccp_alpha=0.03, rf2__criterion=gini, rf2__max_depth=100, rf2__max_features=log2, rf2__n_estimators=100;, score=0.800 total time=   0.8s\n",
      "[CV 3/5] END rf2__ccp_alpha=0.025, rf2__criterion=log_loss, rf2__max_depth=60, rf2__max_features=log2, rf2__n_estimators=500;, score=0.738 total time=   3.7s\n",
      "[CV 2/5] END rf2__ccp_alpha=0.035, rf2__criterion=entropy, rf2__max_depth=10, rf2__max_features=sqrt, rf2__n_estimators=200;, score=0.722 total time=   1.5s\n",
      "[CV 2/5] END rf2__ccp_alpha=0.03, rf2__criterion=gini, rf2__max_depth=40, rf2__max_features=log2, rf2__n_estimators=300;, score=0.683 total time=   3.0s\n",
      "[CV 5/5] END rf2__ccp_alpha=0.025, rf2__criterion=log_loss, rf2__max_depth=20, rf2__max_features=sqrt, rf2__n_estimators=400;, score=0.824 total time=   4.8s\n",
      "[CV 2/5] END rf2__ccp_alpha=0.005, rf2__criterion=entropy, rf2__max_depth=80, rf2__max_features=log2, rf2__n_estimators=300;, score=0.778 total time=   5.1s\n",
      "[CV 3/5] END rf2__ccp_alpha=0.025, rf2__criterion=entropy, rf2__max_depth=90, rf2__max_features=sqrt, rf2__n_estimators=300;, score=0.730 total time=   5.5s\n",
      "[CV 1/5] END rf2__ccp_alpha=0.01, rf2__criterion=entropy, rf2__max_depth=80, rf2__max_features=sqrt, rf2__n_estimators=300;, score=0.873 total time=   4.8s\n",
      "[CV 2/5] END rf2__ccp_alpha=0.025, rf2__criterion=gini, rf2__max_depth=100, rf2__max_features=sqrt, rf2__n_estimators=150;, score=0.698 total time=   2.0s\n",
      "[CV 3/5] END rf2__ccp_alpha=0.01, rf2__criterion=entropy, rf2__max_depth=70, rf2__max_features=log2, rf2__n_estimators=400;, score=0.762 total time=   5.1s\n",
      "[CV 5/5] END rf2__ccp_alpha=0.01, rf2__criterion=entropy, rf2__max_depth=80, rf2__max_features=log2, rf2__n_estimators=400;, score=0.816 total time=   4.6s\n",
      "[CV 1/5] END rf2__ccp_alpha=0.035, rf2__criterion=entropy, rf2__max_depth=70, rf2__max_features=sqrt, rf2__n_estimators=200;, score=0.849 total time=   2.1s\n",
      "[CV 2/5] END rf2__ccp_alpha=0.02, rf2__criterion=entropy, rf2__max_depth=100, rf2__max_features=log2, rf2__n_estimators=150;, score=0.762 total time=   1.9s\n",
      "[CV 5/5] END rf2__ccp_alpha=0.005, rf2__criterion=entropy, rf2__max_depth=60, rf2__max_features=log2, rf2__n_estimators=100;, score=0.848 total time=   1.2s\n",
      "[CV 3/5] END rf2__ccp_alpha=0.02, rf2__criterion=entropy, rf2__max_depth=20, rf2__max_features=log2, rf2__n_estimators=150;, score=0.762 total time=   2.1s\n",
      "[CV 1/5] END rf2__ccp_alpha=0.005, rf2__criterion=entropy, rf2__max_depth=50, rf2__max_features=sqrt, rf2__n_estimators=500;, score=0.841 total time=   6.1s\n",
      "[CV 4/5] END rf2__ccp_alpha=0.0, rf2__criterion=entropy, rf2__max_depth=70, rf2__max_features=log2, rf2__n_estimators=400;, score=0.840 total time=   3.5s\n",
      "[CV 2/5] END rf2__ccp_alpha=0.0, rf2__criterion=gini, rf2__max_depth=20, rf2__max_features=sqrt, rf2__n_estimators=500;, score=0.794 total time=   3.3s\n",
      "[CV 3/5] END rf2__ccp_alpha=0.01, rf2__criterion=entropy, rf2__max_depth=20, rf2__max_features=sqrt, rf2__n_estimators=150;, score=0.762 total time=   1.4s\n",
      "[CV 4/5] END rf2__ccp_alpha=0.03, rf2__criterion=log_loss, rf2__max_depth=30, rf2__max_features=log2, rf2__n_estimators=300;, score=0.784 total time=   4.1s\n",
      "[CV 2/5] END rf2__ccp_alpha=0.005, rf2__criterion=gini, rf2__max_depth=20, rf2__max_features=log2, rf2__n_estimators=100;, score=0.746 total time=   1.1s\n",
      "[CV 5/5] END rf2__ccp_alpha=0.005, rf2__criterion=gini, rf2__max_depth=20, rf2__max_features=log2, rf2__n_estimators=100;, score=0.840 total time=   1.1s\n",
      "[CV 3/5] END rf2__ccp_alpha=0.0, rf2__criterion=entropy, rf2__max_depth=70, rf2__max_features=log2, rf2__n_estimators=150;, score=0.762 total time=   1.2s\n",
      "[CV 3/5] END rf2__ccp_alpha=0.02, rf2__criterion=log_loss, rf2__max_depth=50, rf2__max_features=log2, rf2__n_estimators=100;, score=0.762 total time=   1.0s\n",
      "[CV 4/5] END rf2__ccp_alpha=0.0, rf2__criterion=entropy, rf2__max_depth=110, rf2__max_features=sqrt, rf2__n_estimators=200;, score=0.840 total time=   1.5s\n",
      "[CV 3/5] END rf2__ccp_alpha=0.01, rf2__criterion=log_loss, rf2__max_depth=60, rf2__max_features=log2, rf2__n_estimators=200;, score=0.785 total time=   2.1s\n",
      "[CV 5/5] END rf2__ccp_alpha=0.0, rf2__criterion=entropy, rf2__max_depth=40, rf2__max_features=sqrt, rf2__n_estimators=200;, score=0.776 total time=   2.2s\n",
      "[CV 3/5] END rf2__ccp_alpha=0.025, rf2__criterion=entropy, rf2__max_depth=100, rf2__max_features=log2, rf2__n_estimators=300;, score=0.748 total time=   3.4s\n",
      "[CV 1/5] END rf2__ccp_alpha=0.005, rf2__criterion=gini, rf2__max_depth=20, rf2__max_features=sqrt, rf2__n_estimators=300;, score=0.796 total time=   3.1s\n",
      "[CV 2/5] END rf2__ccp_alpha=0.005, rf2__criterion=gini, rf2__max_depth=60, rf2__max_features=sqrt, rf2__n_estimators=150;, score=0.796 total time=   1.6s\n",
      "[CV 3/5] END rf2__ccp_alpha=0.035, rf2__criterion=gini, rf2__max_depth=100, rf2__max_features=sqrt, rf2__n_estimators=150;, score=0.766 total time=   1.5s\n",
      "[CV 1/5] END rf2__ccp_alpha=0.025, rf2__criterion=log_loss, rf2__max_depth=80, rf2__max_features=log2, rf2__n_estimators=500;, score=0.778 total time=   5.5s\n",
      "[CV 5/5] END rf2__ccp_alpha=0.025, rf2__criterion=log_loss, rf2__max_depth=60, rf2__max_features=log2, rf2__n_estimators=500;, score=0.785 total time=   5.3s\n",
      "[CV 3/5] END rf2__ccp_alpha=0.03, rf2__criterion=gini, rf2__max_depth=40, rf2__max_features=log2, rf2__n_estimators=300;, score=0.776 total time=   2.1s\n",
      "[CV 1/5] END rf2__ccp_alpha=0.035, rf2__criterion=gini, rf2__max_depth=90, rf2__max_features=log2, rf2__n_estimators=300;, score=0.769 total time=   1.8s\n",
      "[CV 2/5] END rf2__ccp_alpha=0.03, rf2__criterion=entropy, rf2__max_depth=40, rf2__max_features=log2, rf2__n_estimators=100;, score=0.750 total time=   0.6s\n",
      "[CV 3/5] END rf2__ccp_alpha=0.005, rf2__criterion=entropy, rf2__max_depth=80, rf2__max_features=log2, rf2__n_estimators=300;, score=0.785 total time=   2.0s\n",
      "[CV 4/5] END rf2__ccp_alpha=0.025, rf2__criterion=entropy, rf2__max_depth=90, rf2__max_features=sqrt, rf2__n_estimators=300;, score=0.710 total time=   5.6s\n",
      "[CV 2/5] END rf2__ccp_alpha=0.01, rf2__criterion=entropy, rf2__max_depth=80, rf2__max_features=sqrt, rf2__n_estimators=300;, score=0.787 total time=   4.4s\n",
      "[CV 5/5] END rf2__ccp_alpha=0.025, rf2__criterion=gini, rf2__max_depth=100, rf2__max_features=sqrt, rf2__n_estimators=150;, score=0.757 total time=   2.0s\n",
      "[CV 1/5] END rf2__ccp_alpha=0.0, rf2__criterion=entropy, rf2__max_depth=60, rf2__max_features=sqrt, rf2__n_estimators=200;, score=0.778 total time=   2.9s\n",
      "[CV 4/5] END rf2__ccp_alpha=0.0, rf2__criterion=entropy, rf2__max_depth=60, rf2__max_features=sqrt, rf2__n_estimators=200;, score=0.729 total time=   2.3s\n",
      "[CV 5/5] END rf2__ccp_alpha=0.01, rf2__criterion=entropy, rf2__max_depth=80, rf2__max_features=log2, rf2__n_estimators=400;, score=0.766 total time=   3.7s\n",
      "[CV 3/5] END rf2__ccp_alpha=0.0, rf2__criterion=gini, rf2__max_depth=90, rf2__max_features=log2, rf2__n_estimators=100;, score=0.766 total time=   0.7s\n",
      "[CV 4/5] END rf2__ccp_alpha=0.035, rf2__criterion=entropy, rf2__max_depth=70, rf2__max_features=sqrt, rf2__n_estimators=200;, score=0.710 total time=   2.5s\n",
      "[CV 2/5] END rf2__ccp_alpha=0.005, rf2__criterion=entropy, rf2__max_depth=60, rf2__max_features=log2, rf2__n_estimators=100;, score=0.769 total time=   1.4s\n",
      "[CV 2/5] END rf2__ccp_alpha=0.01, rf2__criterion=gini, rf2__max_depth=50, rf2__max_features=sqrt, rf2__n_estimators=100;, score=0.778 total time=   1.5s\n",
      "[CV 5/5] END rf2__ccp_alpha=0.02, rf2__criterion=entropy, rf2__max_depth=20, rf2__max_features=log2, rf2__n_estimators=150;, score=0.785 total time=   3.2s\n",
      "[CV 3/5] END rf2__ccp_alpha=0.005, rf2__criterion=entropy, rf2__max_depth=50, rf2__max_features=sqrt, rf2__n_estimators=500;, score=0.776 total time=   9.5s\n",
      "[CV 2/5] END rf2__ccp_alpha=0.005, rf2__criterion=gini, rf2__max_depth=70, rf2__max_features=sqrt, rf2__n_estimators=300;, score=0.787 total time=   5.6s\n",
      "[CV 2/5] END rf2__ccp_alpha=0.03, rf2__criterion=log_loss, rf2__max_depth=70, rf2__max_features=log2, rf2__n_estimators=500;, score=0.759 total time=  11.5s\n",
      "[CV 1/5] END rf2__ccp_alpha=0.01, rf2__criterion=entropy, rf2__max_depth=20, rf2__max_features=sqrt, rf2__n_estimators=150;, score=0.787 total time=   3.4s\n",
      "[CV 2/5] END rf2__ccp_alpha=0.03, rf2__criterion=log_loss, rf2__max_depth=30, rf2__max_features=log2, rf2__n_estimators=300;, score=0.741 total time=   6.9s\n",
      "[CV 5/5] END rf2__ccp_alpha=0.025, rf2__criterion=log_loss, rf2__max_depth=110, rf2__max_features=log2, rf2__n_estimators=500;, score=0.757 total time=   6.7s\n",
      "[CV 1/5] END rf2__ccp_alpha=0.0, rf2__criterion=log_loss, rf2__max_depth=30, rf2__max_features=sqrt, rf2__n_estimators=150;, score=0.778 total time=   2.0s\n"
     ]
    },
    {
     "name": "stdout",
     "output_type": "stream",
     "text": [
      "[CV 3/5] END rf2__ccp_alpha=0.025, rf2__criterion=entropy, rf2__max_depth=40, rf2__max_features=sqrt, rf2__n_estimators=100;, score=0.746 total time=   1.3s\n",
      "[CV 5/5] END rf2__ccp_alpha=0.0, rf2__criterion=entropy, rf2__max_depth=40, rf2__max_features=sqrt, rf2__n_estimators=200;, score=0.848 total time=   2.9s\n",
      "[CV 3/5] END rf2__ccp_alpha=0.025, rf2__criterion=entropy, rf2__max_depth=100, rf2__max_features=log2, rf2__n_estimators=300;, score=0.738 total time=   6.6s\n",
      "[CV 5/5] END rf2__ccp_alpha=0.02, rf2__criterion=log_loss, rf2__max_depth=100, rf2__max_features=sqrt, rf2__n_estimators=400;, score=0.840 total time=   4.9s\n",
      "[CV 2/5] END rf2__ccp_alpha=0.035, rf2__criterion=gini, rf2__max_depth=100, rf2__max_features=sqrt, rf2__n_estimators=150;, score=0.722 total time=   1.3s\n",
      "[CV 5/5] END rf2__ccp_alpha=0.005, rf2__criterion=entropy, rf2__max_depth=70, rf2__max_features=sqrt, rf2__n_estimators=200;, score=0.848 total time=   1.4s\n",
      "[CV 3/5] END rf2__ccp_alpha=0.03, rf2__criterion=gini, rf2__max_depth=100, rf2__max_features=log2, rf2__n_estimators=100;, score=0.722 total time=   0.7s\n",
      "[CV 1/5] END rf2__ccp_alpha=0.025, rf2__criterion=log_loss, rf2__max_depth=60, rf2__max_features=log2, rf2__n_estimators=500;, score=0.865 total time=   3.9s\n",
      "[CV 4/5] END rf2__ccp_alpha=0.035, rf2__criterion=entropy, rf2__max_depth=70, rf2__max_features=log2, rf2__n_estimators=300;, score=0.784 total time=   2.4s\n",
      "[CV 4/5] END rf2__ccp_alpha=0.03, rf2__criterion=gini, rf2__max_depth=40, rf2__max_features=log2, rf2__n_estimators=300;, score=0.728 total time=   3.1s\n",
      "[CV 2/5] END rf2__ccp_alpha=0.035, rf2__criterion=gini, rf2__max_depth=90, rf2__max_features=log2, rf2__n_estimators=300;, score=0.683 total time=   3.6s\n",
      "[CV 3/5] END rf2__ccp_alpha=0.03, rf2__criterion=entropy, rf2__max_depth=40, rf2__max_features=log2, rf2__n_estimators=100;, score=0.730 total time=   1.3s\n",
      "[CV 4/5] END rf2__ccp_alpha=0.005, rf2__criterion=entropy, rf2__max_depth=80, rf2__max_features=log2, rf2__n_estimators=300;, score=0.840 total time=   5.5s\n",
      "[CV 5/5] END rf2__ccp_alpha=0.025, rf2__criterion=entropy, rf2__max_depth=90, rf2__max_features=sqrt, rf2__n_estimators=300;, score=0.824 total time=   5.6s\n",
      "[CV 3/5] END rf2__ccp_alpha=0.01, rf2__criterion=entropy, rf2__max_depth=80, rf2__max_features=sqrt, rf2__n_estimators=300;, score=0.762 total time=   4.5s\n",
      "[CV 1/5] END rf2__ccp_alpha=0.01, rf2__criterion=entropy, rf2__max_depth=70, rf2__max_features=log2, rf2__n_estimators=400;, score=0.857 total time=   5.4s\n",
      "[CV 2/5] END rf2__ccp_alpha=0.01, rf2__criterion=entropy, rf2__max_depth=80, rf2__max_features=log2, rf2__n_estimators=400;, score=0.786 total time=   4.6s\n",
      "[CV 5/5] END rf2__ccp_alpha=0.0, rf2__criterion=entropy, rf2__max_depth=40, rf2__max_features=log2, rf2__n_estimators=400;, score=0.848 total time=   4.4s\n",
      "[CV 4/5] END rf2__ccp_alpha=0.005, rf2__criterion=entropy, rf2__max_depth=60, rf2__max_features=log2, rf2__n_estimators=100;, score=0.856 total time=   1.2s\n",
      "[CV 5/5] END rf2__ccp_alpha=0.01, rf2__criterion=gini, rf2__max_depth=50, rf2__max_features=sqrt, rf2__n_estimators=100;, score=0.824 total time=   1.1s\n",
      "[CV 3/5] END rf2__ccp_alpha=0.015, rf2__criterion=log_loss, rf2__max_depth=50, rf2__max_features=sqrt, rf2__n_estimators=200;, score=0.762 total time=   2.6s\n",
      "[CV 1/5] END rf2__ccp_alpha=0.0, rf2__criterion=entropy, rf2__max_depth=70, rf2__max_features=log2, rf2__n_estimators=400;, score=0.833 total time=   5.0s\n",
      "[CV 5/5] END rf2__ccp_alpha=0.0, rf2__criterion=entropy, rf2__max_depth=70, rf2__max_features=log2, rf2__n_estimators=400;, score=0.856 total time=   3.5s\n",
      "[CV 3/5] END rf2__ccp_alpha=0.0, rf2__criterion=gini, rf2__max_depth=20, rf2__max_features=sqrt, rf2__n_estimators=500;, score=0.762 total time=   3.3s\n",
      "[CV 4/5] END rf2__ccp_alpha=0.01, rf2__criterion=entropy, rf2__max_depth=20, rf2__max_features=sqrt, rf2__n_estimators=150;, score=0.792 total time=   1.3s\n",
      "[CV 5/5] END rf2__ccp_alpha=0.03, rf2__criterion=log_loss, rf2__max_depth=30, rf2__max_features=log2, rf2__n_estimators=300;, score=0.832 total time=   4.2s\n",
      "[CV 3/5] END rf2__ccp_alpha=0.005, rf2__criterion=gini, rf2__max_depth=20, rf2__max_features=log2, rf2__n_estimators=100;, score=0.746 total time=   1.1s\n",
      "[CV 1/5] END rf2__ccp_alpha=0.0, rf2__criterion=entropy, rf2__max_depth=70, rf2__max_features=log2, rf2__n_estimators=150;, score=0.841 total time=   1.5s\n",
      "[CV 5/5] END rf2__ccp_alpha=0.0, rf2__criterion=entropy, rf2__max_depth=70, rf2__max_features=log2, rf2__n_estimators=150;, score=0.864 total time=   1.3s\n",
      "[CV 1/5] END rf2__ccp_alpha=0.0, rf2__criterion=entropy, rf2__max_depth=110, rf2__max_features=sqrt, rf2__n_estimators=200;, score=0.841 total time=   1.4s\n",
      "[CV 4/5] END rf2__ccp_alpha=0.0, rf2__criterion=log_loss, rf2__max_depth=30, rf2__max_features=sqrt, rf2__n_estimators=150;, score=0.856 total time=   0.7s\n",
      "[CV 1/5] END rf2__ccp_alpha=0.01, rf2__criterion=log_loss, rf2__max_depth=60, rf2__max_features=log2, rf2__n_estimators=200;, score=0.787 total time=   2.2s\n",
      "[CV 1/5] END rf2__ccp_alpha=0.035, rf2__criterion=log_loss, rf2__max_depth=110, rf2__max_features=sqrt, rf2__n_estimators=200;, score=0.787 total time=   2.5s\n",
      "[CV 4/5] END rf2__ccp_alpha=0.025, rf2__criterion=entropy, rf2__max_depth=100, rf2__max_features=log2, rf2__n_estimators=300;, score=0.720 total time=   3.4s\n",
      "[CV 2/5] END rf2__ccp_alpha=0.005, rf2__criterion=gini, rf2__max_depth=20, rf2__max_features=sqrt, rf2__n_estimators=300;, score=0.759 total time=   3.2s\n",
      "[CV 3/5] END rf2__ccp_alpha=0.005, rf2__criterion=gini, rf2__max_depth=60, rf2__max_features=sqrt, rf2__n_estimators=150;, score=0.766 total time=   1.5s\n",
      "[CV 4/5] END rf2__ccp_alpha=0.035, rf2__criterion=gini, rf2__max_depth=100, rf2__max_features=sqrt, rf2__n_estimators=150;, score=0.710 total time=   1.5s\n",
      "[CV 2/5] END rf2__ccp_alpha=0.025, rf2__criterion=log_loss, rf2__max_depth=80, rf2__max_features=log2, rf2__n_estimators=500;, score=0.769 total time=   5.4s\n",
      "[CV 4/5] END rf2__ccp_alpha=0.025, rf2__criterion=log_loss, rf2__max_depth=60, rf2__max_features=log2, rf2__n_estimators=500;, score=0.710 total time=   5.3s\n",
      "[CV 1/5] END rf2__ccp_alpha=0.03, rf2__criterion=gini, rf2__max_depth=40, rf2__max_features=log2, rf2__n_estimators=300;, score=0.787 total time=   2.1s\n",
      "[CV 4/5] END rf2__ccp_alpha=0.025, rf2__criterion=log_loss, rf2__max_depth=20, rf2__max_features=sqrt, rf2__n_estimators=400;, score=0.710 total time=   2.4s\n",
      "[CV 1/5] END rf2__ccp_alpha=0.005, rf2__criterion=entropy, rf2__max_depth=80, rf2__max_features=log2, rf2__n_estimators=300;, score=0.778 total time=   2.0s\n",
      "[CV 2/5] END rf2__ccp_alpha=0.025, rf2__criterion=entropy, rf2__max_depth=90, rf2__max_features=sqrt, rf2__n_estimators=300;, score=0.750 total time=   5.3s\n",
      "[CV 5/5] END rf2__ccp_alpha=0.035, rf2__criterion=entropy, rf2__max_depth=30, rf2__max_features=log2, rf2__n_estimators=300;, score=0.748 total time=   4.6s\n",
      "[CV 4/5] END rf2__ccp_alpha=0.025, rf2__criterion=gini, rf2__max_depth=100, rf2__max_features=sqrt, rf2__n_estimators=150;, score=0.720 total time=   2.1s\n",
      "[CV 5/5] END rf2__ccp_alpha=0.01, rf2__criterion=entropy, rf2__max_depth=70, rf2__max_features=log2, rf2__n_estimators=400;, score=0.785 total time=   5.8s\n",
      "[CV 3/5] END rf2__ccp_alpha=0.0, rf2__criterion=entropy, rf2__max_depth=40, rf2__max_features=log2, rf2__n_estimators=400;, score=0.785 total time=   3.5s\n",
      "[CV 1/5] END rf2__ccp_alpha=0.035, rf2__criterion=entropy, rf2__max_depth=70, rf2__max_features=sqrt, rf2__n_estimators=200;, score=0.778 total time=   1.9s\n",
      "[CV 2/5] END rf2__ccp_alpha=0.02, rf2__criterion=entropy, rf2__max_depth=100, rf2__max_features=log2, rf2__n_estimators=150;, score=0.778 total time=   2.3s\n",
      "[CV 5/5] END rf2__ccp_alpha=0.005, rf2__criterion=entropy, rf2__max_depth=60, rf2__max_features=log2, rf2__n_estimators=100;, score=0.757 total time=   1.3s\n",
      "[CV 3/5] END rf2__ccp_alpha=0.02, rf2__criterion=entropy, rf2__max_depth=20, rf2__max_features=log2, rf2__n_estimators=150;, score=0.748 total time=   3.2s\n",
      "[CV 1/5] END rf2__ccp_alpha=0.005, rf2__criterion=entropy, rf2__max_depth=50, rf2__max_features=sqrt, rf2__n_estimators=500;, score=0.787 total time=  10.0s\n",
      "[CV 1/5] END rf2__ccp_alpha=0.005, rf2__criterion=gini, rf2__max_depth=70, rf2__max_features=sqrt, rf2__n_estimators=300;, score=0.778 total time=   5.8s\n",
      "[CV 3/5] END rf2__ccp_alpha=0.03, rf2__criterion=log_loss, rf2__max_depth=70, rf2__max_features=log2, rf2__n_estimators=500;, score=0.757 total time=  11.8s\n",
      "[CV 2/5] END rf2__ccp_alpha=0.01, rf2__criterion=entropy, rf2__max_depth=20, rf2__max_features=sqrt, rf2__n_estimators=150;, score=0.778 total time=   3.5s\n",
      "[CV 3/5] END rf2__ccp_alpha=0.03, rf2__criterion=log_loss, rf2__max_depth=30, rf2__max_features=log2, rf2__n_estimators=300;, score=0.757 total time=   6.7s\n",
      "[CV 1/5] END rf2__ccp_alpha=0.005, rf2__criterion=gini, rf2__max_depth=20, rf2__max_features=log2, rf2__n_estimators=100;, score=0.796 total time=   1.3s\n",
      "[CV 4/5] END rf2__ccp_alpha=0.005, rf2__criterion=gini, rf2__max_depth=20, rf2__max_features=log2, rf2__n_estimators=100;, score=0.720 total time=   1.4s\n",
      "[CV 2/5] END rf2__ccp_alpha=0.0, rf2__criterion=entropy, rf2__max_depth=70, rf2__max_features=log2, rf2__n_estimators=150;, score=0.787 total time=   1.8s\n",
      "[CV 2/5] END rf2__ccp_alpha=0.02, rf2__criterion=log_loss, rf2__max_depth=50, rf2__max_features=log2, rf2__n_estimators=100;, score=0.796 total time=   1.2s\n",
      "[CV 3/5] END rf2__ccp_alpha=0.0, rf2__criterion=entropy, rf2__max_depth=110, rf2__max_features=sqrt, rf2__n_estimators=200;, score=0.776 total time=   2.6s\n"
     ]
    },
    {
     "name": "stdout",
     "output_type": "stream",
     "text": [
      "[CV 3/5] END rf2__ccp_alpha=0.01, rf2__criterion=log_loss, rf2__max_depth=60, rf2__max_features=log2, rf2__n_estimators=200;, score=0.778 total time=   2.9s\n",
      "[CV 5/5] END rf2__ccp_alpha=0.035, rf2__criterion=log_loss, rf2__max_depth=110, rf2__max_features=sqrt, rf2__n_estimators=200;, score=0.848 total time=   2.7s\n",
      "[CV 3/5] END rf2__ccp_alpha=0.02, rf2__criterion=log_loss, rf2__max_depth=100, rf2__max_features=sqrt, rf2__n_estimators=400;, score=0.738 total time=   7.7s\n",
      "[CV 1/5] END rf2__ccp_alpha=0.005, rf2__criterion=gini, rf2__max_depth=60, rf2__max_features=sqrt, rf2__n_estimators=150;, score=0.849 total time=   1.5s\n",
      "[CV 3/5] END rf2__ccp_alpha=0.005, rf2__criterion=gini, rf2__max_depth=60, rf2__max_features=sqrt, rf2__n_estimators=150;, score=0.746 total time=   1.5s\n",
      "[CV 1/5] END rf2__ccp_alpha=0.005, rf2__criterion=entropy, rf2__max_depth=70, rf2__max_features=sqrt, rf2__n_estimators=200;, score=0.825 total time=   1.5s\n",
      "[CV 4/5] END rf2__ccp_alpha=0.025, rf2__criterion=log_loss, rf2__max_depth=80, rf2__max_features=log2, rf2__n_estimators=500;, score=0.784 total time=   3.8s\n",
      "[CV 2/5] END rf2__ccp_alpha=0.035, rf2__criterion=entropy, rf2__max_depth=70, rf2__max_features=log2, rf2__n_estimators=300;, score=0.762 total time=   2.2s\n",
      "[CV 3/5] END rf2__ccp_alpha=0.035, rf2__criterion=entropy, rf2__max_depth=10, rf2__max_features=sqrt, rf2__n_estimators=200;, score=0.730 total time=   1.6s\n",
      "[CV 5/5] END rf2__ccp_alpha=0.03, rf2__criterion=gini, rf2__max_depth=40, rf2__max_features=log2, rf2__n_estimators=300;, score=0.800 total time=   3.3s\n",
      "[CV 3/5] END rf2__ccp_alpha=0.035, rf2__criterion=gini, rf2__max_depth=90, rf2__max_features=log2, rf2__n_estimators=300;, score=0.690 total time=   3.4s\n",
      "[CV 4/5] END rf2__ccp_alpha=0.03, rf2__criterion=entropy, rf2__max_depth=40, rf2__max_features=log2, rf2__n_estimators=100;, score=0.776 total time=   1.3s\n",
      "[CV 5/5] END rf2__ccp_alpha=0.005, rf2__criterion=entropy, rf2__max_depth=80, rf2__max_features=log2, rf2__n_estimators=300;, score=0.856 total time=   5.7s\n",
      "[CV 2/5] END rf2__ccp_alpha=0.01, rf2__criterion=entropy, rf2__max_depth=50, rf2__max_features=log2, rf2__n_estimators=100;, score=0.762 total time=   1.8s\n",
      "[CV 4/5] END rf2__ccp_alpha=0.01, rf2__criterion=entropy, rf2__max_depth=50, rf2__max_features=log2, rf2__n_estimators=100;, score=0.800 total time=   2.0s\n",
      "[CV 3/5] END rf2__ccp_alpha=0.035, rf2__criterion=entropy, rf2__max_depth=30, rf2__max_features=log2, rf2__n_estimators=300;, score=0.746 total time=   5.1s\n",
      "[CV 1/5] END rf2__ccp_alpha=0.025, rf2__criterion=gini, rf2__max_depth=100, rf2__max_features=sqrt, rf2__n_estimators=150;, score=0.825 total time=   1.9s\n",
      "[CV 2/5] END rf2__ccp_alpha=0.01, rf2__criterion=entropy, rf2__max_depth=70, rf2__max_features=log2, rf2__n_estimators=400;, score=0.786 total time=   5.2s\n",
      "[CV 4/5] END rf2__ccp_alpha=0.01, rf2__criterion=entropy, rf2__max_depth=80, rf2__max_features=log2, rf2__n_estimators=400;, score=0.816 total time=   4.6s\n",
      "[CV 3/5] END rf2__ccp_alpha=0.0, rf2__criterion=gini, rf2__max_depth=90, rf2__max_features=log2, rf2__n_estimators=100;, score=0.746 total time=   1.1s\n",
      "[CV 4/5] END rf2__ccp_alpha=0.035, rf2__criterion=entropy, rf2__max_depth=70, rf2__max_features=sqrt, rf2__n_estimators=200;, score=0.792 total time=   2.1s\n",
      "[CV 1/5] END rf2__ccp_alpha=0.005, rf2__criterion=entropy, rf2__max_depth=60, rf2__max_features=log2, rf2__n_estimators=100;, score=0.841 total time=   1.3s\n",
      "[CV 2/5] END rf2__ccp_alpha=0.01, rf2__criterion=gini, rf2__max_depth=50, rf2__max_features=sqrt, rf2__n_estimators=100;, score=0.746 total time=   1.1s\n",
      "[CV 4/5] END rf2__ccp_alpha=0.02, rf2__criterion=entropy, rf2__max_depth=20, rf2__max_features=log2, rf2__n_estimators=150;, score=0.784 total time=   2.0s\n",
      "[CV 3/5] END rf2__ccp_alpha=0.005, rf2__criterion=entropy, rf2__max_depth=50, rf2__max_features=sqrt, rf2__n_estimators=500;, score=0.778 total time=   6.1s\n",
      "[CV 1/5] END rf2__ccp_alpha=0.005, rf2__criterion=gini, rf2__max_depth=70, rf2__max_features=sqrt, rf2__n_estimators=300;, score=0.857 total time=   2.4s\n",
      "[CV 2/5] END rf2__ccp_alpha=0.03, rf2__criterion=log_loss, rf2__max_depth=70, rf2__max_features=log2, rf2__n_estimators=500;, score=0.754 total time=   4.0s\n",
      "[CV 2/5] END rf2__ccp_alpha=0.01, rf2__criterion=entropy, rf2__max_depth=20, rf2__max_features=sqrt, rf2__n_estimators=150;, score=0.762 total time=   1.3s\n",
      "[CV 2/5] END rf2__ccp_alpha=0.03, rf2__criterion=log_loss, rf2__max_depth=30, rf2__max_features=log2, rf2__n_estimators=300;, score=0.754 total time=   4.0s\n",
      "[CV 1/5] END rf2__ccp_alpha=0.005, rf2__criterion=gini, rf2__max_depth=20, rf2__max_features=log2, rf2__n_estimators=100;, score=0.841 total time=   1.2s\n",
      "[CV 4/5] END rf2__ccp_alpha=0.005, rf2__criterion=gini, rf2__max_depth=20, rf2__max_features=log2, rf2__n_estimators=100;, score=0.800 total time=   1.0s\n",
      "[CV 2/5] END rf2__ccp_alpha=0.0, rf2__criterion=entropy, rf2__max_depth=70, rf2__max_features=log2, rf2__n_estimators=150;, score=0.778 total time=   1.3s\n",
      "[CV 2/5] END rf2__ccp_alpha=0.02, rf2__criterion=log_loss, rf2__max_depth=50, rf2__max_features=log2, rf2__n_estimators=100;, score=0.754 total time=   1.0s\n",
      "[CV 2/5] END rf2__ccp_alpha=0.0, rf2__criterion=entropy, rf2__max_depth=110, rf2__max_features=sqrt, rf2__n_estimators=200;, score=0.778 total time=   1.5s\n",
      "[CV 5/5] END rf2__ccp_alpha=0.0, rf2__criterion=log_loss, rf2__max_depth=30, rf2__max_features=sqrt, rf2__n_estimators=150;, score=0.824 total time=   0.6s\n",
      "[CV 2/5] END rf2__ccp_alpha=0.025, rf2__criterion=entropy, rf2__max_depth=40, rf2__max_features=sqrt, rf2__n_estimators=100;, score=0.750 total time=   1.0s\n",
      "[CV 4/5] END rf2__ccp_alpha=0.01, rf2__criterion=log_loss, rf2__max_depth=60, rf2__max_features=log2, rf2__n_estimators=200;, score=0.729 total time=   2.3s\n",
      "[CV 5/5] END rf2__ccp_alpha=0.035, rf2__criterion=log_loss, rf2__max_depth=110, rf2__max_features=sqrt, rf2__n_estimators=200;, score=0.738 total time=   2.2s\n",
      "[CV 3/5] END rf2__ccp_alpha=0.02, rf2__criterion=log_loss, rf2__max_depth=100, rf2__max_features=sqrt, rf2__n_estimators=400;, score=0.748 total time=   4.7s\n",
      "[CV 1/5] END rf2__ccp_alpha=0.005, rf2__criterion=gini, rf2__max_depth=60, rf2__max_features=sqrt, rf2__n_estimators=150;, score=0.796 total time=   1.4s\n",
      "[CV 5/5] END rf2__ccp_alpha=0.005, rf2__criterion=gini, rf2__max_depth=60, rf2__max_features=sqrt, rf2__n_estimators=150;, score=0.785 total time=   1.4s\n",
      "[CV 3/5] END rf2__ccp_alpha=0.005, rf2__criterion=entropy, rf2__max_depth=70, rf2__max_features=sqrt, rf2__n_estimators=200;, score=0.794 total time=   2.0s\n",
      "[CV 1/5] END rf2__ccp_alpha=0.03, rf2__criterion=gini, rf2__max_depth=100, rf2__max_features=log2, rf2__n_estimators=100;, score=0.778 total time=   1.2s\n",
      "[CV 4/5] END rf2__ccp_alpha=0.03, rf2__criterion=gini, rf2__max_depth=100, rf2__max_features=log2, rf2__n_estimators=100;, score=0.701 total time=   1.0s\n",
      "[CV 2/5] END rf2__ccp_alpha=0.025, rf2__criterion=log_loss, rf2__max_depth=60, rf2__max_features=log2, rf2__n_estimators=500;, score=0.769 total time=   5.6s\n",
      "[CV 5/5] END rf2__ccp_alpha=0.035, rf2__criterion=entropy, rf2__max_depth=70, rf2__max_features=log2, rf2__n_estimators=300;, score=0.738 total time=   2.7s\n",
      "[CV 2/5] END rf2__ccp_alpha=0.025, rf2__criterion=log_loss, rf2__max_depth=20, rf2__max_features=sqrt, rf2__n_estimators=400;, score=0.759 total time=   2.7s\n",
      "[CV 5/5] END rf2__ccp_alpha=0.035, rf2__criterion=gini, rf2__max_depth=90, rf2__max_features=log2, rf2__n_estimators=300;, score=0.757 total time=   1.8s\n",
      "[CV 1/5] END rf2__ccp_alpha=0.025, rf2__criterion=entropy, rf2__max_depth=90, rf2__max_features=sqrt, rf2__n_estimators=150;, score=0.769 total time=   1.0s\n",
      "[CV 4/5] END rf2__ccp_alpha=0.025, rf2__criterion=entropy, rf2__max_depth=90, rf2__max_features=sqrt, rf2__n_estimators=150;, score=0.729 total time=   0.9s\n",
      "[CV 5/5] END rf2__ccp_alpha=0.025, rf2__criterion=entropy, rf2__max_depth=90, rf2__max_features=sqrt, rf2__n_estimators=300;, score=0.766 total time=   5.8s\n",
      "[CV 3/5] END rf2__ccp_alpha=0.01, rf2__criterion=entropy, rf2__max_depth=80, rf2__max_features=sqrt, rf2__n_estimators=300;, score=0.766 total time=   4.1s\n",
      "[CV 1/5] END rf2__ccp_alpha=0.01, rf2__criterion=entropy, rf2__max_depth=70, rf2__max_features=log2, rf2__n_estimators=400;, score=0.796 total time=   6.1s\n",
      "[CV 2/5] END rf2__ccp_alpha=0.01, rf2__criterion=entropy, rf2__max_depth=80, rf2__max_features=log2, rf2__n_estimators=400;, score=0.778 total time=   4.1s\n",
      "[CV 5/5] END rf2__ccp_alpha=0.0, rf2__criterion=entropy, rf2__max_depth=40, rf2__max_features=log2, rf2__n_estimators=400;, score=0.766 total time=   4.2s\n",
      "[CV 4/5] END rf2__ccp_alpha=0.005, rf2__criterion=entropy, rf2__max_depth=60, rf2__max_features=log2, rf2__n_estimators=100;, score=0.729 total time=   1.3s\n",
      "[CV 4/5] END rf2__ccp_alpha=0.01, rf2__criterion=gini, rf2__max_depth=50, rf2__max_features=sqrt, rf2__n_estimators=100;, score=0.710 total time=   1.5s\n",
      "[CV 2/5] END rf2__ccp_alpha=0.015, rf2__criterion=log_loss, rf2__max_depth=50, rf2__max_features=sqrt, rf2__n_estimators=200;, score=0.769 total time=   4.0s\n",
      "[CV 5/5] END rf2__ccp_alpha=0.005, rf2__criterion=entropy, rf2__max_depth=50, rf2__max_features=sqrt, rf2__n_estimators=500;, score=0.785 total time=   9.5s\n",
      "[CV 4/5] END rf2__ccp_alpha=0.005, rf2__criterion=gini, rf2__max_depth=70, rf2__max_features=sqrt, rf2__n_estimators=300;, score=0.710 total time=   5.8s\n",
      "[CV 4/5] END rf2__ccp_alpha=0.03, rf2__criterion=log_loss, rf2__max_depth=70, rf2__max_features=log2, rf2__n_estimators=500;, score=0.701 total time=  11.7s\n",
      "[CV 4/5] END rf2__ccp_alpha=0.01, rf2__criterion=entropy, rf2__max_depth=20, rf2__max_features=sqrt, rf2__n_estimators=150;, score=0.710 total time=   3.4s\n",
      "[CV 1/5] END rf2__ccp_alpha=0.025, rf2__criterion=log_loss, rf2__max_depth=110, rf2__max_features=log2, rf2__n_estimators=500;, score=0.787 total time=   9.3s\n",
      "[CV 4/5] END rf2__ccp_alpha=0.0, rf2__criterion=entropy, rf2__max_depth=70, rf2__max_features=log2, rf2__n_estimators=150;, score=0.738 total time=   1.7s\n",
      "[CV 4/5] END rf2__ccp_alpha=0.02, rf2__criterion=log_loss, rf2__max_depth=50, rf2__max_features=log2, rf2__n_estimators=100;, score=0.720 total time=   1.4s\n",
      "[CV 2/5] END rf2__ccp_alpha=0.0, rf2__criterion=log_loss, rf2__max_depth=30, rf2__max_features=sqrt, rf2__n_estimators=150;, score=0.769 total time=   2.0s\n"
     ]
    },
    {
     "name": "stdout",
     "output_type": "stream",
     "text": [
      "[CV 2/5] END rf2__ccp_alpha=0.01, rf2__criterion=log_loss, rf2__max_depth=60, rf2__max_features=log2, rf2__n_estimators=200;, score=0.770 total time=   2.9s\n",
      "[CV 3/5] END rf2__ccp_alpha=0.035, rf2__criterion=log_loss, rf2__max_depth=110, rf2__max_features=sqrt, rf2__n_estimators=200;, score=0.706 total time=   2.9s\n",
      "[CV 1/5] END rf2__ccp_alpha=0.02, rf2__criterion=log_loss, rf2__max_depth=100, rf2__max_features=sqrt, rf2__n_estimators=400;, score=0.857 total time=   7.9s\n",
      "[CV 4/5] END rf2__ccp_alpha=0.005, rf2__criterion=gini, rf2__max_depth=20, rf2__max_features=sqrt, rf2__n_estimators=300;, score=0.792 total time=   2.9s\n",
      "[CV 4/5] END rf2__ccp_alpha=0.035, rf2__criterion=gini, rf2__max_depth=100, rf2__max_features=sqrt, rf2__n_estimators=150;, score=0.784 total time=   1.1s\n",
      "[CV 2/5] END rf2__ccp_alpha=0.025, rf2__criterion=log_loss, rf2__max_depth=80, rf2__max_features=log2, rf2__n_estimators=500;, score=0.754 total time=   3.8s\n",
      "[CV 5/5] END rf2__ccp_alpha=0.025, rf2__criterion=log_loss, rf2__max_depth=60, rf2__max_features=log2, rf2__n_estimators=500;, score=0.824 total time=   4.0s\n",
      "[CV 3/5] END rf2__ccp_alpha=0.03, rf2__criterion=gini, rf2__max_depth=40, rf2__max_features=log2, rf2__n_estimators=300;, score=0.690 total time=   3.0s\n",
      "[CV 1/5] END rf2__ccp_alpha=0.035, rf2__criterion=gini, rf2__max_depth=90, rf2__max_features=log2, rf2__n_estimators=300;, score=0.833 total time=   3.7s\n",
      "[CV 2/5] END rf2__ccp_alpha=0.03, rf2__criterion=entropy, rf2__max_depth=40, rf2__max_features=log2, rf2__n_estimators=100;, score=0.754 total time=   1.2s\n",
      "[CV 3/5] END rf2__ccp_alpha=0.005, rf2__criterion=entropy, rf2__max_depth=80, rf2__max_features=log2, rf2__n_estimators=300;, score=0.778 total time=   5.3s\n",
      "[CV 4/5] END rf2__ccp_alpha=0.025, rf2__criterion=entropy, rf2__max_depth=90, rf2__max_features=sqrt, rf2__n_estimators=300;, score=0.792 total time=   5.5s\n",
      "[CV 2/5] END rf2__ccp_alpha=0.01, rf2__criterion=entropy, rf2__max_depth=80, rf2__max_features=sqrt, rf2__n_estimators=300;, score=0.762 total time=   4.6s\n",
      "[CV 3/5] END rf2__ccp_alpha=0.025, rf2__criterion=gini, rf2__max_depth=100, rf2__max_features=sqrt, rf2__n_estimators=150;, score=0.706 total time=   1.9s\n",
      "[CV 5/5] END rf2__ccp_alpha=0.01, rf2__criterion=entropy, rf2__max_depth=70, rf2__max_features=log2, rf2__n_estimators=400;, score=0.832 total time=   5.1s\n",
      "[CV 2/5] END rf2__ccp_alpha=0.0, rf2__criterion=entropy, rf2__max_depth=40, rf2__max_features=log2, rf2__n_estimators=400;, score=0.770 total time=   4.4s\n",
      "[CV 2/5] END rf2__ccp_alpha=0.0, rf2__criterion=gini, rf2__max_depth=90, rf2__max_features=log2, rf2__n_estimators=100;, score=0.786 total time=   1.0s\n",
      "[CV 3/5] END rf2__ccp_alpha=0.035, rf2__criterion=entropy, rf2__max_depth=70, rf2__max_features=sqrt, rf2__n_estimators=200;, score=0.738 total time=   2.1s\n",
      "[CV 5/5] END rf2__ccp_alpha=0.02, rf2__criterion=entropy, rf2__max_depth=100, rf2__max_features=log2, rf2__n_estimators=150;, score=0.824 total time=   1.9s\n",
      "[CV 2/5] END rf2__ccp_alpha=0.02, rf2__criterion=entropy, rf2__max_depth=20, rf2__max_features=log2, rf2__n_estimators=150;, score=0.778 total time=   2.0s\n",
      "[CV 5/5] END rf2__ccp_alpha=0.015, rf2__criterion=log_loss, rf2__max_depth=50, rf2__max_features=sqrt, rf2__n_estimators=200;, score=0.832 total time=   2.8s\n",
      "[CV 3/5] END rf2__ccp_alpha=0.0, rf2__criterion=entropy, rf2__max_depth=70, rf2__max_features=log2, rf2__n_estimators=400;, score=0.778 total time=   4.6s\n",
      "[CV 1/5] END rf2__ccp_alpha=0.03, rf2__criterion=log_loss, rf2__max_depth=70, rf2__max_features=log2, rf2__n_estimators=500;, score=0.865 total time=   4.3s\n",
      "[CV 4/5] END rf2__ccp_alpha=0.0, rf2__criterion=gini, rf2__max_depth=20, rf2__max_features=sqrt, rf2__n_estimators=500;, score=0.864 total time=   3.6s\n",
      "[CV 2/5] END rf2__ccp_alpha=0.025, rf2__criterion=log_loss, rf2__max_depth=110, rf2__max_features=log2, rf2__n_estimators=500;, score=0.746 total time=   6.2s\n",
      "[CV 1/5] END rf2__ccp_alpha=0.02, rf2__criterion=log_loss, rf2__max_depth=50, rf2__max_features=log2, rf2__n_estimators=100;, score=0.849 total time=   0.9s\n",
      "[CV 4/5] END rf2__ccp_alpha=0.02, rf2__criterion=log_loss, rf2__max_depth=50, rf2__max_features=log2, rf2__n_estimators=100;, score=0.784 total time=   0.9s\n",
      "[CV 2/5] END rf2__ccp_alpha=0.0, rf2__criterion=log_loss, rf2__max_depth=30, rf2__max_features=sqrt, rf2__n_estimators=150;, score=0.802 total time=   1.2s\n",
      "[CV 4/5] END rf2__ccp_alpha=0.025, rf2__criterion=entropy, rf2__max_depth=40, rf2__max_features=sqrt, rf2__n_estimators=100;, score=0.720 total time=   1.0s\n",
      "[CV 5/5] END rf2__ccp_alpha=0.01, rf2__criterion=log_loss, rf2__max_depth=60, rf2__max_features=log2, rf2__n_estimators=200;, score=0.776 total time=   2.3s\n",
      "[CV 1/5] END rf2__ccp_alpha=0.025, rf2__criterion=entropy, rf2__max_depth=100, rf2__max_features=log2, rf2__n_estimators=300;, score=0.787 total time=   3.6s\n",
      "[CV 4/5] END rf2__ccp_alpha=0.02, rf2__criterion=log_loss, rf2__max_depth=100, rf2__max_features=sqrt, rf2__n_estimators=400;, score=0.720 total time=   4.5s\n",
      "[CV 4/5] END rf2__ccp_alpha=0.005, rf2__criterion=gini, rf2__max_depth=60, rf2__max_features=sqrt, rf2__n_estimators=150;, score=0.710 total time=   1.6s\n",
      "[CV 2/5] END rf2__ccp_alpha=0.005, rf2__criterion=entropy, rf2__max_depth=70, rf2__max_features=sqrt, rf2__n_estimators=200;, score=0.769 total time=   2.0s\n",
      "[CV 4/5] END rf2__ccp_alpha=0.025, rf2__criterion=log_loss, rf2__max_depth=80, rf2__max_features=log2, rf2__n_estimators=500;, score=0.701 total time=   5.6s\n",
      "[CV 3/5] END rf2__ccp_alpha=0.035, rf2__criterion=entropy, rf2__max_depth=70, rf2__max_features=log2, rf2__n_estimators=300;, score=0.757 total time=   3.4s\n",
      "[CV 4/5] END rf2__ccp_alpha=0.035, rf2__criterion=entropy, rf2__max_depth=10, rf2__max_features=sqrt, rf2__n_estimators=200;, score=0.710 total time=   1.5s\n",
      "[CV 1/5] END rf2__ccp_alpha=0.025, rf2__criterion=log_loss, rf2__max_depth=20, rf2__max_features=sqrt, rf2__n_estimators=400;, score=0.769 total time=   2.7s\n",
      "[CV 4/5] END rf2__ccp_alpha=0.035, rf2__criterion=gini, rf2__max_depth=90, rf2__max_features=log2, rf2__n_estimators=300;, score=0.720 total time=   1.8s\n",
      "[CV 5/5] END rf2__ccp_alpha=0.005, rf2__criterion=entropy, rf2__max_depth=80, rf2__max_features=log2, rf2__n_estimators=300;, score=0.785 total time=   2.2s\n",
      "[CV 3/5] END rf2__ccp_alpha=0.01, rf2__criterion=entropy, rf2__max_depth=50, rf2__max_features=log2, rf2__n_estimators=100;, score=0.776 total time=   2.0s\n",
      "[CV 1/5] END rf2__ccp_alpha=0.035, rf2__criterion=entropy, rf2__max_depth=30, rf2__max_features=log2, rf2__n_estimators=300;, score=0.806 total time=   5.2s\n",
      "[CV 4/5] END rf2__ccp_alpha=0.01, rf2__criterion=entropy, rf2__max_depth=80, rf2__max_features=sqrt, rf2__n_estimators=300;, score=0.720 total time=   4.5s\n",
      "[CV 2/5] END rf2__ccp_alpha=0.0, rf2__criterion=entropy, rf2__max_depth=60, rf2__max_features=sqrt, rf2__n_estimators=200;, score=0.787 total time=   2.9s\n",
      "[CV 5/5] END rf2__ccp_alpha=0.0, rf2__criterion=entropy, rf2__max_depth=60, rf2__max_features=sqrt, rf2__n_estimators=200;, score=0.766 total time=   2.3s\n",
      "[CV 2/5] END rf2__ccp_alpha=0.0, rf2__criterion=entropy, rf2__max_depth=40, rf2__max_features=log2, rf2__n_estimators=400;, score=0.778 total time=   3.5s\n",
      "[CV 4/5] END rf2__ccp_alpha=0.0, rf2__criterion=gini, rf2__max_depth=90, rf2__max_features=log2, rf2__n_estimators=100;, score=0.701 total time=   0.7s\n",
      "[CV 1/5] END rf2__ccp_alpha=0.02, rf2__criterion=entropy, rf2__max_depth=100, rf2__max_features=log2, rf2__n_estimators=150;, score=0.796 total time=   2.1s\n",
      "[CV 3/5] END rf2__ccp_alpha=0.02, rf2__criterion=entropy, rf2__max_depth=100, rf2__max_features=log2, rf2__n_estimators=150;, score=0.766 total time=   2.0s\n",
      "[CV 5/5] END rf2__ccp_alpha=0.01, rf2__criterion=gini, rf2__max_depth=50, rf2__max_features=sqrt, rf2__n_estimators=100;, score=0.766 total time=   1.7s\n",
      "[CV 3/5] END rf2__ccp_alpha=0.015, rf2__criterion=log_loss, rf2__max_depth=50, rf2__max_features=sqrt, rf2__n_estimators=200;, score=0.757 total time=   4.0s\n",
      "[CV 1/5] END rf2__ccp_alpha=0.0, rf2__criterion=entropy, rf2__max_depth=70, rf2__max_features=log2, rf2__n_estimators=400;, score=0.769 total time=   8.0s\n",
      "[CV 4/5] END rf2__ccp_alpha=0.0, rf2__criterion=entropy, rf2__max_depth=70, rf2__max_features=log2, rf2__n_estimators=400;, score=0.720 total time=   8.5s\n",
      "[CV 2/5] END rf2__ccp_alpha=0.0, rf2__criterion=gini, rf2__max_depth=20, rf2__max_features=sqrt, rf2__n_estimators=500;, score=0.759 total time=   9.7s\n",
      "[CV 3/5] END rf2__ccp_alpha=0.01, rf2__criterion=entropy, rf2__max_depth=20, rf2__max_features=sqrt, rf2__n_estimators=150;, score=0.776 total time=   3.6s\n",
      "[CV 4/5] END rf2__ccp_alpha=0.03, rf2__criterion=log_loss, rf2__max_depth=30, rf2__max_features=log2, rf2__n_estimators=300;, score=0.682 total time=   6.5s\n",
      "[CV 2/5] END rf2__ccp_alpha=0.005, rf2__criterion=gini, rf2__max_depth=20, rf2__max_features=log2, rf2__n_estimators=100;, score=0.759 total time=   1.4s\n",
      "[CV 5/5] END rf2__ccp_alpha=0.005, rf2__criterion=gini, rf2__max_depth=20, rf2__max_features=log2, rf2__n_estimators=100;, score=0.776 total time=   1.4s\n",
      "[CV 3/5] END rf2__ccp_alpha=0.0, rf2__criterion=entropy, rf2__max_depth=70, rf2__max_features=log2, rf2__n_estimators=150;, score=0.804 total time=   1.8s\n",
      "[CV 3/5] END rf2__ccp_alpha=0.02, rf2__criterion=log_loss, rf2__max_depth=50, rf2__max_features=log2, rf2__n_estimators=100;, score=0.757 total time=   1.3s\n",
      "[CV 5/5] END rf2__ccp_alpha=0.0, rf2__criterion=entropy, rf2__max_depth=110, rf2__max_features=sqrt, rf2__n_estimators=200;, score=0.766 total time=   2.5s\n"
     ]
    },
    {
     "name": "stdout",
     "output_type": "stream",
     "text": [
      "[CV 2/5] END log__C=0.1, log__penalty=elasticnet, log__solver=lbfgs;, score=nan total time=   0.0s\n",
      "[CV 2/5] END log__C=0.01, log__penalty=l1, log__solver=liblinear;, score=0.675 total time=   0.0s\n",
      "[CV 3/5] END log__C=0.01, log__penalty=l1, log__solver=liblinear;, score=0.714 total time=   0.0s\n",
      "[CV 4/5] END log__C=0.01, log__penalty=l1, log__solver=liblinear;, score=0.728 total time=   0.0s\n",
      "[CV 5/5] END log__C=0.01, log__penalty=l1, log__solver=liblinear;, score=0.728 total time=   0.0s\n",
      "[CV 4/5] END log__C=10, log__penalty=l1, log__solver=saga;, score=0.728 total time=   0.0s\n",
      "[CV 5/5] END log__C=10, log__penalty=l1, log__solver=saga;, score=0.808 total time=   0.0s\n",
      "[CV 1/5] END log__C=1, log__penalty=elasticnet, log__solver=saga;, score=nan total time=   0.0s\n",
      "[CV 2/5] END log__C=1, log__penalty=elasticnet, log__solver=saga;, score=nan total time=   0.0s\n",
      "[CV 2/5] END log__C=0.1, log__penalty=elasticnet, log__solver=saga;, score=nan total time=   0.0s\n",
      "[CV 3/5] END log__C=0.1, log__penalty=elasticnet, log__solver=saga;, score=nan total time=   0.0s\n",
      "[CV 4/5] END log__C=0.1, log__penalty=elasticnet, log__solver=saga;, score=nan total time=   0.0s\n",
      "[CV 5/5] END log__C=0.1, log__penalty=elasticnet, log__solver=saga;, score=nan total time=   0.0s\n",
      "[CV 3/5] END log__C=100, log__penalty=l1, log__solver=lbfgs;, score=nan total time=   0.0s\n",
      "[CV 5/5] END log__C=100, log__penalty=l1, log__solver=lbfgs;, score=nan total time=   0.0s\n",
      "[CV 2/5] END log__C=0.01, log__penalty=elasticnet, log__solver=liblinear;, score=nan total time=   0.0s\n",
      "[CV 4/5] END log__C=0.01, log__penalty=elasticnet, log__solver=liblinear;, score=nan total time=   0.0s\n",
      "[CV 5/5] END log__C=0.01, log__penalty=elasticnet, log__solver=liblinear;, score=nan total time=   0.0s\n",
      "[CV 2/5] END rf2__ccp_alpha=0.025, rf2__criterion=entropy, rf2__max_depth=40, rf2__max_features=sqrt, rf2__n_estimators=100;, score=0.746 total time=   1.0s\n",
      "[CV 4/5] END rf2__ccp_alpha=0.01, rf2__criterion=log_loss, rf2__max_depth=60, rf2__max_features=log2, rf2__n_estimators=200;, score=0.792 total time=   2.5s\n",
      "[CV 2/5] END rf2__ccp_alpha=0.0, rf2__criterion=entropy, rf2__max_depth=40, rf2__max_features=sqrt, rf2__n_estimators=200;, score=0.778 total time=   2.3s\n",
      "[CV 1/5] END rf2__ccp_alpha=0.035, rf2__criterion=log_loss, rf2__max_depth=110, rf2__max_features=sqrt, rf2__n_estimators=200;, score=0.857 total time=   3.0s\n",
      "[CV 4/5] END rf2__ccp_alpha=0.025, rf2__criterion=entropy, rf2__max_depth=100, rf2__max_features=log2, rf2__n_estimators=300;, score=0.776 total time=   7.1s\n",
      "[CV 3/5] END rf2__ccp_alpha=0.005, rf2__criterion=gini, rf2__max_depth=20, rf2__max_features=sqrt, rf2__n_estimators=300;, score=0.770 total time=   2.9s\n",
      "[CV 5/5] END rf2__ccp_alpha=0.005, rf2__criterion=gini, rf2__max_depth=60, rf2__max_features=sqrt, rf2__n_estimators=150;, score=0.840 total time=   1.5s\n",
      "[CV 3/5] END rf2__ccp_alpha=0.005, rf2__criterion=entropy, rf2__max_depth=70, rf2__max_features=sqrt, rf2__n_estimators=200;, score=0.738 total time=   1.5s\n",
      "[CV 1/5] END rf2__ccp_alpha=0.03, rf2__criterion=gini, rf2__max_depth=100, rf2__max_features=log2, rf2__n_estimators=100;, score=0.857 total time=   0.7s\n",
      "[CV 4/5] END rf2__ccp_alpha=0.03, rf2__criterion=gini, rf2__max_depth=100, rf2__max_features=log2, rf2__n_estimators=100;, score=0.752 total time=   0.7s\n",
      "[CV 2/5] END rf2__ccp_alpha=0.025, rf2__criterion=log_loss, rf2__max_depth=60, rf2__max_features=log2, rf2__n_estimators=500;, score=0.754 total time=   3.8s\n",
      "[CV 5/5] END rf2__ccp_alpha=0.035, rf2__criterion=entropy, rf2__max_depth=70, rf2__max_features=log2, rf2__n_estimators=300;, score=0.840 total time=   2.4s\n",
      "[CV 2/5] END rf2__ccp_alpha=0.025, rf2__criterion=log_loss, rf2__max_depth=20, rf2__max_features=sqrt, rf2__n_estimators=400;, score=0.730 total time=   4.7s\n",
      "[CV 5/5] END rf2__ccp_alpha=0.035, rf2__criterion=gini, rf2__max_depth=90, rf2__max_features=log2, rf2__n_estimators=300;, score=0.800 total time=   3.6s\n",
      "[CV 2/5] END rf2__ccp_alpha=0.025, rf2__criterion=entropy, rf2__max_depth=90, rf2__max_features=sqrt, rf2__n_estimators=150;, score=0.738 total time=   2.4s\n",
      "[CV 5/5] END rf2__ccp_alpha=0.025, rf2__criterion=entropy, rf2__max_depth=90, rf2__max_features=sqrt, rf2__n_estimators=150;, score=0.832 total time=   2.9s\n",
      "[CV 3/5] END rf2__ccp_alpha=0.01, rf2__criterion=entropy, rf2__max_depth=50, rf2__max_features=log2, rf2__n_estimators=100;, score=0.762 total time=   1.8s\n",
      "[CV 1/5] END rf2__ccp_alpha=0.035, rf2__criterion=entropy, rf2__max_depth=30, rf2__max_features=log2, rf2__n_estimators=300;, score=0.849 total time=   5.8s\n",
      "[CV 4/5] END rf2__ccp_alpha=0.01, rf2__criterion=entropy, rf2__max_depth=80, rf2__max_features=sqrt, rf2__n_estimators=300;, score=0.776 total time=   4.0s\n",
      "[CV 2/5] END rf2__ccp_alpha=0.0, rf2__criterion=entropy, rf2__max_depth=60, rf2__max_features=sqrt, rf2__n_estimators=200;, score=0.802 total time=   2.3s\n",
      "[CV 5/5] END rf2__ccp_alpha=0.0, rf2__criterion=entropy, rf2__max_depth=60, rf2__max_features=sqrt, rf2__n_estimators=200;, score=0.840 total time=   2.2s\n",
      "[CV 3/5] END rf2__ccp_alpha=0.0, rf2__criterion=entropy, rf2__max_depth=40, rf2__max_features=log2, rf2__n_estimators=400;, score=0.762 total time=   4.4s\n",
      "[CV 5/5] END rf2__ccp_alpha=0.0, rf2__criterion=gini, rf2__max_depth=90, rf2__max_features=log2, rf2__n_estimators=100;, score=0.848 total time=   1.1s\n",
      "[CV 1/5] END rf2__ccp_alpha=0.02, rf2__criterion=entropy, rf2__max_depth=100, rf2__max_features=log2, rf2__n_estimators=150;, score=0.857 total time=   1.8s\n",
      "[CV 4/5] END rf2__ccp_alpha=0.02, rf2__criterion=entropy, rf2__max_depth=100, rf2__max_features=log2, rf2__n_estimators=150;, score=0.776 total time=   1.8s\n",
      "[CV 1/5] END rf2__ccp_alpha=0.02, rf2__criterion=entropy, rf2__max_depth=20, rf2__max_features=log2, rf2__n_estimators=150;, score=0.849 total time=   2.2s\n",
      "[CV 4/5] END rf2__ccp_alpha=0.015, rf2__criterion=log_loss, rf2__max_depth=50, rf2__max_features=sqrt, rf2__n_estimators=200;, score=0.800 total time=   2.7s\n",
      "[CV 2/5] END rf2__ccp_alpha=0.0, rf2__criterion=entropy, rf2__max_depth=70, rf2__max_features=log2, rf2__n_estimators=400;, score=0.778 total time=   4.6s\n",
      "[CV 3/5] END rf2__ccp_alpha=0.005, rf2__criterion=gini, rf2__max_depth=70, rf2__max_features=sqrt, rf2__n_estimators=300;, score=0.762 total time=   2.4s\n",
      "[CV 4/5] END rf2__ccp_alpha=0.03, rf2__criterion=log_loss, rf2__max_depth=70, rf2__max_features=log2, rf2__n_estimators=500;, score=0.776 total time=   4.2s\n",
      "[CV 1/5] END rf2__ccp_alpha=0.03, rf2__criterion=log_loss, rf2__max_depth=30, rf2__max_features=log2, rf2__n_estimators=300;, score=0.865 total time=   3.8s\n",
      "[CV 3/5] END rf2__ccp_alpha=0.025, rf2__criterion=log_loss, rf2__max_depth=110, rf2__max_features=log2, rf2__n_estimators=500;, score=0.738 total time=   5.3s\n",
      "[CV 3/5] END rf2__ccp_alpha=0.0, rf2__criterion=entropy, rf2__max_depth=110, rf2__max_features=sqrt, rf2__n_estimators=200;, score=0.778 total time=   1.5s\n",
      "[CV 1/5] END rf2__ccp_alpha=0.025, rf2__criterion=entropy, rf2__max_depth=40, rf2__max_features=sqrt, rf2__n_estimators=100;, score=0.750 total time=   1.0s\n",
      "[CV 1/5] END rf2__ccp_alpha=0.0, rf2__criterion=entropy, rf2__max_depth=40, rf2__max_features=sqrt, rf2__n_estimators=200;, score=0.778 total time=   2.2s\n",
      "[CV 4/5] END rf2__ccp_alpha=0.035, rf2__criterion=log_loss, rf2__max_depth=110, rf2__max_features=sqrt, rf2__n_estimators=200;, score=0.710 total time=   2.2s\n",
      "[CV 2/5] END rf2__ccp_alpha=0.02, rf2__criterion=log_loss, rf2__max_depth=100, rf2__max_features=sqrt, rf2__n_estimators=400;, score=0.778 total time=   4.7s\n",
      "[CV 4/5] END rf2__ccp_alpha=0.005, rf2__criterion=gini, rf2__max_depth=20, rf2__max_features=sqrt, rf2__n_estimators=300;, score=0.729 total time=   2.8s\n",
      "[CV 1/5] END rf2__ccp_alpha=0.005, rf2__criterion=entropy, rf2__max_depth=70, rf2__max_features=sqrt, rf2__n_estimators=200;, score=0.787 total time=   2.1s\n",
      "[CV 5/5] END rf2__ccp_alpha=0.025, rf2__criterion=log_loss, rf2__max_depth=80, rf2__max_features=log2, rf2__n_estimators=500;, score=0.766 total time=   5.6s\n",
      "[CV 2/5] END rf2__ccp_alpha=0.035, rf2__criterion=entropy, rf2__max_depth=70, rf2__max_features=log2, rf2__n_estimators=300;, score=0.704 total time=   3.4s\n",
      "[CV 3/5] END rf2__ccp_alpha=0.035, rf2__criterion=entropy, rf2__max_depth=10, rf2__max_features=sqrt, rf2__n_estimators=200;, score=0.748 total time=   1.6s\n",
      "[CV 5/5] END rf2__ccp_alpha=0.03, rf2__criterion=gini, rf2__max_depth=40, rf2__max_features=log2, rf2__n_estimators=300;, score=0.748 total time=   2.0s\n",
      "[CV 3/5] END rf2__ccp_alpha=0.035, rf2__criterion=gini, rf2__max_depth=90, rf2__max_features=log2, rf2__n_estimators=300;, score=0.757 total time=   1.8s\n",
      "[CV 4/5] END rf2__ccp_alpha=0.03, rf2__criterion=entropy, rf2__max_depth=40, rf2__max_features=log2, rf2__n_estimators=100;, score=0.682 total time=   0.7s\n",
      "[CV 2/5] END rf2__ccp_alpha=0.025, rf2__criterion=entropy, rf2__max_depth=90, rf2__max_features=sqrt, rf2__n_estimators=150;, score=0.750 total time=   1.0s\n",
      "[CV 5/5] END rf2__ccp_alpha=0.025, rf2__criterion=entropy, rf2__max_depth=90, rf2__max_features=sqrt, rf2__n_estimators=150;, score=0.757 total time=   1.0s\n",
      "[CV 2/5] END rf2__ccp_alpha=0.01, rf2__criterion=entropy, rf2__max_depth=50, rf2__max_features=log2, rf2__n_estimators=100;, score=0.769 total time=   1.8s\n",
      "[CV 4/5] END rf2__ccp_alpha=0.01, rf2__criterion=entropy, rf2__max_depth=50, rf2__max_features=log2, rf2__n_estimators=100;, score=0.720 total time=   2.8s\n",
      "[CV 3/5] END rf2__ccp_alpha=0.035, rf2__criterion=entropy, rf2__max_depth=30, rf2__max_features=log2, rf2__n_estimators=300;, score=0.766 total time=   4.3s\n",
      "[CV 1/5] END rf2__ccp_alpha=0.025, rf2__criterion=gini, rf2__max_depth=100, rf2__max_features=sqrt, rf2__n_estimators=150;, score=0.787 total time=   2.2s\n",
      "[CV 2/5] END rf2__ccp_alpha=0.01, rf2__criterion=entropy, rf2__max_depth=70, rf2__max_features=log2, rf2__n_estimators=400;, score=0.787 total time=   5.8s\n",
      "[CV 3/5] END rf2__ccp_alpha=0.01, rf2__criterion=entropy, rf2__max_depth=80, rf2__max_features=log2, rf2__n_estimators=400;, score=0.776 total time=   3.7s\n",
      "[CV 2/5] END rf2__ccp_alpha=0.0, rf2__criterion=gini, rf2__max_depth=90, rf2__max_features=log2, rf2__n_estimators=100;, score=0.759 total time=   0.7s\n",
      "[CV 3/5] END rf2__ccp_alpha=0.035, rf2__criterion=entropy, rf2__max_depth=70, rf2__max_features=sqrt, rf2__n_estimators=200;, score=0.748 total time=   2.5s\n",
      "[CV 1/5] END rf2__ccp_alpha=0.005, rf2__criterion=entropy, rf2__max_depth=60, rf2__max_features=log2, rf2__n_estimators=100;, score=0.796 total time=   1.4s\n",
      "[CV 1/5] END rf2__ccp_alpha=0.01, rf2__criterion=gini, rf2__max_depth=50, rf2__max_features=sqrt, rf2__n_estimators=100;, score=0.787 total time=   1.4s\n",
      "[CV 4/5] END rf2__ccp_alpha=0.02, rf2__criterion=entropy, rf2__max_depth=20, rf2__max_features=log2, rf2__n_estimators=150;, score=0.710 total time=   3.1s\n",
      "[CV 2/5] END rf2__ccp_alpha=0.005, rf2__criterion=entropy, rf2__max_depth=50, rf2__max_features=sqrt, rf2__n_estimators=500;, score=0.778 total time=   9.6s\n",
      "[CV 5/5] END rf2__ccp_alpha=0.0, rf2__criterion=entropy, rf2__max_depth=70, rf2__max_features=log2, rf2__n_estimators=400;, score=0.766 total time=   8.3s\n",
      "[CV 3/5] END rf2__ccp_alpha=0.0, rf2__criterion=gini, rf2__max_depth=20, rf2__max_features=sqrt, rf2__n_estimators=500;, score=0.766 total time=  10.2s\n",
      "[CV 5/5] END rf2__ccp_alpha=0.01, rf2__criterion=entropy, rf2__max_depth=20, rf2__max_features=sqrt, rf2__n_estimators=150;, score=0.766 total time=   3.3s\n",
      "[CV 5/5] END rf2__ccp_alpha=0.03, rf2__criterion=log_loss, rf2__max_depth=30, rf2__max_features=log2, rf2__n_estimators=300;, score=0.738 total time=   6.4s\n",
      "[CV 3/5] END rf2__ccp_alpha=0.005, rf2__criterion=gini, rf2__max_depth=20, rf2__max_features=log2, rf2__n_estimators=100;, score=0.776 total time=   1.4s\n",
      "[CV 1/5] END rf2__ccp_alpha=0.0, rf2__criterion=entropy, rf2__max_depth=70, rf2__max_features=log2, rf2__n_estimators=150;, score=0.796 total time=   2.0s\n",
      "[CV 1/5] END rf2__ccp_alpha=0.02, rf2__criterion=log_loss, rf2__max_depth=50, rf2__max_features=log2, rf2__n_estimators=100;, score=0.778 total time=   1.2s\n",
      "[CV 5/5] END rf2__ccp_alpha=0.02, rf2__criterion=log_loss, rf2__max_depth=50, rf2__max_features=log2, rf2__n_estimators=100;, score=0.776 total time=   1.4s\n",
      "[CV 3/5] END rf2__ccp_alpha=0.0, rf2__criterion=log_loss, rf2__max_depth=30, rf2__max_features=sqrt, rf2__n_estimators=150;, score=0.776 total time=   2.0s\n",
      "[CV 1/5] END rf2__ccp_alpha=0.01, rf2__criterion=log_loss, rf2__max_depth=60, rf2__max_features=log2, rf2__n_estimators=200;, score=0.849 total time=   3.0s\n",
      "[CV 4/5] END rf2__ccp_alpha=0.035, rf2__criterion=log_loss, rf2__max_depth=110, rf2__max_features=sqrt, rf2__n_estimators=200;, score=0.792 total time=   2.7s\n",
      "[CV 2/5] END rf2__ccp_alpha=0.02, rf2__criterion=log_loss, rf2__max_depth=100, rf2__max_features=sqrt, rf2__n_estimators=400;, score=0.738 total time=   7.9s\n",
      "[CV 5/5] END rf2__ccp_alpha=0.005, rf2__criterion=gini, rf2__max_depth=20, rf2__max_features=sqrt, rf2__n_estimators=300;, score=0.848 total time=   2.9s\n",
      "[CV 5/5] END rf2__ccp_alpha=0.035, rf2__criterion=gini, rf2__max_depth=100, rf2__max_features=sqrt, rf2__n_estimators=150;, score=0.800 total time=   1.1s\n",
      "[CV 3/5] END rf2__ccp_alpha=0.025, rf2__criterion=log_loss, rf2__max_depth=80, rf2__max_features=log2, rf2__n_estimators=500;, score=0.746 total time=   3.8s\n",
      "[CV 1/5] END rf2__ccp_alpha=0.035, rf2__criterion=entropy, rf2__max_depth=70, rf2__max_features=log2, rf2__n_estimators=300;, score=0.833 total time=   2.3s\n",
      "[CV 1/5] END rf2__ccp_alpha=0.035, rf2__criterion=entropy, rf2__max_depth=10, rf2__max_features=sqrt, rf2__n_estimators=200;, score=0.857 total time=   1.5s\n",
      "[CV 1/5] END rf2__ccp_alpha=0.03, rf2__criterion=gini, rf2__max_depth=40, rf2__max_features=log2, rf2__n_estimators=300;, score=0.841 total time=   2.9s\n",
      "[CV 4/5] END rf2__ccp_alpha=0.025, rf2__criterion=log_loss, rf2__max_depth=20, rf2__max_features=sqrt, rf2__n_estimators=400;, score=0.792 total time=   4.8s\n",
      "[CV 1/5] END rf2__ccp_alpha=0.005, rf2__criterion=entropy, rf2__max_depth=80, rf2__max_features=log2, rf2__n_estimators=300;, score=0.841 total time=   5.2s\n",
      "[CV 2/5] END rf2__ccp_alpha=0.025, rf2__criterion=entropy, rf2__max_depth=90, rf2__max_features=sqrt, rf2__n_estimators=300;, score=0.738 total time=   5.5s\n",
      "[CV 5/5] END rf2__ccp_alpha=0.035, rf2__criterion=entropy, rf2__max_depth=30, rf2__max_features=log2, rf2__n_estimators=300;, score=0.848 total time=   5.1s\n",
      "[CV 5/5] END rf2__ccp_alpha=0.025, rf2__criterion=gini, rf2__max_depth=100, rf2__max_features=sqrt, rf2__n_estimators=150;, score=0.808 total time=   1.9s\n",
      "[CV 1/5] END rf2__ccp_alpha=0.0, rf2__criterion=entropy, rf2__max_depth=60, rf2__max_features=sqrt, rf2__n_estimators=200;, score=0.833 total time=   2.4s\n",
      "[CV 4/5] END rf2__ccp_alpha=0.0, rf2__criterion=entropy, rf2__max_depth=60, rf2__max_features=sqrt, rf2__n_estimators=200;, score=0.840 total time=   2.2s\n",
      "[CV 3/5] END rf2__ccp_alpha=0.01, rf2__criterion=entropy, rf2__max_depth=80, rf2__max_features=log2, rf2__n_estimators=400;, score=0.778 total time=   4.6s\n",
      "[CV 1/5] END rf2__ccp_alpha=0.0, rf2__criterion=gini, rf2__max_depth=90, rf2__max_features=log2, rf2__n_estimators=100;, score=0.817 total time=   1.0s\n",
      "[CV 2/5] END rf2__ccp_alpha=0.035, rf2__criterion=entropy, rf2__max_depth=70, rf2__max_features=sqrt, rf2__n_estimators=200;, score=0.746 total time=   2.1s\n",
      "[CV 3/5] END rf2__ccp_alpha=0.02, rf2__criterion=entropy, rf2__max_depth=100, rf2__max_features=log2, rf2__n_estimators=150;, score=0.754 total time=   1.8s\n",
      "[CV 4/5] END rf2__ccp_alpha=0.01, rf2__criterion=gini, rf2__max_depth=50, rf2__max_features=sqrt, rf2__n_estimators=100;, score=0.800 total time=   1.1s\n",
      "[CV 2/5] END rf2__ccp_alpha=0.015, rf2__criterion=log_loss, rf2__max_depth=50, rf2__max_features=sqrt, rf2__n_estimators=200;, score=0.738 total time=   2.7s\n",
      "[CV 5/5] END rf2__ccp_alpha=0.005, rf2__criterion=entropy, rf2__max_depth=50, rf2__max_features=sqrt, rf2__n_estimators=500;, score=0.848 total time=   5.8s\n",
      "[CV 5/5] END rf2__ccp_alpha=0.005, rf2__criterion=gini, rf2__max_depth=70, rf2__max_features=sqrt, rf2__n_estimators=300;, score=0.840 total time=   2.4s\n",
      "[CV 1/5] END rf2__ccp_alpha=0.0, rf2__criterion=gini, rf2__max_depth=20, rf2__max_features=sqrt, rf2__n_estimators=500;, score=0.825 total time=   3.3s\n",
      "[CV 5/5] END rf2__ccp_alpha=0.0, rf2__criterion=gini, rf2__max_depth=20, rf2__max_features=sqrt, rf2__n_estimators=500;, score=0.848 total time=   4.9s\n",
      "[CV 4/5] END rf2__ccp_alpha=0.025, rf2__criterion=log_loss, rf2__max_depth=110, rf2__max_features=log2, rf2__n_estimators=500;, score=0.784 total time=   5.3s\n",
      "[CV 5/5] END rf2__ccp_alpha=0.0, rf2__criterion=entropy, rf2__max_depth=110, rf2__max_features=sqrt, rf2__n_estimators=200;, score=0.864 total time=   1.5s\n",
      "[CV 3/5] END rf2__ccp_alpha=0.025, rf2__criterion=entropy, rf2__max_depth=40, rf2__max_features=sqrt, rf2__n_estimators=100;, score=0.738 total time=   1.0s\n",
      "[CV 2/5] END rf2__ccp_alpha=0.0, rf2__criterion=entropy, rf2__max_depth=40, rf2__max_features=sqrt, rf2__n_estimators=200;, score=0.759 total time=   2.1s\n",
      "[CV 2/5] END rf2__ccp_alpha=0.035, rf2__criterion=log_loss, rf2__max_depth=110, rf2__max_features=sqrt, rf2__n_estimators=200;, score=0.741 total time=   2.2s\n",
      "[CV 5/5] END rf2__ccp_alpha=0.025, rf2__criterion=entropy, rf2__max_depth=100, rf2__max_features=log2, rf2__n_estimators=300;, score=0.757 total time=   3.5s\n",
      "[CV 3/5] END rf2__ccp_alpha=0.005, rf2__criterion=gini, rf2__max_depth=20, rf2__max_features=sqrt, rf2__n_estimators=300;, score=0.766 total time=   3.2s\n",
      "[CV 1/5] END rf2__ccp_alpha=0.035, rf2__criterion=gini, rf2__max_depth=100, rf2__max_features=sqrt, rf2__n_estimators=150;, score=0.759 total time=   1.5s\n",
      "[CV 4/5] END rf2__ccp_alpha=0.005, rf2__criterion=entropy, rf2__max_depth=70, rf2__max_features=sqrt, rf2__n_estimators=200;, score=0.720 total time=   1.9s\n",
      "[CV 2/5] END rf2__ccp_alpha=0.03, rf2__criterion=gini, rf2__max_depth=100, rf2__max_features=log2, rf2__n_estimators=100;, score=0.731 total time=   1.2s\n",
      "[CV 5/5] END rf2__ccp_alpha=0.03, rf2__criterion=gini, rf2__max_depth=100, rf2__max_features=log2, rf2__n_estimators=100;, score=0.748 total time=   1.0s\n",
      "[CV 3/5] END rf2__ccp_alpha=0.025, rf2__criterion=log_loss, rf2__max_depth=60, rf2__max_features=log2, rf2__n_estimators=500;, score=0.757 total time=   5.6s\n",
      "[CV 1/5] END rf2__ccp_alpha=0.035, rf2__criterion=entropy, rf2__max_depth=10, rf2__max_features=sqrt, rf2__n_estimators=200;, score=0.769 total time=   1.7s\n",
      "[CV 5/5] END rf2__ccp_alpha=0.035, rf2__criterion=entropy, rf2__max_depth=10, rf2__max_features=sqrt, rf2__n_estimators=200;, score=0.757 total time=   1.4s\n",
      "[CV 3/5] END rf2__ccp_alpha=0.025, rf2__criterion=log_loss, rf2__max_depth=20, rf2__max_features=sqrt, rf2__n_estimators=400;, score=0.766 total time=   2.5s\n",
      "[CV 1/5] END rf2__ccp_alpha=0.03, rf2__criterion=entropy, rf2__max_depth=40, rf2__max_features=log2, rf2__n_estimators=100;, score=0.778 total time=   0.7s\n",
      "[CV 5/5] END rf2__ccp_alpha=0.03, rf2__criterion=entropy, rf2__max_depth=40, rf2__max_features=log2, rf2__n_estimators=100;, score=0.729 total time=   0.7s\n",
      "[CV 3/5] END rf2__ccp_alpha=0.025, rf2__criterion=entropy, rf2__max_depth=90, rf2__max_features=sqrt, rf2__n_estimators=150;, score=0.748 total time=   1.0s\n",
      "[CV 1/5] END rf2__ccp_alpha=0.025, rf2__criterion=entropy, rf2__max_depth=90, rf2__max_features=sqrt, rf2__n_estimators=300;, score=0.769 total time=   5.1s\n",
      "[CV 2/5] END rf2__ccp_alpha=0.035, rf2__criterion=entropy, rf2__max_depth=30, rf2__max_features=log2, rf2__n_estimators=300;, score=0.741 total time=   4.3s\n",
      "[CV 5/5] END rf2__ccp_alpha=0.01, rf2__criterion=entropy, rf2__max_depth=80, rf2__max_features=sqrt, rf2__n_estimators=300;, score=0.766 total time=   4.5s\n",
      "[CV 3/5] END rf2__ccp_alpha=0.0, rf2__criterion=entropy, rf2__max_depth=60, rf2__max_features=sqrt, rf2__n_estimators=200;, score=0.794 total time=   2.5s\n",
      "[CV 1/5] END rf2__ccp_alpha=0.01, rf2__criterion=entropy, rf2__max_depth=80, rf2__max_features=log2, rf2__n_estimators=400;, score=0.778 total time=   4.2s\n",
      "[CV 4/5] END rf2__ccp_alpha=0.0, rf2__criterion=entropy, rf2__max_depth=40, rf2__max_features=log2, rf2__n_estimators=400;, score=0.720 total time=   4.0s\n",
      "[CV 5/5] END rf2__ccp_alpha=0.02, rf2__criterion=entropy, rf2__max_depth=100, rf2__max_features=log2, rf2__n_estimators=150;, score=0.757 total time=   1.9s\n",
      "[CV 2/5] END rf2__ccp_alpha=0.02, rf2__criterion=entropy, rf2__max_depth=20, rf2__max_features=log2, rf2__n_estimators=150;, score=0.778 total time=   2.9s\n",
      "[CV 5/5] END rf2__ccp_alpha=0.015, rf2__criterion=log_loss, rf2__max_depth=50, rf2__max_features=sqrt, rf2__n_estimators=200;, score=0.766 total time=   4.1s\n",
      "[CV 2/5] END rf2__ccp_alpha=0.0, rf2__criterion=entropy, rf2__max_depth=70, rf2__max_features=log2, rf2__n_estimators=400;, score=0.787 total time=   7.9s\n",
      "[CV 5/5] END rf2__ccp_alpha=0.005, rf2__criterion=gini, rf2__max_depth=70, rf2__max_features=sqrt, rf2__n_estimators=300;, score=0.757 total time=   5.8s\n",
      "[CV 1/5] END rf2__ccp_alpha=0.0, rf2__criterion=gini, rf2__max_depth=20, rf2__max_features=sqrt, rf2__n_estimators=500;, score=0.796 total time=  10.1s\n",
      "[CV 5/5] END rf2__ccp_alpha=0.0, rf2__criterion=gini, rf2__max_depth=20, rf2__max_features=sqrt, rf2__n_estimators=500;, score=0.785 total time=   9.9s\n",
      "[CV 4/5] END rf2__ccp_alpha=0.025, rf2__criterion=log_loss, rf2__max_depth=110, rf2__max_features=log2, rf2__n_estimators=500;, score=0.701 total time=   6.8s\n",
      "[CV 4/5] END rf2__ccp_alpha=0.0, rf2__criterion=entropy, rf2__max_depth=110, rf2__max_features=sqrt, rf2__n_estimators=200;, score=0.720 total time=   2.6s\n"
     ]
    },
    {
     "name": "stdout",
     "output_type": "stream",
     "text": [
      "[CV 5/5] END rf2__ccp_alpha=0.025, rf2__criterion=entropy, rf2__max_depth=40, rf2__max_features=sqrt, rf2__n_estimators=100;, score=0.840 total time=   1.3s\n",
      "[CV 4/5] END rf2__ccp_alpha=0.0, rf2__criterion=entropy, rf2__max_depth=40, rf2__max_features=sqrt, rf2__n_estimators=200;, score=0.864 total time=   2.8s\n",
      "[CV 2/5] END rf2__ccp_alpha=0.025, rf2__criterion=entropy, rf2__max_depth=100, rf2__max_features=log2, rf2__n_estimators=300;, score=0.754 total time=   6.7s\n",
      "[CV 1/5] END rf2__ccp_alpha=0.005, rf2__criterion=gini, rf2__max_depth=20, rf2__max_features=sqrt, rf2__n_estimators=300;, score=0.849 total time=   3.5s\n",
      "[CV 2/5] END rf2__ccp_alpha=0.005, rf2__criterion=gini, rf2__max_depth=60, rf2__max_features=sqrt, rf2__n_estimators=150;, score=0.770 total time=   1.6s\n",
      "[CV 3/5] END rf2__ccp_alpha=0.035, rf2__criterion=gini, rf2__max_depth=100, rf2__max_features=sqrt, rf2__n_estimators=150;, score=0.690 total time=   1.2s\n",
      "[CV 1/5] END rf2__ccp_alpha=0.025, rf2__criterion=log_loss, rf2__max_depth=80, rf2__max_features=log2, rf2__n_estimators=500;, score=0.849 total time=   3.8s\n",
      "[CV 4/5] END rf2__ccp_alpha=0.025, rf2__criterion=log_loss, rf2__max_depth=60, rf2__max_features=log2, rf2__n_estimators=500;, score=0.784 total time=   3.9s\n",
      "[CV 5/5] END rf2__ccp_alpha=0.035, rf2__criterion=entropy, rf2__max_depth=10, rf2__max_features=sqrt, rf2__n_estimators=200;, score=0.840 total time=   1.5s\n",
      "[CV 3/5] END rf2__ccp_alpha=0.025, rf2__criterion=log_loss, rf2__max_depth=20, rf2__max_features=sqrt, rf2__n_estimators=400;, score=0.738 total time=   5.0s\n",
      "[CV 1/5] END rf2__ccp_alpha=0.03, rf2__criterion=entropy, rf2__max_depth=40, rf2__max_features=log2, rf2__n_estimators=100;, score=0.841 total time=   1.3s\n",
      "[CV 5/5] END rf2__ccp_alpha=0.03, rf2__criterion=entropy, rf2__max_depth=40, rf2__max_features=log2, rf2__n_estimators=100;, score=0.824 total time=   1.5s\n",
      "[CV 3/5] END rf2__ccp_alpha=0.025, rf2__criterion=entropy, rf2__max_depth=90, rf2__max_features=sqrt, rf2__n_estimators=150;, score=0.738 total time=   2.6s\n",
      "[CV 1/5] END rf2__ccp_alpha=0.025, rf2__criterion=entropy, rf2__max_depth=90, rf2__max_features=sqrt, rf2__n_estimators=300;, score=0.841 total time=   5.6s\n",
      "[CV 2/5] END rf2__ccp_alpha=0.035, rf2__criterion=entropy, rf2__max_depth=30, rf2__max_features=log2, rf2__n_estimators=300;, score=0.754 total time=   5.4s\n",
      "[CV 5/5] END rf2__ccp_alpha=0.01, rf2__criterion=entropy, rf2__max_depth=80, rf2__max_features=sqrt, rf2__n_estimators=300;, score=0.832 total time=   4.0s\n",
      "[CV 3/5] END rf2__ccp_alpha=0.0, rf2__criterion=entropy, rf2__max_depth=60, rf2__max_features=sqrt, rf2__n_estimators=200;, score=0.754 total time=   2.2s\n",
      "[CV 1/5] END rf2__ccp_alpha=0.01, rf2__criterion=entropy, rf2__max_depth=80, rf2__max_features=log2, rf2__n_estimators=400;, score=0.833 total time=   4.7s\n",
      "[CV 4/5] END rf2__ccp_alpha=0.0, rf2__criterion=entropy, rf2__max_depth=40, rf2__max_features=log2, rf2__n_estimators=400;, score=0.824 total time=   4.4s\n",
      "[CV 2/5] END rf2__ccp_alpha=0.005, rf2__criterion=entropy, rf2__max_depth=60, rf2__max_features=log2, rf2__n_estimators=100;, score=0.794 total time=   1.3s\n",
      "[CV 1/5] END rf2__ccp_alpha=0.01, rf2__criterion=gini, rf2__max_depth=50, rf2__max_features=sqrt, rf2__n_estimators=100;, score=0.857 total time=   1.1s\n",
      "[CV 5/5] END rf2__ccp_alpha=0.02, rf2__criterion=entropy, rf2__max_depth=20, rf2__max_features=log2, rf2__n_estimators=150;, score=0.824 total time=   2.0s\n",
      "[CV 2/5] END rf2__ccp_alpha=0.005, rf2__criterion=entropy, rf2__max_depth=50, rf2__max_features=sqrt, rf2__n_estimators=500;, score=0.778 total time=   6.2s\n",
      "[CV 2/5] END rf2__ccp_alpha=0.005, rf2__criterion=gini, rf2__max_depth=70, rf2__max_features=sqrt, rf2__n_estimators=300;, score=0.770 total time=   2.4s\n",
      "[CV 3/5] END rf2__ccp_alpha=0.03, rf2__criterion=log_loss, rf2__max_depth=70, rf2__max_features=log2, rf2__n_estimators=500;, score=0.738 total time=   3.9s\n",
      "[CV 1/5] END rf2__ccp_alpha=0.01, rf2__criterion=entropy, rf2__max_depth=20, rf2__max_features=sqrt, rf2__n_estimators=150;, score=0.865 total time=   1.3s\n",
      "[CV 3/5] END rf2__ccp_alpha=0.03, rf2__criterion=log_loss, rf2__max_depth=30, rf2__max_features=log2, rf2__n_estimators=300;, score=0.738 total time=   3.9s\n",
      "[CV 5/5] END rf2__ccp_alpha=0.025, rf2__criterion=log_loss, rf2__max_depth=110, rf2__max_features=log2, rf2__n_estimators=500;, score=0.840 total time=   4.9s\n",
      "[CV 1/5] END rf2__ccp_alpha=0.0, rf2__criterion=log_loss, rf2__max_depth=30, rf2__max_features=sqrt, rf2__n_estimators=150;, score=0.825 total time=   1.2s\n",
      "[CV 2/5] END rf2__ccp_alpha=0.01, rf2__criterion=log_loss, rf2__max_depth=60, rf2__max_features=log2, rf2__n_estimators=200;, score=0.778 total time=   2.1s\n",
      "[CV 4/5] END rf2__ccp_alpha=0.0, rf2__criterion=entropy, rf2__max_depth=40, rf2__max_features=sqrt, rf2__n_estimators=200;, score=0.729 total time=   2.3s\n",
      "[CV 2/5] END rf2__ccp_alpha=0.025, rf2__criterion=entropy, rf2__max_depth=100, rf2__max_features=log2, rf2__n_estimators=300;, score=0.787 total time=   3.3s\n",
      "[CV 5/5] END rf2__ccp_alpha=0.02, rf2__criterion=log_loss, rf2__max_depth=100, rf2__max_features=sqrt, rf2__n_estimators=400;, score=0.748 total time=   4.5s\n",
      "[CV 2/5] END rf2__ccp_alpha=0.035, rf2__criterion=gini, rf2__max_depth=100, rf2__max_features=sqrt, rf2__n_estimators=150;, score=0.731 total time=   1.5s\n",
      "[CV 5/5] END rf2__ccp_alpha=0.005, rf2__criterion=entropy, rf2__max_depth=70, rf2__max_features=sqrt, rf2__n_estimators=200;, score=0.776 total time=   2.0s\n",
      "[CV 3/5] END rf2__ccp_alpha=0.03, rf2__criterion=gini, rf2__max_depth=100, rf2__max_features=log2, rf2__n_estimators=100;, score=0.776 total time=   1.2s\n",
      "[CV 1/5] END rf2__ccp_alpha=0.025, rf2__criterion=log_loss, rf2__max_depth=60, rf2__max_features=log2, rf2__n_estimators=500;, score=0.787 total time=   5.6s\n",
      "[CV 4/5] END rf2__ccp_alpha=0.035, rf2__criterion=entropy, rf2__max_depth=70, rf2__max_features=log2, rf2__n_estimators=300;, score=0.701 total time=   2.8s\n",
      "[CV 4/5] END rf2__ccp_alpha=0.03, rf2__criterion=gini, rf2__max_depth=40, rf2__max_features=log2, rf2__n_estimators=300;, score=0.710 total time=   2.0s\n",
      "[CV 2/5] END rf2__ccp_alpha=0.035, rf2__criterion=gini, rf2__max_depth=90, rf2__max_features=log2, rf2__n_estimators=300;, score=0.741 total time=   1.8s\n",
      "[CV 3/5] END rf2__ccp_alpha=0.03, rf2__criterion=entropy, rf2__max_depth=40, rf2__max_features=log2, rf2__n_estimators=100;, score=0.757 total time=   0.6s\n",
      "[CV 4/5] END rf2__ccp_alpha=0.005, rf2__criterion=entropy, rf2__max_depth=80, rf2__max_features=log2, rf2__n_estimators=300;, score=0.729 total time=   2.0s\n",
      "[CV 1/5] END rf2__ccp_alpha=0.01, rf2__criterion=entropy, rf2__max_depth=50, rf2__max_features=log2, rf2__n_estimators=100;, score=0.787 total time=   2.2s\n",
      "[CV 5/5] END rf2__ccp_alpha=0.01, rf2__criterion=entropy, rf2__max_depth=50, rf2__max_features=log2, rf2__n_estimators=100;, score=0.785 total time=   2.6s\n",
      "[CV 4/5] END rf2__ccp_alpha=0.035, rf2__criterion=entropy, rf2__max_depth=30, rf2__max_features=log2, rf2__n_estimators=300;, score=0.682 total time=   4.4s\n",
      "[CV 2/5] END rf2__ccp_alpha=0.025, rf2__criterion=gini, rf2__max_depth=100, rf2__max_features=sqrt, rf2__n_estimators=150;, score=0.731 total time=   2.2s\n",
      "[CV 3/5] END rf2__ccp_alpha=0.01, rf2__criterion=entropy, rf2__max_depth=70, rf2__max_features=log2, rf2__n_estimators=400;, score=0.785 total time=   5.9s\n",
      "[CV 4/5] END rf2__ccp_alpha=0.01, rf2__criterion=entropy, rf2__max_depth=80, rf2__max_features=log2, rf2__n_estimators=400;, score=0.729 total time=   3.7s\n",
      "[CV 5/5] END rf2__ccp_alpha=0.0, rf2__criterion=gini, rf2__max_depth=90, rf2__max_features=log2, rf2__n_estimators=100;, score=0.729 total time=   0.7s\n",
      "[CV 5/5] END rf2__ccp_alpha=0.035, rf2__criterion=entropy, rf2__max_depth=70, rf2__max_features=sqrt, rf2__n_estimators=200;, score=0.748 total time=   2.6s\n",
      "[CV 3/5] END rf2__ccp_alpha=0.005, rf2__criterion=entropy, rf2__max_depth=60, rf2__max_features=log2, rf2__n_estimators=100;, score=0.794 total time=   1.4s\n",
      "[CV 3/5] END rf2__ccp_alpha=0.01, rf2__criterion=gini, rf2__max_depth=50, rf2__max_features=sqrt, rf2__n_estimators=100;, score=0.757 total time=   1.4s\n",
      "[CV 1/5] END rf2__ccp_alpha=0.015, rf2__criterion=log_loss, rf2__max_depth=50, rf2__max_features=sqrt, rf2__n_estimators=200;, score=0.778 total time=   4.0s\n",
      "[CV 4/5] END rf2__ccp_alpha=0.005, rf2__criterion=entropy, rf2__max_depth=50, rf2__max_features=sqrt, rf2__n_estimators=500;, score=0.720 total time=   9.6s\n",
      "[CV 3/5] END rf2__ccp_alpha=0.005, rf2__criterion=gini, rf2__max_depth=70, rf2__max_features=sqrt, rf2__n_estimators=300;, score=0.766 total time=   5.9s\n",
      "[CV 5/5] END rf2__ccp_alpha=0.03, rf2__criterion=log_loss, rf2__max_depth=70, rf2__max_features=log2, rf2__n_estimators=500;, score=0.738 total time=  11.9s\n",
      "[CV 1/5] END rf2__ccp_alpha=0.03, rf2__criterion=log_loss, rf2__max_depth=30, rf2__max_features=log2, rf2__n_estimators=300;, score=0.806 total time=   7.3s\n",
      "[CV 3/5] END rf2__ccp_alpha=0.025, rf2__criterion=log_loss, rf2__max_depth=110, rf2__max_features=log2, rf2__n_estimators=500;, score=0.766 total time=   7.2s\n",
      "[CV 2/5] END rf2__ccp_alpha=0.0, rf2__criterion=entropy, rf2__max_depth=110, rf2__max_features=sqrt, rf2__n_estimators=200;, score=0.787 total time=   2.4s\n",
      "[CV 5/5] END rf2__ccp_alpha=0.0, rf2__criterion=log_loss, rf2__max_depth=30, rf2__max_features=sqrt, rf2__n_estimators=150;, score=0.748 total time=   1.3s\n"
     ]
    },
    {
     "name": "stdout",
     "output_type": "stream",
     "text": [
      "[CV 1/5] END rf2__ccp_alpha=0.025, rf2__criterion=entropy, rf2__max_depth=40, rf2__max_features=sqrt, rf2__n_estimators=100;, score=0.857 total time=   1.0s\n",
      "[CV 5/5] END rf2__ccp_alpha=0.01, rf2__criterion=log_loss, rf2__max_depth=60, rf2__max_features=log2, rf2__n_estimators=200;, score=0.832 total time=   2.4s\n",
      "[CV 1/5] END rf2__ccp_alpha=0.0, rf2__criterion=entropy, rf2__max_depth=40, rf2__max_features=sqrt, rf2__n_estimators=200;, score=0.841 total time=   2.5s\n",
      "[CV 2/5] END rf2__ccp_alpha=0.035, rf2__criterion=log_loss, rf2__max_depth=110, rf2__max_features=sqrt, rf2__n_estimators=200;, score=0.738 total time=   2.8s\n",
      "[CV 5/5] END rf2__ccp_alpha=0.025, rf2__criterion=entropy, rf2__max_depth=100, rf2__max_features=log2, rf2__n_estimators=300;, score=0.824 total time=   7.1s\n",
      "[CV 2/5] END rf2__ccp_alpha=0.005, rf2__criterion=gini, rf2__max_depth=20, rf2__max_features=sqrt, rf2__n_estimators=300;, score=0.770 total time=   2.9s\n",
      "[CV 4/5] END rf2__ccp_alpha=0.005, rf2__criterion=gini, rf2__max_depth=60, rf2__max_features=sqrt, rf2__n_estimators=150;, score=0.800 total time=   1.5s\n",
      "[CV 2/5] END rf2__ccp_alpha=0.005, rf2__criterion=entropy, rf2__max_depth=70, rf2__max_features=sqrt, rf2__n_estimators=200;, score=0.754 total time=   1.5s\n",
      "[CV 5/5] END rf2__ccp_alpha=0.025, rf2__criterion=log_loss, rf2__max_depth=80, rf2__max_features=log2, rf2__n_estimators=500;, score=0.824 total time=   3.8s\n",
      "[CV 3/5] END rf2__ccp_alpha=0.035, rf2__criterion=entropy, rf2__max_depth=70, rf2__max_features=log2, rf2__n_estimators=300;, score=0.762 total time=   2.2s\n",
      "[CV 4/5] END rf2__ccp_alpha=0.035, rf2__criterion=entropy, rf2__max_depth=10, rf2__max_features=sqrt, rf2__n_estimators=200;, score=0.776 total time=   1.6s\n",
      "[CV 1/5] END rf2__ccp_alpha=0.025, rf2__criterion=log_loss, rf2__max_depth=20, rf2__max_features=sqrt, rf2__n_estimators=400;, score=0.849 total time=   4.7s\n",
      "[CV 4/5] END rf2__ccp_alpha=0.035, rf2__criterion=gini, rf2__max_depth=90, rf2__max_features=log2, rf2__n_estimators=300;, score=0.720 total time=   3.6s\n",
      "[CV 1/5] END rf2__ccp_alpha=0.025, rf2__criterion=entropy, rf2__max_depth=90, rf2__max_features=sqrt, rf2__n_estimators=150;, score=0.857 total time=   2.5s\n",
      "[CV 4/5] END rf2__ccp_alpha=0.025, rf2__criterion=entropy, rf2__max_depth=90, rf2__max_features=sqrt, rf2__n_estimators=150;, score=0.792 total time=   2.9s\n",
      "[CV 1/5] END rf2__ccp_alpha=0.01, rf2__criterion=entropy, rf2__max_depth=50, rf2__max_features=log2, rf2__n_estimators=100;, score=0.841 total time=   1.9s\n",
      "[CV 5/5] END rf2__ccp_alpha=0.01, rf2__criterion=entropy, rf2__max_depth=50, rf2__max_features=log2, rf2__n_estimators=100;, score=0.832 total time=   2.0s\n",
      "[CV 4/5] END rf2__ccp_alpha=0.035, rf2__criterion=entropy, rf2__max_depth=30, rf2__max_features=log2, rf2__n_estimators=300;, score=0.784 total time=   5.2s\n",
      "[CV 4/5] END rf2__ccp_alpha=0.025, rf2__criterion=gini, rf2__max_depth=100, rf2__max_features=sqrt, rf2__n_estimators=150;, score=0.760 total time=   1.9s\n",
      "[CV 4/5] END rf2__ccp_alpha=0.01, rf2__criterion=entropy, rf2__max_depth=70, rf2__max_features=log2, rf2__n_estimators=400;, score=0.808 total time=   5.1s\n",
      "[CV 1/5] END rf2__ccp_alpha=0.0, rf2__criterion=entropy, rf2__max_depth=40, rf2__max_features=log2, rf2__n_estimators=400;, score=0.841 total time=   4.5s\n",
      "[CV 4/5] END rf2__ccp_alpha=0.0, rf2__criterion=gini, rf2__max_depth=90, rf2__max_features=log2, rf2__n_estimators=100;, score=0.848 total time=   1.1s\n",
      "[CV 5/5] END rf2__ccp_alpha=0.035, rf2__criterion=entropy, rf2__max_depth=70, rf2__max_features=sqrt, rf2__n_estimators=200;, score=0.824 total time=   2.1s\n",
      "[CV 3/5] END rf2__ccp_alpha=0.005, rf2__criterion=entropy, rf2__max_depth=60, rf2__max_features=log2, rf2__n_estimators=100;, score=0.778 total time=   1.4s\n",
      "[CV 3/5] END rf2__ccp_alpha=0.01, rf2__criterion=gini, rf2__max_depth=50, rf2__max_features=sqrt, rf2__n_estimators=100;, score=0.754 total time=   1.1s\n",
      "[CV 1/5] END rf2__ccp_alpha=0.015, rf2__criterion=log_loss, rf2__max_depth=50, rf2__max_features=sqrt, rf2__n_estimators=200;, score=0.881 total time=   2.6s\n",
      "[CV 4/5] END rf2__ccp_alpha=0.005, rf2__criterion=entropy, rf2__max_depth=50, rf2__max_features=sqrt, rf2__n_estimators=500;, score=0.848 total time=   5.9s\n",
      "[CV 4/5] END rf2__ccp_alpha=0.005, rf2__criterion=gini, rf2__max_depth=70, rf2__max_features=sqrt, rf2__n_estimators=300;, score=0.816 total time=   2.3s\n",
      "[CV 5/5] END rf2__ccp_alpha=0.03, rf2__criterion=log_loss, rf2__max_depth=70, rf2__max_features=log2, rf2__n_estimators=500;, score=0.824 total time=   4.0s\n",
      "[CV 5/5] END rf2__ccp_alpha=0.01, rf2__criterion=entropy, rf2__max_depth=20, rf2__max_features=sqrt, rf2__n_estimators=150;, score=0.832 total time=   1.4s\n",
      "[CV 1/5] END rf2__ccp_alpha=0.025, rf2__criterion=log_loss, rf2__max_depth=110, rf2__max_features=log2, rf2__n_estimators=500;, score=0.857 total time=   6.4s\n",
      "[CV 4/5] END rf2__ccp_alpha=0.0, rf2__criterion=entropy, rf2__max_depth=70, rf2__max_features=log2, rf2__n_estimators=150;, score=0.848 total time=   1.3s\n",
      "[CV 5/5] END rf2__ccp_alpha=0.02, rf2__criterion=log_loss, rf2__max_depth=50, rf2__max_features=log2, rf2__n_estimators=100;, score=0.832 total time=   0.8s\n",
      "[CV 3/5] END rf2__ccp_alpha=0.0, rf2__criterion=log_loss, rf2__max_depth=30, rf2__max_features=sqrt, rf2__n_estimators=150;, score=0.778 total time=   1.2s\n",
      "[CV 5/5] END rf2__ccp_alpha=0.025, rf2__criterion=entropy, rf2__max_depth=40, rf2__max_features=sqrt, rf2__n_estimators=100;, score=0.738 total time=   1.0s\n",
      "[CV 3/5] END rf2__ccp_alpha=0.0, rf2__criterion=entropy, rf2__max_depth=40, rf2__max_features=sqrt, rf2__n_estimators=200;, score=0.785 total time=   2.1s\n",
      "[CV 3/5] END rf2__ccp_alpha=0.035, rf2__criterion=log_loss, rf2__max_depth=110, rf2__max_features=sqrt, rf2__n_estimators=200;, score=0.738 total time=   2.2s\n",
      "[CV 1/5] END rf2__ccp_alpha=0.02, rf2__criterion=log_loss, rf2__max_depth=100, rf2__max_features=sqrt, rf2__n_estimators=400;, score=0.778 total time=   4.7s\n",
      "[CV 5/5] END rf2__ccp_alpha=0.005, rf2__criterion=gini, rf2__max_depth=20, rf2__max_features=sqrt, rf2__n_estimators=300;, score=0.785 total time=   2.7s\n",
      "[CV 5/5] END rf2__ccp_alpha=0.035, rf2__criterion=gini, rf2__max_depth=100, rf2__max_features=sqrt, rf2__n_estimators=150;, score=0.766 total time=   1.5s\n",
      "[CV 3/5] END rf2__ccp_alpha=0.025, rf2__criterion=log_loss, rf2__max_depth=80, rf2__max_features=log2, rf2__n_estimators=500;, score=0.748 total time=   5.4s\n",
      "[CV 1/5] END rf2__ccp_alpha=0.035, rf2__criterion=entropy, rf2__max_depth=70, rf2__max_features=log2, rf2__n_estimators=300;, score=0.796 total time=   3.6s\n",
      "[CV 2/5] END rf2__ccp_alpha=0.035, rf2__criterion=entropy, rf2__max_depth=10, rf2__max_features=sqrt, rf2__n_estimators=200;, score=0.731 total time=   1.6s\n",
      "[CV 2/5] END rf2__ccp_alpha=0.03, rf2__criterion=gini, rf2__max_depth=40, rf2__max_features=log2, rf2__n_estimators=300;, score=0.741 total time=   2.1s\n",
      "[CV 5/5] END rf2__ccp_alpha=0.025, rf2__criterion=log_loss, rf2__max_depth=20, rf2__max_features=sqrt, rf2__n_estimators=400;, score=0.757 total time=   2.4s\n",
      "[CV 2/5] END rf2__ccp_alpha=0.005, rf2__criterion=entropy, rf2__max_depth=80, rf2__max_features=log2, rf2__n_estimators=300;, score=0.778 total time=   2.0s\n",
      "[CV 3/5] END rf2__ccp_alpha=0.025, rf2__criterion=entropy, rf2__max_depth=90, rf2__max_features=sqrt, rf2__n_estimators=300;, score=0.757 total time=   5.3s\n",
      "[CV 1/5] END rf2__ccp_alpha=0.01, rf2__criterion=entropy, rf2__max_depth=80, rf2__max_features=sqrt, rf2__n_estimators=300;, score=0.806 total time=   4.2s\n",
      "[CV 3/5] END rf2__ccp_alpha=0.025, rf2__criterion=gini, rf2__max_depth=100, rf2__max_features=sqrt, rf2__n_estimators=150;, score=0.766 total time=   2.2s\n",
      "[CV 4/5] END rf2__ccp_alpha=0.01, rf2__criterion=entropy, rf2__max_depth=70, rf2__max_features=log2, rf2__n_estimators=400;, score=0.720 total time=   5.7s\n",
      "[CV 1/5] END rf2__ccp_alpha=0.0, rf2__criterion=entropy, rf2__max_depth=40, rf2__max_features=log2, rf2__n_estimators=400;, score=0.787 total time=   3.6s\n",
      "[CV 1/5] END rf2__ccp_alpha=0.0, rf2__criterion=gini, rf2__max_depth=90, rf2__max_features=log2, rf2__n_estimators=100;, score=0.806 total time=   0.7s\n",
      "[CV 2/5] END rf2__ccp_alpha=0.035, rf2__criterion=entropy, rf2__max_depth=70, rf2__max_features=sqrt, rf2__n_estimators=200;, score=0.750 total time=   2.5s\n",
      "[CV 4/5] END rf2__ccp_alpha=0.02, rf2__criterion=entropy, rf2__max_depth=100, rf2__max_features=log2, rf2__n_estimators=150;, score=0.720 total time=   1.9s\n",
      "[CV 1/5] END rf2__ccp_alpha=0.02, rf2__criterion=entropy, rf2__max_depth=20, rf2__max_features=log2, rf2__n_estimators=150;, score=0.787 total time=   2.8s\n",
      "[CV 4/5] END rf2__ccp_alpha=0.015, rf2__criterion=log_loss, rf2__max_depth=50, rf2__max_features=sqrt, rf2__n_estimators=200;, score=0.720 total time=   4.2s\n",
      "[CV 3/5] END rf2__ccp_alpha=0.0, rf2__criterion=entropy, rf2__max_depth=70, rf2__max_features=log2, rf2__n_estimators=400;, score=0.794 total time=   8.1s\n",
      "[CV 1/5] END rf2__ccp_alpha=0.03, rf2__criterion=log_loss, rf2__max_depth=70, rf2__max_features=log2, rf2__n_estimators=500;, score=0.787 total time=  11.2s\n",
      "[CV 4/5] END rf2__ccp_alpha=0.0, rf2__criterion=gini, rf2__max_depth=20, rf2__max_features=sqrt, rf2__n_estimators=500;, score=0.710 total time=   9.8s\n",
      "[CV 2/5] END rf2__ccp_alpha=0.025, rf2__criterion=log_loss, rf2__max_depth=110, rf2__max_features=log2, rf2__n_estimators=500;, score=0.769 total time=   8.8s\n",
      "[CV 5/5] END rf2__ccp_alpha=0.0, rf2__criterion=entropy, rf2__max_depth=70, rf2__max_features=log2, rf2__n_estimators=150;, score=0.738 total time=   1.7s\n",
      "[CV 1/5] END rf2__ccp_alpha=0.0, rf2__criterion=entropy, rf2__max_depth=110, rf2__max_features=sqrt, rf2__n_estimators=200;, score=0.806 total time=   2.4s\n",
      "[CV 4/5] END rf2__ccp_alpha=0.0, rf2__criterion=log_loss, rf2__max_depth=30, rf2__max_features=sqrt, rf2__n_estimators=150;, score=0.720 total time=   1.4s\n"
     ]
    }
   ],
   "source": [
    "# Print the classification report\n",
    "print('\\t\\tClassification Report - Tuned Random Forest\\n\\n', classification_report(y_test_bruno, rf2_pred2))"
   ]
  },
  {
   "cell_type": "markdown",
   "metadata": {},
   "source": [
    "<div style=\"text-align: center\"><strong>END</strong></div>"
   ]
  }
 ],
 "metadata": {
  "kernelspec": {
   "display_name": "Python 3 (ipykernel)",
   "language": "python",
   "name": "python3"
  },
  "language_info": {
   "codemirror_mode": {
    "name": "ipython",
    "version": 3
   },
   "file_extension": ".py",
   "mimetype": "text/x-python",
   "name": "python",
   "nbconvert_exporter": "python",
   "pygments_lexer": "ipython3",
   "version": "3.10.4"
  },
  "vscode": {
   "interpreter": {
    "hash": "e4b2e575e514901c71e3b0de8e15731e7003fb387c30ca9767b9ed68bea9566d"
   }
  }
 },
 "nbformat": 4,
 "nbformat_minor": 2
}
